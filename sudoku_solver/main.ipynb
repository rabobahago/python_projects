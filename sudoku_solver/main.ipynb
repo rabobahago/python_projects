{
 "cells": [
  {
   "cell_type": "code",
   "execution_count": 5,
   "metadata": {},
   "outputs": [],
   "source": [
    "class Board:\n",
    "    def __init__(self, board):\n",
    "        self.board = board\n",
    "\n",
    "    def __str__(self):\n",
    "        upper_lines = f'\\n╔═══{\"╤═══\"*2}{\"╦═══\"}{\"╤═══\"*2}{\"╦═══\"}{\"╤═══\"*2}╗\\n'\n",
    "        middle_lines = f'╟───{\"┼───\"*2}{\"╫───\"}{\"┼───\"*2}{\"╫───\"}{\"┼───\"*2}╢\\n'\n",
    "        lower_lines = f'╚═══{\"╧═══\"*2}{\"╩═══\"}{\"╧═══\"*2}{\"╩═══\"}{\"╧═══\"*2}╝\\n'\n",
    "        board_string = upper_lines\n",
    "        for index, line in enumerate(self.board):\n",
    "            row_list = []\n",
    "            for square_no, part in enumerate([line[:3], line[3:6], line[6:]], start=1):\n",
    "                row_square = '|'.join(str(item) for item in part)\n",
    "                row_list.extend(row_square)\n",
    "                if square_no != 3:\n",
    "                    row_list.append('║')\n",
    "\n",
    "            row = f'║ {\" \".join(row_list)} ║\\n'\n",
    "            row_empty = row.replace('0', ' ')\n",
    "            board_string += row_empty\n",
    "\n",
    "            if index < 8:\n",
    "                if index % 3 == 2:\n",
    "                    board_string += f'╠═══{\"╪═══\"*2}{\"╬═══\"}{\"╪═══\"*2}{\"╬═══\"}{\"╪═══\"*2}╣\\n'\n",
    "                else:\n",
    "                    board_string += middle_lines\n",
    "            else:\n",
    "                board_string += lower_lines\n",
    "        return board_string\n",
    "    def find_empty_cell(self):\n",
    "        for row, contents in enumerate(self.board):\n",
    "            try:\n",
    "                col = contents.index(0)\n",
    "                return row, col\n",
    "            except ValueError:\n",
    "                pass\n",
    "        return None\n",
    "    def valid_in_row(self, row, num):\n",
    "        return num not in self.board[row]\n",
    "    def valid_in_col(self, col, num):\n",
    "        # self.board[row][col] != num\n",
    "        # for row in range(9):\n",
    "        #     pass\n",
    "        return all(self.board[row][col] != num for row in range(9))\n",
    "    def valid_in_square(self, row, col, num):\n",
    "        row_start = (row // 3) * 3\n",
    "        col_start = (col // 3) * 3\n",
    "        for row_no in range(row_start, row_start + 3):\n",
    "            for col_no in range(col_start, col_start + 3):\n",
    "                if self.board[row_no][col_no] == num:\n",
    "                    pass\n"
   ]
  },
  {
   "cell_type": "code",
   "execution_count": null,
   "metadata": {},
   "outputs": [],
   "source": []
  }
 ],
 "metadata": {
  "kernelspec": {
   "display_name": "base",
   "language": "python",
   "name": "python3"
  },
  "language_info": {
   "codemirror_mode": {
    "name": "ipython",
    "version": 3
   },
   "file_extension": ".py",
   "mimetype": "text/x-python",
   "name": "python",
   "nbconvert_exporter": "python",
   "pygments_lexer": "ipython3",
   "version": "3.10.9"
  }
 },
 "nbformat": 4,
 "nbformat_minor": 2
}
