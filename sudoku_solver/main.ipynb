{
 "cells": [
  {
   "cell_type": "code",
   "execution_count": 1,
   "metadata": {},
   "outputs": [],
   "source": [
    "# puzzle = [\n",
    "#   [0, 0, 2, 0, 0, 8, 0, 0, 0],\n",
    "#   [0, 0, 0, 0, 0, 3, 7, 6, 2],\n",
    "#   [4, 3, 0, 0, 0, 0, 8, 0, 0],\n",
    "#   [0, 5, 0, 0, 3, 0, 0, 9, 0],\n",
    "#   [0, 4, 0, 0, 0, 0, 0, 2, 6],\n",
    "#   [0, 0, 0, 4, 6, 7, 0, 0, 0],\n",
    "#   [0, 8, 6, 7, 0, 4, 0, 0, 0],\n",
    "#   [0, 0, 0, 5, 1, 9, 0, 0, 8],\n",
    "#   [1, 7, 0, 0, 0, 6, 0, 0, 5]\n",
    "# ]\n",
    "class Board:\n",
    "    def __init__(self, board):\n",
    "        self.board = board\n",
    "    def __str__(self):\n",
    "        upper_lines = f'\\n╔═══{\"╤═══\"*2}{\"╦═══\"}{\"╤═══\"*2}{\"╦═══\"}{\"╤═══\"*2}╗\\n'\n",
    "        middle_lines = f'╟───{\"┼───\"*2}{\"╫───\"}{\"┼───\"*2}{\"╫───\"}{\"┼───\"*2}╢\\n'\n",
    "        lower_lines = f'╚═══{\"╧═══\"*2}{\"╩═══\"}{\"╧═══\"*2}{\"╩═══\"}{\"╧═══\"*2}╝\\n'\n",
    "        board_string = upper_lines\n",
    "        for index, line in enumerate(self.board):\n",
    "            row_list = []\n",
    "            for square_no, part in enumerate([line[:3], line[3:6], line[6:]], start=1):\n",
    "                row_square = '|'.join(str(item) for item in part)\n",
    "                row_list.extend(row_square)\n"
   ]
  },
  {
   "cell_type": "code",
   "execution_count": null,
   "metadata": {},
   "outputs": [],
   "source": []
  }
 ],
 "metadata": {
  "kernelspec": {
   "display_name": "base",
   "language": "python",
   "name": "python3"
  },
  "language_info": {
   "codemirror_mode": {
    "name": "ipython",
    "version": 3
   },
   "file_extension": ".py",
   "mimetype": "text/x-python",
   "name": "python",
   "nbconvert_exporter": "python",
   "pygments_lexer": "ipython3",
   "version": "3.10.9"
  }
 },
 "nbformat": 4,
 "nbformat_minor": 2
}
