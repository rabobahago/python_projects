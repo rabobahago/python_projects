{
 "cells": [
  {
   "cell_type": "code",
   "execution_count": null,
   "metadata": {},
   "outputs": [],
   "source": [
    "puzzle = [\n",
    "  [0, 0, 2, 0, 0, 8, 0, 0, 0],\n",
    "  [0, 0, 0, 0, 0, 3, 7, 6, 2],\n",
    "  [4, 3, 0, 0, 0, 0, 8, 0, 0],\n",
    "  [0, 5, 0, 0, 3, 0, 0, 9, 0],\n",
    "  [0, 4, 0, 0, 0, 0, 0, 2, 6],\n",
    "  [0, 0, 0, 4, 6, 7, 0, 0, 0],\n",
    "  [0, 8, 6, 7, 0, 4, 0, 0, 0],\n",
    "  [0, 0, 0, 5, 1, 9, 0, 0, 8],\n",
    "  [1, 7, 0, 0, 0, 6, 0, 0, 5]\n",
    "]\n",
    "class Board:\n",
    "    def __init__(self, board):\n",
    "        self.board = board\n",
    "    def __str__(self):\n",
    "        upper_lines = f'\\n╔═══{\"╤═══\"*2}{\"╦═══\"}{\"╤═══\"*2}{\"╦═══\"}{\"╤═══\"*2}╗\\n'\n"
   ]
  }
 ],
 "metadata": {
  "language_info": {
   "name": "python"
  }
 },
 "nbformat": 4,
 "nbformat_minor": 2
}
