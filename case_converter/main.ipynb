{
 "cells": [
  {
   "cell_type": "code",
   "execution_count": null,
   "metadata": {},
   "outputs": [],
   "source": [
    "def convert_to_snake_case(pascal_or_camel_cased_string):\n",
    "    snake_cased_char_list = []\n",
    "    for char in pascal_or_camel_cased_string:\n",
    "        if char.isupper():\n",
    "            converted_character = '_' + char.lower()\n",
    "            snake_cased_char_list.append(converted_character)\n",
    "        else:\n",
    "            snake_cased_char_list.append(char)\n",
    "    snake_cased_string = ''.join(snake_cased_char_list)\n",
    "    clean_snake_cased_string = snake_cased_string.strip('_')\n",
    "\n",
    "    return clean_snake_cased_string\n"
   ]
  },
  {
   "cell_type": "code",
   "execution_count": null,
   "metadata": {},
   "outputs": [],
   "source": []
  }
 ],
 "metadata": {
  "language_info": {
   "name": "python"
  }
 },
 "nbformat": 4,
 "nbformat_minor": 2
}
