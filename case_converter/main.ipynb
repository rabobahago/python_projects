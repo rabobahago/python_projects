{
 "cells": [
  {
   "cell_type": "code",
   "execution_count": 1,
   "metadata": {},
   "outputs": [
    {
     "name": "stdout",
     "output_type": "stream",
     "text": [
      "a_long_and_complex_string\n"
     ]
    }
   ],
   "source": [
    "def convert_to_snake_case(pascal_or_camel_cased_string):\n",
    "    # snake_cased_char_list = []\n",
    "    # for char in pascal_or_camel_cased_string:\n",
    "    #     if char.isupper():\n",
    "    #         converted_character = '_' + char.lower()\n",
    "    #         snake_cased_char_list.append(converted_character)\n",
    "    #     else:\n",
    "    #         snake_cased_char_list.append(char)\n",
    "    # snake_cased_string = ''.join(snake_cased_char_list)\n",
    "    # clean_snake_cased_string = snake_cased_string.strip('_')\n",
    "\n",
    "    # return clean_snake_cased_string\n",
    "    snake_cased_char_list = [\n",
    "        '_' + char.lower() if char.isupper()\n",
    "        else char\n",
    "        for char in pascal_or_camel_cased_string\n",
    "    ]\n",
    "    return ''.join(snake_cased_char_list).strip('_')\n",
    "def main():\n",
    "    print(convert_to_snake_case('aLongAndComplexString'))\n",
    "\n",
    "if __name__ == '__main__':\n",
    "    main()"
   ]
  },
  {
   "cell_type": "code",
   "execution_count": null,
   "metadata": {},
   "outputs": [],
   "source": []
  },
  {
   "cell_type": "code",
   "execution_count": null,
   "metadata": {},
   "outputs": [],
   "source": []
  }
 ],
 "metadata": {
  "kernelspec": {
   "display_name": "base",
   "language": "python",
   "name": "python3"
  },
  "language_info": {
   "codemirror_mode": {
    "name": "ipython",
    "version": 3
   },
   "file_extension": ".py",
   "mimetype": "text/x-python",
   "name": "python",
   "nbconvert_exporter": "python",
   "pygments_lexer": "ipython3",
   "version": "3.10.9"
  }
 },
 "nbformat": 4,
 "nbformat_minor": 2
}
