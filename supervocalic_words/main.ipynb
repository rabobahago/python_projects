{
 "cells": [
  {
   "cell_type": "markdown",
   "metadata": {},
   "source": [
    "# (Almost) supervocalic words"
   ]
  },
  {
   "cell_type": "code",
   "execution_count": 4,
   "metadata": {},
   "outputs": [
    {
     "name": "stdout",
     "output_type": "stream",
     "text": [
      "The word is supervocalic\n"
     ]
    }
   ],
   "source": [
    "set_vowel = {'a', 'e', 'i', 'o', 'u'}\n",
    "word = set('supervocalic')\n",
    "if set_vowel <word:\n",
    "    print('The word is supervocalic')\n",
    "else:\n",
    "    print('It is not.......')"
   ]
  },
  {
   "cell_type": "code",
   "execution_count": 5,
   "metadata": {},
   "outputs": [],
   "source": [
    "def get_sv(filename):\n",
    "    vowels = {'a', 'e', 'i', 'o', 'u'}\n",
    "    return {word.strip()\n",
    "    for word in open(filename)\n",
    "    if vowels < set(word.lower())}"
   ]
  },
  {
   "cell_type": "code",
   "execution_count": null,
   "metadata": {},
   "outputs": [],
   "source": []
  }
 ],
 "metadata": {
  "kernelspec": {
   "display_name": "base",
   "language": "python",
   "name": "python3"
  },
  "language_info": {
   "codemirror_mode": {
    "name": "ipython",
    "version": 3
   },
   "file_extension": ".py",
   "mimetype": "text/x-python",
   "name": "python",
   "nbconvert_exporter": "python",
   "pygments_lexer": "ipython3",
   "version": "3.10.9"
  }
 },
 "nbformat": 4,
 "nbformat_minor": 2
}
