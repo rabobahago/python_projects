{
 "cells": [
  {
   "cell_type": "markdown",
   "metadata": {},
   "source": [
    "# First Last"
   ]
  },
  {
   "cell_type": "code",
   "execution_count": 4,
   "metadata": {},
   "outputs": [
    {
     "name": "stdout",
     "output_type": "stream",
     "text": [
      "(2, 89)\n",
      "[89, 89]\n",
      "hd\n"
     ]
    }
   ],
   "source": [
    "def first_last(sequence):\n",
    "    return sequence[:1] + sequence[-1:]\n",
    "print(first_last((2, 5, 7, 89)))\n",
    "print(first_last([89, 45, 78, 89]))\n",
    "print(first_last('hello world'))"
   ]
  },
  {
   "cell_type": "markdown",
   "metadata": {},
   "source": [
    "### squared number"
   ]
  },
  {
   "cell_type": "code",
   "execution_count": 5,
   "metadata": {},
   "outputs": [
    {
     "name": "stdout",
     "output_type": "stream",
     "text": [
      "25\n",
      "12.25\n",
      "Input is not a valid number\n"
     ]
    }
   ],
   "source": [
    "def square_number(num):\n",
    "    try:\n",
    "        squared = num ** 2\n",
    "        return squared\n",
    "    except TypeError:\n",
    "        return \"Input is not a valid number\"\n",
    "print(square_number(5))    # Output: 25\n",
    "print(square_number(3.5))  # Output: 12.25\n",
    "print(square_number('2'))  # Output: Input is not a valid number\n"
   ]
  },
  {
   "cell_type": "markdown",
   "metadata": {},
   "source": [
    "### Find Largest"
   ]
  },
  {
   "cell_type": "code",
   "execution_count": null,
   "metadata": {},
   "outputs": [
    {
     "name": "stdout",
     "output_type": "stream",
     "text": [
      "5\n",
      "orange\n",
      "y\n"
     ]
    }
   ],
   "source": [
    "def find_largest(seq):\n",
    "    try:\n",
    "        return max(seq)\n",
    "    except TypeError:\n",
    "        return \"Sequence must be a string, list, or tuple\"\n",
    "\n",
    "# Example usage:\n",
    "print(find_largest([1, 3, 5, 2]))        # Output: 5\n",
    "print(find_largest(('apple', 'banana', 'orange')))  # Output: orange\n",
    "print(find_largest(\"python\"))            # Output: y"
   ]
  },
  {
   "cell_type": "markdown",
   "metadata": {},
   "source": [
    "### Even Odd Sum: \n",
    "Write a function that takes a list or tuple of numbers. Return a two-element list,\n",
    "containing (respectively) the sum of the even-indexed numbers and the sum of\n",
    "the odd-indexed numbers. So calling the function as even_odd_sums([10, 20,\n",
    "30, 40, 50, 60]), you’ll get back [90, 120]."
   ]
  },
  {
   "cell_type": "code",
   "execution_count": 1,
   "metadata": {},
   "outputs": [
    {
     "name": "stdout",
     "output_type": "stream",
     "text": [
      "[146, 78]\n",
      "(102, 90)\n"
     ]
    }
   ],
   "source": [
    "def even_odd_sum(list_):\n",
    "    islist = isinstance(list_, list)\n",
    "    if islist:\n",
    "        return [sum(list_[::2]), sum(list_[1::2])]\n",
    "    return(sum(list_[::2]), sum(list_[1::2]))\n",
    "print(even_odd_sum([90, 78, 56]))\n",
    "print(even_odd_sum((90, 45, 12, 45)))"
   ]
  },
  {
   "cell_type": "markdown",
   "metadata": {},
   "source": [
    "###  Alternately adding and subtracting"
   ]
  },
  {
   "cell_type": "code",
   "execution_count": null,
   "metadata": {},
   "outputs": [],
   "source": []
  }
 ],
 "metadata": {
  "kernelspec": {
   "display_name": "base",
   "language": "python",
   "name": "python3"
  },
  "language_info": {
   "codemirror_mode": {
    "name": "ipython",
    "version": 3
   },
   "file_extension": ".py",
   "mimetype": "text/x-python",
   "name": "python",
   "nbconvert_exporter": "python",
   "pygments_lexer": "ipython3",
   "version": "3.10.9"
  }
 },
 "nbformat": 4,
 "nbformat_minor": 2
}
