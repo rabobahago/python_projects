{
 "cells": [
  {
   "cell_type": "markdown",
   "metadata": {},
   "source": [
    "# Graph "
   ]
  },
  {
   "cell_type": "markdown",
   "metadata": {},
   "source": [
    "### Graph Depth First "
   ]
  },
  {
   "cell_type": "code",
   "execution_count": 12,
   "metadata": {},
   "outputs": [
    {
     "name": "stdout",
     "output_type": "stream",
     "text": [
      "a\n",
      "b\n",
      "d\n",
      "f\n",
      "c\n",
      "e\n"
     ]
    }
   ],
   "source": [
    "graph = { \"a\" : [\"c\", \"b\"],\n",
    "          \"b\" : [\"d\"],\n",
    "          \"c\" : [\"e\"],\n",
    "          \"d\" : [\"f\"],\n",
    "          \"e\" : [],\n",
    "          \"f\" : []\n",
    "        }\n",
    "\n",
    "def depth_first_print(graph, source):\n",
    "    stack = []\n",
    "    stack.append(source)\n",
    "    while stack:\n",
    "        current = stack.pop()\n",
    "        print(current)\n",
    "        for neightbor in graph[current]:\n",
    "            stack.append(neightbor)\n",
    "depth_first_print(graph, 'a')"
   ]
  },
  {
   "cell_type": "markdown",
   "metadata": {},
   "source": [
    "### recursive version of depth first print"
   ]
  },
  {
   "cell_type": "code",
   "execution_count": 13,
   "metadata": {},
   "outputs": [
    {
     "name": "stdout",
     "output_type": "stream",
     "text": [
      "a\n",
      "c\n",
      "e\n",
      "b\n",
      "d\n",
      "f\n"
     ]
    }
   ],
   "source": [
    "def recursive_depth_first(graph, source):\n",
    "    print(source)\n",
    "    for neighbor in graph[source]:\n",
    "        recursive_depth_first(graph, neighbor)\n",
    "recursive_depth_first(graph, 'a')"
   ]
  },
  {
   "cell_type": "markdown",
   "metadata": {},
   "source": [
    "### Bredth First Print "
   ]
  },
  {
   "cell_type": "code",
   "execution_count": 19,
   "metadata": {},
   "outputs": [
    {
     "name": "stdout",
     "output_type": "stream",
     "text": [
      "a\n",
      "c\n",
      "b\n",
      "e\n",
      "d\n",
      "f\n"
     ]
    }
   ],
   "source": [
    "def breadth_first_print(graph, source):\n",
    "    queue = []\n",
    "    queue.append(source)\n",
    "    while queue:\n",
    "        current = queue.pop(0)\n",
    "        print(current)\n",
    "        for neighbor in graph[current]:\n",
    "            queue.append(neighbor)\n",
    "breadth_first_print(graph, 'a')"
   ]
  },
  {
   "cell_type": "code",
   "execution_count": 4,
   "metadata": {},
   "outputs": [
    {
     "data": {
      "text/plain": [
       "[{'a', 'c'},\n",
       " {'b', 'e'},\n",
       " {'b', 'c'},\n",
       " {'b', 'c'},\n",
       " {'a', 'c'},\n",
       " {'c', 'e'},\n",
       " {'c', 'd'},\n",
       " {'c', 'd'},\n",
       " {'b', 'e'},\n",
       " {'c', 'e'}]"
      ]
     },
     "execution_count": 4,
     "metadata": {},
     "output_type": "execute_result"
    }
   ],
   "source": [
    "\n",
    "\n",
    "graph = { \"a\" : {\"c\"},\n",
    "          \"b\" : {\"c\", \"e\"},\n",
    "          \"c\" : {\"a\", \"b\", \"d\", \"e\"},\n",
    "          \"d\" : {\"c\"},\n",
    "          \"e\" : {\"c\", \"b\"},\n",
    "          \"f\" : {}\n",
    "        }\n",
    "def build_graph(graph):\n",
    "    edges =[]\n",
    "    for node in graph:\n",
    "        for neighbour in graph[node]:\n",
    "            edges.append({node, neighbour})\n",
    "    return edges\n",
    "build_graph(graph)"
   ]
  },
  {
   "cell_type": "markdown",
   "metadata": {},
   "source": [
    "### isolated node of our graph"
   ]
  },
  {
   "cell_type": "code",
   "execution_count": 4,
   "metadata": {},
   "outputs": [
    {
     "data": {
      "text/plain": [
       "{'f'}"
      ]
     },
     "execution_count": 4,
     "metadata": {},
     "output_type": "execute_result"
    }
   ],
   "source": [
    "def isolated_node(graph):\n",
    "    isolated = set()\n",
    "    for node in graph:\n",
    "        if not graph[node]:\n",
    "\n",
    "            isolated.add(node)\n",
    "    return isolated\n",
    "isolated_node(graph)\n"
   ]
  },
  {
   "cell_type": "markdown",
   "metadata": {},
   "source": [
    "### has path"
   ]
  },
  {
   "cell_type": "code",
   "execution_count": 25,
   "metadata": {},
   "outputs": [
    {
     "data": {
      "text/plain": [
       "True"
      ]
     },
     "execution_count": 25,
     "metadata": {},
     "output_type": "execute_result"
    }
   ],
   "source": [
    "# Time(e)\n",
    "# space(n^2)\n",
    "graph = {\n",
    "  'f': ['g', 'i'],\n",
    "  'g': ['h'],\n",
    "  'h': [],\n",
    "  'i': ['g', 'k'],\n",
    "  'j': ['i'],\n",
    "  'k': []\n",
    "}\n",
    "def has_path(graph,source,target):\n",
    "    if source  == target:\n",
    "        return True\n",
    "    for neighbor in graph[source]:\n",
    "        if has_path(graph, neighbor, target) == True:\n",
    "            return True\n",
    "    return False\n",
    "has_path(graph, 'f', 'k')"
   ]
  },
  {
   "cell_type": "markdown",
   "metadata": {},
   "source": [
    "### has Path Iterative solution"
   ]
  },
  {
   "cell_type": "code",
   "execution_count": 26,
   "metadata": {},
   "outputs": [
    {
     "data": {
      "text/plain": [
       "True"
      ]
     },
     "execution_count": 26,
     "metadata": {},
     "output_type": "execute_result"
    }
   ],
   "source": [
    "def has_path_iterative(graph, source, target):\n",
    "    queue = []\n",
    "    queue.append(source)\n",
    "    while queue:\n",
    "        current = queue.pop(0)\n",
    "        if current == target:\n",
    "            return True\n",
    "        for neighbor in graph[current]:\n",
    "            queue.append(neighbor)\n",
    "    return False\n",
    "has_path_iterative(graph, 'f', 'k')"
   ]
  },
  {
   "cell_type": "markdown",
   "metadata": {},
   "source": [
    "### undirected path "
   ]
  },
  {
   "cell_type": "code",
   "execution_count": 4,
   "metadata": {},
   "outputs": [
    {
     "data": {
      "text/plain": [
       "True"
      ]
     },
     "execution_count": 4,
     "metadata": {},
     "output_type": "execute_result"
    }
   ],
   "source": [
    "# Time O(e)\n",
    "# Space O(n)\n",
    "edges = [\n",
    "  ['i', 'j'],\n",
    "  ['k', 'i'],\n",
    "  ['m', 'k'],\n",
    "  ['k', 'l'],\n",
    "  ['o', 'n']\n",
    "]\n",
    "\n",
    "def undirected_path(edges, nodeA, nodeB):\n",
    "    graph = build_list(edges)\n",
    "    visited = set()\n",
    "    return has_path(graph, nodeA, nodeB, visited)\n",
    "def has_path(graph,source,target, visited):\n",
    "    if source  == target:\n",
    "        return True\n",
    "    if source in visited:\n",
    "        return False\n",
    "    visited.add(source)\n",
    "    for neighbor in graph[source]:\n",
    "        if has_path(graph, neighbor, target, visited) == True:\n",
    "            return True\n",
    "    return False\n",
    "def  build_list(edges):\n",
    "    graph = {}\n",
    "    for node in edges:\n",
    "        first, second = node\n",
    "        if first not in graph:\n",
    "            graph[first] = []\n",
    "        if second not in graph:\n",
    "            graph[second] = []\n",
    "        graph[first].append(second)\n",
    "        graph[second].append(first)\n",
    "    return graph\n",
    "undirected_path(edges, 'j', 'm') # -> true"
   ]
  },
  {
   "cell_type": "markdown",
   "metadata": {},
   "source": [
    "### Connected Component"
   ]
  },
  {
   "cell_type": "code",
   "execution_count": null,
   "metadata": {},
   "outputs": [],
   "source": [
    "connectedComponentsCount({\n",
    "  0: [8, 1, 5],\n",
    "  1: [0],\n",
    "  5: [0, 8],\n",
    "  8: [0, 5],\n",
    "  2: [3, 4],\n",
    "  3: [2, 4],\n",
    "  4: [3, 2]\n",
    "}) # -> 2"
   ]
  }
 ],
 "metadata": {
  "kernelspec": {
   "display_name": "base",
   "language": "python",
   "name": "python3"
  },
  "language_info": {
   "codemirror_mode": {
    "name": "ipython",
    "version": 3
   },
   "file_extension": ".py",
   "mimetype": "text/x-python",
   "name": "python",
   "nbconvert_exporter": "python",
   "pygments_lexer": "ipython3",
   "version": "3.10.9"
  }
 },
 "nbformat": 4,
 "nbformat_minor": 2
}
