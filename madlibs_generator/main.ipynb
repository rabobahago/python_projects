{
 "cells": [
  {
   "cell_type": "markdown",
   "metadata": {},
   "source": [
    "### Madlibs Generator"
   ]
  },
  {
   "cell_type": "code",
   "execution_count": 13,
   "metadata": {},
   "outputs": [
    {
     "name": "stdout",
     "output_type": "stream",
     "text": [
      "Once upon a time, a cat named Whiskers chase in a cozy garden. One day, she found a a cozy cat and decided to chase it. Suddenly, she heard a meow and saw a a cozy cat chase towards she. Whiskers quickly chase away and hid behind a cat. After a few a cozy minutes, Whiskers peeked out and realized the a cozy cat had disappeared\n"
     ]
    }
   ],
   "source": [
    "with open('story.txt', 'r') as f:\n",
    "    story = f.read()\n",
    "start_of_word = -1\n",
    "target_start = \"<\"\n",
    "target_end = \">\"\n",
    "words = set()\n",
    "for i, word in enumerate(story):\n",
    "    if word == target_start:\n",
    "        start_of_word  = i\n",
    "    if word == target_end and start_of_word != -1:\n",
    "        words.add(story[start_of_word: i + 1])\n",
    "word_dict = {}\n",
    "for word in words:\n",
    "    user_word = input('Enter a word for : ' + word)\n",
    "    word_dict[word] =user_word\n",
    "for word in words:\n",
    "    story = story.replace(word, word_dict[word])\n",
    "print(story)"
   ]
  },
  {
   "cell_type": "code",
   "execution_count": null,
   "metadata": {},
   "outputs": [],
   "source": []
  }
 ],
 "metadata": {
  "kernelspec": {
   "display_name": "base",
   "language": "python",
   "name": "python3"
  },
  "language_info": {
   "codemirror_mode": {
    "name": "ipython",
    "version": 3
   },
   "file_extension": ".py",
   "mimetype": "text/x-python",
   "name": "python",
   "nbconvert_exporter": "python",
   "pygments_lexer": "ipython3",
   "version": "3.10.9"
  }
 },
 "nbformat": 4,
 "nbformat_minor": 2
}
