{
 "cells": [
  {
   "cell_type": "markdown",
   "metadata": {},
   "source": [
    "# Dict Difference\n",
    "\n"
   ]
  },
  {
   "cell_type": "code",
   "execution_count": 4,
   "metadata": {},
   "outputs": [
    {
     "name": "stdout",
     "output_type": "stream",
     "text": [
      "{'c': [3, None], 'd': [None, 4]}\n"
     ]
    }
   ],
   "source": [
    "def dictdiff(first, second):\n",
    "    result = {}\n",
    "    combine = first.keys() | second.keys()\n",
    "    for key in combine:\n",
    "        if first.get(key) != second.get(key):\n",
    "            result[key] = [first.get(key), second.get(key)]\n",
    "    return result\n",
    "d1 = {'a':1, 'b':2, 'c':3}\n",
    "d2 = {'a':1, 'b':2, 'd':4}\n",
    "print(dictdiff(d1, d2))\n"
   ]
  },
  {
   "cell_type": "markdown",
   "metadata": {},
   "source": [
    "### Update Dictionary"
   ]
  },
  {
   "cell_type": "markdown",
   "metadata": {},
   "source": [
    "The dict.update method merges two dicts. Write a function that takes any\n",
    "number of dicts and returns a dict that reflects the combination of all of them.\n",
    "If the same key appears in more than one dict, then the most recently merged\n",
    "dict’s value should appear in the output."
   ]
  },
  {
   "cell_type": "code",
   "execution_count": 5,
   "metadata": {},
   "outputs": [
    {
     "name": "stdout",
     "output_type": "stream",
     "text": [
      "{'a': 1, 'b': 3, 'c': 5, 'd': 6}\n"
     ]
    }
   ],
   "source": [
    "def merge_dicts(*dicts):\n",
    "    merged_dict = {}\n",
    "    for d in dicts:\n",
    "        merged_dict.update(d)\n",
    "    return merged_dict\n",
    "\n",
    "dict1 = {'a': 1, 'b': 2}\n",
    "dict2 = {'b': 3, 'c': 4}\n",
    "dict3 = {'c': 5, 'd': 6}\n",
    "\n",
    "result = merge_dicts(dict1, dict2, dict3)\n",
    "print(result)  # Output: {'a': 1, 'b': 3, 'c': 5, 'd': 6}\n"
   ]
  },
  {
   "cell_type": "markdown",
   "metadata": {},
   "source": [
    "### Even Odd \n",
    "Write a function that takes any even number of arguments and returns a dict\n",
    "based on them. The even-indexed arguments become the dict keys, while the\n",
    "odd-numbered arguments become the dict values. Thus, calling the function\n",
    "with the arguments ('a', 1, 'b', 2) will result in the dict {'a':1, 'b':2} being\n",
    "returned."
   ]
  },
  {
   "cell_type": "code",
   "execution_count": 11,
   "metadata": {},
   "outputs": [
    {
     "data": {
      "text/plain": [
       "{'a': 2, 'b': 4}"
      ]
     },
     "execution_count": 11,
     "metadata": {},
     "output_type": "execute_result"
    }
   ],
   "source": [
    "def even_arg(*detail):\n",
    "    result = {}\n",
    "    even = detail[::2]\n",
    "    odd = detail[1::2]\n",
    "    for a, b in zip(even, odd):\n",
    "        result[a] = b\n",
    "    return result\n",
    "even_arg('a', 2, 'b', 4)"
   ]
  },
  {
   "cell_type": "markdown",
   "metadata": {},
   "source": [
    "### Dictionaries Partition"
   ]
  },
  {
   "cell_type": "markdown",
   "metadata": {},
   "source": [
    "Write a function , dict_partition, that takes one dict (d) and a function (f) as\n",
    "arguments. dict_partition will return two dicts, each containing key-value\n",
    "pairs from d. The decision regarding where to put each of the key-value pairs\n",
    "will be made according to the output from f, which will be run on each keyvalue pair in d. If f returns True, then the key-value pair will be put in the first\n",
    "output dict. If f returns False, then the key-value pair will be put in the second\n",
    "output dict."
   ]
  },
  {
   "cell_type": "code",
   "execution_count": 12,
   "metadata": {},
   "outputs": [
    {
     "name": "stdout",
     "output_type": "stream",
     "text": [
      "Even dict: {2: 20, 4: 40}\n",
      "Odd dict: {1: 10, 3: 30}\n"
     ]
    }
   ],
   "source": [
    "def dict_partition(d, f):\n",
    "    true_dict = {}\n",
    "    false_dict = {}\n",
    "\n",
    "    for key, value in d.items():\n",
    "        if f(key, value):\n",
    "            true_dict[key] = value\n",
    "        else:\n",
    "            false_dict[key] = value\n",
    "\n",
    "    return true_dict, false_dict\n",
    "def is_even_key_value(key, value):\n",
    "    return key % 2 == 0 and value % 2 == 0\n",
    "\n",
    "example_dict = {1: 10, 2: 20, 3: 30, 4: 40}\n",
    "even_dict, odd_dict = dict_partition(example_dict, is_even_key_value)\n",
    "\n",
    "print(\"Even dict:\", even_dict)  # Output: {2: 20, 4: 40}\n",
    "print(\"Odd dict:\", odd_dict)    # Output: {1: 10, 3: 30}\n"
   ]
  },
  {
   "cell_type": "markdown",
   "metadata": {},
   "source": [
    "### Unique elements "
   ]
  },
  {
   "cell_type": "code",
   "execution_count": 17,
   "metadata": {},
   "outputs": [
    {
     "name": "stdout",
     "output_type": "stream",
     "text": [
      "4\n"
     ]
    }
   ],
   "source": [
    "def how_many_different_numbers(numbers):\n",
    "    unique_numbers = set(numbers)\n",
    "    return len(unique_numbers)\n",
    "print(how_many_different_numbers([1, 2, 3, 1, 2, 3, 4, 1]))"
   ]
  },
  {
   "cell_type": "code",
   "execution_count": 1,
   "metadata": {},
   "outputs": [
    {
     "data": {
      "text/plain": [
       "[(2, 4),\n",
       " (2, 5),\n",
       " (2, 6),\n",
       " (2, 7),\n",
       " (4, 5),\n",
       " (4, 6),\n",
       " (4, 7),\n",
       " (5, 6),\n",
       " (5, 7),\n",
       " (6, 7)]"
      ]
     },
     "execution_count": 1,
     "metadata": {},
     "output_type": "execute_result"
    }
   ],
   "source": [
    "def allpair(arr):\n",
    "    result = []\n",
    "    i = 0\n",
    "    while i < len(arr) -1:\n",
    "        j = i + 1\n",
    "        while j < len(arr):\n",
    "            result.append((arr[i], arr[j]))\n",
    "            j += 1\n",
    "        i += 1\n",
    "    return result\n",
    "allpair([2, 4, 5, 6, 7])"
   ]
  },
  {
   "cell_type": "code",
   "execution_count": 19,
   "metadata": {},
   "outputs": [],
   "source": [
    "class SinglyNode:\n",
    "    def __init__(self, val, next = None):\n",
    "        self.val = val\n",
    "        self.next = next\n",
    "    def _str__(self):\n",
    "        return f'The node {str(self.val)}'\n",
    "head = SinglyNode(1)\n",
    "a = SinglyNode(2)\n",
    "b = SinglyNode(4)\n",
    "c = SinglyNode(7)\n",
    "head.next = a\n",
    "a.next = b\n",
    "b.next = c\n"
   ]
  },
  {
   "cell_type": "code",
   "execution_count": 20,
   "metadata": {},
   "outputs": [
    {
     "name": "stdout",
     "output_type": "stream",
     "text": [
      "1\n",
      "2\n",
      "4\n",
      "7\n"
     ]
    }
   ],
   "source": [
    "curr = head\n",
    "while curr:\n",
    "    print(curr.val)\n",
    "    curr = curr.next"
   ]
  },
  {
   "cell_type": "code",
   "execution_count": 21,
   "metadata": {},
   "outputs": [
    {
     "data": {
      "text/plain": [
       "'1 => 2 => 4 => 7'"
      ]
     },
     "execution_count": 21,
     "metadata": {},
     "output_type": "execute_result"
    }
   ],
   "source": [
    "def print_node(head):\n",
    "    curr = head\n",
    "    elements = []\n",
    "    while curr:\n",
    "        elements.append(str(curr.val))\n",
    "        curr = curr.next\n",
    "    return ' => '.join(elements)\n",
    "print_node(head)"
   ]
  },
  {
   "cell_type": "code",
   "execution_count": 22,
   "metadata": {},
   "outputs": [
    {
     "data": {
      "text/plain": [
       "True"
      ]
     },
     "execution_count": 22,
     "metadata": {},
     "output_type": "execute_result"
    }
   ],
   "source": [
    "def search(head, elem):\n",
    "    curr = head\n",
    "    while curr:\n",
    "        if curr.val == elem:\n",
    "            return True\n",
    "        curr = curr.next\n",
    "    return False\n",
    "search(head, 2)"
   ]
  },
  {
   "cell_type": "code",
   "execution_count": 23,
   "metadata": {},
   "outputs": [],
   "source": [
    "class doublyNode:\n",
    "    def __init__(self, val, next = None, prev = None):\n",
    "        self.val = val\n",
    "        self.next = next\n",
    "        self.prev = prev\n"
   ]
  },
  {
   "cell_type": "code",
   "execution_count": 30,
   "metadata": {},
   "outputs": [
    {
     "data": {
      "text/plain": [
       "'1<=>2<=>4<=>7'"
      ]
     },
     "execution_count": 30,
     "metadata": {},
     "output_type": "execute_result"
    }
   ],
   "source": [
    "def display(head):\n",
    "    curr = head\n",
    "    elements = []\n",
    "    while curr:\n",
    "        elements.append(str(curr.val))\n",
    "        curr = curr.next\n",
    "    return '<=>'.join(elements)\n",
    "display(head)"
   ]
  },
  {
   "cell_type": "code",
   "execution_count": 6,
   "metadata": {},
   "outputs": [
    {
     "name": "stdout",
     "output_type": "stream",
     "text": [
      "True\n",
      "True\n",
      "False\n"
     ]
    }
   ],
   "source": [
    "def binary_search(arr, target):\n",
    "\n",
    "    l = 0\n",
    "    r = len(arr) - 1\n",
    "    while l <= r:\n",
    "        m = l + ((r -l) // 2)\n",
    "        if arr[m] == target:\n",
    "            return True\n",
    "        elif target > arr[m]:\n",
    "            l = m + 1\n",
    "        else:\n",
    "            r = m - 1\n",
    "    return False\n",
    "print(binary_search([-1, 3, 5, 7, 8], 8))\n",
    "print(binary_search([-1, 3, 5, 7, 8], 3))\n",
    "print(binary_search([2, 4, 5, 6, 7, 8], 10))"
   ]
  },
  {
   "cell_type": "code",
   "execution_count": 10,
   "metadata": {},
   "outputs": [
    {
     "name": "stdout",
     "output_type": "stream",
     "text": [
      "4\n",
      "3\n"
     ]
    }
   ],
   "source": [
    "def binary_search_condition(arr):\n",
    "    l, r = 0, len(arr) - 1\n",
    "    while l < r:\n",
    "        m = (l + r)//2\n",
    "        if arr[m]:\n",
    "            r = m\n",
    "        else:\n",
    "            l = m + 1\n",
    "    return l\n",
    "print(binary_search_condition([False, False, False, False, True, True, True]))\n",
    "print(binary_search_condition([False, False, False, True, True, True, True]))\n"
   ]
  },
  {
   "cell_type": "code",
   "execution_count": 2,
   "metadata": {},
   "outputs": [
    {
     "name": "stdout",
     "output_type": "stream",
     "text": [
      "[4, 2]\n"
     ]
    }
   ],
   "source": [
    "def two_sum(arr, target):\n",
    "    hash = {}\n",
    "    for i, val in enumerate(arr):\n",
    "        if target - val in hash:\n",
    "            return [i, val]\n",
    "        else:\n",
    "            hash[val] = i\n",
    "    return [0, 0]\n",
    "print(two_sum([2, 4, 5, 6, 2], 4))"
   ]
  },
  {
   "cell_type": "code",
   "execution_count": 3,
   "metadata": {},
   "outputs": [],
   "source": [
    "class BinaryTree:\n",
    "    def __init__(self, val, left = None, right = None):\n",
    "        self.val = val\n",
    "        self.left = left\n",
    "        self.right = right\n",
    "    def __str__(self) -> str:\n",
    "        return f'{self.val}'"
   ]
  },
  {
   "cell_type": "code",
   "execution_count": 4,
   "metadata": {},
   "outputs": [],
   "source": [
    "A = BinaryTree(5)\n",
    "B = BinaryTree(1)\n",
    "C = BinaryTree(8)\n",
    "D = BinaryTree(-1)\n",
    "E = BinaryTree(3)\n",
    "F = BinaryTree(7)\n",
    "G = BinaryTree(9)"
   ]
  },
  {
   "cell_type": "code",
   "execution_count": 7,
   "metadata": {},
   "outputs": [
    {
     "name": "stdout",
     "output_type": "stream",
     "text": [
      "5\n"
     ]
    }
   ],
   "source": [
    "A.left, A.right = B, C\n",
    "B.left, B.right = D, E\n",
    "C.left, C.right = F, G\n",
    "print(A)"
   ]
  },
  {
   "cell_type": "code",
   "execution_count": 12,
   "metadata": {},
   "outputs": [
    {
     "name": "stdout",
     "output_type": "stream",
     "text": [
      "False\n",
      "True\n"
     ]
    }
   ],
   "source": [
    "def search(root, target):\n",
    "    if not root:\n",
    "        return False\n",
    "    if root.val == target:\n",
    "        return True\n",
    "    if target > root.val:\n",
    "        return search(root.right, target)\n",
    "    else: return search(root.left, target)\n",
    "print(search(A, 2))\n",
    "print(search(A, 1))"
   ]
  },
  {
   "cell_type": "code",
   "execution_count": 29,
   "metadata": {},
   "outputs": [
    {
     "name": "stdout",
     "output_type": "stream",
     "text": [
      "5\n",
      "1\n",
      "8\n",
      "-1\n",
      "3\n",
      "7\n"
     ]
    },
    {
     "data": {
      "text/plain": [
       "True"
      ]
     },
     "execution_count": 29,
     "metadata": {},
     "output_type": "execute_result"
    }
   ],
   "source": [
    "from collections import deque\n",
    "def search_deq(root, target):\n",
    "    if not root:\n",
    "        return False\n",
    "    q = deque()\n",
    "    q.append(root)\n",
    "    while q:\n",
    "        remove = q.popleft()\n",
    "        print(remove)\n",
    "        if target == remove.val:\n",
    "            return True\n",
    "        if remove.left:\n",
    "            q.append(remove.left)\n",
    "        if remove.right:\n",
    "            q.append(remove.right)\n",
    "    return False\n",
    "search_deq(A, 7)"
   ]
  },
  {
   "cell_type": "code",
   "execution_count": 13,
   "metadata": {},
   "outputs": [
    {
     "data": {
      "text/plain": [
       "[-2, 1, 0, 5, 4, 2, 23]"
      ]
     },
     "execution_count": 13,
     "metadata": {},
     "output_type": "execute_result"
    }
   ],
   "source": [
    "A = [4, -2, 0, 5, 1, 2, 23]\n",
    "import heapq\n",
    "heapq.heapify(A)\n",
    "A"
   ]
  },
  {
   "cell_type": "code",
   "execution_count": 14,
   "metadata": {},
   "outputs": [],
   "source": [
    "heapq.heappush(A, 2)"
   ]
  },
  {
   "cell_type": "code",
   "execution_count": 15,
   "metadata": {},
   "outputs": [
    {
     "data": {
      "text/plain": [
       "[-2, 1, 0, 2, 4, 2, 23, 5]"
      ]
     },
     "execution_count": 15,
     "metadata": {},
     "output_type": "execute_result"
    }
   ],
   "source": [
    "A"
   ]
  },
  {
   "cell_type": "code",
   "execution_count": 17,
   "metadata": {},
   "outputs": [
    {
     "data": {
      "text/plain": [
       "-2"
      ]
     },
     "execution_count": 17,
     "metadata": {},
     "output_type": "execute_result"
    }
   ],
   "source": [
    "heapq.heappop(A)"
   ]
  },
  {
   "cell_type": "code",
   "execution_count": 23,
   "metadata": {},
   "outputs": [
    {
     "data": {
      "text/plain": [
       "[-3, -1, 3, 5, 8, 9, 12]"
      ]
     },
     "execution_count": 23,
     "metadata": {},
     "output_type": "execute_result"
    }
   ],
   "source": [
    "def heapsort(arr):\n",
    "    heapq.heapify(arr)\n",
    "    n = len(arr)\n",
    "    new_list = [0]*n\n",
    "    for i in range(n):\n",
    "        minn = heapq.heappop(arr)\n",
    "        new_list[i] = minn\n",
    "    return new_list\n",
    "heapsort([9, 5, -1, 8, 3, 12, -3])"
   ]
  },
  {
   "cell_type": "code",
   "execution_count": 32,
   "metadata": {},
   "outputs": [
    {
     "data": {
      "text/plain": [
       "80"
      ]
     },
     "execution_count": 32,
     "metadata": {},
     "output_type": "execute_result"
    }
   ],
   "source": [
    "import heapq\n",
    "B = [-6, 80, -12, 5, 2, 78]\n",
    "n = len(B)\n",
    "for i in range(n):\n",
    "    B[i] = -B[i]\n",
    "heapq.heapify(B)\n",
    "B\n",
    "maxx = -heapq.heappop(B)\n",
    "maxx"
   ]
  },
  {
   "cell_type": "code",
   "execution_count": 2,
   "metadata": {},
   "outputs": [
    {
     "data": {
      "text/plain": [
       "[-3, -1, 2, 4, 4, 5, 6, 7]"
      ]
     },
     "execution_count": 2,
     "metadata": {},
     "output_type": "execute_result"
    }
   ],
   "source": [
    "def bubble_sort(arr):\n",
    "    n = len(arr)\n",
    "    flag = True\n",
    "    while flag:\n",
    "        flag = False\n",
    "        for i in range(1, n):\n",
    "            if arr[i - 1] > arr[i]:\n",
    "                flag = True\n",
    "                arr[i - 1], arr[i] = arr[i], arr[i -1]\n",
    "    return arr\n",
    "bubble_sort([5, -3, 4, -1, 7, 2, 4, 6])"
   ]
  },
  {
   "cell_type": "code",
   "execution_count": 4,
   "metadata": {},
   "outputs": [
    {
     "data": {
      "text/plain": [
       "[-3, -1, 2, 4, 4, 5, 6, 7]"
      ]
     },
     "execution_count": 4,
     "metadata": {},
     "output_type": "execute_result"
    }
   ],
   "source": [
    "def insertion_sort(arr):\n",
    "    n = len(arr)\n",
    "    for i in range(1, n):\n",
    "        for j in range(i, 0, -1):\n",
    "            if arr[j - 1] > arr[j]:\n",
    "                arr[j -1], arr[j] = arr[j], arr[j - 1]\n",
    "            else:\n",
    "                break\n",
    "    return arr\n",
    "insertion_sort([5, -3, 4, -1, 7, 2, 4, 6])"
   ]
  },
  {
   "cell_type": "code",
   "execution_count": null,
   "metadata": {},
   "outputs": [],
   "source": []
  }
 ],
 "metadata": {
  "kernelspec": {
   "display_name": "Python 3",
   "language": "python",
   "name": "python3"
  },
  "language_info": {
   "codemirror_mode": {
    "name": "ipython",
    "version": 3
   },
   "file_extension": ".py",
   "mimetype": "text/x-python",
   "name": "python",
   "nbconvert_exporter": "python",
   "pygments_lexer": "ipython3",
   "version": "3.12.4"
  }
 },
 "nbformat": 4,
 "nbformat_minor": 2
}
