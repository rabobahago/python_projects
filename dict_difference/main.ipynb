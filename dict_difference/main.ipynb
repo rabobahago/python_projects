{
 "cells": [
  {
   "cell_type": "markdown",
   "metadata": {},
   "source": [
    "# Dict Difference\n",
    "\n"
   ]
  },
  {
   "cell_type": "code",
   "execution_count": 4,
   "metadata": {},
   "outputs": [
    {
     "name": "stdout",
     "output_type": "stream",
     "text": [
      "{'c': [3, None], 'd': [None, 4]}\n"
     ]
    }
   ],
   "source": [
    "def dictdiff(first, second):\n",
    "    result = {}\n",
    "    combine = first.keys() | second.keys()\n",
    "    for key in combine:\n",
    "        if first.get(key) != second.get(key):\n",
    "            result[key] = [first.get(key), second.get(key)]\n",
    "    return result\n",
    "d1 = {'a':1, 'b':2, 'c':3}\n",
    "d2 = {'a':1, 'b':2, 'd':4}\n",
    "print(dictdiff(d1, d2))\n"
   ]
  },
  {
   "cell_type": "code",
   "execution_count": null,
   "metadata": {},
   "outputs": [],
   "source": []
  }
 ],
 "metadata": {
  "kernelspec": {
   "display_name": "base",
   "language": "python",
   "name": "python3"
  },
  "language_info": {
   "codemirror_mode": {
    "name": "ipython",
    "version": 3
   },
   "file_extension": ".py",
   "mimetype": "text/x-python",
   "name": "python",
   "nbconvert_exporter": "python",
   "pygments_lexer": "ipython3",
   "version": "3.10.9"
  }
 },
 "nbformat": 4,
 "nbformat_minor": 2
}
