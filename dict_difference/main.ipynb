{
 "cells": [
  {
   "cell_type": "markdown",
   "metadata": {},
   "source": [
    "# Dict Difference\n",
    "\n"
   ]
  },
  {
   "cell_type": "code",
   "execution_count": 4,
   "metadata": {},
   "outputs": [
    {
     "name": "stdout",
     "output_type": "stream",
     "text": [
      "{'c': [3, None], 'd': [None, 4]}\n"
     ]
    }
   ],
   "source": [
    "def dictdiff(first, second):\n",
    "    result = {}\n",
    "    combine = first.keys() | second.keys()\n",
    "    for key in combine:\n",
    "        if first.get(key) != second.get(key):\n",
    "            result[key] = [first.get(key), second.get(key)]\n",
    "    return result\n",
    "d1 = {'a':1, 'b':2, 'c':3}\n",
    "d2 = {'a':1, 'b':2, 'd':4}\n",
    "print(dictdiff(d1, d2))\n"
   ]
  },
  {
   "cell_type": "markdown",
   "metadata": {},
   "source": [
    "### Update Dictionary"
   ]
  },
  {
   "cell_type": "markdown",
   "metadata": {},
   "source": [
    "The dict.update method merges two dicts. Write a function that takes any\n",
    "number of dicts and returns a dict that reflects the combination of all of them.\n",
    "If the same key appears in more than one dict, then the most recently merged\n",
    "dict’s value should appear in the output."
   ]
  },
  {
   "cell_type": "code",
   "execution_count": 5,
   "metadata": {},
   "outputs": [
    {
     "name": "stdout",
     "output_type": "stream",
     "text": [
      "{'a': 1, 'b': 3, 'c': 5, 'd': 6}\n"
     ]
    }
   ],
   "source": [
    "def merge_dicts(*dicts):\n",
    "    merged_dict = {}\n",
    "    for d in dicts:\n",
    "        merged_dict.update(d)\n",
    "    return merged_dict\n",
    "\n",
    "dict1 = {'a': 1, 'b': 2}\n",
    "dict2 = {'b': 3, 'c': 4}\n",
    "dict3 = {'c': 5, 'd': 6}\n",
    "\n",
    "result = merge_dicts(dict1, dict2, dict3)\n",
    "print(result)  # Output: {'a': 1, 'b': 3, 'c': 5, 'd': 6}\n"
   ]
  },
  {
   "cell_type": "markdown",
   "metadata": {},
   "source": [
    "### Even Odd \n",
    "Write a function that takes any even number of arguments and returns a dict\n",
    "based on them. The even-indexed arguments become the dict keys, while the\n",
    "odd-numbered arguments become the dict values. Thus, calling the function\n",
    "with the arguments ('a', 1, 'b', 2) will result in the dict {'a':1, 'b':2} being\n",
    "returned."
   ]
  },
  {
   "cell_type": "code",
   "execution_count": 11,
   "metadata": {},
   "outputs": [
    {
     "data": {
      "text/plain": [
       "{'a': 2, 'b': 4}"
      ]
     },
     "execution_count": 11,
     "metadata": {},
     "output_type": "execute_result"
    }
   ],
   "source": [
    "def even_arg(*detail):\n",
    "    result = {}\n",
    "    even = detail[::2]\n",
    "    odd = detail[1::2]\n",
    "    for a, b in zip(even, odd):\n",
    "        result[a] = b\n",
    "    return result\n",
    "even_arg('a', 2, 'b', 4)"
   ]
  },
  {
   "cell_type": "markdown",
   "metadata": {},
   "source": [
    "### Dictionaries Partition"
   ]
  },
  {
   "cell_type": "markdown",
   "metadata": {},
   "source": [
    "Write a function , dict_partition, that takes one dict (d) and a function (f) as\n",
    "arguments. dict_partition will return two dicts, each containing key-value\n",
    "pairs from d. The decision regarding where to put each of the key-value pairs\n",
    "will be made according to the output from f, which will be run on each keyvalue pair in d. If f returns True, then the key-value pair will be put in the first\n",
    "output dict. If f returns False, then the key-value pair will be put in the second\n",
    "output dict."
   ]
  },
  {
   "cell_type": "code",
   "execution_count": 12,
   "metadata": {},
   "outputs": [
    {
     "name": "stdout",
     "output_type": "stream",
     "text": [
      "Even dict: {2: 20, 4: 40}\n",
      "Odd dict: {1: 10, 3: 30}\n"
     ]
    }
   ],
   "source": [
    "def dict_partition(d, f):\n",
    "    true_dict = {}\n",
    "    false_dict = {}\n",
    "\n",
    "    for key, value in d.items():\n",
    "        if f(key, value):\n",
    "            true_dict[key] = value\n",
    "        else:\n",
    "            false_dict[key] = value\n",
    "\n",
    "    return true_dict, false_dict\n",
    "def is_even_key_value(key, value):\n",
    "    return key % 2 == 0 and value % 2 == 0\n",
    "\n",
    "example_dict = {1: 10, 2: 20, 3: 30, 4: 40}\n",
    "even_dict, odd_dict = dict_partition(example_dict, is_even_key_value)\n",
    "\n",
    "print(\"Even dict:\", even_dict)  # Output: {2: 20, 4: 40}\n",
    "print(\"Odd dict:\", odd_dict)    # Output: {1: 10, 3: 30}\n"
   ]
  },
  {
   "cell_type": "markdown",
   "metadata": {},
   "source": [
    "### Unique elements "
   ]
  },
  {
   "cell_type": "code",
   "execution_count": 17,
   "metadata": {},
   "outputs": [
    {
     "name": "stdout",
     "output_type": "stream",
     "text": [
      "4\n"
     ]
    }
   ],
   "source": [
    "def how_many_different_numbers(numbers):\n",
    "    unique_numbers = set(numbers)\n",
    "    return len(unique_numbers)\n",
    "print(how_many_different_numbers([1, 2, 3, 1, 2, 3, 4, 1]))"
   ]
  },
  {
   "cell_type": "code",
   "execution_count": null,
   "metadata": {},
   "outputs": [],
   "source": []
  }
 ],
 "metadata": {
  "kernelspec": {
   "display_name": "base",
   "language": "python",
   "name": "python3"
  },
  "language_info": {
   "codemirror_mode": {
    "name": "ipython",
    "version": 3
   },
   "file_extension": ".py",
   "mimetype": "text/x-python",
   "name": "python",
   "nbconvert_exporter": "python",
   "pygments_lexer": "ipython3",
   "version": "3.10.9"
  }
 },
 "nbformat": 4,
 "nbformat_minor": 2
}
