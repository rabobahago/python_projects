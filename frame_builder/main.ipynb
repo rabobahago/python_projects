{
 "cells": [
  {
   "cell_type": "markdown",
   "metadata": {},
   "source": [
    "### Frame Builder"
   ]
  },
  {
   "cell_type": "code",
   "execution_count": 1,
   "metadata": {},
   "outputs": [
    {
     "name": "stdout",
     "output_type": "stream",
     "text": [
      "******************************\n",
      "*            wtyyy            *\n",
      "******************************\n"
     ]
    }
   ],
   "source": [
    "word = input('Word: ')\n",
    "width = 30\n",
    "word_len = len(word)\n",
    "\n",
    "if word_len > width - 2:\n",
    "    print(\"Word is too long to fit in the box.\")\n",
    "else:\n",
    "    without_char = width - 2\n",
    "    word_center = ' ' * without_char\n",
    "    exact_center = len(word_center) // 2\n",
    "    first_word = word[:word_len // 2]\n",
    "    second_word = word[word_len // 2:]\n",
    "    first_word_center = word_center[:exact_center]\n",
    "    second_word_center = word_center[exact_center:]\n",
    "    left_side = first_word_center[:exact_center - word_len // 2] + word[:word_len // 2]\n",
    "    right_side = word[word_len // 2:]+second_word_center[word_len //2:]\n",
    "    word_pattern = left_side + right_side\n",
    "    print('*' * width)\n",
    "    print('*' + word_pattern + '*')\n",
    "    print('*' * width)\n"
   ]
  },
  {
   "cell_type": "code",
   "execution_count": 1,
   "metadata": {},
   "outputs": [
    {
     "name": "stdout",
     "output_type": "stream",
     "text": [
      "******************************\n",
      "*            weee            *\n",
      "******************************\n"
     ]
    }
   ],
   "source": [
    "word = input('Word: ')\n",
    "width = 30\n",
    "spaces = (width - 2 - len(word)) // 2\n",
    "middle = '*' + ' ' * spaces + word + ' ' * spaces + '*'\n",
    "print('*' * width)\n",
    "print(middle)\n",
    "print('*' * width)"
   ]
  },
  {
   "cell_type": "code",
   "execution_count": null,
   "metadata": {},
   "outputs": [],
   "source": []
  }
 ],
 "metadata": {
  "kernelspec": {
   "display_name": "Python 3",
   "language": "python",
   "name": "python3"
  },
  "language_info": {
   "codemirror_mode": {
    "name": "ipython",
    "version": 3
   },
   "file_extension": ".py",
   "mimetype": "text/x-python",
   "name": "python",
   "nbconvert_exporter": "python",
   "pygments_lexer": "ipython3",
   "version": "3.10.9"
  }
 },
 "nbformat": 4,
 "nbformat_minor": 2
}
