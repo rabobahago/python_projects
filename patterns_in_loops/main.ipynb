{
 "cells": [
  {
   "cell_type": "markdown",
   "metadata": {},
   "source": [
    "#### Loop"
   ]
  },
  {
   "cell_type": "code",
   "execution_count": 11,
   "metadata": {},
   "outputs": [
    {
     "name": "stdout",
     "output_type": "stream",
     "text": [
      "* \n",
      "* * \n",
      "* * * \n",
      "* * * * \n"
     ]
    }
   ],
   "source": [
    "def main():\n",
    "    for row in range(1, 5):\n",
    "        for _ in range(1, row + 1):\n",
    "            print(\"* \", end=\"\")\n",
    "        print()\n",
    "\n",
    "if __name__ == \"__main__\":\n",
    "    main()"
   ]
  },
  {
   "cell_type": "code",
   "execution_count": 1,
   "metadata": {},
   "outputs": [
    {
     "name": "stdout",
     "output_type": "stream",
     "text": [
      "1\n",
      "22\n",
      "333\n",
      "4444\n"
     ]
    }
   ],
   "source": [
    "def main():\n",
    "    for row in range(1, 5):\n",
    "        for _ in range(1, row + 1):\n",
    "            print(row, end ='')\n",
    "        print()\n",
    "if __name__ == \"__main__\":\n",
    "    main()"
   ]
  },
  {
   "cell_type": "code",
   "execution_count": 13,
   "metadata": {},
   "outputs": [
    {
     "name": "stdout",
     "output_type": "stream",
     "text": [
      "1\n",
      "23\n",
      "456\n",
      "78910\n"
     ]
    }
   ],
   "source": [
    "def main():\n",
    "    k = 1\n",
    "    for row in range(1, 5):\n",
    "        for _ in range(1,  row + 1):\n",
    "            print(k, end='')\n",
    "            k += 1\n",
    "        print()\n",
    "if __name__ == '__main__':\n",
    "    main()"
   ]
  },
  {
   "cell_type": "code",
   "execution_count": 15,
   "metadata": {},
   "outputs": [
    {
     "name": "stdout",
     "output_type": "stream",
     "text": [
      "0 00 10 2\n",
      "1 01 11 2\n",
      "2 02 12 2\n",
      "3 03 13 2\n"
     ]
    }
   ],
   "source": [
    "for row in range(0, 4):\n",
    "    for col in range(0, 3):\n",
    "        print(row, col, end='')\n",
    "    print()"
   ]
  },
  {
   "cell_type": "code",
   "execution_count": 18,
   "metadata": {},
   "outputs": [
    {
     "name": "stdout",
     "output_type": "stream",
     "text": [
      "6.0\n"
     ]
    }
   ],
   "source": [
    "nums = [3, 4, 7, 5, 8, 1]\n",
    "len_nums = len(nums) // 2\n",
    "result = 0\n",
    "if len(nums) % 2 == 0:\n",
    "    result = (nums[len_nums] + nums[len_nums - 1]) / 2\n",
    "else:\n",
    "    result = nums[len_nums]\n",
    "print(result)\n"
   ]
  },
  {
   "cell_type": "markdown",
   "metadata": {},
   "source": [
    "#### Binary Search"
   ]
  },
  {
   "cell_type": "code",
   "execution_count": 4,
   "metadata": {},
   "outputs": [
    {
     "data": {
      "text/plain": [
       "-1"
      ]
     },
     "execution_count": 4,
     "metadata": {},
     "output_type": "execute_result"
    }
   ],
   "source": [
    "nums = [2, 5, 7, 8, 9, 10]\n",
    "def binary_search(nums, target):\n",
    "    low = 0\n",
    "    high = len(nums)-1\n",
    "    while low <= high:\n",
    "\n",
    "        mid = (low + high) // 2\n",
    "        if nums[mid] > target:\n",
    "            high = mid - 1\n",
    "        elif nums[mid] < target:\n",
    "            low = mid + 1\n",
    "        else:\n",
    "            return mid\n",
    "    return -1\n",
    "binary_search(nums, 5)\n",
    "binary_search(nums, 4)"
   ]
  },
  {
   "cell_type": "markdown",
   "metadata": {},
   "source": [
    "#### Square Dimensional Matrix"
   ]
  },
  {
   "cell_type": "code",
   "execution_count": 11,
   "metadata": {},
   "outputs": [
    {
     "data": {
      "text/plain": [
       "[[0, 0, 0], [0, 1, 2], [0, 2, 4]]"
      ]
     },
     "execution_count": 11,
     "metadata": {},
     "output_type": "execute_result"
    }
   ],
   "source": [
    "dim = []\n",
    "for i in range(3):\n",
    "    dim.append([])\n",
    "    for j in range(3):\n",
    "        dim[i].append(1 * i * j)\n",
    "dim"
   ]
  },
  {
   "cell_type": "markdown",
   "metadata": {},
   "source": [
    "#### Square Dimensional Matrix"
   ]
  },
  {
   "cell_type": "code",
   "execution_count": 10,
   "metadata": {},
   "outputs": [
    {
     "name": "stdout",
     "output_type": "stream",
     "text": [
      "[[0, 0, 0], [0, 1, 2], [0, 2, 4]]\n"
     ]
    }
   ],
   "source": [
    "dim = []\n",
    "size = 3  # Square dimension size\n",
    "\n",
    "for i in range(size):\n",
    "    dim.append([])\n",
    "    for j in range(size):\n",
    "        dim[i].append(1 * i * j)\n",
    "\n",
    "print(dim)"
   ]
  },
  {
   "cell_type": "markdown",
   "metadata": {},
   "source": [
    "#### Transpose of a matrix"
   ]
  },
  {
   "cell_type": "code",
   "execution_count": 22,
   "metadata": {},
   "outputs": [
    {
     "data": {
      "text/plain": [
       "[[1, 5, 8], [3, 6, 9], [4, 7, 12]]"
      ]
     },
     "execution_count": 22,
     "metadata": {},
     "output_type": "execute_result"
    }
   ],
   "source": [
    "matrix = [[1, 3, 4], [5, 6, 7], [8, 9, 12]]\n",
    "rows = len(matrix)\n",
    "cols = len(matrix[0])\n",
    "transponse = []\n",
    "for i in range(rows):\n",
    "    inner = []\n",
    "    for j in range(cols):\n",
    "        inner.append(matrix[j][i])\n",
    "    transponse.append(inner)\n",
    "transponse"
   ]
  },
  {
   "cell_type": "markdown",
   "metadata": {},
   "source": [
    "### Matrice Addition"
   ]
  },
  {
   "cell_type": "code",
   "execution_count": 33,
   "metadata": {},
   "outputs": [
    {
     "name": "stdout",
     "output_type": "stream",
     "text": [
      "[[4, 7], [9, 12]]\n"
     ]
    }
   ],
   "source": [
    "matrix1 = [[1, 2], [3, 4]]\n",
    "matrix2 = [[3, 5], [6, 8]]\n",
    "def addition(matrix1, matrix2):\n",
    "    result = []\n",
    "    rows = len(matrix1)\n",
    "    cols = len(matrix2)\n",
    "    if len(matrix1) != len(matrix2) or len(matrix1[0])!=len(matrix2[0]):\n",
    "        return \"Matrices must have the same dimensions for subtraction.\"\n",
    "    for i in range(rows):\n",
    "        inner = []\n",
    "        for j in range(cols):\n",
    "\n",
    "            inner.append(matrix1[i][j] + matrix2[i][j])\n",
    "        result.append(inner)\n",
    "    return result\n",
    "print(addition(matrix1, matrix2))"
   ]
  },
  {
   "cell_type": "markdown",
   "metadata": {},
   "source": [
    "#### matrice substraction"
   ]
  },
  {
   "cell_type": "code",
   "execution_count": 35,
   "metadata": {},
   "outputs": [
    {
     "name": "stdout",
     "output_type": "stream",
     "text": [
      "[[-2, -3], [-3, -4]]\n"
     ]
    }
   ],
   "source": [
    "matrix1 = [[1, 2], [3, 4]]\n",
    "matrix2 = [[3, 5], [6, 8]]\n",
    "def substration(matrix1, matrix2):\n",
    "    result = []\n",
    "    rows = len(matrix1)\n",
    "    cols = len(matrix2)\n",
    "    if len(matrix1) != len(matrix2) or len(matrix1[0])!=len(matrix2[0]):\n",
    "        return \"Matrices must have the same dimensions for subtraction.\"\n",
    "    for i in range(rows):\n",
    "        inner = []\n",
    "        for j in range(cols):\n",
    "\n",
    "            inner.append(matrix1[i][j] - matrix2[i][j])\n",
    "        result.append(inner)\n",
    "    return result\n",
    "print(substration(matrix1, matrix2))"
   ]
  },
  {
   "cell_type": "markdown",
   "metadata": {},
   "source": [
    "#### unpacking"
   ]
  },
  {
   "cell_type": "code",
   "execution_count": 13,
   "metadata": {},
   "outputs": [
    {
     "name": "stdout",
     "output_type": "stream",
     "text": [
      "['Rabo', 'Yusuf']\n"
     ]
    },
    {
     "data": {
      "text/plain": [
       "10.75"
      ]
     },
     "execution_count": 13,
     "metadata": {},
     "output_type": "execute_result"
    }
   ],
   "source": [
    "from collections import  OrderedDict, defaultdict\n",
    "def sum(items):\n",
    "    head,*tail = items\n",
    "    return head + sum(tail) if tail else head\n",
    "names = defaultdict(list)\n",
    "names[\"a\"].append('Rabo')\n",
    "names['a'].append('Yusuf')\n",
    "print(names['a'])\n",
    "sum([3, 5, 67])\n",
    "prices = {\n",
    "'ACME': 45.23,\n",
    "'AAPL': 612.78,\n",
    "'IBM': 205.55,\n",
    "'HPQ': 37.20,\n",
    "'FB': 10.75\n",
    "}\n",
    "min_prices = prices[min(prices, key=lambda x: prices[x])]\n",
    "min_prices"
   ]
  },
  {
   "cell_type": "code",
   "execution_count": 26,
   "metadata": {},
   "outputs": [
    {
     "data": {
      "text/plain": [
       "'eyes'"
      ]
     },
     "execution_count": 26,
     "metadata": {},
     "output_type": "execute_result"
    }
   ],
   "source": [
    "from collections import Counter\n",
    "words = [\n",
    "'look', 'into', 'my', 'eyes', 'look', 'into', 'my', 'eyes',\n",
    "'the', 'eyes', 'the', 'eyes', 'the', 'eyes', 'not', 'around', 'the',\n",
    "'eyes', \"don't\", 'look', 'around', 'the', 'eyes', 'look', 'into',\n",
    "'my', 'eyes', \"you're\", 'under'\n",
    "]\n",
    "most_com =Counter(words).most_common(1)[0][0]\n",
    "most_com\n"
   ]
  },
  {
   "cell_type": "markdown",
   "metadata": {},
   "source": [
    "#### Fibonacci"
   ]
  },
  {
   "cell_type": "code",
   "execution_count": 36,
   "metadata": {},
   "outputs": [
    {
     "data": {
      "text/plain": [
       "377"
      ]
     },
     "execution_count": 36,
     "metadata": {},
     "output_type": "execute_result"
    }
   ],
   "source": [
    "def fibonacci(n):\n",
    "    result = [0, 1]\n",
    "    for i in range(2, n):\n",
    "        result.append(result[i - 1] + result[i - 2])\n",
    "    return result[-1]\n",
    "fibonacci(15)\n"
   ]
  },
  {
   "cell_type": "markdown",
   "metadata": {},
   "source": [
    "#### Bubble Sort"
   ]
  },
  {
   "cell_type": "code",
   "execution_count": 46,
   "metadata": {},
   "outputs": [
    {
     "data": {
      "text/plain": [
       "(True, [2, 3, 6, 12, 34, 78, 122])"
      ]
     },
     "execution_count": 46,
     "metadata": {},
     "output_type": "execute_result"
    }
   ],
   "source": [
    "def bubble(arr):\n",
    "    sorted = False\n",
    "    n = len(arr)\n",
    "    for i in range(n - 1):\n",
    "        if sorted:\n",
    "            break\n",
    "        sorted = True\n",
    "        for j in range(n - i - 1):\n",
    "            if arr[j] > arr[j + 1]:\n",
    "                temp = arr[j]\n",
    "                arr[j] = arr[j + 1]\n",
    "                arr[j + 1] = temp\n",
    "                sorted = False\n",
    "    return (sorted, arr)\n",
    "bubble([2, 12, 3, 6,34, 78, 122])\n"
   ]
  },
  {
   "cell_type": "code",
   "execution_count": null,
   "metadata": {},
   "outputs": [],
   "source": []
  }
 ],
 "metadata": {
  "kernelspec": {
   "display_name": "Python 3",
   "language": "python",
   "name": "python3"
  },
  "language_info": {
   "codemirror_mode": {
    "name": "ipython",
    "version": 3
   },
   "file_extension": ".py",
   "mimetype": "text/x-python",
   "name": "python",
   "nbconvert_exporter": "python",
   "pygments_lexer": "ipython3",
   "version": "3.10.9"
  }
 },
 "nbformat": 4,
 "nbformat_minor": 2
}
