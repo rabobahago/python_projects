{
 "cells": [
  {
   "cell_type": "code",
   "execution_count": 2,
   "metadata": {},
   "outputs": [],
   "source": [
    "import numpy as np\n",
    "a = np.array([6, 8, 9])\n",
    "np.save('my_file.npy', a)"
   ]
  },
  {
   "cell_type": "code",
   "execution_count": 3,
   "metadata": {},
   "outputs": [
    {
     "data": {
      "text/plain": [
       "array([6, 8, 9])"
      ]
     },
     "execution_count": 3,
     "metadata": {},
     "output_type": "execute_result"
    }
   ],
   "source": [
    "a = np.load('my_file.npy')\n",
    "a"
   ]
  },
  {
   "cell_type": "code",
   "execution_count": 3,
   "metadata": {},
   "outputs": [
    {
     "data": {
      "text/plain": [
       "array([(b'M', 1.82), (b'M', 1.77), (b'F', 1.68), (b'M', 1.72),\n",
       "       (b'F', 1.78), (b'F', 1.6 ), (b'M', 1.72), (b'M', 1.83),\n",
       "       (b'F', 1.56), (b'F', 1.64), (b'M', 1.63), (b'M', 1.67),\n",
       "       (b'M', 1.66), (b'F', 1.59), (b'F', 1.7 ), (b'M', 1.97),\n",
       "       (b'F', 1.66), (b'F', 1.63), (b'M', 1.69)],\n",
       "      dtype=[('gender', 'S1'), ('height', '<f8')])"
      ]
     },
     "execution_count": 3,
     "metadata": {},
     "output_type": "execute_result"
    }
   ],
   "source": [
    "fname = 'https://scipython.com/static/media/2/examples/E6/eg6-a-student-data.txt'\n",
    "dtype1 = np.dtype([('gender', '|S1'), ('height', 'f8')])\n",
    "a = np.loadtxt(fname , dtype=dtype1 , skiprows=9, usecols=(1,3))\n",
    "a"
   ]
  },
  {
   "cell_type": "code",
   "execution_count": 5,
   "metadata": {},
   "outputs": [
    {
     "data": {
      "text/plain": [
       "array([ True,  True, False,  True, False, False,  True,  True, False,\n",
       "       False,  True,  True,  True, False, False,  True, False, False,\n",
       "        True])"
      ]
     },
     "execution_count": 5,
     "metadata": {},
     "output_type": "execute_result"
    }
   ],
   "source": [
    "m = a['gender'] == b'M'\n",
    "m"
   ]
  },
  {
   "cell_type": "code",
   "execution_count": 11,
   "metadata": {},
   "outputs": [
    {
     "name": "stdout",
     "output_type": "stream",
     "text": [
      "1.748\n",
      "1.6488888888888888\n"
     ]
    }
   ],
   "source": [
    "m_av = a['height'][m].mean()\n",
    "print(m_av)\n",
    "f_av = a['height'][~m].mean()\n",
    "print(f_av)"
   ]
  },
  {
   "cell_type": "code",
   "execution_count": null,
   "metadata": {},
   "outputs": [],
   "source": []
  }
 ],
 "metadata": {
  "kernelspec": {
   "display_name": "Python 3",
   "language": "python",
   "name": "python3"
  },
  "language_info": {
   "codemirror_mode": {
    "name": "ipython",
    "version": 3
   },
   "file_extension": ".py",
   "mimetype": "text/x-python",
   "name": "python",
   "nbconvert_exporter": "python",
   "pygments_lexer": "ipython3",
   "version": "3.10.9"
  }
 },
 "nbformat": 4,
 "nbformat_minor": 2
}
