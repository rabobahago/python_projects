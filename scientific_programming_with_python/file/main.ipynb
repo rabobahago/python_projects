{
 "cells": [
  {
   "cell_type": "code",
   "execution_count": 2,
   "metadata": {},
   "outputs": [],
   "source": [
    "f = open('my_file.txt', 'w')\n",
    "f.write('Hello World')\n",
    "f.close()"
   ]
  },
  {
   "cell_type": "code",
   "execution_count": 15,
   "metadata": {},
   "outputs": [
    {
     "data": {
      "text/plain": [
       "'I love the number: 5 and but the most exciting number is 7. and my name is Rabo Yusuf I live in Bhaha'"
      ]
     },
     "execution_count": 15,
     "metadata": {},
     "output_type": "execute_result"
    }
   ],
   "source": [
    "def my_func(num, *args, **kwgs):\n",
    "    common = f'I love the number: {num} and but the most exciting number is {args[0]}. and my name is {args[1]}' \\\n",
    "        f' I live in {kwgs[\"name\"]}'\n",
    "    return common\n",
    "my_func(5, 7, 'Rabo Yusuf', name = 'Bhaha')"
   ]
  },
  {
   "cell_type": "code",
   "execution_count": 10,
   "metadata": {},
   "outputs": [
    {
     "name": "stdout",
     "output_type": "stream",
     "text": [
      "90 89\n"
     ]
    }
   ],
   "source": [
    "def local_func():\n",
    "    a = 90\n",
    "    print(a, b)\n",
    "local_func()\n",
    "b = 89\n"
   ]
  },
  {
   "cell_type": "code",
   "execution_count": 14,
   "metadata": {},
   "outputs": [
    {
     "data": {
      "text/plain": [
       "89"
      ]
     },
     "execution_count": 14,
     "metadata": {},
     "output_type": "execute_result"
    }
   ],
   "source": [
    "from math import *\n",
    "pi = 89\n",
    "def my_map():\n",
    "    return pi\n",
    "my_map()"
   ]
  },
  {
   "cell_type": "code",
   "execution_count": 27,
   "metadata": {},
   "outputs": [
    {
     "data": {
      "text/plain": [
       "'hellle'"
      ]
     },
     "execution_count": 27,
     "metadata": {},
     "output_type": "execute_result"
    }
   ],
   "source": [
    "x = 'helll'\n",
    "def my_var(word):\n",
    "    word += 'e'\n",
    "    return word\n",
    "my_var(x)"
   ]
  },
  {
   "cell_type": "code",
   "execution_count": 31,
   "metadata": {},
   "outputs": [
    {
     "name": "stdout",
     "output_type": "stream",
     "text": [
      "[3, 2, 1] [] []\n",
      "[3, 2] [] [1]\n",
      "[3] [2] [1]\n",
      "[3] [2, 1] []\n",
      "[] [2, 1] [3]\n",
      "[1] [2] [3]\n",
      "[1] [] [3, 2]\n",
      "[] [] [3, 2, 1]\n",
      "7\n"
     ]
    }
   ],
   "source": [
    "def hanoi(n, p1, p2, p3):\n",
    "    if n == 0:\n",
    "        return\n",
    "    global count\n",
    "    count += 1\n",
    "    hanoi(n-1, p1, p3, p2)\n",
    "    if p1:\n",
    "        p3.append(p1.pop())\n",
    "        print(A, B, C)\n",
    "    hanoi(n-1, p2, p1, p3)\n",
    "n = 3\n",
    "A = list(range(n, 0, -1))\n",
    "B, C = [], []\n",
    "print(A, B, C)\n",
    "count = 0\n",
    "hanoi(n, A, B, C)\n",
    "print(count)\n"
   ]
  },
  {
   "cell_type": "code",
   "execution_count": null,
   "metadata": {},
   "outputs": [],
   "source": []
  }
 ],
 "metadata": {
  "kernelspec": {
   "display_name": "Python 3",
   "language": "python",
   "name": "python3"
  },
  "language_info": {
   "codemirror_mode": {
    "name": "ipython",
    "version": 3
   },
   "file_extension": ".py",
   "mimetype": "text/x-python",
   "name": "python",
   "nbconvert_exporter": "python",
   "pygments_lexer": "ipython3",
   "version": "3.10.9"
  }
 },
 "nbformat": 4,
 "nbformat_minor": 2
}
