{
 "cells": [
  {
   "cell_type": "code",
   "execution_count": 2,
   "metadata": {},
   "outputs": [
    {
     "data": {
      "text/plain": [
       "0    400\n",
       "1     67\n",
       "2     90\n",
       "3     98\n",
       "Name: geolocation, dtype: int32"
      ]
     },
     "execution_count": 2,
     "metadata": {},
     "output_type": "execute_result"
    }
   ],
   "source": [
    "import pandas as pd\n",
    "location = pd.Series(data = [400, 67, 90, 98], name='geolocation', dtype=int)\n",
    "location"
   ]
  },
  {
   "cell_type": "code",
   "execution_count": 7,
   "metadata": {},
   "outputs": [
    {
     "data": {
      "text/plain": [
       "400"
      ]
     },
     "execution_count": 7,
     "metadata": {},
     "output_type": "execute_result"
    }
   ],
   "source": [
    "location[0]"
   ]
  },
  {
   "cell_type": "code",
   "execution_count": 10,
   "metadata": {},
   "outputs": [
    {
     "data": {
      "text/plain": [
       "90"
      ]
     },
     "execution_count": 10,
     "metadata": {},
     "output_type": "execute_result"
    }
   ],
   "source": [
    "location[2]"
   ]
  },
  {
   "cell_type": "code",
   "execution_count": 17,
   "metadata": {},
   "outputs": [
    {
     "data": {
      "text/plain": [
       "rain      50\n",
       "dry       67\n",
       "summer     8\n",
       "winter    12\n",
       "dtype: int64"
      ]
     },
     "execution_count": 17,
     "metadata": {},
     "output_type": "execute_result"
    }
   ],
   "source": [
    "area = pd.Series(data=[50, 67, 8,12], index=['rain', 'dry', 'summer','winter',])\n",
    "area"
   ]
  },
  {
   "cell_type": "code",
   "execution_count": 18,
   "metadata": {},
   "outputs": [
    {
     "data": {
      "text/plain": [
       "Yangtze        6300\n",
       "Nile           6650\n",
       "Mississippi    6275\n",
       "Amazon         6400\n",
       "Name: copy=Length /km, dtype: int64"
      ]
     },
     "execution_count": 18,
     "metadata": {},
     "output_type": "execute_result"
    }
   ],
   "source": [
    "river_lengths = pd.Series(data={'Yangtze': 6300, 'Nile': 6650,'Mississippi': 6275, 'Amazon': 6400}, name='copy=Length /km')\n",
    "river_lengths"
   ]
  },
  {
   "cell_type": "code",
   "execution_count": 19,
   "metadata": {},
   "outputs": [
    {
     "name": "stdout",
     "output_type": "stream",
     "text": [
      "Nile      6650\n",
      "Amazon    6400\n",
      "Name: copy=Length /km, dtype: int64\n"
     ]
    }
   ],
   "source": [
    "print(river_lengths[['Nile', 'Amazon']])"
   ]
  },
  {
   "cell_type": "code",
   "execution_count": 20,
   "metadata": {},
   "outputs": [
    {
     "data": {
      "text/plain": [
       "Mississippi    6275\n",
       "Nile           6650\n",
       "Yangtze        6300\n",
       "Name: copy=Length /km, dtype: int64"
      ]
     },
     "execution_count": 20,
     "metadata": {},
     "output_type": "execute_result"
    }
   ],
   "source": [
    "river_lengths[2::-1]"
   ]
  },
  {
   "cell_type": "code",
   "execution_count": 21,
   "metadata": {},
   "outputs": [
    {
     "data": {
      "text/plain": [
       "Yangtze        6237.00\n",
       "Nile           6583.50\n",
       "Mississippi    6212.25\n",
       "Amazon         6336.00\n",
       "Name: copy=Length /km, dtype: float64"
      ]
     },
     "execution_count": 21,
     "metadata": {},
     "output_type": "execute_result"
    }
   ],
   "source": [
    "river_lengths *= 0.99\n",
    "river_lengths"
   ]
  },
  {
   "cell_type": "code",
   "execution_count": 24,
   "metadata": {},
   "outputs": [
    {
     "data": {
      "text/plain": [
       "Nile    6583.5\n",
       "Name: copy=Length /km, dtype: float64"
      ]
     },
     "execution_count": 24,
     "metadata": {},
     "output_type": "execute_result"
    }
   ],
   "source": [
    "river_lengths[river_lengths > 6500]"
   ]
  },
  {
   "cell_type": "code",
   "execution_count": 26,
   "metadata": {},
   "outputs": [
    {
     "name": "stdout",
     "output_type": "stream",
     "text": [
      "6583.5\n"
     ]
    }
   ],
   "source": [
    "if 'Nile' in river_lengths:\n",
    "    print(river_lengths['Nile'])\n",
    "else:\n",
    "    print(\"Can\\'t be found\")"
   ]
  },
  {
   "cell_type": "code",
   "execution_count": 27,
   "metadata": {},
   "outputs": [
    {
     "data": {
      "text/plain": [
       "Amazon         6336.00\n",
       "Mississippi    6212.25\n",
       "Nile           6583.50\n",
       "Yangtze        6237.00\n",
       "Name: copy=Length /km, dtype: float64"
      ]
     },
     "execution_count": 27,
     "metadata": {},
     "output_type": "execute_result"
    }
   ],
   "source": [
    "river_lengths.sort_index()"
   ]
  },
  {
   "cell_type": "code",
   "execution_count": 31,
   "metadata": {},
   "outputs": [
    {
     "data": {
      "text/plain": [
       "Mississippi    6212.25\n",
       "Yangtze        6237.00\n",
       "Amazon         6336.00\n",
       "Nile           6583.50\n",
       "Name: copy=Length /km, dtype: float64"
      ]
     },
     "execution_count": 31,
     "metadata": {},
     "output_type": "execute_result"
    }
   ],
   "source": [
    "r = river_lengths.sort_values(ascending=True, inplace=False)\n",
    "r"
   ]
  },
  {
   "cell_type": "code",
   "execution_count": 2,
   "metadata": {},
   "outputs": [],
   "source": [
    "import pandas as pd\n",
    "masses = pd.Series({'Ganymede': 1.482e23, 'Callisto': 1.076e23, 'Io': 8.932e22, 'Europa': 4.800e22, 'Moon': 7.342e22, 'Earth': 5.972e24}, name='mass /kg')\n",
    "radii = pd.Series({'Ganymede': 2.634e6, 'Io': 1.822e6, 'Moon': 1.737e6,'Earth': 6.371e6}, name='radius /m')"
   ]
  },
  {
   "cell_type": "code",
   "execution_count": 3,
   "metadata": {},
   "outputs": [
    {
     "name": "stdout",
     "output_type": "stream",
     "text": [
      "Earth       9.819973\n",
      "Ganymede    1.425681\n",
      "Io          1.795799\n",
      "Moon        1.624129\n",
      "dtype: float64\n"
     ]
    }
   ],
   "source": [
    "from scipy.constants import G\n",
    "surface_g = G * (masses / radii ** 2)\n",
    "print(surface_g.dropna()) # both dropna and surface_g[surface_g.notnull()] perform the same\n",
    "surface_g = surface_g[surface_g.notnull()]"
   ]
  },
  {
   "cell_type": "code",
   "execution_count": 11,
   "metadata": {},
   "outputs": [
    {
     "data": {
      "text/plain": [
       "array([9.81997343, 1.42568108, 1.79579887, 1.6241288 ])"
      ]
     },
     "execution_count": 11,
     "metadata": {},
     "output_type": "execute_result"
    }
   ],
   "source": [
    "surface_g.values"
   ]
  },
  {
   "cell_type": "code",
   "execution_count": 3,
   "metadata": {},
   "outputs": [
    {
     "data": {
      "text/plain": [
       "a    30.0\n",
       "b    56.0\n",
       "s     NaN\n",
       "c    58.0\n",
       "dtype: float64"
      ]
     },
     "execution_count": 3,
     "metadata": {},
     "output_type": "execute_result"
    }
   ],
   "source": [
    "data_str = pd.Series(data= {'a': 30, 'b': 56, 'c':58}, index=list('absc'))\n",
    "data_str"
   ]
  },
  {
   "cell_type": "code",
   "execution_count": 4,
   "metadata": {},
   "outputs": [],
   "source": [
    "data_str = data_str.fillna(90)"
   ]
  },
  {
   "cell_type": "code",
   "execution_count": 15,
   "metadata": {},
   "outputs": [
    {
     "data": {
      "text/plain": [
       "a    30.0\n",
       "b    56.0\n",
       "s    90.0\n",
       "c    58.0\n",
       "dtype: float64"
      ]
     },
     "execution_count": 15,
     "metadata": {},
     "output_type": "execute_result"
    }
   ],
   "source": [
    "data_str"
   ]
  },
  {
   "cell_type": "code",
   "execution_count": 5,
   "metadata": {},
   "outputs": [
    {
     "name": "stdout",
     "output_type": "stream",
     "text": [
      "a    inf\n",
      "b    inf\n",
      "s    inf\n",
      "c    inf\n",
      "dtype: float64\n"
     ]
    },
    {
     "data": {
      "text/plain": [
       "a    90.0\n",
       "b    90.0\n",
       "s    90.0\n",
       "c    90.0\n",
       "dtype: float64"
      ]
     },
     "execution_count": 5,
     "metadata": {},
     "output_type": "execute_result"
    }
   ],
   "source": [
    "\n",
    "import numpy as np\n",
    "ser3 = data_str/0\n",
    "print(ser3)\n",
    "ser3.replace([np.inf, -np.inf], 90)\n"
   ]
  },
  {
   "cell_type": "code",
   "execution_count": 10,
   "metadata": {},
   "outputs": [
    {
     "data": {
      "text/plain": [
       "rabo      23\n",
       "john      56\n",
       "lawal     78\n",
       "lois      12\n",
       "reggie    56\n",
       "Name: human_data, dtype: int64"
      ]
     },
     "execution_count": 10,
     "metadata": {},
     "output_type": "execute_result"
    }
   ],
   "source": [
    "human_being = pd.Series(data = [23, 56, 78, 12, 56], index = ['rabo', 'john', 'lawal', 'lois', 'reggie'], name= 'human_data')\n",
    "human_being"
   ]
  },
  {
   "cell_type": "code",
   "execution_count": 11,
   "metadata": {},
   "outputs": [
    {
     "data": {
      "text/plain": [
       "john      45\n",
       "lois      56\n",
       "reggie    12\n",
       "rabo      89\n",
       "dtype: int64"
      ]
     },
     "execution_count": 11,
     "metadata": {},
     "output_type": "execute_result"
    }
   ],
   "source": [
    "ages = pd.Series({'john': 45, 'lois': 56, 'reggie':12, 'rabo': 89})\n",
    "ages"
   ]
  },
  {
   "cell_type": "code",
   "execution_count": 13,
   "metadata": {},
   "outputs": [
    {
     "data": {
      "text/plain": [
       "john      1.244444\n",
       "lawal          NaN\n",
       "lois      0.214286\n",
       "rabo      0.258427\n",
       "reggie    4.666667\n",
       "dtype: float64"
      ]
     },
     "execution_count": 13,
     "metadata": {},
     "output_type": "execute_result"
    }
   ],
   "source": [
    "average = human_being / ages\n",
    "average"
   ]
  },
  {
   "cell_type": "code",
   "execution_count": 19,
   "metadata": {},
   "outputs": [
    {
     "data": {
      "text/plain": [
       "lawal   NaN\n",
       "dtype: float64"
      ]
     },
     "execution_count": 19,
     "metadata": {},
     "output_type": "execute_result"
    }
   ],
   "source": [
    "average[average.isnull()]"
   ]
  },
  {
   "cell_type": "code",
   "execution_count": 20,
   "metadata": {},
   "outputs": [
    {
     "data": {
      "text/plain": [
       "john       1.244444\n",
       "lawal     90.000000\n",
       "lois       0.214286\n",
       "rabo       0.258427\n",
       "reggie     4.666667\n",
       "dtype: float64"
      ]
     },
     "execution_count": 20,
     "metadata": {},
     "output_type": "execute_result"
    }
   ],
   "source": [
    "average.fillna(90)"
   ]
  },
  {
   "cell_type": "code",
   "execution_count": 21,
   "metadata": {},
   "outputs": [
    {
     "data": {
      "text/plain": [
       "john      1.244444\n",
       "lawal          NaN\n",
       "lois      0.214286\n",
       "rabo      0.258427\n",
       "reggie    4.666667\n",
       "dtype: float64"
      ]
     },
     "execution_count": 21,
     "metadata": {},
     "output_type": "execute_result"
    }
   ],
   "source": [
    "average"
   ]
  },
  {
   "cell_type": "code",
   "execution_count": 22,
   "metadata": {},
   "outputs": [
    {
     "data": {
      "text/plain": [
       "john       1.244444\n",
       "lawal     45.000000\n",
       "lois       0.214286\n",
       "rabo       0.258427\n",
       "reggie     4.666667\n",
       "dtype: float64"
      ]
     },
     "execution_count": 22,
     "metadata": {},
     "output_type": "execute_result"
    }
   ],
   "source": [
    "average.replace([np.nan], 45)"
   ]
  },
  {
   "cell_type": "code",
   "execution_count": 24,
   "metadata": {},
   "outputs": [
    {
     "data": {
      "text/plain": [
       "john      1.244444\n",
       "lawal     5.000000\n",
       "lois      0.214286\n",
       "rabo      0.258427\n",
       "reggie    4.666667\n",
       "dtype: float64"
      ]
     },
     "execution_count": 24,
     "metadata": {},
     "output_type": "execute_result"
    }
   ],
   "source": [
    "average.replace([np.nan], len(average))"
   ]
  },
  {
   "cell_type": "code",
   "execution_count": 30,
   "metadata": {},
   "outputs": [
    {
     "data": {
      "text/plain": [
       "john      1.244444\n",
       "lois      0.214286\n",
       "rabo      0.258427\n",
       "reggie    4.666667\n",
       "dtype: float64"
      ]
     },
     "execution_count": 30,
     "metadata": {},
     "output_type": "execute_result"
    }
   ],
   "source": [
    "average.dropna()"
   ]
  },
  {
   "cell_type": "code",
   "execution_count": null,
   "metadata": {},
   "outputs": [],
   "source": []
  }
 ],
 "metadata": {
  "kernelspec": {
   "display_name": "Python 3",
   "language": "python",
   "name": "python3"
  },
  "language_info": {
   "codemirror_mode": {
    "name": "ipython",
    "version": 3
   },
   "file_extension": ".py",
   "mimetype": "text/x-python",
   "name": "python",
   "nbconvert_exporter": "python",
   "pygments_lexer": "ipython3",
   "version": "3.10.9"
  }
 },
 "nbformat": 4,
 "nbformat_minor": 2
}
