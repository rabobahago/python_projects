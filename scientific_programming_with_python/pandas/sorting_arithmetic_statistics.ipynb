{
 "cells": [
  {
   "cell_type": "code",
   "execution_count": 6,
   "metadata": {},
   "outputs": [
    {
     "data": {
      "text/plain": [
       "Index(['Uttar Pradesh', 'Maharashtra', 'Bihar', 'West Bengal',\n",
       "       'Madhya Pradesh', 'Tamil Nadu', 'Rajasthan', 'Karnataka', 'Gujarat',\n",
       "       'Andhra Pradesh', 'Odisha', 'Telangana', 'Kerala', 'Jharkhand', 'Assam',\n",
       "       'Punjab', 'Chhattisgarh', 'Haryana', 'Delhi', 'Jammu and Kashmir',\n",
       "       'Uttarakhand', 'Himachal Pradesh', 'Tripura', 'Meghalaya', 'Manipur',\n",
       "       'Nagaland', 'Goa', 'Arunachal Pradesh', 'Puducherry', 'Mizoram',\n",
       "       'Chandigarh', 'Sikkim', 'Andaman and Nicobar Islands',\n",
       "       'Dadra and Nagar Haveli', 'Daman and Diu', 'Lakshadweep'],\n",
       "      dtype='object', name='State/UT')"
      ]
     },
     "execution_count": 6,
     "metadata": {},
     "output_type": "execute_result"
    }
   ],
   "source": [
    "import pandas as pd\n",
    "df = pd.read_csv('india-data.csv', index_col=0)\n",
    "df.index"
   ]
  },
  {
   "cell_type": "code",
   "execution_count": 7,
   "metadata": {},
   "outputs": [
    {
     "data": {
      "text/plain": [
       "Index(['Male Population', 'Female Population', 'Area (km2)',\n",
       "       'Male Literacy (%)', 'Fertility Rate', 'Female Literacy (%)'],\n",
       "      dtype='object')"
      ]
     },
     "execution_count": 7,
     "metadata": {},
     "output_type": "execute_result"
    }
   ],
   "source": [
    "df.columns"
   ]
  },
  {
   "cell_type": "code",
   "execution_count": 8,
   "metadata": {},
   "outputs": [
    {
     "data": {
      "text/html": [
       "<div>\n",
       "<style scoped>\n",
       "    .dataframe tbody tr th:only-of-type {\n",
       "        vertical-align: middle;\n",
       "    }\n",
       "\n",
       "    .dataframe tbody tr th {\n",
       "        vertical-align: top;\n",
       "    }\n",
       "\n",
       "    .dataframe thead th {\n",
       "        text-align: right;\n",
       "    }\n",
       "</style>\n",
       "<table border=\"1\" class=\"dataframe\">\n",
       "  <thead>\n",
       "    <tr style=\"text-align: right;\">\n",
       "      <th></th>\n",
       "      <th>Male Population</th>\n",
       "      <th>Female Population</th>\n",
       "      <th>Area (km2)</th>\n",
       "      <th>Male Literacy (%)</th>\n",
       "      <th>Fertility Rate</th>\n",
       "      <th>Female Literacy (%)</th>\n",
       "    </tr>\n",
       "    <tr>\n",
       "      <th>State/UT</th>\n",
       "      <th></th>\n",
       "      <th></th>\n",
       "      <th></th>\n",
       "      <th></th>\n",
       "      <th></th>\n",
       "      <th></th>\n",
       "    </tr>\n",
       "  </thead>\n",
       "  <tbody>\n",
       "    <tr>\n",
       "      <th>Uttar Pradesh</th>\n",
       "      <td>104480510</td>\n",
       "      <td>95331831</td>\n",
       "      <td>240928</td>\n",
       "      <td>79.24</td>\n",
       "      <td>3.7</td>\n",
       "      <td>59.26</td>\n",
       "    </tr>\n",
       "    <tr>\n",
       "      <th>Maharashtra</th>\n",
       "      <td>58243056</td>\n",
       "      <td>54131277</td>\n",
       "      <td>307713</td>\n",
       "      <td>89.82</td>\n",
       "      <td>1.9</td>\n",
       "      <td>75.48</td>\n",
       "    </tr>\n",
       "    <tr>\n",
       "      <th>Bihar</th>\n",
       "      <td>54278157</td>\n",
       "      <td>49821295</td>\n",
       "      <td>94163</td>\n",
       "      <td>73.39</td>\n",
       "      <td>3.9</td>\n",
       "      <td>53.33</td>\n",
       "    </tr>\n",
       "  </tbody>\n",
       "</table>\n",
       "</div>"
      ],
      "text/plain": [
       "               Male Population  Female Population  Area (km2)  \\\n",
       "State/UT                                                        \n",
       "Uttar Pradesh        104480510           95331831      240928   \n",
       "Maharashtra           58243056           54131277      307713   \n",
       "Bihar                 54278157           49821295       94163   \n",
       "\n",
       "               Male Literacy (%)  Fertility Rate  Female Literacy (%)  \n",
       "State/UT                                                               \n",
       "Uttar Pradesh              79.24             3.7                59.26  \n",
       "Maharashtra                89.82             1.9                75.48  \n",
       "Bihar                      73.39             3.9                53.33  "
      ]
     },
     "execution_count": 8,
     "metadata": {},
     "output_type": "execute_result"
    }
   ],
   "source": [
    "df.head(3)"
   ]
  },
  {
   "cell_type": "code",
   "execution_count": 9,
   "metadata": {},
   "outputs": [
    {
     "data": {
      "text/html": [
       "<div>\n",
       "<style scoped>\n",
       "    .dataframe tbody tr th:only-of-type {\n",
       "        vertical-align: middle;\n",
       "    }\n",
       "\n",
       "    .dataframe tbody tr th {\n",
       "        vertical-align: top;\n",
       "    }\n",
       "\n",
       "    .dataframe thead th {\n",
       "        text-align: right;\n",
       "    }\n",
       "</style>\n",
       "<table border=\"1\" class=\"dataframe\">\n",
       "  <thead>\n",
       "    <tr style=\"text-align: right;\">\n",
       "      <th></th>\n",
       "      <th>Male Population</th>\n",
       "      <th>Female Population</th>\n",
       "      <th>Area (km2)</th>\n",
       "      <th>Male Literacy (%)</th>\n",
       "      <th>Fertility Rate</th>\n",
       "      <th>Female Literacy (%)</th>\n",
       "    </tr>\n",
       "    <tr>\n",
       "      <th>State/UT</th>\n",
       "      <th></th>\n",
       "      <th></th>\n",
       "      <th></th>\n",
       "      <th></th>\n",
       "      <th></th>\n",
       "      <th></th>\n",
       "    </tr>\n",
       "  </thead>\n",
       "  <tbody>\n",
       "    <tr>\n",
       "      <th>Dadra and Nagar Haveli</th>\n",
       "      <td>193760</td>\n",
       "      <td>149949</td>\n",
       "      <td>491</td>\n",
       "      <td>86.46</td>\n",
       "      <td>3.3</td>\n",
       "      <td>65.93</td>\n",
       "    </tr>\n",
       "    <tr>\n",
       "      <th>Daman and Diu</th>\n",
       "      <td>150301</td>\n",
       "      <td>92946</td>\n",
       "      <td>112</td>\n",
       "      <td>91.48</td>\n",
       "      <td>1.9</td>\n",
       "      <td>79.59</td>\n",
       "    </tr>\n",
       "    <tr>\n",
       "      <th>Lakshadweep</th>\n",
       "      <td>33123</td>\n",
       "      <td>31350</td>\n",
       "      <td>32</td>\n",
       "      <td>96.11</td>\n",
       "      <td>2.1</td>\n",
       "      <td>88.25</td>\n",
       "    </tr>\n",
       "  </tbody>\n",
       "</table>\n",
       "</div>"
      ],
      "text/plain": [
       "                        Male Population  Female Population  Area (km2)  \\\n",
       "State/UT                                                                 \n",
       "Dadra and Nagar Haveli           193760             149949         491   \n",
       "Daman and Diu                    150301              92946         112   \n",
       "Lakshadweep                       33123              31350          32   \n",
       "\n",
       "                        Male Literacy (%)  Fertility Rate  Female Literacy (%)  \n",
       "State/UT                                                                        \n",
       "Dadra and Nagar Haveli              86.46             3.3                65.93  \n",
       "Daman and Diu                       91.48             1.9                79.59  \n",
       "Lakshadweep                         96.11             2.1                88.25  "
      ]
     },
     "execution_count": 9,
     "metadata": {},
     "output_type": "execute_result"
    }
   ],
   "source": [
    "df.tail(3)"
   ]
  },
  {
   "cell_type": "code",
   "execution_count": 16,
   "metadata": {},
   "outputs": [
    {
     "name": "stdout",
     "output_type": "stream",
     "text": [
      "Total population:  1,210,754,977\n"
     ]
    }
   ],
   "source": [
    "df['Population'] = df['Male Population'] + df['Female Population']\n",
    "total_pop = df['Population'].sum()\n",
    "print(f'Total population: {total_pop: ,d}')"
   ]
  },
  {
   "cell_type": "code",
   "execution_count": 24,
   "metadata": {},
   "outputs": [
    {
     "name": "stdout",
     "output_type": "stream",
     "text": [
      "The population Density of Daman and Diu is2171.848214285714\n"
     ]
    }
   ],
   "source": [
    "df['Population Density (km-2)'] = df['Population'] / df['Area (km2)']\n",
    "pop_density = df.loc['Daman and Diu', 'Population Density (km-2)']\n",
    "print(f'The population Density of Daman and Diu is: {pop_density}')"
   ]
  },
  {
   "cell_type": "code",
   "execution_count": 26,
   "metadata": {},
   "outputs": [
    {
     "data": {
      "text/plain": [
       "38503.325515116616"
      ]
     },
     "execution_count": 26,
     "metadata": {},
     "output_type": "execute_result"
    }
   ],
   "source": [
    "total_pop_den = df['Population Density (km-2)'].sum()\n",
    "total_pop_den"
   ]
  },
  {
   "cell_type": "code",
   "execution_count": 27,
   "metadata": {},
   "outputs": [
    {
     "data": {
      "text/plain": [
       "52.66"
      ]
     },
     "execution_count": 27,
     "metadata": {},
     "output_type": "execute_result"
    }
   ],
   "source": [
    "df['Female Literacy (%)'].min()"
   ]
  },
  {
   "cell_type": "code",
   "execution_count": 28,
   "metadata": {},
   "outputs": [
    {
     "data": {
      "text/plain": [
       "'Delhi'"
      ]
     },
     "execution_count": 28,
     "metadata": {},
     "output_type": "execute_result"
    }
   ],
   "source": [
    "df['Population Density (km-2)'].idxmax()"
   ]
  },
  {
   "cell_type": "code",
   "execution_count": 29,
   "metadata": {},
   "outputs": [
    {
     "data": {
      "text/plain": [
       "'Rajasthan'"
      ]
     },
     "execution_count": 29,
     "metadata": {},
     "output_type": "execute_result"
    }
   ],
   "source": [
    "df['Area (km2)'].idxmax()"
   ]
  },
  {
   "cell_type": "code",
   "execution_count": 30,
   "metadata": {},
   "outputs": [
    {
     "data": {
      "text/plain": [
       "Male Population              8.887326e+06\n",
       "Female Population            7.800615e+06\n",
       "Area (km2)                   1.484000e+03\n",
       "Male Literacy (%)            9.103000e+01\n",
       "Fertility Rate               1.900000e+00\n",
       "Female Literacy (%)          8.093000e+01\n",
       "Population                   1.668794e+07\n",
       "Population Density (km-2)    1.124524e+04\n",
       "Name: Delhi, dtype: float64"
      ]
     },
     "execution_count": 30,
     "metadata": {},
     "output_type": "execute_result"
    }
   ],
   "source": [
    "df.loc[df['Population Density (km-2)'].idxmax()]"
   ]
  },
  {
   "cell_type": "code",
   "execution_count": 31,
   "metadata": {},
   "outputs": [
    {
     "data": {
      "text/plain": [
       "Male Population              7.139120e+05\n",
       "Female Population            6.698150e+05\n",
       "Area (km2)                   8.374300e+04\n",
       "Male Literacy (%)            7.369000e+01\n",
       "Fertility Rate               2.700000e+00\n",
       "Female Literacy (%)          5.957000e+01\n",
       "Population                   1.383727e+06\n",
       "Population Density (km-2)    1.652349e+01\n",
       "Name: Arunachal Pradesh, dtype: float64"
      ]
     },
     "execution_count": 31,
     "metadata": {},
     "output_type": "execute_result"
    }
   ],
   "source": [
    "df.loc[df['Population Density (km-2)'].idxmin()]"
   ]
  },
  {
   "cell_type": "code",
   "execution_count": 34,
   "metadata": {},
   "outputs": [
    {
     "data": {
      "text/plain": [
       "-0.7361949271996956"
      ]
     },
     "execution_count": 34,
     "metadata": {},
     "output_type": "execute_result"
    }
   ],
   "source": [
    "df['Female Literacy (%)'].corr(df['Fertility Rate'])"
   ]
  },
  {
   "cell_type": "code",
   "execution_count": 35,
   "metadata": {},
   "outputs": [
    {
     "data": {
      "text/plain": [
       "-0.6380765321097214"
      ]
     },
     "execution_count": 35,
     "metadata": {},
     "output_type": "execute_result"
    }
   ],
   "source": [
    "df['Male Literacy (%)'].corr(df['Fertility Rate'])"
   ]
  },
  {
   "cell_type": "code",
   "execution_count": 40,
   "metadata": {},
   "outputs": [
    {
     "data": {
      "text/html": [
       "<div>\n",
       "<style scoped>\n",
       "    .dataframe tbody tr th:only-of-type {\n",
       "        vertical-align: middle;\n",
       "    }\n",
       "\n",
       "    .dataframe tbody tr th {\n",
       "        vertical-align: top;\n",
       "    }\n",
       "\n",
       "    .dataframe thead th {\n",
       "        text-align: right;\n",
       "    }\n",
       "</style>\n",
       "<table border=\"1\" class=\"dataframe\">\n",
       "  <thead>\n",
       "    <tr style=\"text-align: right;\">\n",
       "      <th></th>\n",
       "      <th>Female Literacy (%)</th>\n",
       "      <th>Fertility Rate</th>\n",
       "    </tr>\n",
       "    <tr>\n",
       "      <th>State/UT</th>\n",
       "      <th></th>\n",
       "      <th></th>\n",
       "    </tr>\n",
       "  </thead>\n",
       "  <tbody>\n",
       "    <tr>\n",
       "      <th>Uttar Pradesh</th>\n",
       "      <td>59.26</td>\n",
       "      <td>3.7</td>\n",
       "    </tr>\n",
       "    <tr>\n",
       "      <th>Maharashtra</th>\n",
       "      <td>75.48</td>\n",
       "      <td>1.9</td>\n",
       "    </tr>\n",
       "    <tr>\n",
       "      <th>Bihar</th>\n",
       "      <td>53.33</td>\n",
       "      <td>3.9</td>\n",
       "    </tr>\n",
       "    <tr>\n",
       "      <th>West Bengal</th>\n",
       "      <td>71.16</td>\n",
       "      <td>1.9</td>\n",
       "    </tr>\n",
       "    <tr>\n",
       "      <th>Madhya Pradesh</th>\n",
       "      <td>60.02</td>\n",
       "      <td>3.3</td>\n",
       "    </tr>\n",
       "  </tbody>\n",
       "</table>\n",
       "</div>"
      ],
      "text/plain": [
       "                Female Literacy (%)  Fertility Rate\n",
       "State/UT                                           \n",
       "Uttar Pradesh                 59.26             3.7\n",
       "Maharashtra                   75.48             1.9\n",
       "Bihar                         53.33             3.9\n",
       "West Bengal                   71.16             1.9\n",
       "Madhya Pradesh                60.02             3.3"
      ]
     },
     "execution_count": 40,
     "metadata": {},
     "output_type": "execute_result"
    }
   ],
   "source": [
    "df[['Female Literacy (%)', 'Fertility Rate']].head()"
   ]
  },
  {
   "cell_type": "code",
   "execution_count": 41,
   "metadata": {},
   "outputs": [
    {
     "data": {
      "text/plain": [
       "0.9999779889214314"
      ]
     },
     "execution_count": 41,
     "metadata": {},
     "output_type": "execute_result"
    }
   ],
   "source": [
    "df.loc['Uttar Pradesh'].corr(df.loc['Maharashtra'])"
   ]
  },
  {
   "cell_type": "code",
   "execution_count": 44,
   "metadata": {},
   "outputs": [
    {
     "data": {
      "text/plain": [
       "<Axes: xlabel='Female Literacy (%)', ylabel='Fertility Rate'>"
      ]
     },
     "execution_count": 44,
     "metadata": {},
     "output_type": "execute_result"
    },
    {
     "data": {
      "image/png": "[encoded data removed]",
      "text/plain": [
       "<Figure size 640x480 with 1 Axes>"
      ]
     },
     "metadata": {},
     "output_type": "display_data"
    }
   ],
   "source": [
    "df.plot.scatter('Female Literacy (%)', 'Fertility Rate')"
   ]
  },
  {
   "cell_type": "code",
   "execution_count": 11,
   "metadata": {},
   "outputs": [
    {
     "name": "stdout",
     "output_type": "stream",
     "text": [
      "Second ionization energy of Li: 75.64018 eV\n"
     ]
    },
    {
     "data": {
      "text/html": [
       "<div>\n",
       "<style scoped>\n",
       "    .dataframe tbody tr th:only-of-type {\n",
       "        vertical-align: middle;\n",
       "    }\n",
       "\n",
       "    .dataframe tbody tr th {\n",
       "        vertical-align: top;\n",
       "    }\n",
       "\n",
       "    .dataframe thead th {\n",
       "        text-align: right;\n",
       "    }\n",
       "</style>\n",
       "<table border=\"1\" class=\"dataframe\">\n",
       "  <thead>\n",
       "    <tr style=\"text-align: right;\">\n",
       "      <th></th>\n",
       "      <th>IE1</th>\n",
       "      <th>IE2</th>\n",
       "      <th>IE3</th>\n",
       "      <th>IE4</th>\n",
       "    </tr>\n",
       "    <tr>\n",
       "      <th>Element</th>\n",
       "      <th></th>\n",
       "      <th></th>\n",
       "      <th></th>\n",
       "      <th></th>\n",
       "    </tr>\n",
       "  </thead>\n",
       "  <tbody>\n",
       "    <tr>\n",
       "      <th>H</th>\n",
       "      <td>13.59844</td>\n",
       "      <td>NaN</td>\n",
       "      <td>NaN</td>\n",
       "      <td>NaN</td>\n",
       "    </tr>\n",
       "    <tr>\n",
       "      <th>He</th>\n",
       "      <td>24.58741</td>\n",
       "      <td>54.41778</td>\n",
       "      <td>NaN</td>\n",
       "      <td>NaN</td>\n",
       "    </tr>\n",
       "    <tr>\n",
       "      <th>Li</th>\n",
       "      <td>5.39172</td>\n",
       "      <td>75.64018</td>\n",
       "      <td>122.45429</td>\n",
       "      <td>NaN</td>\n",
       "    </tr>\n",
       "    <tr>\n",
       "      <th>Be</th>\n",
       "      <td>9.32270</td>\n",
       "      <td>18.21116</td>\n",
       "      <td>153.89661</td>\n",
       "      <td>217.71865</td>\n",
       "    </tr>\n",
       "    <tr>\n",
       "      <th>B</th>\n",
       "      <td>8.29803</td>\n",
       "      <td>25.15484</td>\n",
       "      <td>37.93064</td>\n",
       "      <td>259.37521</td>\n",
       "    </tr>\n",
       "    <tr>\n",
       "      <th>C</th>\n",
       "      <td>11.26030</td>\n",
       "      <td>24.38332</td>\n",
       "      <td>47.88780</td>\n",
       "      <td>64.49390</td>\n",
       "    </tr>\n",
       "    <tr>\n",
       "      <th>N</th>\n",
       "      <td>14.53414</td>\n",
       "      <td>29.60130</td>\n",
       "      <td>47.44924</td>\n",
       "      <td>77.47350</td>\n",
       "    </tr>\n",
       "    <tr>\n",
       "      <th>O</th>\n",
       "      <td>13.61806</td>\n",
       "      <td>35.11730</td>\n",
       "      <td>54.93550</td>\n",
       "      <td>77.41353</td>\n",
       "    </tr>\n",
       "    <tr>\n",
       "      <th>F</th>\n",
       "      <td>17.42282</td>\n",
       "      <td>34.97082</td>\n",
       "      <td>62.70840</td>\n",
       "      <td>87.13980</td>\n",
       "    </tr>\n",
       "    <tr>\n",
       "      <th>Ne</th>\n",
       "      <td>21.56460</td>\n",
       "      <td>40.96328</td>\n",
       "      <td>63.45000</td>\n",
       "      <td>97.12000</td>\n",
       "    </tr>\n",
       "    <tr>\n",
       "      <th>Na</th>\n",
       "      <td>5.13908</td>\n",
       "      <td>47.28640</td>\n",
       "      <td>71.62000</td>\n",
       "      <td>98.91000</td>\n",
       "    </tr>\n",
       "  </tbody>\n",
       "</table>\n",
       "</div>"
      ],
      "text/plain": [
       "              IE1       IE2        IE3        IE4\n",
       "Element                                          \n",
       "H        13.59844       NaN        NaN        NaN\n",
       "He       24.58741  54.41778        NaN        NaN\n",
       "Li        5.39172  75.64018  122.45429        NaN\n",
       "Be        9.32270  18.21116  153.89661  217.71865\n",
       "B         8.29803  25.15484   37.93064  259.37521\n",
       "C        11.26030  24.38332   47.88780   64.49390\n",
       "N        14.53414  29.60130   47.44924   77.47350\n",
       "O        13.61806  35.11730   54.93550   77.41353\n",
       "F        17.42282  34.97082   62.70840   87.13980\n",
       "Ne       21.56460  40.96328   63.45000   97.12000\n",
       "Na        5.13908  47.28640   71.62000   98.91000"
      ]
     },
     "execution_count": 11,
     "metadata": {},
     "output_type": "execute_result"
    }
   ],
   "source": [
    "import pandas as pd\n",
    "import numpy as np\n",
    "df = pd.read_csv('ionization-energies.csv', skiprows=1, usecols=range(5), index_col=0,  nrows=11)\n",
    "df.columns = df.columns.str.strip()\n",
    "print('Second ionization energy of Li: {} eV'.format(df.loc['Li'].IE2))\n",
    "df\n"
   ]
  },
  {
   "cell_type": "code",
   "execution_count": 14,
   "metadata": {},
   "outputs": [
    {
     "name": "stdout",
     "output_type": "stream",
     "text": [
      "          Bond length /A    we /cm-1  wexe /cm-1  De /kJ.mol-1\n",
      "Molecule                                                      \n",
      "I2              2.666000   214.50000     0.61400    224.104224\n",
      "O2              1.207520  1580.19000    11.98000    623.340895\n",
      "Cl2             1.987000   559.70000     2.67000    350.883683\n",
      "F2              1.411930   916.64000    11.23600    223.640111\n",
      "N2              1.097680  2358.57000    14.32400   1161.440719\n",
      "CO              1.128323  2169.81358    13.28831   1059.592595\n",
      "NO              1.150770  1904.20000    14.07500    770.443043\n"
     ]
    }
   ],
   "source": [
    "df = pd.read_excel('bond-lengths.xlsx',\n",
    "index_col=0, # the first column contains the index labels\n",
    "skipfooter=2, # ignore the last two lines of the sheet\n",
    "header=1, # take the column names from the second row\n",
    "usecols='A:E', # use Excel columns labeled A-E\n",
    "sheet_name='Diatomics' # take data from this sheet\n",
    ")\n",
    "print(df)"
   ]
  },
  {
   "cell_type": "markdown",
   "metadata": {},
   "source": [
    "### Web Scraping"
   ]
  },
  {
   "cell_type": "code",
   "execution_count": 25,
   "metadata": {},
   "outputs": [
    {
     "data": {
      "text/html": [
       "<div>\n",
       "<style scoped>\n",
       "    .dataframe tbody tr th:only-of-type {\n",
       "        vertical-align: middle;\n",
       "    }\n",
       "\n",
       "    .dataframe tbody tr th {\n",
       "        vertical-align: top;\n",
       "    }\n",
       "\n",
       "    .dataframe thead th {\n",
       "        text-align: right;\n",
       "    }\n",
       "</style>\n",
       "<table border=\"1\" class=\"dataframe\">\n",
       "  <thead>\n",
       "    <tr style=\"text-align: right;\">\n",
       "      <th></th>\n",
       "      <th>Rank</th>\n",
       "      <th>Production (tonnes)</th>\n",
       "    </tr>\n",
       "    <tr>\n",
       "      <th>Country</th>\n",
       "      <th></th>\n",
       "      <th></th>\n",
       "    </tr>\n",
       "  </thead>\n",
       "  <tbody>\n",
       "    <tr>\n",
       "      <th>Italy</th>\n",
       "      <td>1</td>\n",
       "      <td>5088500</td>\n",
       "    </tr>\n",
       "    <tr>\n",
       "      <th>France</th>\n",
       "      <td>2</td>\n",
       "      <td>3713200</td>\n",
       "    </tr>\n",
       "    <tr>\n",
       "      <th>Spain</th>\n",
       "      <td>3</td>\n",
       "      <td>3700588</td>\n",
       "    </tr>\n",
       "    <tr>\n",
       "      <th>United States</th>\n",
       "      <td>4</td>\n",
       "      <td>2057021</td>\n",
       "    </tr>\n",
       "    <tr>\n",
       "      <th>China</th>\n",
       "      <td>5</td>\n",
       "      <td>1814400</td>\n",
       "    </tr>\n",
       "  </tbody>\n",
       "</table>\n",
       "</div>"
      ],
      "text/plain": [
       "               Rank  Production (tonnes)\n",
       "Country                                 \n",
       "Italy             1              5088500\n",
       "France            2              3713200\n",
       "Spain             3              3700588\n",
       "United States     4              2057021\n",
       "China             5              1814400"
      ]
     },
     "execution_count": 25,
     "metadata": {},
     "output_type": "execute_result"
    }
   ],
   "source": [
    "dfs = pd.read_html(\n",
    "'https://en.wikipedia.org/wiki/List_of_wine-producing_regions',index_col=1, match=\"Wine production by country\")\n",
    "dfs[0].head()"
   ]
  }
 ],
 "metadata": {
  "kernelspec": {
   "display_name": "Python 3",
   "language": "python",
   "name": "python3"
  },
  "language_info": {
   "codemirror_mode": {
    "name": "ipython",
    "version": 3
   },
   "file_extension": ".py",
   "mimetype": "text/x-python",
   "name": "python",
   "nbconvert_exporter": "python",
   "pygments_lexer": "ipython3",
   "version": "3.10.9"
  }
 },
 "nbformat": 4,
 "nbformat_minor": 2
}
