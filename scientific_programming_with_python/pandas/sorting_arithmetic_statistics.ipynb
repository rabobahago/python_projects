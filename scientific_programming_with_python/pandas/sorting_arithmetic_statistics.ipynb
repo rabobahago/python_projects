{
 "cells": [
  {
   "cell_type": "code",
   "execution_count": 6,
   "metadata": {},
   "outputs": [
    {
     "data": {
      "text/plain": [
       "Index(['Uttar Pradesh', 'Maharashtra', 'Bihar', 'West Bengal',\n",
       "       'Madhya Pradesh', 'Tamil Nadu', 'Rajasthan', 'Karnataka', 'Gujarat',\n",
       "       'Andhra Pradesh', 'Odisha', 'Telangana', 'Kerala', 'Jharkhand', 'Assam',\n",
       "       'Punjab', 'Chhattisgarh', 'Haryana', 'Delhi', 'Jammu and Kashmir',\n",
       "       'Uttarakhand', 'Himachal Pradesh', 'Tripura', 'Meghalaya', 'Manipur',\n",
       "       'Nagaland', 'Goa', 'Arunachal Pradesh', 'Puducherry', 'Mizoram',\n",
       "       'Chandigarh', 'Sikkim', 'Andaman and Nicobar Islands',\n",
       "       'Dadra and Nagar Haveli', 'Daman and Diu', 'Lakshadweep'],\n",
       "      dtype='object', name='State/UT')"
      ]
     },
     "execution_count": 6,
     "metadata": {},
     "output_type": "execute_result"
    }
   ],
   "source": [
    "import pandas as pd\n",
    "df = pd.read_csv('india-data.csv', index_col=0)\n",
    "df.index"
   ]
  },
  {
   "cell_type": "code",
   "execution_count": 7,
   "metadata": {},
   "outputs": [
    {
     "data": {
      "text/plain": [
       "Index(['Male Population', 'Female Population', 'Area (km2)',\n",
       "       'Male Literacy (%)', 'Fertility Rate', 'Female Literacy (%)'],\n",
       "      dtype='object')"
      ]
     },
     "execution_count": 7,
     "metadata": {},
     "output_type": "execute_result"
    }
   ],
   "source": [
    "df.columns"
   ]
  },
  {
   "cell_type": "code",
   "execution_count": 8,
   "metadata": {},
   "outputs": [
    {
     "data": {
      "text/html": [
       "<div>\n",
       "<style scoped>\n",
       "    .dataframe tbody tr th:only-of-type {\n",
       "        vertical-align: middle;\n",
       "    }\n",
       "\n",
       "    .dataframe tbody tr th {\n",
       "        vertical-align: top;\n",
       "    }\n",
       "\n",
       "    .dataframe thead th {\n",
       "        text-align: right;\n",
       "    }\n",
       "</style>\n",
       "<table border=\"1\" class=\"dataframe\">\n",
       "  <thead>\n",
       "    <tr style=\"text-align: right;\">\n",
       "      <th></th>\n",
       "      <th>Male Population</th>\n",
       "      <th>Female Population</th>\n",
       "      <th>Area (km2)</th>\n",
       "      <th>Male Literacy (%)</th>\n",
       "      <th>Fertility Rate</th>\n",
       "      <th>Female Literacy (%)</th>\n",
       "    </tr>\n",
       "    <tr>\n",
       "      <th>State/UT</th>\n",
       "      <th></th>\n",
       "      <th></th>\n",
       "      <th></th>\n",
       "      <th></th>\n",
       "      <th></th>\n",
       "      <th></th>\n",
       "    </tr>\n",
       "  </thead>\n",
       "  <tbody>\n",
       "    <tr>\n",
       "      <th>Uttar Pradesh</th>\n",
       "      <td>104480510</td>\n",
       "      <td>95331831</td>\n",
       "      <td>240928</td>\n",
       "      <td>79.24</td>\n",
       "      <td>3.7</td>\n",
       "      <td>59.26</td>\n",
       "    </tr>\n",
       "    <tr>\n",
       "      <th>Maharashtra</th>\n",
       "      <td>58243056</td>\n",
       "      <td>54131277</td>\n",
       "      <td>307713</td>\n",
       "      <td>89.82</td>\n",
       "      <td>1.9</td>\n",
       "      <td>75.48</td>\n",
       "    </tr>\n",
       "    <tr>\n",
       "      <th>Bihar</th>\n",
       "      <td>54278157</td>\n",
       "      <td>49821295</td>\n",
       "      <td>94163</td>\n",
       "      <td>73.39</td>\n",
       "      <td>3.9</td>\n",
       "      <td>53.33</td>\n",
       "    </tr>\n",
       "  </tbody>\n",
       "</table>\n",
       "</div>"
      ],
      "text/plain": [
       "               Male Population  Female Population  Area (km2)  \\\n",
       "State/UT                                                        \n",
       "Uttar Pradesh        104480510           95331831      240928   \n",
       "Maharashtra           58243056           54131277      307713   \n",
       "Bihar                 54278157           49821295       94163   \n",
       "\n",
       "               Male Literacy (%)  Fertility Rate  Female Literacy (%)  \n",
       "State/UT                                                               \n",
       "Uttar Pradesh              79.24             3.7                59.26  \n",
       "Maharashtra                89.82             1.9                75.48  \n",
       "Bihar                      73.39             3.9                53.33  "
      ]
     },
     "execution_count": 8,
     "metadata": {},
     "output_type": "execute_result"
    }
   ],
   "source": [
    "df.head(3)"
   ]
  },
  {
   "cell_type": "code",
   "execution_count": 9,
   "metadata": {},
   "outputs": [
    {
     "data": {
      "text/html": [
       "<div>\n",
       "<style scoped>\n",
       "    .dataframe tbody tr th:only-of-type {\n",
       "        vertical-align: middle;\n",
       "    }\n",
       "\n",
       "    .dataframe tbody tr th {\n",
       "        vertical-align: top;\n",
       "    }\n",
       "\n",
       "    .dataframe thead th {\n",
       "        text-align: right;\n",
       "    }\n",
       "</style>\n",
       "<table border=\"1\" class=\"dataframe\">\n",
       "  <thead>\n",
       "    <tr style=\"text-align: right;\">\n",
       "      <th></th>\n",
       "      <th>Male Population</th>\n",
       "      <th>Female Population</th>\n",
       "      <th>Area (km2)</th>\n",
       "      <th>Male Literacy (%)</th>\n",
       "      <th>Fertility Rate</th>\n",
       "      <th>Female Literacy (%)</th>\n",
       "    </tr>\n",
       "    <tr>\n",
       "      <th>State/UT</th>\n",
       "      <th></th>\n",
       "      <th></th>\n",
       "      <th></th>\n",
       "      <th></th>\n",
       "      <th></th>\n",
       "      <th></th>\n",
       "    </tr>\n",
       "  </thead>\n",
       "  <tbody>\n",
       "    <tr>\n",
       "      <th>Dadra and Nagar Haveli</th>\n",
       "      <td>193760</td>\n",
       "      <td>149949</td>\n",
       "      <td>491</td>\n",
       "      <td>86.46</td>\n",
       "      <td>3.3</td>\n",
       "      <td>65.93</td>\n",
       "    </tr>\n",
       "    <tr>\n",
       "      <th>Daman and Diu</th>\n",
       "      <td>150301</td>\n",
       "      <td>92946</td>\n",
       "      <td>112</td>\n",
       "      <td>91.48</td>\n",
       "      <td>1.9</td>\n",
       "      <td>79.59</td>\n",
       "    </tr>\n",
       "    <tr>\n",
       "      <th>Lakshadweep</th>\n",
       "      <td>33123</td>\n",
       "      <td>31350</td>\n",
       "      <td>32</td>\n",
       "      <td>96.11</td>\n",
       "      <td>2.1</td>\n",
       "      <td>88.25</td>\n",
       "    </tr>\n",
       "  </tbody>\n",
       "</table>\n",
       "</div>"
      ],
      "text/plain": [
       "                        Male Population  Female Population  Area (km2)  \\\n",
       "State/UT                                                                 \n",
       "Dadra and Nagar Haveli           193760             149949         491   \n",
       "Daman and Diu                    150301              92946         112   \n",
       "Lakshadweep                       33123              31350          32   \n",
       "\n",
       "                        Male Literacy (%)  Fertility Rate  Female Literacy (%)  \n",
       "State/UT                                                                        \n",
       "Dadra and Nagar Haveli              86.46             3.3                65.93  \n",
       "Daman and Diu                       91.48             1.9                79.59  \n",
       "Lakshadweep                         96.11             2.1                88.25  "
      ]
     },
     "execution_count": 9,
     "metadata": {},
     "output_type": "execute_result"
    }
   ],
   "source": [
    "df.tail(3)"
   ]
  },
  {
   "cell_type": "code",
   "execution_count": 16,
   "metadata": {},
   "outputs": [
    {
     "name": "stdout",
     "output_type": "stream",
     "text": [
      "Total population:  1,210,754,977\n"
     ]
    }
   ],
   "source": [
    "df['Population'] = df['Male Population'] + df['Female Population']\n",
    "total_pop = df['Population'].sum()\n",
    "print(f'Total population: {total_pop: ,d}')"
   ]
  },
  {
   "cell_type": "code",
   "execution_count": 24,
   "metadata": {},
   "outputs": [
    {
     "name": "stdout",
     "output_type": "stream",
     "text": [
      "The population Density of Daman and Diu is2171.848214285714\n"
     ]
    }
   ],
   "source": [
    "df['Population Density (km-2)'] = df['Population'] / df['Area (km2)']\n",
    "pop_density = df.loc['Daman and Diu', 'Population Density (km-2)']\n",
    "print(f'The population Density of Daman and Diu is: {pop_density}')"
   ]
  },
  {
   "cell_type": "code",
   "execution_count": 26,
   "metadata": {},
   "outputs": [
    {
     "data": {
      "text/plain": [
       "38503.325515116616"
      ]
     },
     "execution_count": 26,
     "metadata": {},
     "output_type": "execute_result"
    }
   ],
   "source": [
    "total_pop_den = df['Population Density (km-2)'].sum()\n",
    "total_pop_den"
   ]
  },
  {
   "cell_type": "code",
   "execution_count": 27,
   "metadata": {},
   "outputs": [
    {
     "data": {
      "text/plain": [
       "52.66"
      ]
     },
     "execution_count": 27,
     "metadata": {},
     "output_type": "execute_result"
    }
   ],
   "source": [
    "df['Female Literacy (%)'].min()"
   ]
  },
  {
   "cell_type": "code",
   "execution_count": 28,
   "metadata": {},
   "outputs": [
    {
     "data": {
      "text/plain": [
       "'Delhi'"
      ]
     },
     "execution_count": 28,
     "metadata": {},
     "output_type": "execute_result"
    }
   ],
   "source": [
    "df['Population Density (km-2)'].idxmax()"
   ]
  },
  {
   "cell_type": "code",
   "execution_count": 29,
   "metadata": {},
   "outputs": [
    {
     "data": {
      "text/plain": [
       "'Rajasthan'"
      ]
     },
     "execution_count": 29,
     "metadata": {},
     "output_type": "execute_result"
    }
   ],
   "source": [
    "df['Area (km2)'].idxmax()"
   ]
  },
  {
   "cell_type": "code",
   "execution_count": 30,
   "metadata": {},
   "outputs": [
    {
     "data": {
      "text/plain": [
       "Male Population              8.887326e+06\n",
       "Female Population            7.800615e+06\n",
       "Area (km2)                   1.484000e+03\n",
       "Male Literacy (%)            9.103000e+01\n",
       "Fertility Rate               1.900000e+00\n",
       "Female Literacy (%)          8.093000e+01\n",
       "Population                   1.668794e+07\n",
       "Population Density (km-2)    1.124524e+04\n",
       "Name: Delhi, dtype: float64"
      ]
     },
     "execution_count": 30,
     "metadata": {},
     "output_type": "execute_result"
    }
   ],
   "source": [
    "df.loc[df['Population Density (km-2)'].idxmax()]"
   ]
  },
  {
   "cell_type": "code",
   "execution_count": 31,
   "metadata": {},
   "outputs": [
    {
     "data": {
      "text/plain": [
       "Male Population              7.139120e+05\n",
       "Female Population            6.698150e+05\n",
       "Area (km2)                   8.374300e+04\n",
       "Male Literacy (%)            7.369000e+01\n",
       "Fertility Rate               2.700000e+00\n",
       "Female Literacy (%)          5.957000e+01\n",
       "Population                   1.383727e+06\n",
       "Population Density (km-2)    1.652349e+01\n",
       "Name: Arunachal Pradesh, dtype: float64"
      ]
     },
     "execution_count": 31,
     "metadata": {},
     "output_type": "execute_result"
    }
   ],
   "source": [
    "df.loc[df['Population Density (km-2)'].idxmin()]"
   ]
  },
  {
   "cell_type": "code",
   "execution_count": null,
   "metadata": {},
   "outputs": [],
   "source": []
  }
 ],
 "metadata": {
  "kernelspec": {
   "display_name": "Python 3",
   "language": "python",
   "name": "python3"
  },
  "language_info": {
   "codemirror_mode": {
    "name": "ipython",
    "version": 3
   },
   "file_extension": ".py",
   "mimetype": "text/x-python",
   "name": "python",
   "nbconvert_exporter": "python",
   "pygments_lexer": "ipython3",
   "version": "3.10.9"
  }
 },
 "nbformat": 4,
 "nbformat_minor": 2
}
