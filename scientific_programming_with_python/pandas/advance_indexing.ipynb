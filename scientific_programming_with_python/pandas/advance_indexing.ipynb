{
 "cells": [
  {
   "cell_type": "code",
   "execution_count": 1,
   "metadata": {},
   "outputs": [
    {
     "data": {
      "text/plain": [
       "MultiIndex([( 'Paris', 'Jan'),\n",
       "            ( 'Paris', 'Apr'),\n",
       "            ( 'Paris', 'Jul'),\n",
       "            ( 'Paris', 'Oct'),\n",
       "            ('Berlin', 'Jan'),\n",
       "            ('Berlin', 'Apr'),\n",
       "            ('Berlin', 'Jul'),\n",
       "            ('Berlin', 'Oct'),\n",
       "            ('Vienna', 'Jan'),\n",
       "            ('Vienna', 'Apr'),\n",
       "            ('Vienna', 'Jul'),\n",
       "            ('Vienna', 'Oct'),\n",
       "            ('London', 'Jan'),\n",
       "            ('London', 'Apr'),\n",
       "            ('London', 'Jul'),\n",
       "            ('London', 'Oct'),\n",
       "            ('Madrid', 'Jan'),\n",
       "            ('Madrid', 'Apr'),\n",
       "            ('Madrid', 'Jul'),\n",
       "            ('Madrid', 'Oct')],\n",
       "           )"
      ]
     },
     "execution_count": 1,
     "metadata": {},
     "output_type": "execute_result"
    }
   ],
   "source": [
    "import numpy as np\n",
    "import pandas as pd\n",
    "cities = ('Paris', 'Berlin', 'Vienna', 'London', 'Madrid')\n",
    "months = ('Jan', 'Apr', 'Jul', 'Oct')\n",
    "index = pd.MultiIndex.from_tuples([(city, month) for city in cities for month in months])\n",
    "index"
   ]
  },
  {
   "cell_type": "code",
   "execution_count": 3,
   "metadata": {},
   "outputs": [
    {
     "data": {
      "text/plain": [
       "MultiIndex([( 'Paris', 'Jan'),\n",
       "            ( 'Paris', 'Apr'),\n",
       "            ( 'Paris', 'Jul'),\n",
       "            ( 'Paris', 'Oct'),\n",
       "            ('Berlin', 'Jan'),\n",
       "            ('Berlin', 'Apr'),\n",
       "            ('Berlin', 'Jul'),\n",
       "            ('Berlin', 'Oct'),\n",
       "            ('Vienna', 'Jan'),\n",
       "            ('Vienna', 'Apr'),\n",
       "            ('Vienna', 'Jul'),\n",
       "            ('Vienna', 'Oct'),\n",
       "            ('London', 'Jan'),\n",
       "            ('London', 'Apr'),\n",
       "            ('London', 'Jul'),\n",
       "            ('London', 'Oct'),\n",
       "            ('Madrid', 'Jan'),\n",
       "            ('Madrid', 'Apr'),\n",
       "            ('Madrid', 'Jul'),\n",
       "            ('Madrid', 'Oct')],\n",
       "           )"
      ]
     },
     "execution_count": 3,
     "metadata": {},
     "output_type": "execute_result"
    }
   ],
   "source": [
    "index = pd.MultiIndex.from_product((cities, months))\n",
    "index"
   ]
  },
  {
   "cell_type": "code",
   "execution_count": 4,
   "metadata": {},
   "outputs": [
    {
     "data": {
      "text/plain": [
       "MultiIndex([( 'Paris', 'Jan'),\n",
       "            ( 'Paris', 'Apr'),\n",
       "            ( 'Paris', 'Jul'),\n",
       "            ( 'Paris', 'Oct'),\n",
       "            ('Berlin', 'Jan'),\n",
       "            ('Berlin', 'Apr'),\n",
       "            ('Berlin', 'Jul'),\n",
       "            ('Berlin', 'Oct'),\n",
       "            ('Vienna', 'Jan'),\n",
       "            ('Vienna', 'Apr'),\n",
       "            ('Vienna', 'Jul'),\n",
       "            ('Vienna', 'Oct'),\n",
       "            ('London', 'Jan'),\n",
       "            ('London', 'Apr'),\n",
       "            ('London', 'Jul'),\n",
       "            ('London', 'Oct'),\n",
       "            ('Madrid', 'Jan'),\n",
       "            ('Madrid', 'Apr'),\n",
       "            ('Madrid', 'Jul'),\n",
       "            ('Madrid', 'Oct')],\n",
       "           names=['cities', 'months'])"
      ]
     },
     "execution_count": 4,
     "metadata": {},
     "output_type": "execute_result"
    }
   ],
   "source": [
    "index.names = ['cities', 'months']\n",
    "index"
   ]
  },
  {
   "cell_type": "code",
   "execution_count": 5,
   "metadata": {},
   "outputs": [],
   "source": [
    "# Mean monthly temperature (degC) for each city in each of Jan, Apr, Jul,\n",
    "temps = [[4.9, 11.5, 20.5, 13.0], [0.1, 9.0, 19.1, 9.4], [0.3, 10.7, 20.8, 10.2], [5.2, 9.9, 18.7, 12.0],[6.3, 12.9, 25.6, 15.1]]"
   ]
  },
  {
   "cell_type": "code",
   "execution_count": 6,
   "metadata": {},
   "outputs": [],
   "source": [
    "# Mean monthly rainfall (mm) for each city in each of Jan, Apr, Jul,\n",
    "rainfall = [[51.0, 51.8, 62.3, 61.5], [37.2, 33.7, 52.5, 32.2], [38., 45., 70., 38.], [55.2, 43.7, 44.5, 68.5], [33., 45., 12., 60.]]"
   ]
  },
  {
   "cell_type": "code",
   "execution_count": 12,
   "metadata": {},
   "outputs": [
    {
     "data": {
      "text/plain": [
       "array([[ 4.9, 51. ],\n",
       "       [11.5, 51.8],\n",
       "       [20.5, 62.3],\n",
       "       [13. , 61.5],\n",
       "       [ 0.1, 37.2],\n",
       "       [ 9. , 33.7],\n",
       "       [19.1, 52.5],\n",
       "       [ 9.4, 32.2],\n",
       "       [ 0.3, 38. ],\n",
       "       [10.7, 45. ],\n",
       "       [20.8, 70. ],\n",
       "       [10.2, 38. ],\n",
       "       [ 5.2, 55.2],\n",
       "       [ 9.9, 43.7],\n",
       "       [18.7, 44.5],\n",
       "       [12. , 68.5],\n",
       "       [ 6.3, 33. ],\n",
       "       [12.9, 45. ],\n",
       "       [25.6, 12. ],\n",
       "       [15.1, 60. ]])"
      ]
     },
     "execution_count": 12,
     "metadata": {},
     "output_type": "execute_result"
    }
   ],
   "source": [
    "arr = np.array((temps , rainfall)).reshape(2,20).T\n",
    "arr"
   ]
  },
  {
   "cell_type": "code",
   "execution_count": 15,
   "metadata": {},
   "outputs": [
    {
     "data": {
      "text/html": [
       "<div>\n",
       "<style scoped>\n",
       "    .dataframe tbody tr th:only-of-type {\n",
       "        vertical-align: middle;\n",
       "    }\n",
       "\n",
       "    .dataframe tbody tr th {\n",
       "        vertical-align: top;\n",
       "    }\n",
       "\n",
       "    .dataframe thead th {\n",
       "        text-align: right;\n",
       "    }\n",
       "</style>\n",
       "<table border=\"1\" class=\"dataframe\">\n",
       "  <thead>\n",
       "    <tr style=\"text-align: right;\">\n",
       "      <th></th>\n",
       "      <th></th>\n",
       "      <th>Mean temperature /degC</th>\n",
       "      <th>Mean rainfall /mm</th>\n",
       "    </tr>\n",
       "    <tr>\n",
       "      <th>cities</th>\n",
       "      <th>months</th>\n",
       "      <th></th>\n",
       "      <th></th>\n",
       "    </tr>\n",
       "  </thead>\n",
       "  <tbody>\n",
       "    <tr>\n",
       "      <th rowspan=\"4\" valign=\"top\">Paris</th>\n",
       "      <th>Jan</th>\n",
       "      <td>4.9</td>\n",
       "      <td>51.0</td>\n",
       "    </tr>\n",
       "    <tr>\n",
       "      <th>Apr</th>\n",
       "      <td>11.5</td>\n",
       "      <td>51.8</td>\n",
       "    </tr>\n",
       "    <tr>\n",
       "      <th>Jul</th>\n",
       "      <td>20.5</td>\n",
       "      <td>62.3</td>\n",
       "    </tr>\n",
       "    <tr>\n",
       "      <th>Oct</th>\n",
       "      <td>13.0</td>\n",
       "      <td>61.5</td>\n",
       "    </tr>\n",
       "    <tr>\n",
       "      <th rowspan=\"4\" valign=\"top\">Berlin</th>\n",
       "      <th>Jan</th>\n",
       "      <td>0.1</td>\n",
       "      <td>37.2</td>\n",
       "    </tr>\n",
       "    <tr>\n",
       "      <th>Apr</th>\n",
       "      <td>9.0</td>\n",
       "      <td>33.7</td>\n",
       "    </tr>\n",
       "    <tr>\n",
       "      <th>Jul</th>\n",
       "      <td>19.1</td>\n",
       "      <td>52.5</td>\n",
       "    </tr>\n",
       "    <tr>\n",
       "      <th>Oct</th>\n",
       "      <td>9.4</td>\n",
       "      <td>32.2</td>\n",
       "    </tr>\n",
       "    <tr>\n",
       "      <th rowspan=\"4\" valign=\"top\">Vienna</th>\n",
       "      <th>Jan</th>\n",
       "      <td>0.3</td>\n",
       "      <td>38.0</td>\n",
       "    </tr>\n",
       "    <tr>\n",
       "      <th>Apr</th>\n",
       "      <td>10.7</td>\n",
       "      <td>45.0</td>\n",
       "    </tr>\n",
       "    <tr>\n",
       "      <th>Jul</th>\n",
       "      <td>20.8</td>\n",
       "      <td>70.0</td>\n",
       "    </tr>\n",
       "    <tr>\n",
       "      <th>Oct</th>\n",
       "      <td>10.2</td>\n",
       "      <td>38.0</td>\n",
       "    </tr>\n",
       "    <tr>\n",
       "      <th rowspan=\"4\" valign=\"top\">London</th>\n",
       "      <th>Jan</th>\n",
       "      <td>5.2</td>\n",
       "      <td>55.2</td>\n",
       "    </tr>\n",
       "    <tr>\n",
       "      <th>Apr</th>\n",
       "      <td>9.9</td>\n",
       "      <td>43.7</td>\n",
       "    </tr>\n",
       "    <tr>\n",
       "      <th>Jul</th>\n",
       "      <td>18.7</td>\n",
       "      <td>44.5</td>\n",
       "    </tr>\n",
       "    <tr>\n",
       "      <th>Oct</th>\n",
       "      <td>12.0</td>\n",
       "      <td>68.5</td>\n",
       "    </tr>\n",
       "    <tr>\n",
       "      <th rowspan=\"4\" valign=\"top\">Madrid</th>\n",
       "      <th>Jan</th>\n",
       "      <td>6.3</td>\n",
       "      <td>33.0</td>\n",
       "    </tr>\n",
       "    <tr>\n",
       "      <th>Apr</th>\n",
       "      <td>12.9</td>\n",
       "      <td>45.0</td>\n",
       "    </tr>\n",
       "    <tr>\n",
       "      <th>Jul</th>\n",
       "      <td>25.6</td>\n",
       "      <td>12.0</td>\n",
       "    </tr>\n",
       "    <tr>\n",
       "      <th>Oct</th>\n",
       "      <td>15.1</td>\n",
       "      <td>60.0</td>\n",
       "    </tr>\n",
       "  </tbody>\n",
       "</table>\n",
       "</div>"
      ],
      "text/plain": [
       "               Mean temperature /degC  Mean rainfall /mm\n",
       "cities months                                           \n",
       "Paris  Jan                        4.9               51.0\n",
       "       Apr                       11.5               51.8\n",
       "       Jul                       20.5               62.3\n",
       "       Oct                       13.0               61.5\n",
       "Berlin Jan                        0.1               37.2\n",
       "       Apr                        9.0               33.7\n",
       "       Jul                       19.1               52.5\n",
       "       Oct                        9.4               32.2\n",
       "Vienna Jan                        0.3               38.0\n",
       "       Apr                       10.7               45.0\n",
       "       Jul                       20.8               70.0\n",
       "       Oct                       10.2               38.0\n",
       "London Jan                        5.2               55.2\n",
       "       Apr                        9.9               43.7\n",
       "       Jul                       18.7               44.5\n",
       "       Oct                       12.0               68.5\n",
       "Madrid Jan                        6.3               33.0\n",
       "       Apr                       12.9               45.0\n",
       "       Jul                       25.6               12.0\n",
       "       Oct                       15.1               60.0"
      ]
     },
     "execution_count": 15,
     "metadata": {},
     "output_type": "execute_result"
    }
   ],
   "source": [
    "df = pd.DataFrame(arr, index=index, columns=['Mean temperature /degC','Mean rainfall /mm'])\n",
    "df"
   ]
  },
  {
   "cell_type": "code",
   "execution_count": 16,
   "metadata": {},
   "outputs": [
    {
     "data": {
      "text/html": [
       "<div>\n",
       "<style scoped>\n",
       "    .dataframe tbody tr th:only-of-type {\n",
       "        vertical-align: middle;\n",
       "    }\n",
       "\n",
       "    .dataframe tbody tr th {\n",
       "        vertical-align: top;\n",
       "    }\n",
       "\n",
       "    .dataframe thead th {\n",
       "        text-align: right;\n",
       "    }\n",
       "</style>\n",
       "<table border=\"1\" class=\"dataframe\">\n",
       "  <thead>\n",
       "    <tr style=\"text-align: right;\">\n",
       "      <th></th>\n",
       "      <th>Mean temperature /degC</th>\n",
       "      <th>Mean rainfall /mm</th>\n",
       "    </tr>\n",
       "    <tr>\n",
       "      <th>months</th>\n",
       "      <th></th>\n",
       "      <th></th>\n",
       "    </tr>\n",
       "  </thead>\n",
       "  <tbody>\n",
       "    <tr>\n",
       "      <th>Jan</th>\n",
       "      <td>0.3</td>\n",
       "      <td>38.0</td>\n",
       "    </tr>\n",
       "    <tr>\n",
       "      <th>Apr</th>\n",
       "      <td>10.7</td>\n",
       "      <td>45.0</td>\n",
       "    </tr>\n",
       "    <tr>\n",
       "      <th>Jul</th>\n",
       "      <td>20.8</td>\n",
       "      <td>70.0</td>\n",
       "    </tr>\n",
       "    <tr>\n",
       "      <th>Oct</th>\n",
       "      <td>10.2</td>\n",
       "      <td>38.0</td>\n",
       "    </tr>\n",
       "  </tbody>\n",
       "</table>\n",
       "</div>"
      ],
      "text/plain": [
       "        Mean temperature /degC  Mean rainfall /mm\n",
       "months                                           \n",
       "Jan                        0.3               38.0\n",
       "Apr                       10.7               45.0\n",
       "Jul                       20.8               70.0\n",
       "Oct                       10.2               38.0"
      ]
     },
     "execution_count": 16,
     "metadata": {},
     "output_type": "execute_result"
    }
   ],
   "source": [
    "df.loc['Vienna']"
   ]
  },
  {
   "cell_type": "code",
   "execution_count": 22,
   "metadata": {},
   "outputs": [
    {
     "data": {
      "text/plain": [
       "Mean temperature /degC    20.5\n",
       "Mean rainfall /mm         62.3\n",
       "Name: (Paris, Jul), dtype: float64"
      ]
     },
     "execution_count": 22,
     "metadata": {},
     "output_type": "execute_result"
    }
   ],
   "source": [
    "df.loc[('Paris', 'Jul')]"
   ]
  },
  {
   "cell_type": "code",
   "execution_count": 23,
   "metadata": {},
   "outputs": [
    {
     "data": {
      "text/plain": [
       "62.3"
      ]
     },
     "execution_count": 23,
     "metadata": {},
     "output_type": "execute_result"
    }
   ],
   "source": [
    "df.loc[('Paris', 'Jul'), 'Mean rainfall /mm']"
   ]
  },
  {
   "cell_type": "code",
   "execution_count": 25,
   "metadata": {},
   "outputs": [
    {
     "data": {
      "text/html": [
       "<div>\n",
       "<style scoped>\n",
       "    .dataframe tbody tr th:only-of-type {\n",
       "        vertical-align: middle;\n",
       "    }\n",
       "\n",
       "    .dataframe tbody tr th {\n",
       "        vertical-align: top;\n",
       "    }\n",
       "\n",
       "    .dataframe thead th {\n",
       "        text-align: right;\n",
       "    }\n",
       "</style>\n",
       "<table border=\"1\" class=\"dataframe\">\n",
       "  <thead>\n",
       "    <tr style=\"text-align: right;\">\n",
       "      <th></th>\n",
       "      <th></th>\n",
       "      <th>Mean temperature /degC</th>\n",
       "      <th>Mean rainfall /mm</th>\n",
       "    </tr>\n",
       "    <tr>\n",
       "      <th>cities</th>\n",
       "      <th>months</th>\n",
       "      <th></th>\n",
       "      <th></th>\n",
       "    </tr>\n",
       "  </thead>\n",
       "  <tbody>\n",
       "    <tr>\n",
       "      <th rowspan=\"4\" valign=\"top\">Berlin</th>\n",
       "      <th>Apr</th>\n",
       "      <td>9.0</td>\n",
       "      <td>33.7</td>\n",
       "    </tr>\n",
       "    <tr>\n",
       "      <th>Jan</th>\n",
       "      <td>0.1</td>\n",
       "      <td>37.2</td>\n",
       "    </tr>\n",
       "    <tr>\n",
       "      <th>Jul</th>\n",
       "      <td>19.1</td>\n",
       "      <td>52.5</td>\n",
       "    </tr>\n",
       "    <tr>\n",
       "      <th>Oct</th>\n",
       "      <td>9.4</td>\n",
       "      <td>32.2</td>\n",
       "    </tr>\n",
       "    <tr>\n",
       "      <th rowspan=\"4\" valign=\"top\">London</th>\n",
       "      <th>Apr</th>\n",
       "      <td>9.9</td>\n",
       "      <td>43.7</td>\n",
       "    </tr>\n",
       "    <tr>\n",
       "      <th>Jan</th>\n",
       "      <td>5.2</td>\n",
       "      <td>55.2</td>\n",
       "    </tr>\n",
       "    <tr>\n",
       "      <th>Jul</th>\n",
       "      <td>18.7</td>\n",
       "      <td>44.5</td>\n",
       "    </tr>\n",
       "    <tr>\n",
       "      <th>Oct</th>\n",
       "      <td>12.0</td>\n",
       "      <td>68.5</td>\n",
       "    </tr>\n",
       "  </tbody>\n",
       "</table>\n",
       "</div>"
      ],
      "text/plain": [
       "               Mean temperature /degC  Mean rainfall /mm\n",
       "cities months                                           \n",
       "Berlin Apr                        9.0               33.7\n",
       "       Jan                        0.1               37.2\n",
       "       Jul                       19.1               52.5\n",
       "       Oct                        9.4               32.2\n",
       "London Apr                        9.9               43.7\n",
       "       Jan                        5.2               55.2\n",
       "       Jul                       18.7               44.5\n",
       "       Oct                       12.0               68.5"
      ]
     },
     "execution_count": 25,
     "metadata": {},
     "output_type": "execute_result"
    }
   ],
   "source": [
    "df.sort_index(inplace=True)\n",
    "df['Berlin':'London' ]"
   ]
  },
  {
   "cell_type": "code",
   "execution_count": 27,
   "metadata": {},
   "outputs": [
    {
     "data": {
      "text/plain": [
       "months\n",
       "1      0.3\n",
       "4     10.7\n",
       "7     20.8\n",
       "10    10.2\n",
       "Name: Mean temperature /degC, dtype: float64"
      ]
     },
     "execution_count": 27,
     "metadata": {},
     "output_type": "execute_result"
    }
   ],
   "source": [
    "df2 = df.rename({'Jan': 1, 'Apr': 4, 'Jul': 7, 'Oct': 10})\n",
    "df2.sort_index(inplace=True)\n",
    "df2.loc['Vienna', 'Mean temperature /degC']"
   ]
  },
  {
   "cell_type": "code",
   "execution_count": 28,
   "metadata": {},
   "outputs": [
    {
     "data": {
      "text/html": [
       "<div>\n",
       "<style scoped>\n",
       "    .dataframe tbody tr th:only-of-type {\n",
       "        vertical-align: middle;\n",
       "    }\n",
       "\n",
       "    .dataframe tbody tr th {\n",
       "        vertical-align: top;\n",
       "    }\n",
       "\n",
       "    .dataframe thead th {\n",
       "        text-align: right;\n",
       "    }\n",
       "</style>\n",
       "<table border=\"1\" class=\"dataframe\">\n",
       "  <thead>\n",
       "    <tr style=\"text-align: right;\">\n",
       "      <th></th>\n",
       "      <th>Mean temperature /degC</th>\n",
       "      <th>Mean rainfall /mm</th>\n",
       "    </tr>\n",
       "    <tr>\n",
       "      <th>cities</th>\n",
       "      <th></th>\n",
       "      <th></th>\n",
       "    </tr>\n",
       "  </thead>\n",
       "  <tbody>\n",
       "    <tr>\n",
       "      <th>Berlin</th>\n",
       "      <td>0.1</td>\n",
       "      <td>37.2</td>\n",
       "    </tr>\n",
       "    <tr>\n",
       "      <th>London</th>\n",
       "      <td>5.2</td>\n",
       "      <td>55.2</td>\n",
       "    </tr>\n",
       "    <tr>\n",
       "      <th>Madrid</th>\n",
       "      <td>6.3</td>\n",
       "      <td>33.0</td>\n",
       "    </tr>\n",
       "    <tr>\n",
       "      <th>Paris</th>\n",
       "      <td>4.9</td>\n",
       "      <td>51.0</td>\n",
       "    </tr>\n",
       "    <tr>\n",
       "      <th>Vienna</th>\n",
       "      <td>0.3</td>\n",
       "      <td>38.0</td>\n",
       "    </tr>\n",
       "  </tbody>\n",
       "</table>\n",
       "</div>"
      ],
      "text/plain": [
       "        Mean temperature /degC  Mean rainfall /mm\n",
       "cities                                           \n",
       "Berlin                     0.1               37.2\n",
       "London                     5.2               55.2\n",
       "Madrid                     6.3               33.0\n",
       "Paris                      4.9               51.0\n",
       "Vienna                     0.3               38.0"
      ]
     },
     "execution_count": 28,
     "metadata": {},
     "output_type": "execute_result"
    }
   ],
   "source": [
    "df.xs('Jan', level=1)"
   ]
  },
  {
   "cell_type": "code",
   "execution_count": 30,
   "metadata": {},
   "outputs": [
    {
     "data": {
      "text/html": [
       "<div>\n",
       "<style scoped>\n",
       "    .dataframe tbody tr th:only-of-type {\n",
       "        vertical-align: middle;\n",
       "    }\n",
       "\n",
       "    .dataframe tbody tr th {\n",
       "        vertical-align: top;\n",
       "    }\n",
       "\n",
       "    .dataframe thead tr th {\n",
       "        text-align: left;\n",
       "    }\n",
       "\n",
       "    .dataframe thead tr:last-of-type th {\n",
       "        text-align: right;\n",
       "    }\n",
       "</style>\n",
       "<table border=\"1\" class=\"dataframe\">\n",
       "  <thead>\n",
       "    <tr>\n",
       "      <th></th>\n",
       "      <th colspan=\"4\" halign=\"left\">Mean temperature /degC</th>\n",
       "      <th colspan=\"4\" halign=\"left\">Mean rainfall /mm</th>\n",
       "    </tr>\n",
       "    <tr>\n",
       "      <th>months</th>\n",
       "      <th>Apr</th>\n",
       "      <th>Jan</th>\n",
       "      <th>Jul</th>\n",
       "      <th>Oct</th>\n",
       "      <th>Apr</th>\n",
       "      <th>Jan</th>\n",
       "      <th>Jul</th>\n",
       "      <th>Oct</th>\n",
       "    </tr>\n",
       "    <tr>\n",
       "      <th>cities</th>\n",
       "      <th></th>\n",
       "      <th></th>\n",
       "      <th></th>\n",
       "      <th></th>\n",
       "      <th></th>\n",
       "      <th></th>\n",
       "      <th></th>\n",
       "      <th></th>\n",
       "    </tr>\n",
       "  </thead>\n",
       "  <tbody>\n",
       "    <tr>\n",
       "      <th>Berlin</th>\n",
       "      <td>9.0</td>\n",
       "      <td>0.1</td>\n",
       "      <td>19.1</td>\n",
       "      <td>9.4</td>\n",
       "      <td>33.7</td>\n",
       "      <td>37.2</td>\n",
       "      <td>52.5</td>\n",
       "      <td>32.2</td>\n",
       "    </tr>\n",
       "    <tr>\n",
       "      <th>London</th>\n",
       "      <td>9.9</td>\n",
       "      <td>5.2</td>\n",
       "      <td>18.7</td>\n",
       "      <td>12.0</td>\n",
       "      <td>43.7</td>\n",
       "      <td>55.2</td>\n",
       "      <td>44.5</td>\n",
       "      <td>68.5</td>\n",
       "    </tr>\n",
       "    <tr>\n",
       "      <th>Madrid</th>\n",
       "      <td>12.9</td>\n",
       "      <td>6.3</td>\n",
       "      <td>25.6</td>\n",
       "      <td>15.1</td>\n",
       "      <td>45.0</td>\n",
       "      <td>33.0</td>\n",
       "      <td>12.0</td>\n",
       "      <td>60.0</td>\n",
       "    </tr>\n",
       "    <tr>\n",
       "      <th>Paris</th>\n",
       "      <td>11.5</td>\n",
       "      <td>4.9</td>\n",
       "      <td>20.5</td>\n",
       "      <td>13.0</td>\n",
       "      <td>51.8</td>\n",
       "      <td>51.0</td>\n",
       "      <td>62.3</td>\n",
       "      <td>61.5</td>\n",
       "    </tr>\n",
       "    <tr>\n",
       "      <th>Vienna</th>\n",
       "      <td>10.7</td>\n",
       "      <td>0.3</td>\n",
       "      <td>20.8</td>\n",
       "      <td>10.2</td>\n",
       "      <td>45.0</td>\n",
       "      <td>38.0</td>\n",
       "      <td>70.0</td>\n",
       "      <td>38.0</td>\n",
       "    </tr>\n",
       "  </tbody>\n",
       "</table>\n",
       "</div>"
      ],
      "text/plain": [
       "       Mean temperature /degC                  Mean rainfall /mm              \\\n",
       "months                    Apr  Jan   Jul   Oct               Apr   Jan   Jul   \n",
       "cities                                                                         \n",
       "Berlin                    9.0  0.1  19.1   9.4              33.7  37.2  52.5   \n",
       "London                    9.9  5.2  18.7  12.0              43.7  55.2  44.5   \n",
       "Madrid                   12.9  6.3  25.6  15.1              45.0  33.0  12.0   \n",
       "Paris                    11.5  4.9  20.5  13.0              51.8  51.0  62.3   \n",
       "Vienna                   10.7  0.3  20.8  10.2              45.0  38.0  70.0   \n",
       "\n",
       "              \n",
       "months   Oct  \n",
       "cities        \n",
       "Berlin  32.2  \n",
       "London  68.5  \n",
       "Madrid  60.0  \n",
       "Paris   61.5  \n",
       "Vienna  38.0  "
      ]
     },
     "execution_count": 30,
     "metadata": {},
     "output_type": "execute_result"
    }
   ],
   "source": [
    "df.unstack()"
   ]
  },
  {
   "cell_type": "code",
   "execution_count": null,
   "metadata": {},
   "outputs": [],
   "source": []
  }
 ],
 "metadata": {
  "kernelspec": {
   "display_name": "Python 3",
   "language": "python",
   "name": "python3"
  },
  "language_info": {
   "codemirror_mode": {
    "name": "ipython",
    "version": 3
   },
   "file_extension": ".py",
   "mimetype": "text/x-python",
   "name": "python",
   "nbconvert_exporter": "python",
   "pygments_lexer": "ipython3",
   "version": "3.10.9"
  }
 },
 "nbformat": 4,
 "nbformat_minor": 2
}
