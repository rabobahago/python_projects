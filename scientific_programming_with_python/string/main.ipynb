{
 "cells": [
  {
   "cell_type": "markdown",
   "metadata": {},
   "source": [
    "### string "
   ]
  },
  {
   "cell_type": "code",
   "execution_count": null,
   "metadata": {},
   "outputs": [],
   "source": [
    "'One ' 'Two ' 'Three '"
   ]
  },
  {
   "cell_type": "code",
   "execution_count": 4,
   "metadata": {},
   "outputs": [
    {
     "name": "stdout",
     "output_type": "stream",
     "text": [
      "Hello world of programming, what is happening my dear friends. I wish we will go beyond this saga\n",
      "Hello world of programming, what is happening my dear friends. I wish we will go beyond this saga\n"
     ]
    }
   ],
   "source": [
    "statement = 'Hello world of programming, what is happening my dear friends. I wish we will go beyond' \\\n",
    "' this saga'\n",
    "print(statement)\n",
    "another_stat = ('Hello world of programming, what is happening my dear friends. I wish we will go beyond this saga')\n",
    "print(another_stat)"
   ]
  },
  {
   "cell_type": "code",
   "execution_count": 1,
   "metadata": {},
   "outputs": [
    {
     "name": "stdout",
     "output_type": "stream",
     "text": [
      "hellgoodbye\n"
     ]
    }
   ],
   "source": [
    "print('hello\\b\\b\\b\\b\\bgoodbye')"
   ]
  },
  {
   "cell_type": "code",
   "execution_count": 2,
   "metadata": {},
   "outputs": [
    {
     "name": "stdout",
     "output_type": "stream",
     "text": [
      "ello\n",
      "o\n",
      "Hel\n",
      "Hell\n",
      "ello\n"
     ]
    }
   ],
   "source": [
    "print('Hello'[-4:])\n",
    "print('Hello'[-1])\n",
    "print('Hello'[: -2])\n",
    "print('Hello'[:-1])\n",
    "print('Hello'[-4: ])"
   ]
  },
  {
   "cell_type": "code",
   "execution_count": 3,
   "metadata": {},
   "outputs": [
    {
     "name": "stdout",
     "output_type": "stream",
     "text": [
      "whit\n",
      "echo\n",
      "cola\n",
      "tesp\n",
      "acee\n",
      "gg\n"
     ]
    },
    {
     "data": {
      "text/plain": [
       "['whit', 'echo', 'cola', 'tesp', 'acee', 'gg']"
      ]
     },
     "execution_count": 3,
     "metadata": {},
     "output_type": "execute_result"
    }
   ],
   "source": [
    "def slice_string(character):\n",
    "    start = 0\n",
    "    end = 4\n",
    "    result = []\n",
    "    while len(character) > end:\n",
    "        substring = character[start:end]\n",
    "        print(substring)\n",
    "        result.append(substring)\n",
    "        character = character[end:]\n",
    "    print(character)\n",
    "    result.append(character)\n",
    "    return result\n",
    "\n",
    "s = 'whitechocolatespaceegg'\n",
    "slice_string(s)"
   ]
  },
  {
   "cell_type": "code",
   "execution_count": 4,
   "metadata": {},
   "outputs": [
    {
     "name": "stdout",
     "output_type": "stream",
     "text": [
      "HloWrd\n",
      "yo h o ogs e\n"
     ]
    }
   ],
   "source": [
    "print('Hello World'[::2])\n",
    "print('tea is good for the body'[::-2])"
   ]
  },
  {
   "cell_type": "code",
   "execution_count": 5,
   "metadata": {},
   "outputs": [
    {
     "data": {
      "text/plain": [
       "'                                                         +-python wrangling for beginners+'"
      ]
     },
     "execution_count": 5,
     "metadata": {},
     "output_type": "execute_result"
    }
   ],
   "source": [
    "character = '-+-Python Wrangling for Beginners+='\n",
    "character.lower().replace('Wrangling', 'Programming').lstrip('-').rstrip('=').rjust(90)"
   ]
  },
  {
   "cell_type": "code",
   "execution_count": 6,
   "metadata": {},
   "outputs": [
    {
     "name": "stdout",
     "output_type": "stream",
     "text": [
      "True\n",
      "False\n",
      "True\n",
      "3\n",
      "-+-:on Wrangling for Beginners+=\n"
     ]
    }
   ],
   "source": [
    "character = '-+-Python Wrangling for Beginners+='\n",
    "print(character.startswith('-+-'))\n",
    "print(character.endswith('+'))\n",
    "print(character.endswith('+='))\n",
    "print(character.index('Pyth'))\n",
    "print(':'.join(character.split('Pyth')))"
   ]
  },
  {
   "cell_type": "code",
   "execution_count": 7,
   "metadata": {},
   "outputs": [
    {
     "name": "stdout",
     "output_type": "stream",
     "text": [
      "True\n",
      "True\n"
     ]
    }
   ],
   "source": [
    "char = '4567890'\n",
    "print(char.isdigit())\n",
    "print(char.isalnum())"
   ]
  },
  {
   "cell_type": "code",
   "execution_count": 8,
   "metadata": {},
   "outputs": [
    {
     "data": {
      "text/plain": [
       "False"
      ]
     },
     "execution_count": 8,
     "metadata": {},
     "output_type": "execute_result"
    }
   ],
   "source": [
    "char = 'uyu'\n",
    "char.isnumeric()"
   ]
  },
  {
   "cell_type": "code",
   "execution_count": 9,
   "metadata": {},
   "outputs": [
    {
     "data": {
      "text/plain": [
       "'Ello Now Game'"
      ]
     },
     "execution_count": 9,
     "metadata": {},
     "output_type": "execute_result"
    }
   ],
   "source": [
    "char = 'ello now game'\n",
    "char.title()"
   ]
  },
  {
   "cell_type": "code",
   "execution_count": 10,
   "metadata": {},
   "outputs": [
    {
     "data": {
      "text/plain": [
       "'Ello now game'"
      ]
     },
     "execution_count": 10,
     "metadata": {},
     "output_type": "execute_result"
    }
   ],
   "source": [
    "char.capitalize()"
   ]
  },
  {
   "cell_type": "code",
   "execution_count": 11,
   "metadata": {},
   "outputs": [
    {
     "name": "stdout",
     "output_type": "stream",
     "text": [
      "Hey, you guys||love Ooooh!!\n"
     ]
    }
   ],
   "source": [
    "print('Hey, you guys', 'love ', sep='||', end='')\n",
    "print('Ooooh!!')"
   ]
  },
  {
   "cell_type": "code",
   "execution_count": 13,
   "metadata": {},
   "outputs": [
    {
     "name": "stdout",
     "output_type": "stream",
     "text": [
      "27\n",
      "+-----------------------------+\n",
      "| Index of Dutch Tulip Prices |\n",
      "+-----------------------------+\n",
      "| Nov 23 1636 | 100 |\n",
      "| Nov 25 1636 | 673 |\n",
      "| Feb 1 1637  | 1366|\n",
      "+-----------------------------+\n"
     ]
    }
   ],
   "source": [
    "print(len('Index of Dutch Tulip Prices'))\n",
    "heading = '| Index of Dutch Tulip Prices |'\n",
    "line = '+' + '-'*16 + '-'*13 + '+'\n",
    "print(line , heading , line , '| Nov 23 1636 | 100 |', '| Nov 25 1636 | 673 |','| Feb 1 1637  | 1366|', line ,sep='\\n')\n"
   ]
  },
  {
   "cell_type": "code",
   "execution_count": 1,
   "metadata": {},
   "outputs": [
    {
     "name": "stdout",
     "output_type": "stream",
     "text": [
      "Hello World         hell\n"
     ]
    }
   ],
   "source": [
    "print('Hello World {0:>12}'.format('hell'))"
   ]
  },
  {
   "cell_type": "code",
   "execution_count": 3,
   "metadata": {},
   "outputs": [
    {
     "name": "stdout",
     "output_type": "stream",
     "text": [
      "Kearas is the only name we have seen all this while with 0.89\n"
     ]
    }
   ],
   "source": [
    "print('Kearas is the only name we have seen all this while with {0:<.2f}'.format(0.88638))"
   ]
  },
  {
   "cell_type": "code",
   "execution_count": 5,
   "metadata": {},
   "outputs": [
    {
     "name": "stdout",
     "output_type": "stream",
     "text": [
      "Read all the Book in your Store: 3.00\n"
     ]
    }
   ],
   "source": [
    "print('Read all the Book in your Store: {0:>.2f}'.format(3))"
   ]
  },
  {
   "cell_type": "code",
   "execution_count": 17,
   "metadata": {},
   "outputs": [
    {
     "name": "stdout",
     "output_type": "stream",
     "text": [
      "-4510\n",
      " 1001\n",
      " -BD2\n",
      "Hello   59\n"
     ]
    }
   ],
   "source": [
    "print('{0: 5d}\\n{1: 5d}\\n{2: 5X}'.format(-4510, 1001, -3026))\n",
    "print('Hello {0: 4X}'.format(89))"
   ]
  },
  {
   "cell_type": "code",
   "execution_count": null,
   "metadata": {},
   "outputs": [],
   "source": []
  }
 ],
 "metadata": {
  "kernelspec": {
   "display_name": "Python 3",
   "language": "python",
   "name": "python3"
  },
  "language_info": {
   "codemirror_mode": {
    "name": "ipython",
    "version": 3
   },
   "file_extension": ".py",
   "mimetype": "text/x-python",
   "name": "python",
   "nbconvert_exporter": "python",
   "pygments_lexer": "ipython3",
   "version": "3.10.9"
  }
 },
 "nbformat": 4,
 "nbformat_minor": 2
}
