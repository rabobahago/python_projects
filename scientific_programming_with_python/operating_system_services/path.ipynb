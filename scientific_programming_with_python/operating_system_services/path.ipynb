{
 "cells": [
  {
   "cell_type": "code",
   "execution_count": 8,
   "metadata": {},
   "outputs": [
    {
     "name": "stdout",
     "output_type": "stream",
     "text": [
      "text.py\n",
      "/home/rabo\n",
      "('/home/rabo', 'test.py')\n",
      "('/home/rabo/test', '.py')\n"
     ]
    }
   ],
   "source": [
    "import os\n",
    "print(os.path.basename('/home/rabo/text.py'))\n",
    "print(os.path.dirname('/home/rabo/test.py'))\n",
    "print(os.path.split('/home/rabo/test.py'))\n",
    "print(os.path.splitext('/home/rabo/test.py'))\n"
   ]
  },
  {
   "cell_type": "code",
   "execution_count": null,
   "metadata": {},
   "outputs": [],
   "source": []
  }
 ],
 "metadata": {
  "kernelspec": {
   "display_name": "Python 3",
   "language": "python",
   "name": "python3"
  },
  "language_info": {
   "codemirror_mode": {
    "name": "ipython",
    "version": 3
   },
   "file_extension": ".py",
   "mimetype": "text/x-python",
   "name": "python",
   "nbconvert_exporter": "python",
   "pygments_lexer": "ipython3",
   "version": "3.10.9"
  }
 },
 "nbformat": 4,
 "nbformat_minor": 2
}
