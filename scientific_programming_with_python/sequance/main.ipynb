{
 "cells": [
  {
   "cell_type": "markdown",
   "metadata": {},
   "source": [
    "### Sequence"
   ]
  },
  {
   "cell_type": "code",
   "execution_count": 4,
   "metadata": {},
   "outputs": [
    {
     "name": "stdout",
     "output_type": "stream",
     "text": [
      "[1, 1, 2, 3, 5, 8, 13, 21, 34, 55, 89, 144, 233, 377, 610, 987, 1597, 2584, 4181, 6765, 10946]\n"
     ]
    }
   ],
   "source": [
    "n = 20\n",
    "fib = [1, 1]\n",
    "for i in range(2, n + 1):\n",
    "    fib.append(fib[i - 1] + fib[i - 2])\n",
    "print(fib)"
   ]
  },
  {
   "cell_type": "code",
   "execution_count": 14,
   "metadata": {},
   "outputs": [
    {
     "name": "stdout",
     "output_type": "stream",
     "text": [
      "1 1 2 3 5 8 13 21 34 55 89 144 233 377 610 987 1597 2584 4181 6765 10946"
     ]
    }
   ],
   "source": [
    "n = 20\n",
    "a, b = 1, 1\n",
    "print(a, b, end='')\n",
    "for _ in range(2, n + 1):\n",
    "    a, b = b, a + b\n",
    "    print('', b, end='')"
   ]
  },
  {
   "cell_type": "code",
   "execution_count": 13,
   "metadata": {},
   "outputs": [
    {
     "name": "stdout",
     "output_type": "stream",
     "text": [
      "0 : kangaroo\n",
      "1 : wombat\n",
      "2 : platypus\n"
     ]
    }
   ],
   "source": [
    "mammals = ['kangaroo', 'wombat', 'platypus']\n",
    "for index, elem in enumerate(mammals):\n",
    "    print(f'{index} : {elem}')"
   ]
  },
  {
   "cell_type": "code",
   "execution_count": 8,
   "metadata": {},
   "outputs": [
    {
     "data": {
      "text/plain": [
       "[(0, 'kangaroo'), (1, 'wombat'), (2, 'platypus')]"
      ]
     },
     "execution_count": 8,
     "metadata": {},
     "output_type": "execute_result"
    }
   ],
   "source": [
    "list(enumerate(mammals))"
   ]
  },
  {
   "cell_type": "code",
   "execution_count": 20,
   "metadata": {},
   "outputs": [
    {
     "name": "stdout",
     "output_type": "stream",
     "text": [
      "[(1, 'a'), (2, 'b'), (3, 'c'), (4, 'd')]\n",
      " 1 : a / 2 : b / 3 : c / 4 : d /"
     ]
    }
   ],
   "source": [
    "a = [1, 2, 3, 4]\n",
    "b = ['a', 'b', 'c', 'd']\n",
    "print(list(zip(a, b)))\n",
    "for item1, item2 in zip(a, b):\n",
    "    print('', item1, ':', item2, '/', end='')"
   ]
  },
  {
   "cell_type": "code",
   "execution_count": 22,
   "metadata": {},
   "outputs": [
    {
     "data": {
      "text/plain": [
       "[(1, 'a'), (2, 'b'), (3, 'c'), (4, 'd')]"
      ]
     },
     "execution_count": 22,
     "metadata": {},
     "output_type": "execute_result"
    }
   ],
   "source": [
    "list_tuple = list(zip(a, b))\n",
    "list_tuple"
   ]
  },
  {
   "cell_type": "code",
   "execution_count": 31,
   "metadata": {},
   "outputs": [
    {
     "name": "stdout",
     "output_type": "stream",
     "text": [
      "(1, 2, 3, 4)\n",
      "('a', 'b', 'c', 'd')\n"
     ]
    }
   ],
   "source": [
    "tuple_a, tuple_b = zip(*list_tuple)\n",
    "print(tuple_a)\n",
    "print(tuple_b)"
   ]
  },
  {
   "cell_type": "code",
   "execution_count": 12,
   "metadata": {},
   "outputs": [
    {
     "name": "stdout",
     "output_type": "stream",
     "text": [
      "hello\n",
      "h-e-l-l-o\n",
      "[4, 10, 2]\n",
      "4102\n"
     ]
    },
    {
     "data": {
      "text/plain": [
       "[4, 6, 8]"
      ]
     },
     "execution_count": 12,
     "metadata": {},
     "output_type": "execute_result"
    }
   ],
   "source": [
    "s = 'hello'\n",
    "a = [4, 10, 2]\n",
    "print(s, sep='-')\n",
    "print(*s, sep='-')\n",
    "print(a)\n",
    "print(*a, sep='')\n",
    "list(range(*a))"
   ]
  },
  {
   "cell_type": "code",
   "execution_count": 15,
   "metadata": {},
   "outputs": [
    {
     "data": {
      "text/plain": [
       "8.0"
      ]
     },
     "execution_count": 15,
     "metadata": {},
     "output_type": "execute_result"
    }
   ],
   "source": [
    "from math import *\n",
    "d = 8\n",
    "e = 2\n",
    "sqrt(d ** e)"
   ]
  },
  {
   "cell_type": "code",
   "execution_count": 78,
   "metadata": {},
   "outputs": [
    {
     "name": "stdout",
     "output_type": "stream",
     "text": [
      "False\n",
      "True\n"
     ]
    },
    {
     "data": {
      "text/plain": [
       "3"
      ]
     },
     "execution_count": 78,
     "metadata": {},
     "output_type": "execute_result"
    }
   ],
   "source": [
    "a = 5\n",
    "b = 2\n",
    "print(a // b == a / b)\n",
    "print(a - b * (a // b) ==  a % b)\n",
    "a = 2\n",
    "b = 6\n",
    "a_cube = b*a**3\n",
    "b_cube = a*b**3\n",
    "cube_diff = a_cube - b_cube\n",
    "cube_mul = cube_diff * 3\n",
    "cube_mul % 7"
   ]
  },
  {
   "cell_type": "code",
   "execution_count": 82,
   "metadata": {},
   "outputs": [
    {
     "data": {
      "text/plain": [
       "2316.92458202902"
      ]
     },
     "execution_count": 82,
     "metadata": {},
     "output_type": "execute_result"
    }
   ],
   "source": [
    "from math import *\n",
    "fifth = (2)**(1/5)\n",
    "fifth_mul = fifth * 2017\n",
    "fifth_mul"
   ]
  },
  {
   "cell_type": "code",
   "execution_count": 11,
   "metadata": {},
   "outputs": [
    {
     "name": "stdout",
     "output_type": "stream",
     "text": [
      "SMTW   \n"
     ]
    }
   ],
   "source": [
    "days = 'Sun Mon Tues Weds Thurs Fri Sat'\n",
    "print(days.replace('rs', '').replace('s', '', 1)[::4])\n"
   ]
  },
  {
   "cell_type": "code",
   "execution_count": 26,
   "metadata": {},
   "outputs": [
    {
     "name": "stdout",
     "output_type": "stream",
     "text": [
      "(2, 5, 7)\n",
      "('a', 'b', 'c')\n"
     ]
    }
   ],
   "source": [
    "pair = [(2, 'a'), (5, 'b'), (7, 'c')]\n",
    "a, b = zip(*pair)\n",
    "print(a)\n",
    "print(b)"
   ]
  },
  {
   "cell_type": "code",
   "execution_count": 29,
   "metadata": {},
   "outputs": [
    {
     "data": {
      "text/plain": [
       "[5, 0, 6]"
      ]
     },
     "execution_count": 29,
     "metadata": {},
     "output_type": "execute_result"
    }
   ],
   "source": [
    "# P(x) = 4 + 5x + 2x3\n",
    "def diff_poly(poly_list):\n",
    "    result = []\n",
    "    for index, item in enumerate(poly_list[1:], start=1):\n",
    "        result.append(item * index)\n",
    "    return result\n",
    "P = [4, 5, 0, 2]\n",
    "diff_poly(P)"
   ]
  },
  {
   "cell_type": "code",
   "execution_count": 52,
   "metadata": {},
   "outputs": [
    {
     "data": {
      "text/plain": [
       "[1, 2, 2, 4, 5, 5]"
      ]
     },
     "execution_count": 52,
     "metadata": {},
     "output_type": "execute_result"
    }
   ],
   "source": [
    "scores = [87, 75, 75, 50, 32, 32]\n",
    "scores_rank = [1]\n",
    "for index, elem in enumerate(scores[1:]):\n",
    "    if scores[index] == scores[index + 1]:\n",
    "        scores_rank.append(index + 1)\n",
    "    else:\n",
    "        scores_rank.append(index + 2)\n",
    "scores_rank\n"
   ]
  },
  {
   "cell_type": "code",
   "execution_count": 4,
   "metadata": {},
   "outputs": [
    {
     "name": "stdout",
     "output_type": "stream",
     "text": [
      "1900 is not leap year\n"
     ]
    }
   ],
   "source": [
    "year = 1900\n",
    "if not year % 400:\n",
    "    is_leap_year = True\n",
    "elif not year % 4:\n",
    "    is_leap_year = False\n",
    "elif not year % 100:\n",
    "    is_leap_year = True\n",
    "else:\n",
    "    is_leap_year = False\n",
    "\n",
    "is_leap = 'is' if is_leap_year else 'is not'\n",
    "\n",
    "print('{0} {1} leap year'.format(year, is_leap))"
   ]
  },
  {
   "cell_type": "code",
   "execution_count": 5,
   "metadata": {},
   "outputs": [
    {
     "name": "stdout",
     "output_type": "stream",
     "text": [
      "1.2.3.4.5.6.7.8.9.10."
     ]
    }
   ],
   "source": [
    "i = 0\n",
    "while i < 10:\n",
    "    i += 1\n",
    "    print(i, end='.')\n"
   ]
  },
  {
   "cell_type": "code",
   "execution_count": 16,
   "metadata": {},
   "outputs": [
    {
     "name": "stdout",
     "output_type": "stream",
     "text": [
      "1 1 2 3 5 8 13 21 34 55 89 144 233 377 610 987 1597 2584 4181 6765 10946"
     ]
    }
   ],
   "source": [
    "n = 2\n",
    "a, b = 1, 1\n",
    "print(a, b, end='')\n",
    "while n < 21:\n",
    "    a, b = b,  a + b\n",
    "    print('', b, end='')\n",
    "    n += 1"
   ]
  },
  {
   "cell_type": "code",
   "execution_count": 19,
   "metadata": {},
   "outputs": [
    {
     "name": "stdout",
     "output_type": "stream",
     "text": [
      "21\n"
     ]
    }
   ],
   "source": [
    "a, b = 1071, 462\n",
    "while b:\n",
    "    a, b = b, a % b\n",
    "print(a)"
   ]
  },
  {
   "cell_type": "code",
   "execution_count": 32,
   "metadata": {},
   "outputs": [
    {
     "name": "stdout",
     "output_type": "stream",
     "text": [
      "75 is divisible by both 15 and 25\n"
     ]
    }
   ],
   "source": [
    "x = 0\n",
    "while True:\n",
    "    x += 1\n",
    "    if not (x % 15 or x % 25):\n",
    "        break\n",
    "print(f'{x} is divisible by both 15 and 25')"
   ]
  },
  {
   "cell_type": "code",
   "execution_count": 46,
   "metadata": {},
   "outputs": [
    {
     "name": "stdout",
     "output_type": "stream",
     "text": [
      "20 is even\n",
      "6 is even\n",
      "8 is even\n",
      "10 is even\n"
     ]
    }
   ],
   "source": [
    "nums = [20, 5, 6, 7, 8, 10]\n",
    "for num in nums:\n",
    "    if num % 2:\n",
    "        continue\n",
    "    print(f'{num} is even')"
   ]
  },
  {
   "cell_type": "code",
   "execution_count": 44,
   "metadata": {},
   "outputs": [
    {
     "name": "stdout",
     "output_type": "stream",
     "text": [
      "3 is divisible by 3\n",
      "6 is divisible by 3\n",
      "9 is divisible by 3\n"
     ]
    }
   ],
   "source": [
    "for i in range(1, 11):\n",
    "    if i == 6:\n",
    "        pass\n",
    "    if not i % 3:\n",
    "        print(i, 'is divisible by 3')"
   ]
  },
  {
   "cell_type": "code",
   "execution_count": 50,
   "metadata": {},
   "outputs": [
    {
     "name": "stdout",
     "output_type": "stream",
     "text": [
      "At 0 there is -2\n"
     ]
    }
   ],
   "source": [
    "nums = [-2, 4, 5, 2, 5, 10]\n",
    "for i, num in enumerate(nums, start=0):\n",
    "    if num < 0:\n",
    "        print(f'At {i} there is {num}')\n",
    "        break\n",
    "else:\n",
    "    print('There is no negative element')"
   ]
  },
  {
   "cell_type": "code",
   "execution_count": null,
   "metadata": {},
   "outputs": [],
   "source": []
  }
 ],
 "metadata": {
  "kernelspec": {
   "display_name": "Python 3",
   "language": "python",
   "name": "python3"
  },
  "language_info": {
   "codemirror_mode": {
    "name": "ipython",
    "version": 3
   },
   "file_extension": ".py",
   "mimetype": "text/x-python",
   "name": "python",
   "nbconvert_exporter": "python",
   "pygments_lexer": "ipython3",
   "version": "3.10.9"
  }
 },
 "nbformat": 4,
 "nbformat_minor": 2
}
