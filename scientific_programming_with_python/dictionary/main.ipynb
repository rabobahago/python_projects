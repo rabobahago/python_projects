{
 "cells": [
  {
   "cell_type": "code",
   "execution_count": 2,
   "metadata": {},
   "outputs": [
    {
     "data": {
      "text/plain": [
       "{'Burj Khalifa': 828.0,\n",
       " 'One World Trade Center': 541.3,\n",
       " 'Mercury City Tower': 339.0,\n",
       " 'Q1': 323.0,\n",
       " 'Carlton Centre': 223.0,\n",
       " 'Gran Torre Santiago': 300.0}"
      ]
     },
     "execution_count": 2,
     "metadata": {},
     "output_type": "execute_result"
    }
   ],
   "source": [
    "height = {'Burj Khalifa': 828., 'One World Trade Center': 541.3,\n",
    "'Mercury City Tower': -1., 'Q1': 323.,\n",
    "'Carlton Centre': 223., 'Gran Torre Santiago': 300.,\n",
    "'Mercury City Tower': 339.}\n",
    "\n",
    "height"
   ]
  },
  {
   "cell_type": "code",
   "execution_count": 4,
   "metadata": {},
   "outputs": [
    {
     "name": "stdout",
     "output_type": "stream",
     "text": [
      "541.3\n"
     ]
    },
    {
     "data": {
      "text/plain": [
       "223.0"
      ]
     },
     "execution_count": 4,
     "metadata": {},
     "output_type": "execute_result"
    }
   ],
   "source": [
    "print(height['One World Trade Center'])\n",
    "building = 'Carlton Centre'\n",
    "height[building]\n"
   ]
  },
  {
   "cell_type": "code",
   "execution_count": 5,
   "metadata": {},
   "outputs": [],
   "source": [
    "height['Empire State Building'] = 381.\n",
    "height['The Shard'] = 306."
   ]
  },
  {
   "cell_type": "code",
   "execution_count": 7,
   "metadata": {},
   "outputs": [
    {
     "data": {
      "text/plain": [
       "{1: 'orange', 2: 'egg', 5: 'tea'}"
      ]
     },
     "execution_count": 7,
     "metadata": {},
     "output_type": "execute_result"
    }
   ],
   "source": [
    "ordinal = dict([(1, 'orange'), (2, 'egg'), (5, 'tea')])\n",
    "ordinal"
   ]
  },
  {
   "cell_type": "code",
   "execution_count": 9,
   "metadata": {},
   "outputs": [
    {
     "data": {
      "text/plain": [
       "{'Mercury': 3.301e+23, 'Venus': 4.867e+24, 'Earth': 5.972e+24}"
      ]
     },
     "execution_count": 9,
     "metadata": {},
     "output_type": "execute_result"
    }
   ],
   "source": [
    "mass = dict(Mercury=3.301e23, Venus=4.867e24, Earth=5.972e24)\n",
    "mass"
   ]
  },
  {
   "cell_type": "code",
   "execution_count": 10,
   "metadata": {},
   "outputs": [
    {
     "name": "stdout",
     "output_type": "stream",
     "text": [
      "1 orange\n",
      "2 egg\n",
      "5 tea\n"
     ]
    }
   ],
   "source": [
    "for key in ordinal:\n",
    "    print(key, ordinal[key])"
   ]
  },
  {
   "cell_type": "code",
   "execution_count": 1,
   "metadata": {},
   "outputs": [],
   "source": [
    "numerals = {'one':'I', 'two':'II', 'three':'III', 'four':'IV', 'five':'V', 'six':'VI', 'seven':'VII', 'eight':'VIII', 1: 'I', 2: 'II', 3: 'III', 4:'IV', 5: 'V', 6:'VI', 7:'VII', 8:'VIII'}"
   ]
  },
  {
   "cell_type": "code",
   "execution_count": 4,
   "metadata": {},
   "outputs": [
    {
     "name": "stdout",
     "output_type": "stream",
     "text": [
      "III IV V VI "
     ]
    }
   ],
   "source": [
    "for i in ['three', 'four', 'five', 'six']:\n",
    "    print(numerals[i], end=' ')"
   ]
  },
  {
   "cell_type": "code",
   "execution_count": 6,
   "metadata": {},
   "outputs": [
    {
     "name": "stdout",
     "output_type": "stream",
     "text": [
      "VIII VII VI V IV III II I "
     ]
    }
   ],
   "source": [
    "for i in range(8, 0, -1):\n",
    "    print(numerals[i], end=' ')"
   ]
  },
  {
   "cell_type": "code",
   "execution_count": 8,
   "metadata": {},
   "outputs": [
    {
     "name": "stdout",
     "output_type": "stream",
     "text": [
      "None\n"
     ]
    }
   ],
   "source": [
    "print(numerals.get('open'))"
   ]
  },
  {
   "cell_type": "code",
   "execution_count": 9,
   "metadata": {},
   "outputs": [
    {
     "data": {
      "text/plain": [
       "'I'"
      ]
     },
     "execution_count": 9,
     "metadata": {},
     "output_type": "execute_result"
    }
   ],
   "source": [
    "numerals.get('one', 1)"
   ]
  },
  {
   "cell_type": "code",
   "execution_count": 12,
   "metadata": {},
   "outputs": [
    {
     "data": {
      "text/plain": [
       "dict_items([('one', 'I'), ('two', 'II'), ('three', 'III'), ('four', 'IV'), ('five', 'V'), ('six', 'VI'), ('seven', 'VII'), ('eight', 'VIII'), (1, 'I'), (2, 'II'), (3, 'III'), (4, 'IV'), (5, 'V'), (6, 'VI'), (7, 'VII'), (8, 'VIII')])"
      ]
     },
     "execution_count": 12,
     "metadata": {},
     "output_type": "execute_result"
    }
   ],
   "source": [
    "numerals.items()"
   ]
  },
  {
   "cell_type": "code",
   "execution_count": 14,
   "metadata": {},
   "outputs": [
    {
     "name": "stdout",
     "output_type": "stream",
     "text": [
      "3 4 6\n"
     ]
    }
   ],
   "source": [
    "def my_v(x, y, z):\n",
    "    print(x, y, z)\n",
    "my_obj = {'x': 3, 'y': 4, 'z': 6}\n",
    "my_v(**my_obj)"
   ]
  },
  {
   "cell_type": "code",
   "execution_count": 21,
   "metadata": {},
   "outputs": [
    {
     "data": {
      "text/plain": [
       "{4: 3, 5: 5, 3: 9, 7: 4, 2: 3, 9: 3, 1: 1, 6: 1, 11: 3}"
      ]
     },
     "execution_count": 21,
     "metadata": {},
     "output_type": "execute_result"
    }
   ],
   "source": [
    "text = 'Four score and seven years ago our fathers brought forth on this ' \\\n",
    "'continent , a new nation , conceived in Liberty , and dedicated to the proposition ' \\\n",
    "'that all men are created equal'\n",
    "text = text.replace(',', '').lower()\n",
    "word_length = {}\n",
    "for word in text.split():\n",
    "    try:\n",
    "        word_length[len(word)] += 1\n",
    "    except KeyError:\n",
    "        word_length[len(word)] = 1\n",
    "word_length\n"
   ]
  },
  {
   "cell_type": "code",
   "execution_count": 23,
   "metadata": {},
   "outputs": [
    {
     "data": {
      "text/plain": [
       "defaultdict(int, {4: 3, 5: 5, 3: 9, 7: 4, 2: 3, 9: 3, 1: 1, 6: 1, 11: 3})"
      ]
     },
     "execution_count": 23,
     "metadata": {},
     "output_type": "execute_result"
    }
   ],
   "source": [
    "from collections import defaultdict\n",
    "word_length = defaultdict(int)\n",
    "for word in text.split():\n",
    "    word_length[len(word)] += 1\n",
    "word_length"
   ]
  },
  {
   "cell_type": "code",
   "execution_count": 36,
   "metadata": {},
   "outputs": [
    {
     "name": "stdout",
     "output_type": "stream",
     "text": [
      "1\n",
      "2\n",
      "3\n",
      "4\n",
      "surprise!\n"
     ]
    }
   ],
   "source": [
    "s = set([1, 1, 4, 3, 2, 2, 3, 4, 1, 3, 'surprise!'])\n",
    "for elem in s:\n",
    "    print(elem)"
   ]
  },
  {
   "cell_type": "code",
   "execution_count": 37,
   "metadata": {},
   "outputs": [
    {
     "data": {
      "text/plain": [
       "{1, 100, 2, 3, 4, 'surprise!'}"
      ]
     },
     "execution_count": 37,
     "metadata": {},
     "output_type": "execute_result"
    }
   ],
   "source": [
    "s.add(100)\n",
    "s"
   ]
  },
  {
   "cell_type": "code",
   "execution_count": 39,
   "metadata": {},
   "outputs": [],
   "source": [
    "s.remove(1)"
   ]
  },
  {
   "cell_type": "code",
   "execution_count": 40,
   "metadata": {},
   "outputs": [
    {
     "data": {
      "text/plain": [
       "{100, 2, 3, 4, 'surprise!'}"
      ]
     },
     "execution_count": 40,
     "metadata": {},
     "output_type": "execute_result"
    }
   ],
   "source": [
    "s"
   ]
  },
  {
   "cell_type": "code",
   "execution_count": 43,
   "metadata": {},
   "outputs": [],
   "source": [
    "s.discard(4)"
   ]
  },
  {
   "cell_type": "code",
   "execution_count": 44,
   "metadata": {},
   "outputs": [
    {
     "data": {
      "text/plain": [
       "{100, 2, 3, 'surprise!'}"
      ]
     },
     "execution_count": 44,
     "metadata": {},
     "output_type": "execute_result"
    }
   ],
   "source": [
    "s"
   ]
  },
  {
   "cell_type": "code",
   "execution_count": 45,
   "metadata": {},
   "outputs": [
    {
     "data": {
      "text/plain": [
       "2"
      ]
     },
     "execution_count": 45,
     "metadata": {},
     "output_type": "execute_result"
    }
   ],
   "source": [
    "s.pop()"
   ]
  },
  {
   "cell_type": "code",
   "execution_count": 46,
   "metadata": {},
   "outputs": [
    {
     "data": {
      "text/plain": [
       "{100, 3, 'surprise!'}"
      ]
     },
     "execution_count": 46,
     "metadata": {},
     "output_type": "execute_result"
    }
   ],
   "source": [
    "s"
   ]
  },
  {
   "cell_type": "code",
   "execution_count": 47,
   "metadata": {},
   "outputs": [
    {
     "data": {
      "text/plain": [
       "{1, 2, 5, 6}"
      ]
     },
     "execution_count": 47,
     "metadata": {},
     "output_type": "execute_result"
    }
   ],
   "source": [
    "A = set((1, 2, 3))\n",
    "B = set((1, 2, 3, 4))\n",
    "C, D = set((3, 4, 5, 6)), set((7, 8, 9))\n",
    "B | C # union\n",
    "{1, 2, 3, 4, 5, 6}\n",
    "A | C | D # union of three sets\n",
    "{1, 2, 3, 4, 5, 6, 7, 8, 9}\n",
    "A & C # intersection\n",
    "{3}\n",
    "C & D\n",
    "set() # the empty set\n",
    "C.isdisjoint(D)\n",
    "True\n",
    "B - C # difference\n",
    "{1, 2}\n",
    "B ^ C # symmetric difference\n",
    "{1, 2, 5, 6}"
   ]
  },
  {
   "cell_type": "code",
   "execution_count": null,
   "metadata": {},
   "outputs": [],
   "source": []
  }
 ],
 "metadata": {
  "kernelspec": {
   "display_name": "Python 3",
   "language": "python",
   "name": "python3"
  },
  "language_info": {
   "codemirror_mode": {
    "name": "ipython",
    "version": 3
   },
   "file_extension": ".py",
   "mimetype": "text/x-python",
   "name": "python",
   "nbconvert_exporter": "python",
   "pygments_lexer": "ipython3",
   "version": "3.10.9"
  }
 },
 "nbformat": 4,
 "nbformat_minor": 2
}
