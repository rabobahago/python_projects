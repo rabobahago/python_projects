{
 "cells": [
  {
   "cell_type": "code",
   "execution_count": 3,
   "metadata": {},
   "outputs": [
    {
     "name": "stdout",
     "output_type": "stream",
     "text": [
      "foo: 1 2\n",
      "bar: hello\n",
      "foo: 30 34\n"
     ]
    }
   ],
   "source": [
    "records = [('foo', 1,  2), ('bar', 'hello'), ('foo', 30, 34)]\n",
    "def foo(x, y):\n",
    "    print('foo:', x, y)\n",
    "def bar(x):\n",
    "    print('bar:', x)\n",
    "for (x, *y) in records:\n",
    "    if x == 'foo':\n",
    "        foo(*y)\n",
    "    if x == 'bar':\n",
    "        bar(*y)"
   ]
  },
  {
   "cell_type": "code",
   "execution_count": 10,
   "metadata": {},
   "outputs": [
    {
     "name": "stdout",
     "output_type": "stream",
     "text": [
      "nobody\n",
      "['*', '-2', '-2', 'Unprivileged User']\n",
      "/var/empty\n",
      "/usr/bin/false\n"
     ]
    }
   ],
   "source": [
    "line = 'nobody:*:-2:-2:Unprivileged User:/var/empty:/usr/bin/false'\n",
    "name, *fields, homedir, sh =line.split(':')\n",
    "print(name)\n",
    "print(fields)\n",
    "print(homedir)\n",
    "print(sh)"
   ]
  },
  {
   "cell_type": "code",
   "execution_count": 18,
   "metadata": {},
   "outputs": [
    {
     "name": "stdout",
     "output_type": "stream",
     "text": [
      "10\n",
      "0\n"
     ]
    }
   ],
   "source": [
    "def sum(items):\n",
    "    if len(items) == 0: return 0\n",
    "    head, *tail = items\n",
    "    return head + sum(tail) if tail else head\n",
    "items = [1, 2, 3, 4]\n",
    "print(sum(items))\n",
    "items = []\n",
    "print(sum(items))\n"
   ]
  },
  {
   "cell_type": "code",
   "execution_count": 20,
   "metadata": {},
   "outputs": [
    {
     "name": "stdout",
     "output_type": "stream",
     "text": [
      "deque(['When writing code to search for items, it is common to use a generator function in‐\\n'], maxlen=5)\n",
      "When writing code to search for items, it is common to use a generator function in‐\n",
      "volving yield, as shown in this recipe’s solution. This decouples the process of searching\n",
      "--------------------\n",
      "deque(['When writing code to search for items, it is common to use a generator function in‐\\n', 'volving yield, as shown in this recipe’s solution. This decouples the process of searching\\n'], maxlen=5)\n",
      "deque(['When writing code to search for items, it is common to use a generator function in‐\\n', 'volving yield, as shown in this recipe’s solution. This decouples the process of searching\\n', 'from the code that uses the results. If you’re new to generators, see Recipe 4.3.\\n'], maxlen=5)\n",
      "deque(['When writing code to search for items, it is common to use a generator function in‐\\n', 'volving yield, as shown in this recipe’s solution. This decouples the process of searching\\n', 'from the code that uses the results. If you’re new to generators, see Recipe 4.3.\\n', 'Using deque(maxlen=N) creates a fixed-sized queue. When new items are added and\\n'], maxlen=5)\n",
      "deque(['When writing code to search for items, it is common to use a generator function in‐\\n', 'volving yield, as shown in this recipe’s solution. This decouples the process of searching\\n', 'from the code that uses the results. If you’re new to generators, see Recipe 4.3.\\n', 'Using deque(maxlen=N) creates a fixed-sized queue. When new items are added and\\n', 'the queue is full, the oldest item is automatically removed. For example'], maxlen=5)\n"
     ]
    }
   ],
   "source": [
    "from collections import deque\n",
    "def search(lines, pattern, history=5):\n",
    "    previous_lines = deque(maxlen=history)\n",
    "    for line in lines:\n",
    "        if pattern in line:\n",
    "            yield line, previous_lines\n",
    "        previous_lines.append(line)\n",
    "        print(previous_lines)\n",
    "if __name__ == '__main__':\n",
    "    with open('somefile.txt', encoding='utf-8') as f:\n",
    "        for line, prevlines in search(f, 'solution', 5):\n",
    "            for pline in prevlines:\n",
    "                print(pline, end='')\n",
    "            print(line, end='')\n",
    "            print('-'*20)\n"
   ]
  },
  {
   "cell_type": "code",
   "execution_count": 25,
   "metadata": {},
   "outputs": [
    {
     "name": "stdout",
     "output_type": "stream",
     "text": [
      "[2, 78]\n",
      "[7899, 1223, 790]\n"
     ]
    }
   ],
   "source": [
    "import heapq\n",
    "nums = [2, 78, 7899, 790, 1223]\n",
    "print(heapq.nsmallest(2, nums))\n",
    "print(heapq.nlargest(3, nums))"
   ]
  },
  {
   "cell_type": "code",
   "execution_count": 30,
   "metadata": {},
   "outputs": [
    {
     "data": {
      "text/plain": [
       "[{'name': 'YHOO', 'shares': 45, 'price': 16.35},\n",
       " {'name': 'FB', 'shares': 200, 'price': 21.09}]"
      ]
     },
     "execution_count": 30,
     "metadata": {},
     "output_type": "execute_result"
    }
   ],
   "source": [
    "portfolio = [\n",
    "{'name': 'IBM', 'shares': 100, 'price': 91.1},\n",
    "{'name': 'AAPL', 'shares': 50, 'price': 543.22},\n",
    "{'name': 'FB', 'shares': 200, 'price': 21.09},\n",
    "{'name': 'HPQ', 'shares': 35, 'price': 31.75},\n",
    "{'name': 'YHOO', 'shares': 45, 'price': 16.35},\n",
    "{'name': 'ACME', 'shares': 75, 'price': 115.65}\n",
    "]\n",
    "cheapest = heapq.nsmallest(2, portfolio, key=lambda s: s['price'])\n",
    "cheapest\n"
   ]
  },
  {
   "cell_type": "code",
   "execution_count": 28,
   "metadata": {},
   "outputs": [
    {
     "data": {
      "text/plain": [
       "[{'name': 'AAPL', 'shares': 50, 'price': 543.22},\n",
       " {'name': 'ACME', 'shares': 75, 'price': 115.65}]"
      ]
     },
     "execution_count": 28,
     "metadata": {},
     "output_type": "execute_result"
    }
   ],
   "source": [
    "expensive = heapq.nlargest(2, portfolio, key=lambda s: s['price'])\n",
    "expensive"
   ]
  },
  {
   "cell_type": "code",
   "execution_count": 37,
   "metadata": {},
   "outputs": [
    {
     "data": {
      "text/plain": [
       "Item('bar')"
      ]
     },
     "execution_count": 37,
     "metadata": {},
     "output_type": "execute_result"
    }
   ],
   "source": [
    "import heapq\n",
    "class PriorityQueue:\n",
    "    def __init__(self):\n",
    "        self._queue = []\n",
    "        self._index = 0\n",
    "    def push(self, item, priority):\n",
    "        heapq.heappush(self._queue, (-priority, self._index, item))\n",
    "        self._index += 1\n",
    "    def pop(self):\n",
    "        return heapq.heappop(self._queue)[-1]\n",
    "class Item:\n",
    "    def __init__(self, name):\n",
    "        self.name = name\n",
    "    def __repr__(self):\n",
    "        return 'Item({!r})'.format(self.name)\n",
    "q = PriorityQueue()\n",
    "q.push(Item('foo'), 1)\n",
    "q.push(Item('bar'), 5)\n",
    "q.push(Item('spam'), 4)\n",
    "q.push(Item('grok'), 1)\n",
    "q.pop()"
   ]
  },
  {
   "cell_type": "code",
   "execution_count": 38,
   "metadata": {},
   "outputs": [
    {
     "data": {
      "text/plain": [
       "Item('spam')"
      ]
     },
     "execution_count": 38,
     "metadata": {},
     "output_type": "execute_result"
    }
   ],
   "source": [
    "q.pop()"
   ]
  },
  {
   "cell_type": "code",
   "execution_count": null,
   "metadata": {},
   "outputs": [],
   "source": []
  }
 ],
 "metadata": {
  "kernelspec": {
   "display_name": "Python 3",
   "language": "python",
   "name": "python3"
  },
  "language_info": {
   "codemirror_mode": {
    "name": "ipython",
    "version": 3
   },
   "file_extension": ".py",
   "mimetype": "text/x-python",
   "name": "python",
   "nbconvert_exporter": "python",
   "pygments_lexer": "ipython3",
   "version": "3.10.9"
  }
 },
 "nbformat": 4,
 "nbformat_minor": 2
}
