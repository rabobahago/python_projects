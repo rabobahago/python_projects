{
 "cells": [
  {
   "cell_type": "code",
   "execution_count": 53,
   "metadata": {},
   "outputs": [
    {
     "name": "stdout",
     "output_type": "stream",
     "text": [
      "(3, 7)\n",
      "3\n",
      "7\n",
      "The coordinate: =>X: 3, Y: 7\n",
      "(6, 11)\n",
      "(9, 21)\n",
      "27\n",
      "(1, 4)\n"
     ]
    }
   ],
   "source": [
    "class Point:\n",
    "    \"\"\"Point class represents and manipulates x, y coord\"\"\"\n",
    "    def __init__(self, x = 0, y = 0):\n",
    "        \"\"\"create a new Point object at x, y\"\"\"\n",
    "        self.x = x\n",
    "        self.y = y\n",
    "    def __str__(self):\n",
    "        \"\"\"convert instance to a string\"\"\"\n",
    "        return \"({0}, {1})\".format(self.x, self.y)\n",
    "    def distance_from_origin(self):\n",
    "        \"\"\"Compute distance from origin\"\"\"\n",
    "        return (((self.x) ** 2) + ((self.y) ** 2))**0.5\n",
    "    def print_point(self, pt):\n",
    "        \"\"\"Instances as arguments and parameters\"\"\"\n",
    "        print('The coordinate: =>X: {0}, Y: {1}'.format(pt.x, pt.y))\n",
    "    def reverse(self):\n",
    "        (self.x, self.y) = (self.y, self.x)\n",
    "    def halfway(self, target):\n",
    "        \"\"\"Return the halfway point between myself and the target \"\"\"\n",
    "        midx= (self.x + target.x) / 2\n",
    "        midy = (self.y + target.y) / 2\n",
    "        return Point(midx, midy)\n",
    "    def __add__(self, other):\n",
    "        return Point(self.x * other.x, self.y + other.y)\n",
    "    def __mul__(self, other):\n",
    "        return self.x * other.x + self.y * other.y\n",
    "    def __rmul__(self, other):\n",
    "        return Point(self.x  * other, self.y * other)\n",
    "    def __sub__(self, other):\n",
    "        return Point(self.x - other[0], self.y - other[1])\n",
    "\n",
    "\n",
    "point = Point(3, 7)\n",
    "print(point)\n",
    "print(point.x)\n",
    "print(point.y)\n",
    "point.distance_from_origin()\n",
    "point.print_point(point)\n",
    "print(point.__add__(Point(2,4)))\n",
    "print(point.__rmul__(3))\n",
    "print(point.__mul__(Point(2, 3)))\n",
    "print(point.__sub__((2, 3)))"
   ]
  },
  {
   "cell_type": "code",
   "execution_count": 3,
   "metadata": {},
   "outputs": [
    {
     "data": {
      "text/plain": [
       "'(3, 7)'"
      ]
     },
     "execution_count": 3,
     "metadata": {},
     "output_type": "execute_result"
    }
   ],
   "source": [
    "str(point)"
   ]
  },
  {
   "cell_type": "code",
   "execution_count": 30,
   "metadata": {},
   "outputs": [
    {
     "name": "stdout",
     "output_type": "stream",
     "text": [
      "(3, 7)\n"
     ]
    }
   ],
   "source": [
    "print(point)"
   ]
  },
  {
   "cell_type": "code",
   "execution_count": 25,
   "metadata": {},
   "outputs": [
    {
     "name": "stdout",
     "output_type": "stream",
     "text": [
      "(4.0, 8.0)\n"
     ]
    }
   ],
   "source": [
    "print(Point(3, 4).halfway(Point(5, 12)))"
   ]
  },
  {
   "cell_type": "code",
   "execution_count": 31,
   "metadata": {},
   "outputs": [
    {
     "name": "stdout",
     "output_type": "stream",
     "text": [
      "box:  (0, 0), 100, 200\n",
      "bomb:  (100, 80), 5, 10\n"
     ]
    }
   ],
   "source": [
    "class Rectangle:\n",
    "    \"\"\"Class to manufacture Rectangle Objects\"\"\"\n",
    "    def __init__(self, pos, width, height):\n",
    "        \"\"\" Initialize rectangle at posn, with width w, height h \"\"\"\n",
    "        self.corner = pos\n",
    "        self.width = width\n",
    "        self.height = height\n",
    "    def __str__(self):\n",
    "        return f\"{self.corner}, {self.width}, {self.height}\"\n",
    "    def grow(self, delta_width, delta_height):\n",
    "        \"\"\" Grow (or shrink) this object by the deltas \"\"\"\n",
    "        self.width += delta_width\n",
    "        self.height += delta_height\n",
    "    def move(self, dx, dy):\n",
    "        \"\"\" Move this object by the deltas \"\"\"\n",
    "        self.corner.x += dx\n",
    "        self.corner.y += dy\n",
    "\n",
    "box = Rectangle(Point(0, 0), 100, 200)\n",
    "bomb = Rectangle(Point(100, 80), 5, 10) # In my video game\n",
    "print(\"box: \", box)\n",
    "print(\"bomb: \", bomb)\n"
   ]
  },
  {
   "cell_type": "code",
   "execution_count": 32,
   "metadata": {},
   "outputs": [
    {
     "name": "stdout",
     "output_type": "stream",
     "text": [
      "(10, 5), 100, 50\n",
      "(10, 5), 125, 40\n",
      "(0, 15), 125, 40\n"
     ]
    }
   ],
   "source": [
    "r = Rectangle(Point(10,5), 100, 50)\n",
    "print(r)\n",
    "((10, 5), 100, 50)\n",
    "r.grow(25, -10)\n",
    "print(r)\n",
    "((10, 5), 125, 40)\n",
    "r.move(-10, 10)\n",
    "print(r)"
   ]
  },
  {
   "cell_type": "code",
   "execution_count": 33,
   "metadata": {},
   "outputs": [
    {
     "data": {
      "text/plain": [
       "False"
      ]
     },
     "execution_count": 33,
     "metadata": {},
     "output_type": "execute_result"
    }
   ],
   "source": [
    "p = Point(2, 3)\n",
    "q = Point(2, 3)\n",
    "p is q"
   ]
  },
  {
   "cell_type": "code",
   "execution_count": 34,
   "metadata": {},
   "outputs": [
    {
     "data": {
      "text/plain": [
       "True"
      ]
     },
     "execution_count": 34,
     "metadata": {},
     "output_type": "execute_result"
    }
   ],
   "source": [
    "import copy\n",
    "r = p\n",
    "p is r"
   ]
  },
  {
   "cell_type": "code",
   "execution_count": 36,
   "metadata": {},
   "outputs": [
    {
     "data": {
      "text/plain": [
       "False"
      ]
     },
     "execution_count": 36,
     "metadata": {},
     "output_type": "execute_result"
    }
   ],
   "source": [
    "\n",
    "r = Rectangle(Point(10,5), 100, 50)\n",
    "\n",
    "r is copy.deepcopy(r)"
   ]
  },
  {
   "cell_type": "code",
   "execution_count": 55,
   "metadata": {},
   "outputs": [
    {
     "name": "stdout",
     "output_type": "stream",
     "text": [
      "(5, 4)(4, 5)\n"
     ]
    }
   ],
   "source": [
    "def front_and_back(front):\n",
    "    import copy\n",
    "    back = copy.copy(front)\n",
    "    back.reverse()\n",
    "    print(str(front) + str(back))\n",
    "front_and_back(Point(5, 4))"
   ]
  }
 ],
 "metadata": {
  "kernelspec": {
   "display_name": "Python 3",
   "language": "python",
   "name": "python3"
  },
  "language_info": {
   "codemirror_mode": {
    "name": "ipython",
    "version": 3
   },
   "file_extension": ".py",
   "mimetype": "text/x-python",
   "name": "python",
   "nbconvert_exporter": "python",
   "pygments_lexer": "ipython3",
   "version": "3.10.9"
  }
 },
 "nbformat": 4,
 "nbformat_minor": 2
}
