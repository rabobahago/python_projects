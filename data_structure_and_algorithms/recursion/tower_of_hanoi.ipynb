{
 "cells": [
  {
   "cell_type": "code",
   "execution_count": 1,
   "metadata": {},
   "outputs": [
    {
     "name": "stdout",
     "output_type": "stream",
     "text": [
      "Move disk A to C\n",
      "Move disk A to C\n",
      "Move disk B to A\n",
      "Move disk A to C\n",
      "Move disk B to A\n",
      "Move disk B to A\n",
      "Move disk C to B\n"
     ]
    }
   ],
   "source": [
    "def move_disk(initial, final):\n",
    "    print(f\"Move disk {initial} to {final}\")\n",
    "def move_plate(height, initial, intermediate, final):\n",
    "    if height >= 1:\n",
    "        move_plate(height - 1, initial, intermediate, final)\n",
    "        move_disk(initial, final)\n",
    "        move_plate(height - 1, intermediate, final, initial)\n",
    "move_plate(3, 'A', 'B', 'C')"
   ]
  },
  {
   "cell_type": "code",
   "execution_count": null,
   "metadata": {},
   "outputs": [],
   "source": []
  }
 ],
 "metadata": {
  "kernelspec": {
   "display_name": "Python 3",
   "language": "python",
   "name": "python3"
  },
  "language_info": {
   "codemirror_mode": {
    "name": "ipython",
    "version": 3
   },
   "file_extension": ".py",
   "mimetype": "text/x-python",
   "name": "python",
   "nbconvert_exporter": "python",
   "pygments_lexer": "ipython3",
   "version": "3.10.9"
  }
 },
 "nbformat": 4,
 "nbformat_minor": 2
}
