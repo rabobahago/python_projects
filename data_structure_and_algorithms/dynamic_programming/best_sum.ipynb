{
 "cells": [
  {
   "cell_type": "code",
   "execution_count": 7,
   "metadata": {},
   "outputs": [],
   "source": [
    "def best_sum(target_sum, numbers):\n",
    "    shortest = None\n",
    "    if target_sum == 0: return []\n",
    "    if target_sum < 0: return None\n",
    "    for num in numbers:\n",
    "        remainder = target_sum - num\n",
    "        remainder_result = best_sum(remainder, numbers)\n",
    "        if remainder_result is not None:\n",
    "            current = remainder_result  + [num]\n",
    "            if shortest is None or len(current) < len(shortest):\n",
    "                shortest = current\n",
    "    return shortest"
   ]
  },
  {
   "cell_type": "code",
   "execution_count": 10,
   "metadata": {},
   "outputs": [
    {
     "name": "stdout",
     "output_type": "stream",
     "text": [
      "[7]\n",
      "[2, 1]\n"
     ]
    }
   ],
   "source": [
    "print(best_sum(7, [5, 3, 4, 7]))\n",
    "print(best_sum(3, [1, 4, 2, 6, 7, 1, 1]))"
   ]
  },
  {
   "cell_type": "code",
   "execution_count": 12,
   "metadata": {},
   "outputs": [
    {
     "data": {
      "text/plain": [
       "[25, 25, 25, 25]"
      ]
     },
     "execution_count": 12,
     "metadata": {},
     "output_type": "execute_result"
    }
   ],
   "source": [
    "def best_sum_memo(target_sum, numbers, memo = None):\n",
    "\n",
    "    shortest = None\n",
    "    if memo is None:\n",
    "        memo = {}\n",
    "    if target_sum in memo: return memo[target_sum]\n",
    "    if target_sum == 0: return []\n",
    "    if target_sum < 0: return None\n",
    "    for num in numbers:\n",
    "        remainder = target_sum - num\n",
    "        remainder_result = best_sum_memo(remainder, numbers, memo)\n",
    "        if remainder_result is not None:\n",
    "            current = remainder_result  + [num]\n",
    "            if shortest is None or len(current) < len(shortest):\n",
    "                shortest = current\n",
    "    memo[target_sum] = shortest\n",
    "    return memo[target_sum]\n",
    "best_sum_memo(100, [1, 2, 5, 25])"
   ]
  },
  {
   "cell_type": "code",
   "execution_count": null,
   "metadata": {},
   "outputs": [],
   "source": []
  }
 ],
 "metadata": {
  "kernelspec": {
   "display_name": "Python 3",
   "language": "python",
   "name": "python3"
  },
  "language_info": {
   "codemirror_mode": {
    "name": "ipython",
    "version": 3
   },
   "file_extension": ".py",
   "mimetype": "text/x-python",
   "name": "python",
   "nbconvert_exporter": "python",
   "pygments_lexer": "ipython3",
   "version": "3.10.9"
  }
 },
 "nbformat": 4,
 "nbformat_minor": 2
}
