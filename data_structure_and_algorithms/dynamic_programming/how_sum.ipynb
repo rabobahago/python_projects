{
 "cells": [
  {
   "cell_type": "code",
   "execution_count": 1,
   "metadata": {},
   "outputs": [],
   "source": [
    "# O(n^m * m) time complexity\n",
    "# O(n) space complexity\n",
    "def how_sum(target_sum, numbers):\n",
    "    if target_sum == 0: return []\n",
    "    if target_sum < 0: return None\n",
    "    for num in numbers:\n",
    "        remainder = target_sum - num\n",
    "        remainder_result = how_sum(remainder, numbers)\n",
    "        if remainder_result is not None:\n",
    "            return remainder_result + [num]\n",
    "    return None"
   ]
  },
  {
   "cell_type": "code",
   "execution_count": 2,
   "metadata": {},
   "outputs": [
    {
     "name": "stdout",
     "output_type": "stream",
     "text": [
      "[3, 2, 2]\n",
      "[2, 2, 2, 2]\n"
     ]
    }
   ],
   "source": [
    "print(how_sum(7, [2, 3]))\n",
    "print(how_sum(8, [2, 3, 8]))"
   ]
  },
  {
   "cell_type": "code",
   "execution_count": 9,
   "metadata": {},
   "outputs": [],
   "source": [
    "# O(n * m * m) time complexity\n",
    "# O(n) space complexity\n",
    "def how_sum_memo(target_sum, numbers, memo=None):\n",
    "    if memo is None:\n",
    "        memo = {}\n",
    "    if target_sum in memo:\n",
    "        return memo[target_sum]\n",
    "    if target_sum == 0: return []\n",
    "    if target_sum < 0: return None\n",
    "    for num in numbers:\n",
    "        remainder = target_sum - num\n",
    "        remainder_result = how_sum_memo(remainder, numbers, memo)\n",
    "        if remainder_result is not None:\n",
    "            memo[target_sum] = remainder_result + [num]\n",
    "            return memo[target_sum]\n",
    "    memo[target_sum] = None\n",
    "    return None"
   ]
  },
  {
   "cell_type": "code",
   "execution_count": 10,
   "metadata": {},
   "outputs": [
    {
     "name": "stdout",
     "output_type": "stream",
     "text": [
      "[3, 2, 2]\n",
      "[2, 2, 2, 2]\n",
      "None\n"
     ]
    }
   ],
   "source": [
    "print(how_sum_memo(7, [2, 3]))\n",
    "print(how_sum_memo(8, [2, 3, 8]))\n",
    "print(how_sum_memo(300, [7, 14]))"
   ]
  },
  {
   "cell_type": "code",
   "execution_count": null,
   "metadata": {},
   "outputs": [],
   "source": []
  }
 ],
 "metadata": {
  "kernelspec": {
   "display_name": "Python 3",
   "language": "python",
   "name": "python3"
  },
  "language_info": {
   "codemirror_mode": {
    "name": "ipython",
    "version": 3
   },
   "file_extension": ".py",
   "mimetype": "text/x-python",
   "name": "python",
   "nbconvert_exporter": "python",
   "pygments_lexer": "ipython3",
   "version": "3.10.9"
  }
 },
 "nbformat": 4,
 "nbformat_minor": 2
}
