{
 "cells": [
  {
   "cell_type": "code",
   "execution_count": 8,
   "metadata": {},
   "outputs": [
    {
     "name": "stdout",
     "output_type": "stream",
     "text": [
      "True\n",
      "True\n",
      "False\n"
     ]
    }
   ],
   "source": [
    "def can_sum(target, numbers):\n",
    "    if target == 0: return True\n",
    "    if target < 0: return False\n",
    "    for number in numbers:\n",
    "        remainder = target - number\n",
    "        if can_sum(remainder, numbers) == True:\n",
    "            return True\n",
    "\n",
    "    return False\n",
    "print(can_sum(9, [2, 3, 3, 5]))\n",
    "print(can_sum(6, [2, 2, 4, 6]))\n",
    "print(can_sum(3, [4, 6]))\n",
    "print(can_sum(300, [7, 14]))"
   ]
  },
  {
   "cell_type": "code",
   "execution_count": null,
   "metadata": {},
   "outputs": [],
   "source": []
  }
 ],
 "metadata": {
  "kernelspec": {
   "display_name": "Python 3",
   "language": "python",
   "name": "python3"
  },
  "language_info": {
   "codemirror_mode": {
    "name": "ipython",
    "version": 3
   },
   "file_extension": ".py",
   "mimetype": "text/x-python",
   "name": "python",
   "nbconvert_exporter": "python",
   "pygments_lexer": "ipython3",
   "version": "3.10.9"
  }
 },
 "nbformat": 4,
 "nbformat_minor": 2
}
