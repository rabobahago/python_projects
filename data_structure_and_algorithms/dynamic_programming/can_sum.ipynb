{
 "cells": [
  {
   "cell_type": "code",
   "execution_count": 30,
   "metadata": {},
   "outputs": [
    {
     "name": "stdout",
     "output_type": "stream",
     "text": [
      "True\n",
      "True\n",
      "False\n",
      "False\n",
      "False\n",
      "True\n"
     ]
    }
   ],
   "source": [
    "# o(n^m)\n",
    "# o(m) space\n",
    "def can_sum(target, numbers):\n",
    "    if target == 0: return True\n",
    "    if target < 0: return False\n",
    "    for number in numbers:\n",
    "        remainder = target - number\n",
    "        if can_sum(remainder, numbers) == True:\n",
    "            return True\n",
    "    return False\n",
    "print(can_sum(9, [2, 3, 3, 5]))\n",
    "print(can_sum(6, [2, 2, 4, 6]))\n",
    "print(can_sum(3, [4, 6]))\n",
    "print(can_sum(30, [7, 14]))\n",
    "print(can_sum(30, [250, 50]))\n",
    "print(can_sum(4, [2]))"
   ]
  },
  {
   "cell_type": "code",
   "execution_count": 31,
   "metadata": {},
   "outputs": [
    {
     "name": "stdout",
     "output_type": "stream",
     "text": [
      "True\n",
      "True\n",
      "True\n",
      "False\n",
      "True\n",
      "True\n"
     ]
    }
   ],
   "source": [
    "# o(n * m)\n",
    "# o(m) space\n",
    "def can_sum_memo(target_sum, numbers, memo = None):\n",
    "    if memo is None:\n",
    "        memo = {}\n",
    "    if target_sum in memo: return memo[target_sum]\n",
    "    if target_sum == 0: return True\n",
    "    if target_sum < 0: return False\n",
    "    for number in numbers:\n",
    "        remainder = target_sum - number\n",
    "        if can_sum_memo(remainder, numbers, memo) == True:\n",
    "            memo[target_sum] = True\n",
    "            return True\n",
    "    memo[target_sum] = False\n",
    "    return False\n",
    "print(can_sum_memo(9, [2, 3, 3, 5]))\n",
    "print(can_sum_memo(6, [2, 2, 4, 6]))\n",
    "print(can_sum_memo(300, [250, 50]))\n",
    "print(can_sum_memo(30, [7, 14]))\n",
    "print(can_sum_memo(450, [45, 78, 89]))\n",
    "print(can_sum_memo(4, [2]))"
   ]
  }
 ],
 "metadata": {
  "kernelspec": {
   "display_name": "Python 3",
   "language": "python",
   "name": "python3"
  },
  "language_info": {
   "codemirror_mode": {
    "name": "ipython",
    "version": 3
   },
   "file_extension": ".py",
   "mimetype": "text/x-python",
   "name": "python",
   "nbconvert_exporter": "python",
   "pygments_lexer": "ipython3",
   "version": "3.10.9"
  }
 },
 "nbformat": 4,
 "nbformat_minor": 2
}
