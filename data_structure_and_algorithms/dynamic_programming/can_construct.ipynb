{
 "cells": [
  {
   "cell_type": "code",
   "execution_count": 28,
   "metadata": {},
   "outputs": [],
   "source": [
    "def can_construct(target, bank_word):\n",
    "    if target == '': return True\n",
    "    for word in bank_word:\n",
    "        if target.startswith(word):\n",
    "            suffix = target[len(word):]\n",
    "            if can_construct(suffix, bank_word) == True:\n",
    "                return True\n",
    "    return False"
   ]
  },
  {
   "cell_type": "code",
   "execution_count": 29,
   "metadata": {},
   "outputs": [
    {
     "data": {
      "text/plain": [
       "True"
      ]
     },
     "execution_count": 29,
     "metadata": {},
     "output_type": "execute_result"
    }
   ],
   "source": [
    "can_construct('abcdef', ['ab','abc', 'cd', 'def', 'abcd'])"
   ]
  },
  {
   "cell_type": "code",
   "execution_count": 2,
   "metadata": {},
   "outputs": [],
   "source": [
    "def can_construct_memo(target, bank_word, memo=None):\n",
    "    if memo is None:\n",
    "        memo = {}\n",
    "    if target in memo: return memo[target]\n",
    "    if target == '': return True\n",
    "    for word in bank_word:\n",
    "        if target.startswith(word):\n",
    "            suffix = target[len(word):]\n",
    "            if can_construct_memo(suffix, bank_word) == True:\n",
    "                memo[target] = True\n",
    "                return True\n",
    "    memo[target] = False\n",
    "    return False"
   ]
  },
  {
   "cell_type": "code",
   "execution_count": 3,
   "metadata": {},
   "outputs": [
    {
     "data": {
      "text/plain": [
       "True"
      ]
     },
     "execution_count": 3,
     "metadata": {},
     "output_type": "execute_result"
    }
   ],
   "source": [
    "can_construct_memo('eeeeeeeeeeeeeeeeeeeeeeeeeeeeeeeeeeeeeeeeeeeeeeeeeeeeeeeeeeeeeeeeeeeeeeeeeeew', ['eeeeeeeee','e','eeeeeeeeeeeeeee','w'])"
   ]
  },
  {
   "cell_type": "code",
   "execution_count": 2,
   "metadata": {},
   "outputs": [
    {
     "name": "stdout",
     "output_type": "stream",
     "text": [
      "True\n"
     ]
    }
   ],
   "source": [
    "l = []\n",
    "print(not bool(l))"
   ]
  },
  {
   "cell_type": "code",
   "execution_count": null,
   "metadata": {},
   "outputs": [],
   "source": []
  }
 ],
 "metadata": {
  "kernelspec": {
   "display_name": "Python 3",
   "language": "python",
   "name": "python3"
  },
  "language_info": {
   "codemirror_mode": {
    "name": "ipython",
    "version": 3
   },
   "file_extension": ".py",
   "mimetype": "text/x-python",
   "name": "python",
   "nbconvert_exporter": "python",
   "pygments_lexer": "ipython3",
   "version": "3.10.9"
  }
 },
 "nbformat": 4,
 "nbformat_minor": 2
}
