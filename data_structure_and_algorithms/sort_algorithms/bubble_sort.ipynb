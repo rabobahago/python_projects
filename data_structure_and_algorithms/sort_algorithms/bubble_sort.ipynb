{
 "cells": [
  {
   "cell_type": "code",
   "execution_count": 3,
   "metadata": {},
   "outputs": [],
   "source": [
    "# brute force approach\n",
    "def bubble_sort(a_list):\n",
    "    length = len(a_list) - 1\n",
    "    for _ in range(length):\n",
    "        for j in range(length):\n",
    "            if a_list[j] > a_list[j + 1]:\n",
    "                a_list[j], a_list[j + 1] = a_list[j + 1], a_list[j]\n",
    "    return a_list"
   ]
  },
  {
   "cell_type": "code",
   "execution_count": 4,
   "metadata": {},
   "outputs": [
    {
     "data": {
      "text/plain": [
       "[1, 6, 9, 32]"
      ]
     },
     "execution_count": 4,
     "metadata": {},
     "output_type": "execute_result"
    }
   ],
   "source": [
    "bubble_sort([1, 9, 6, 32])"
   ]
  },
  {
   "cell_type": "code",
   "execution_count": 12,
   "metadata": {},
   "outputs": [],
   "source": [
    "def bubble_sort(a_list):\n",
    "    list_length = len(a_list) - 1\n",
    "    for i in range(list_length):\n",
    "        no_swap = True\n",
    "        for j in range(list_length - i):\n",
    "            print('j', j, list_length, list_length -i)\n",
    "            if a_list[j] > a_list[j + 1]:\n",
    "                a_list[j], a_list[j + 1] = a_list[j + 1], a_list[j]\n",
    "                no_swap = False\n",
    "        if no_swap:\n",
    "            return a_list\n",
    "    return a_list"
   ]
  },
  {
   "cell_type": "code",
   "execution_count": 13,
   "metadata": {},
   "outputs": [
    {
     "name": "stdout",
     "output_type": "stream",
     "text": [
      "j 0 3 3\n",
      "j 1 3 3\n",
      "j 2 3 3\n",
      "j 0 3 2\n",
      "j 1 3 2\n",
      "j 0 3 1\n"
     ]
    },
    {
     "data": {
      "text/plain": [
       "[1, 2, 5, 32]"
      ]
     },
     "execution_count": 13,
     "metadata": {},
     "output_type": "execute_result"
    }
   ],
   "source": [
    "bubble_sort([1, 32, 5, 2])"
   ]
  }
 ],
 "metadata": {
  "kernelspec": {
   "display_name": "Python 3",
   "language": "python",
   "name": "python3"
  },
  "language_info": {
   "codemirror_mode": {
    "name": "ipython",
    "version": 3
   },
   "file_extension": ".py",
   "mimetype": "text/x-python",
   "name": "python",
   "nbconvert_exporter": "python",
   "pygments_lexer": "ipython3",
   "version": "3.10.9"
  }
 },
 "nbformat": 4,
 "nbformat_minor": 2
}
