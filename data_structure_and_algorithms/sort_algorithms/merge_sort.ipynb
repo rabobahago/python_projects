{
 "cells": [
  {
   "cell_type": "code",
   "execution_count": 6,
   "metadata": {},
   "outputs": [],
   "source": [
    "def merge_sort(a_list):\n",
    "    if len(a_list) > 1:\n",
    "        mid = len(a_list) // 2\n",
    "        left_half = a_list[:mid]\n",
    "        right_half = a_list[mid:]\n",
    "\n",
    "        merge_sort(left_half)\n",
    "        merge_sort(right_half)\n",
    "\n",
    "        left_ind = 0\n",
    "        right_ind = 0\n",
    "        alist_ind = 0\n",
    "\n",
    "        while left_ind < len(left_half) and right_ind < len(right_half):\n",
    "            if left_half[left_ind] <= right_half[right_ind]:\n",
    "                a_list[alist_ind] = left_half[left_ind]\n",
    "                left_ind += 1\n",
    "            else:\n",
    "                a_list[alist_ind] = right_half[right_ind]\n",
    "                right_ind += 1\n",
    "            alist_ind += 1\n",
    "\n",
    "        while left_ind < len(left_half):\n",
    "            a_list[alist_ind] = left_half[left_ind]\n",
    "            left_ind += 1\n",
    "            alist_ind += 1\n",
    "\n",
    "        while right_ind < len(right_half):\n",
    "            a_list[alist_ind] = right_half[right_ind]\n",
    "            right_ind += 1\n",
    "            alist_ind += 1\n",
    "\n",
    "    return a_list\n"
   ]
  },
  {
   "cell_type": "code",
   "execution_count": 7,
   "metadata": {},
   "outputs": [
    {
     "data": {
      "text/plain": [
       "[2, 3, 6, 9]"
      ]
     },
     "execution_count": 7,
     "metadata": {},
     "output_type": "execute_result"
    }
   ],
   "source": [
    "merge_sort([6, 3, 9, 2])"
   ]
  },
  {
   "cell_type": "code",
   "execution_count": null,
   "metadata": {},
   "outputs": [],
   "source": []
  }
 ],
 "metadata": {
  "kernelspec": {
   "display_name": "Python 3",
   "language": "python",
   "name": "python3"
  },
  "language_info": {
   "codemirror_mode": {
    "name": "ipython",
    "version": 3
   },
   "file_extension": ".py",
   "mimetype": "text/x-python",
   "name": "python",
   "nbconvert_exporter": "python",
   "pygments_lexer": "ipython3",
   "version": "3.10.9"
  }
 },
 "nbformat": 4,
 "nbformat_minor": 2
}
