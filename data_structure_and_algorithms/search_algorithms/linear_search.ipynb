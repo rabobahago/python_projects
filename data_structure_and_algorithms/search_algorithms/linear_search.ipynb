{
 "cells": [
  {
   "cell_type": "code",
   "execution_count": 2,
   "metadata": {},
   "outputs": [
    {
     "name": "stdout",
     "output_type": "stream",
     "text": [
      "True\n"
     ]
    }
   ],
   "source": [
    "# best case of linear search is O(1)\n",
    "# average case of linear search is O(n/2)\n",
    "# worst case of linear search is O(n)\n",
    "def linear_search(a_list, n):\n",
    "    for i in a_list:\n",
    "        if i == n:\n",
    "            return True\n",
    "    return False\n",
    "a_list = [1, 8, 32, 91, 5, 15, 9, 100, 3]\n",
    "print(linear_search(a_list, 91))"
   ]
  },
  {
   "cell_type": "code",
   "execution_count": 4,
   "metadata": {},
   "outputs": [
    {
     "name": "stdout",
     "output_type": "stream",
     "text": [
      "False\n"
     ]
    }
   ],
   "source": [
    "a_list = [1, 8, 32, 91, 5, 15, 9, 100, 3]\n",
    "print(linear_search(a_list, 900))\n",
    "# best case of linear search is O(1)\n",
    "# average case of linear search is O(n/2)\n",
    "# worst case of linear search is O(n)"
   ]
  },
  {
   "cell_type": "code",
   "execution_count": 7,
   "metadata": {},
   "outputs": [
    {
     "name": "stdout",
     "output_type": "stream",
     "text": [
      "True\n"
     ]
    }
   ],
   "source": [
    "# built in search\n",
    "print(3 in a_list)"
   ]
  }
 ],
 "metadata": {
  "kernelspec": {
   "display_name": "Python 3",
   "language": "python",
   "name": "python3"
  },
  "language_info": {
   "codemirror_mode": {
    "name": "ipython",
    "version": 3
   },
   "file_extension": ".py",
   "mimetype": "text/x-python",
   "name": "python",
   "nbconvert_exporter": "python",
   "pygments_lexer": "ipython3",
   "version": "3.10.9"
  }
 },
 "nbformat": 4,
 "nbformat_minor": 2
}
