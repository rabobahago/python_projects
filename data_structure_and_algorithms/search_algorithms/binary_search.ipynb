{
 "cells": [
  {
   "cell_type": "code",
   "execution_count": 4,
   "metadata": {},
   "outputs": [],
   "source": [
    "# best case of linear search is O(1)\n",
    "# average case of linear search is O(n/2)\n",
    "# worst case of linear search is O(n)\n",
    "def binary_search(a_list, n):\n",
    "    first = 0\n",
    "    last = len(a_list)-1\n",
    "    while(last >= first):\n",
    "        mid = (first + last) // 2\n",
    "        if a_list[mid] == n:\n",
    "            return True\n",
    "        if n > a_list[mid]:\n",
    "            first = mid + 1\n",
    "        else:\n",
    "            last = mid - 1\n",
    "    return False\n"
   ]
  },
  {
   "cell_type": "code",
   "execution_count": 6,
   "metadata": {},
   "outputs": [
    {
     "data": {
      "text/plain": [
       "True"
      ]
     },
     "execution_count": 6,
     "metadata": {},
     "output_type": "execute_result"
    }
   ],
   "source": [
    "binary_search([2, 5, 7, 8, 9], 9)\n"
   ]
  },
  {
   "cell_type": "code",
   "execution_count": 7,
   "metadata": {},
   "outputs": [
    {
     "data": {
      "text/plain": [
       "False"
      ]
     },
     "execution_count": 7,
     "metadata": {},
     "output_type": "execute_result"
    }
   ],
   "source": [
    "binary_search([2, 5, 7, 8, 9], 0)"
   ]
  }
 ],
 "metadata": {
  "kernelspec": {
   "display_name": "Python 3",
   "language": "python",
   "name": "python3"
  },
  "language_info": {
   "codemirror_mode": {
    "name": "ipython",
    "version": 3
   },
   "file_extension": ".py",
   "mimetype": "text/x-python",
   "name": "python",
   "nbconvert_exporter": "python",
   "pygments_lexer": "ipython3",
   "version": "3.10.9"
  }
 },
 "nbformat": 4,
 "nbformat_minor": 2
}
