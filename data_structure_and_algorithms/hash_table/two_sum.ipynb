{
 "cells": [
  {
   "cell_type": "code",
   "execution_count": 4,
   "metadata": {},
   "outputs": [],
   "source": [
    "def two_sum(list_, target):\n",
    "    for i in range(0, len(list_)):\n",
    "        for j in range(i, len(list_)):\n",
    "            if list_[i] + list_[j] == target:\n",
    "                return [list_[i], list_[j]]\n",
    "    return [-1, -1]"
   ]
  },
  {
   "cell_type": "code",
   "execution_count": 5,
   "metadata": {},
   "outputs": [
    {
     "data": {
      "text/plain": [
       "[2, 3]"
      ]
     },
     "execution_count": 5,
     "metadata": {},
     "output_type": "execute_result"
    }
   ],
   "source": [
    "two_sum([-1, 2, 3, 4, 7], 5)"
   ]
  },
  {
   "cell_type": "code",
   "execution_count": 10,
   "metadata": {},
   "outputs": [],
   "source": [
    "def two_sum(a_list, target):\n",
    "    a_dict = {}\n",
    "    for index, val in enumerate(a_list):\n",
    "        rem = target - val\n",
    "        if rem in a_dict:\n",
    "            return [rem, val]\n",
    "        else:\n",
    "            a_dict[val] = index"
   ]
  },
  {
   "cell_type": "code",
   "execution_count": 11,
   "metadata": {},
   "outputs": [
    {
     "data": {
      "text/plain": [
       "[2, 3]"
      ]
     },
     "execution_count": 11,
     "metadata": {},
     "output_type": "execute_result"
    }
   ],
   "source": [
    "two_sum([-1, 2, 3, 4, 7], 5)"
   ]
  },
  {
   "cell_type": "code",
   "execution_count": 45,
   "metadata": {},
   "outputs": [],
   "source": [
    "def remove_duplicate(a_str):\n",
    "    result_str = ' '\n",
    "    hash = {}\n",
    "    for i in a_str.split(','):\n",
    "        if i in hash:\n",
    "            hash[i] += 1\n",
    "        else:\n",
    "            hash[i] = 1\n",
    "    for j in hash:\n",
    "        if len(j) > 1 and j != 'a' and hash[j] == 1:\n",
    "                result_str += ' ' +  j\n",
    "        else:\n",
    "            result_str += ' ' + j\n",
    "    return result_str\n"
   ]
  },
  {
   "cell_type": "code",
   "execution_count": 47,
   "metadata": {},
   "outputs": [
    {
     "name": "stdout",
     "output_type": "stream",
     "text": [
      "  I am a self-taught programmer looking for a job as a programmer.\n"
     ]
    }
   ],
   "source": [
    "print(remove_duplicate(\"I am a self-taught programmer looking for a job as a programmer.\"))"
   ]
  },
  {
   "cell_type": "code",
   "execution_count": null,
   "metadata": {},
   "outputs": [],
   "source": []
  }
 ],
 "metadata": {
  "kernelspec": {
   "display_name": "Python 3",
   "language": "python",
   "name": "python3"
  },
  "language_info": {
   "codemirror_mode": {
    "name": "ipython",
    "version": 3
   },
   "file_extension": ".py",
   "mimetype": "text/x-python",
   "name": "python",
   "nbconvert_exporter": "python",
   "pygments_lexer": "ipython3",
   "version": "3.10.9"
  }
 },
 "nbformat": 4,
 "nbformat_minor": 2
}
