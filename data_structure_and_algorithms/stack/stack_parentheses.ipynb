{
 "cells": [
  {
   "cell_type": "code",
   "execution_count": 23,
   "metadata": {},
   "outputs": [],
   "source": [
    "def check_parentheses(a_string):\n",
    "    stack = []\n",
    "    for char in a_string:\n",
    "        if char == '(':\n",
    "            stack.append(char)\n",
    "        else:\n",
    "            if char == ')':\n",
    "                if  not stack:\n",
    "                    return False\n",
    "                stack.pop()\n",
    "\n",
    "    return len(stack) == 0\n"
   ]
  },
  {
   "cell_type": "code",
   "execution_count": 10,
   "metadata": {},
   "outputs": [
    {
     "data": {
      "text/plain": [
       "True"
      ]
     },
     "execution_count": 10,
     "metadata": {},
     "output_type": "execute_result"
    }
   ],
   "source": [
    "check_parentheses(\"(str(1))\")"
   ]
  },
  {
   "cell_type": "code",
   "execution_count": 11,
   "metadata": {},
   "outputs": [
    {
     "data": {
      "text/plain": [
       "False"
      ]
     },
     "execution_count": 11,
     "metadata": {},
     "output_type": "execute_result"
    }
   ],
   "source": [
    "check_parentheses(\"print(Hi!))|\")"
   ]
  },
  {
   "cell_type": "code",
   "execution_count": 22,
   "metadata": {},
   "outputs": [
    {
     "name": "stdout",
     "output_type": "stream",
     "text": [
      "True\n",
      "True\n",
      "False\n",
      "True\n"
     ]
    }
   ],
   "source": [
    "PAIRINGS  = {\n",
    "    '(': ')',\n",
    "    '{':'}',\n",
    "    '[': ']',\n",
    "}\n",
    "def is_balanced(synbols):\n",
    "    stack = []\n",
    "    for s in synbols:\n",
    "        if s in PAIRINGS:\n",
    "            stack.append(s)\n",
    "        else:\n",
    "            if not stack: return False\n",
    "            pair_pop = stack.pop()\n",
    "            if s != PAIRINGS[pair_pop]: return False\n",
    "    return not stack\n",
    "\n",
    "print(is_balanced(\"()\"))       # Output: True\n",
    "print(is_balanced(\"()[]{}\"))   # Output: True\n",
    "print(is_balanced(\"(]\"))       # Output: False\n",
    "print(is_balanced('((()))'))   # Output: True"
   ]
  },
  {
   "cell_type": "code",
   "execution_count": null,
   "metadata": {},
   "outputs": [],
   "source": []
  }
 ],
 "metadata": {
  "kernelspec": {
   "display_name": "Python 3",
   "language": "python",
   "name": "python3"
  },
  "language_info": {
   "codemirror_mode": {
    "name": "ipython",
    "version": 3
   },
   "file_extension": ".py",
   "mimetype": "text/x-python",
   "name": "python",
   "nbconvert_exporter": "python",
   "pygments_lexer": "ipython3",
   "version": "3.10.9"
  }
 },
 "nbformat": 4,
 "nbformat_minor": 2
}
