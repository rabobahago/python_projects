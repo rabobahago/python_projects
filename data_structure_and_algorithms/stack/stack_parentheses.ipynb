{
 "cells": [
  {
   "cell_type": "code",
   "execution_count": 1,
   "metadata": {},
   "outputs": [],
   "source": [
    "def check_parentheses(a_string):\n",
    "    stack = []\n",
    "    for char in a_string:\n",
    "        if char == '(':\n",
    "            stack.append(char)\n",
    "        if char == ')':\n",
    "            if  not stack:\n",
    "                return False\n",
    "            stack.pop()\n",
    "\n",
    "    return len(stack) == 0\n"
   ]
  },
  {
   "cell_type": "code",
   "execution_count": 3,
   "metadata": {},
   "outputs": [
    {
     "data": {
      "text/plain": [
       "True"
      ]
     },
     "execution_count": 3,
     "metadata": {},
     "output_type": "execute_result"
    }
   ],
   "source": [
    "check_parentheses(\"(str(1))\")"
   ]
  },
  {
   "cell_type": "code",
   "execution_count": 4,
   "metadata": {},
   "outputs": [
    {
     "data": {
      "text/plain": [
       "False"
      ]
     },
     "execution_count": 4,
     "metadata": {},
     "output_type": "execute_result"
    }
   ],
   "source": [
    "check_parentheses(\"print(Hi!))|\")"
   ]
  },
  {
   "cell_type": "code",
   "execution_count": 10,
   "metadata": {},
   "outputs": [
    {
     "name": "stdout",
     "output_type": "stream",
     "text": [
      "True\n",
      "True\n",
      "False\n",
      "True\n"
     ]
    }
   ],
   "source": [
    "def isValid(s: str) -> bool:\n",
    "\n",
    "    bracket_map = {')': '(', '}': '{', ']': '['}\n",
    "\n",
    "    stack = []\n",
    "\n",
    "    # Iterate through each character in the string\n",
    "    for char in s:\n",
    "        if char in bracket_map:  # If it's a closing bracket\n",
    "            # Pop the top element from the stack if it's not empty, otherwise assign a dummy value\n",
    "            top_element = stack.pop() if stack else ''\n",
    "            # Check if the popped element is the corresponding opening bracket\n",
    "            if bracket_map[char] != top_element:\n",
    "                return False\n",
    "        else:\n",
    "\n",
    "            stack.append(char)\n",
    "\n",
    "    # If the stack is empty, all opening brackets were matched\n",
    "    return not stack\n",
    "\n",
    "# Examples to test the function\n",
    "print(isValid(\"()\"))       # Output: True\n",
    "print(isValid(\"()[]{}\"))   # Output: True\n",
    "print(isValid(\"(]\"))       # Output: False\n",
    "print(isValid('((()))'))"
   ]
  },
  {
   "cell_type": "code",
   "execution_count": null,
   "metadata": {},
   "outputs": [],
   "source": []
  }
 ],
 "metadata": {
  "kernelspec": {
   "display_name": "Python 3",
   "language": "python",
   "name": "python3"
  },
  "language_info": {
   "codemirror_mode": {
    "name": "ipython",
    "version": 3
   },
   "file_extension": ".py",
   "mimetype": "text/x-python",
   "name": "python",
   "nbconvert_exporter": "python",
   "pygments_lexer": "ipython3",
   "version": "3.10.9"
  }
 },
 "nbformat": 4,
 "nbformat_minor": 2
}
