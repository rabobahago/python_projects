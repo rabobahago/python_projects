{
 "cells": [
  {
   "cell_type": "code",
   "execution_count": 7,
   "metadata": {},
   "outputs": [],
   "source": [
    "def convert_to_binary(decimal_number):\n",
    "    stack = []\n",
    "    while decimal_number > 0:\n",
    "        remainder = decimal_number % 2\n",
    "        stack.append(remainder)\n",
    "        decimal_number = decimal_number // 2\n",
    "    binary = []\n",
    "    while stack:\n",
    "        binary.append(str(stack.pop()))\n",
    "    return ''.join(binary)"
   ]
  },
  {
   "cell_type": "code",
   "execution_count": 8,
   "metadata": {},
   "outputs": [
    {
     "data": {
      "text/plain": [
       "'101010'"
      ]
     },
     "execution_count": 8,
     "metadata": {},
     "output_type": "execute_result"
    }
   ],
   "source": [
    "convert_to_binary(42)"
   ]
  },
  {
   "cell_type": "code",
   "execution_count": 9,
   "metadata": {},
   "outputs": [],
   "source": [
    "DIGITS = '0123456789abcdef'\n",
    "def convert_to_base(decimal_number, base):\n",
    "    base_number = []\n",
    "    while decimal_number > 0:\n",
    "        remainder = decimal_number % base\n",
    "        base_number.append(remainder)\n",
    "        decimal_number //= base\n",
    "    convert_num = []\n",
    "    while base_number:\n",
    "        convert_num.append(DIGITS[base_number.pop()])\n",
    "    return ''.join(convert_num)"
   ]
  },
  {
   "cell_type": "code",
   "execution_count": 13,
   "metadata": {},
   "outputs": [
    {
     "name": "stdout",
     "output_type": "stream",
     "text": [
      "101010\n",
      "19\n"
     ]
    }
   ],
   "source": [
    "print(convert_to_base(42, 2))\n",
    "print(convert_to_base(25, 16))"
   ]
  },
  {
   "cell_type": "code",
   "execution_count": null,
   "metadata": {},
   "outputs": [],
   "source": []
  }
 ],
 "metadata": {
  "kernelspec": {
   "display_name": "Python 3",
   "language": "python",
   "name": "python3"
  },
  "language_info": {
   "codemirror_mode": {
    "name": "ipython",
    "version": 3
   },
   "file_extension": ".py",
   "mimetype": "text/x-python",
   "name": "python",
   "nbconvert_exporter": "python",
   "pygments_lexer": "ipython3",
   "version": "3.10.9"
  }
 },
 "nbformat": 4,
 "nbformat_minor": 2
}
