{
 "cells": [
  {
   "cell_type": "code",
   "execution_count": 5,
   "metadata": {},
   "outputs": [],
   "source": [
    "class MaxStack:\n",
    "    def __init__(self):\n",
    "        self.main = []\n",
    "        self.max = []\n",
    "    def push(self, n):\n",
    "        if not self.main:\n",
    "            self.max.append(n)\n",
    "        elif n >= self.max[-1]:\n",
    "            self.max.append(n)\n",
    "        else:\n",
    "            self.max.append(self.max[-1])\n",
    "        self.main.append(n)\n",
    "    def pop(self):\n",
    "        self.max.pop()\n",
    "        return self.main.pop()\n",
    "    def get_max(self):\n",
    "        return self.max[-1]\n"
   ]
  },
  {
   "cell_type": "code",
   "execution_count": 7,
   "metadata": {},
   "outputs": [
    {
     "name": "stdout",
     "output_type": "stream",
     "text": [
      "[10]\n",
      "[10]\n"
     ]
    }
   ],
   "source": [
    "min_stack = MaxStack()\n",
    "min_stack.push(10)\n",
    "print(min_stack.main)\n",
    "print(min_stack.max)"
   ]
  },
  {
   "cell_type": "code",
   "execution_count": 8,
   "metadata": {},
   "outputs": [
    {
     "name": "stdout",
     "output_type": "stream",
     "text": [
      "[10, 15]\n",
      "[10, 15]\n"
     ]
    }
   ],
   "source": [
    "min_stack.push(15)\n",
    "print(min_stack.main)\n",
    "print(min_stack.max)"
   ]
  },
  {
   "cell_type": "code",
   "execution_count": 10,
   "metadata": {},
   "outputs": [
    {
     "name": "stdout",
     "output_type": "stream",
     "text": [
      "15\n"
     ]
    }
   ],
   "source": [
    "print(min_stack.get_max())"
   ]
  },
  {
   "cell_type": "code",
   "execution_count": null,
   "metadata": {},
   "outputs": [],
   "source": []
  }
 ],
 "metadata": {
  "kernelspec": {
   "display_name": "Python 3",
   "language": "python",
   "name": "python3"
  },
  "language_info": {
   "codemirror_mode": {
    "name": "ipython",
    "version": 3
   },
   "file_extension": ".py",
   "mimetype": "text/x-python",
   "name": "python",
   "nbconvert_exporter": "python",
   "pygments_lexer": "ipython3",
   "version": "3.10.9"
  }
 },
 "nbformat": 4,
 "nbformat_minor": 2
}
