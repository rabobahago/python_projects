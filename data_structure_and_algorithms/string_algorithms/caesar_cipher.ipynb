{
 "cells": [
  {
   "cell_type": "code",
   "execution_count": 3,
   "metadata": {},
   "outputs": [],
   "source": [
    "import string\n",
    "def caesar_cipher(char, key):\n",
    "    lowercase = string.ascii_lowercase\n",
    "    uppercase = string.ascii_uppercase\n",
    "    encrypt = ''\n",
    "    for c in char:\n",
    "        if c.islower():\n",
    "            new = (lowercase.index(c) + key) % 26\n",
    "            encrypt += lowercase[new]\n",
    "        elif c.isupper():\n",
    "            new = (uppercase.index(c) + key) % 26\n",
    "            encrypt += uppercase[new]\n",
    "        else:\n",
    "            encrypt += c\n",
    "    return encrypt"
   ]
  },
  {
   "cell_type": "code",
   "execution_count": 6,
   "metadata": {},
   "outputs": [
    {
     "name": "stdout",
     "output_type": "stream",
     "text": [
      "tcdq\n",
      "Tcdq\n"
     ]
    }
   ],
   "source": [
    "print(caesar_cipher('rabo', 2))\n",
    "print(caesar_cipher('Rabo', 2))"
   ]
  },
  {
   "cell_type": "code",
   "execution_count": 7,
   "metadata": {},
   "outputs": [],
   "source": [
    "# Use a list comprehension to return a list of all the words in the following list that have more\n",
    "# than four characters: [\"selftaught\", \"code\", \"sit\", \"eat\", \"programming\", \"dinner\",\n",
    "# \"one\", \"two\", \"coding\", \"a\", \"tech\"]."
   ]
  },
  {
   "cell_type": "code",
   "execution_count": 9,
   "metadata": {},
   "outputs": [
    {
     "name": "stdout",
     "output_type": "stream",
     "text": [
      "['selftaught', 'programming', 'dinner', 'coding']\n"
     ]
    }
   ],
   "source": [
    "a_list = [\"selftaught\", \"code\", \"sit\", \"eat\", \"programming\", \"dinner\", \"one\", \"two\", \"coding\", \"a\", \"tech\"]\n",
    "list_four_char = [c for c in a_list if len(c) > 4]\n",
    "print(list_four_char)"
   ]
  },
  {
   "cell_type": "code",
   "execution_count": null,
   "metadata": {},
   "outputs": [],
   "source": []
  }
 ],
 "metadata": {
  "kernelspec": {
   "display_name": "Python 3",
   "language": "python",
   "name": "python3"
  },
  "language_info": {
   "codemirror_mode": {
    "name": "ipython",
    "version": 3
   },
   "file_extension": ".py",
   "mimetype": "text/x-python",
   "name": "python",
   "nbconvert_exporter": "python",
   "pygments_lexer": "ipython3",
   "version": "3.10.9"
  }
 },
 "nbformat": 4,
 "nbformat_minor": 2
}
