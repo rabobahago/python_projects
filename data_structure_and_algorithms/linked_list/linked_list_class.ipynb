{
 "cells": [
  {
   "cell_type": "code",
   "execution_count": 19,
   "metadata": {},
   "outputs": [],
   "source": [
    "class Node:\n",
    "    def __init__(self,  data):\n",
    "        self.data = data\n",
    "        self.next = None\n",
    "\n",
    "class LinkedList:\n",
    "    def __init__(self):\n",
    "        self.head = None\n",
    "    def append(self, data):\n",
    "        if not self.head:\n",
    "            self.head = Node(data)\n",
    "            return\n",
    "        current = self.head\n",
    "        while current.next:\n",
    "            current = current.next\n",
    "        current.next = Node(data)\n",
    "    def __str__(self):\n",
    "        node = self.head\n",
    "        while node is not None:\n",
    "            print(node.data)\n",
    "            node = node.next\n",
    "\n",
    "        return ''\n",
    "\n",
    "    def search(self, target):\n",
    "        if not self.head:\n",
    "            return None\n",
    "\n",
    "        curr = self.head\n",
    "        while curr is not None:\n",
    "            if curr.data == target:\n",
    "                return True\n",
    "            curr = curr.next\n",
    "        return False\n",
    "    def remove(self, target):\n",
    "        if self.head == target:\n",
    "            self.head = self.head.next\n",
    "            return\n",
    "        current = self.head\n",
    "        previous = None\n",
    "        while current:\n",
    "            if current.data == target:\n",
    "                previous.next = current.next\n",
    "            previous = current\n",
    "            current = current.next\n",
    "    def reverse_list(self):\n",
    "        current = self.head\n",
    "        previous = None\n",
    "        while current:\n",
    "            next = current.next\n",
    "            current.next = previous\n",
    "            previous = current\n",
    "            current = next\n",
    "        self.head = previous\n",
    "    def detect_cycle(self):\n",
    "        slow = self.head\n",
    "        fast = self.head\n",
    "        while True:\n",
    "            try:\n",
    "                slow = slow.next\n",
    "                fast = fast.next.next\n",
    "                if slow is fast:\n",
    "                    return True\n",
    "            except:\n",
    "                return False\n"
   ]
  },
  {
   "cell_type": "code",
   "execution_count": 12,
   "metadata": {},
   "outputs": [
    {
     "name": "stdout",
     "output_type": "stream",
     "text": [
      "Tuesday\n",
      "Wednesday\n",
      "Thurday\n",
      "\n"
     ]
    }
   ],
   "source": [
    "a_list = LinkedList()\n",
    "a_list.append(\"Tuesday\")\n",
    "a_list.append(\"Wednesday\")\n",
    "a_list.append(\"Thurday\")\n",
    "print(a_list)"
   ]
  },
  {
   "cell_type": "code",
   "execution_count": 13,
   "metadata": {},
   "outputs": [
    {
     "data": {
      "text/plain": [
       "True"
      ]
     },
     "execution_count": 13,
     "metadata": {},
     "output_type": "execute_result"
    }
   ],
   "source": [
    "a_list.search('Tuesday')"
   ]
  },
  {
   "cell_type": "code",
   "execution_count": 14,
   "metadata": {},
   "outputs": [
    {
     "data": {
      "text/plain": [
       "True"
      ]
     },
     "execution_count": 14,
     "metadata": {},
     "output_type": "execute_result"
    }
   ],
   "source": [
    "a_list.search('Wednesday')"
   ]
  },
  {
   "cell_type": "code",
   "execution_count": 15,
   "metadata": {},
   "outputs": [],
   "source": [
    "a_list.remove(\"Thurday\")"
   ]
  },
  {
   "cell_type": "code",
   "execution_count": 17,
   "metadata": {},
   "outputs": [
    {
     "name": "stdout",
     "output_type": "stream",
     "text": [
      "Tuesday\n",
      "Wednesday\n",
      "\n"
     ]
    }
   ],
   "source": [
    "print(a_list)"
   ]
  }
 ],
 "metadata": {
  "kernelspec": {
   "display_name": "Python 3",
   "language": "python",
   "name": "python3"
  },
  "language_info": {
   "codemirror_mode": {
    "name": "ipython",
    "version": 3
   },
   "file_extension": ".py",
   "mimetype": "text/x-python",
   "name": "python",
   "nbconvert_exporter": "python",
   "pygments_lexer": "ipython3",
   "version": "3.10.9"
  }
 },
 "nbformat": 4,
 "nbformat_minor": 2
}
