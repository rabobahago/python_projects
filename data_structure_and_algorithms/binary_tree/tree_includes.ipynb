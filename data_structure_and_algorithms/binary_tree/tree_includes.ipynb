{
 "cells": [
  {
   "cell_type": "code",
   "execution_count": 13,
   "metadata": {},
   "outputs": [],
   "source": [
    "class Node:\n",
    "    def __init__(self, val):\n",
    "        self.val = val\n",
    "        self.left = None\n",
    "        self.right = None"
   ]
  },
  {
   "cell_type": "code",
   "execution_count": 23,
   "metadata": {},
   "outputs": [],
   "source": [
    "a = Node('a')\n",
    "b = Node('b')\n",
    "c = Node('c')\n",
    "d = Node('d')\n",
    "e = Node('e')\n",
    "f = Node('f')\n",
    "a.left = b\n",
    "a.right = c\n",
    "b.left = d\n",
    "b.right = e\n",
    "c.right = f"
   ]
  },
  {
   "cell_type": "code",
   "execution_count": 24,
   "metadata": {},
   "outputs": [],
   "source": [
    "def tree_includes(root, target):\n",
    "    if not root:\n",
    "        return False\n",
    "    stack = [root]\n",
    "    while stack:\n",
    "        current = stack.pop()\n",
    "        if current.val == target:\n",
    "            return True\n",
    "        if current.left:\n",
    "            stack.append(current.left)\n",
    "        if current.right:\n",
    "            stack.append(current.right)\n",
    "    return False\n"
   ]
  },
  {
   "cell_type": "code",
   "execution_count": 31,
   "metadata": {},
   "outputs": [
    {
     "name": "stdout",
     "output_type": "stream",
     "text": [
      "True\n",
      "True\n",
      "False\n",
      "False\n",
      "False\n"
     ]
    }
   ],
   "source": [
    "print(tree_includes(a, 'e'))\n",
    "print(tree_includes(a, 'd'))\n",
    "print(tree_includes(a, 'r'))\n",
    "print(tree_includes(a, ''))\n",
    "print(tree_includes(a, None))"
   ]
  },
  {
   "cell_type": "code",
   "execution_count": 36,
   "metadata": {},
   "outputs": [],
   "source": [
    "def tree_includes_recursive(root, target):\n",
    "    if not root: return False\n",
    "    if root.val == target: return True\n",
    "    left = tree_includes_recursive(root.left, target)\n",
    "    right = tree_includes_recursive(root.right, target)\n",
    "    return left or right"
   ]
  },
  {
   "cell_type": "code",
   "execution_count": 37,
   "metadata": {},
   "outputs": [
    {
     "name": "stdout",
     "output_type": "stream",
     "text": [
      "True\n",
      "True\n",
      "False\n",
      "False\n",
      "False\n"
     ]
    }
   ],
   "source": [
    "print(tree_includes_recursive(a, 'e'))\n",
    "print(tree_includes_recursive(a, 'd'))\n",
    "print(tree_includes_recursive(a, 'r'))\n",
    "print(tree_includes_recursive(a, ''))\n",
    "print(tree_includes_recursive(a, None))"
   ]
  },
  {
   "cell_type": "code",
   "execution_count": null,
   "metadata": {},
   "outputs": [],
   "source": []
  }
 ],
 "metadata": {
  "kernelspec": {
   "display_name": "Python 3",
   "language": "python",
   "name": "python3"
  },
  "language_info": {
   "codemirror_mode": {
    "name": "ipython",
    "version": 3
   },
   "file_extension": ".py",
   "mimetype": "text/x-python",
   "name": "python",
   "nbconvert_exporter": "python",
   "pygments_lexer": "ipython3",
   "version": "3.10.9"
  }
 },
 "nbformat": 4,
 "nbformat_minor": 2
}
