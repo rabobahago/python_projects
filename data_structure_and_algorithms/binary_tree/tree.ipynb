{
 "cells": [
  {
   "cell_type": "code",
   "execution_count": 1,
   "metadata": {},
   "outputs": [],
   "source": [
    "class BinaryTree:\n",
    "    def __init__(self, value):\n",
    "        self.key = value\n",
    "        self.left_child = None\n",
    "        self.right_child = None\n",
    "    def insert_left(self, value):\n",
    "        if self.left_child == None:\n",
    "            self.left_child = BinaryTree(value)\n",
    "        else:\n",
    "            bin_tree = BinaryTree(value)\n",
    "            bin_tree.left_child = self.left_child\n",
    "            self.left_child = bin_tree\n",
    "    def insert_right(self, value):\n",
    "        if self.right_child == None:\n",
    "                self.right_child = BinaryTree(value)\n",
    "        else:\n",
    "            bin_tree = BinaryTree(value)\n",
    "            bin_tree.right_child = self.right_child\n",
    "            self.right_child = bin_tree\n",
    "\n",
    "    def breadth_first_search(self, n):\n",
    "        current = [self]\n",
    "        next = []\n",
    "        while current:\n",
    "            for node in current:\n",
    "                if node.key == n:\n",
    "                    return True\n",
    "                if node.left_child:\n",
    "                    next.append(node.left_child)\n",
    "                if node.right_child:\n",
    "                    next.append(node.right_child)\n",
    "            current = next\n",
    "            next = []\n",
    "        return False"
   ]
  },
  {
   "cell_type": "code",
   "execution_count": null,
   "metadata": {},
   "outputs": [],
   "source": []
  }
 ],
 "metadata": {
  "kernelspec": {
   "display_name": "Python 3",
   "language": "python",
   "name": "python3"
  },
  "language_info": {
   "codemirror_mode": {
    "name": "ipython",
    "version": 3
   },
   "file_extension": ".py",
   "mimetype": "text/x-python",
   "name": "python",
   "nbconvert_exporter": "python",
   "pygments_lexer": "ipython3",
   "version": "3.10.9"
  }
 },
 "nbformat": 4,
 "nbformat_minor": 2
}
