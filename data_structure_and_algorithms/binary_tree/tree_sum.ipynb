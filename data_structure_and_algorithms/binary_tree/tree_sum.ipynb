{
 "cells": [
  {
   "cell_type": "code",
   "execution_count": 13,
   "metadata": {},
   "outputs": [],
   "source": [
    "class Node:\n",
    "    def __init__(self, val):\n",
    "        self.val = val\n",
    "        self.left = None\n",
    "        self.right = None"
   ]
  },
  {
   "cell_type": "code",
   "execution_count": 14,
   "metadata": {},
   "outputs": [],
   "source": [
    "one = Node(1)\n",
    "two = Node(2)\n",
    "three = Node(3)\n",
    "four = Node(4)\n",
    "five = Node(5)\n",
    "six = Node(6)\n",
    "one.left = two\n",
    "one.right = three\n",
    "two.left = four\n",
    "two.right = five\n",
    "three.right = six"
   ]
  },
  {
   "cell_type": "code",
   "execution_count": 17,
   "metadata": {},
   "outputs": [
    {
     "data": {
      "text/plain": [
       "21"
      ]
     },
     "execution_count": 17,
     "metadata": {},
     "output_type": "execute_result"
    }
   ],
   "source": [
    "def tree_sum(root):\n",
    "    if not root: return 0\n",
    "\n",
    "    stack = [root]\n",
    "    result = 0\n",
    "    while stack:\n",
    "        current = stack.pop()\n",
    "        result += current.val\n",
    "        if current.left:\n",
    "            stack.append(current.left)\n",
    "        if current.right:\n",
    "            stack.append(current.right)\n",
    "    return result\n",
    "tree_sum(one)\n"
   ]
  },
  {
   "cell_type": "code",
   "execution_count": 20,
   "metadata": {},
   "outputs": [
    {
     "data": {
      "text/plain": [
       "21"
      ]
     },
     "execution_count": 20,
     "metadata": {},
     "output_type": "execute_result"
    }
   ],
   "source": [
    "def tree_sum_recursive(root):\n",
    "    if not root: return 0\n",
    "    return root.val + tree_sum_recursive(root.left) + tree_sum_recursive(root.right)\n",
    "tree_sum_recursive(one)"
   ]
  },
  {
   "cell_type": "code",
   "execution_count": null,
   "metadata": {},
   "outputs": [],
   "source": []
  }
 ],
 "metadata": {
  "kernelspec": {
   "display_name": "Python 3",
   "language": "python",
   "name": "python3"
  },
  "language_info": {
   "codemirror_mode": {
    "name": "ipython",
    "version": 3
   },
   "file_extension": ".py",
   "mimetype": "text/x-python",
   "name": "python",
   "nbconvert_exporter": "python",
   "pygments_lexer": "ipython3",
   "version": "3.10.9"
  }
 },
 "nbformat": 4,
 "nbformat_minor": 2
}
