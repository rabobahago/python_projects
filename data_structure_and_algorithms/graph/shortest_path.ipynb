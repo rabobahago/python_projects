{
 "cells": [
  {
   "cell_type": "code",
   "execution_count": 23,
   "metadata": {},
   "outputs": [
    {
     "data": {
      "text/plain": [
       "2"
      ]
     },
     "execution_count": 23,
     "metadata": {},
     "output_type": "execute_result"
    }
   ],
   "source": [
    "def shortest_path(edges, nodeA, nodeB):\n",
    "    visited = set((nodeA))\n",
    "    graph = build_graph(edges)\n",
    "    queue = [(nodeA, 0)]\n",
    "    while queue:\n",
    "        node, dst = queue.pop()\n",
    "        if node == nodeB: return dst\n",
    "        for neighbor in graph[node]:\n",
    "            if neighbor not in visited:\n",
    "                visited.add(neighbor)\n",
    "                queue.insert(0, (neighbor, dst + 1))\n",
    "    return -1\n",
    "\n",
    "def build_graph(edges):\n",
    "    graph = {}\n",
    "    for node in edges:\n",
    "        node1, node2 = node\n",
    "        if node1 not in graph:\n",
    "            graph[node1] = []\n",
    "        if node2 not in graph:\n",
    "            graph[node2] = []\n",
    "        graph[node1].append(node2)\n",
    "        graph[node2].append(node1)\n",
    "    return graph\n",
    "\n",
    "edges = [\n",
    "  ['w', 'x'],\n",
    "  ['x', 'y'],\n",
    "  ['z', 'y'],\n",
    "  ['z', 'v'],\n",
    "  ['w', 'v']\n",
    "];\n",
    "\n",
    "shortest_path(edges, 'w', 'z')"
   ]
  },
  {
   "cell_type": "code",
   "execution_count": 20,
   "metadata": {},
   "outputs": [
    {
     "data": {
      "text/plain": [
       "1"
      ]
     },
     "execution_count": 20,
     "metadata": {},
     "output_type": "execute_result"
    }
   ],
   "source": [
    "edges = [\n",
    "  ['w', 'x'],\n",
    "  ['x', 'y'],\n",
    "  ['z', 'y'],\n",
    "  ['z', 'v'],\n",
    "  ['w', 'v']\n",
    "];\n",
    "\n",
    "shortest_path(edges, 'y', 'x')"
   ]
  },
  {
   "cell_type": "code",
   "execution_count": null,
   "metadata": {},
   "outputs": [],
   "source": []
  }
 ],
 "metadata": {
  "kernelspec": {
   "display_name": "Python 3",
   "language": "python",
   "name": "python3"
  },
  "language_info": {
   "codemirror_mode": {
    "name": "ipython",
    "version": 3
   },
   "file_extension": ".py",
   "mimetype": "text/x-python",
   "name": "python",
   "nbconvert_exporter": "python",
   "pygments_lexer": "ipython3",
   "version": "3.10.9"
  }
 },
 "nbformat": 4,
 "nbformat_minor": 2
}
