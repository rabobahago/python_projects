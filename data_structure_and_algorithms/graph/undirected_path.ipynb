{
 "cells": [
  {
   "cell_type": "code",
   "execution_count": 1,
   "metadata": {},
   "outputs": [],
   "source": [
    "def undirected_path(edges, nodeA, nodeB):\n",
    "    graph = build_graph(edges)\n",
    "    return has_path(graph, nodeA, nodeB, set())\n",
    "\n",
    "def has_path(graph, src, dst, visited):\n",
    "    if src in visited:\n",
    "        return False\n",
    "    if src == dst:\n",
    "        return True\n",
    "    visited.add(src)\n",
    "    for neighbor in graph[src]:\n",
    "        if has_path(graph,neighbor, dst, visited) == True:\n",
    "            return True\n",
    "    return False\n",
    "\n",
    "def build_graph(edges):\n",
    "    graph = {}\n",
    "    for node in edges:\n",
    "        node1, node2 = node\n",
    "        if node1 not in graph:\n",
    "            graph[node1] = []\n",
    "        if node2 not in graph:\n",
    "            graph[node2] = []\n",
    "        graph[node1].append(node2)\n",
    "        graph[node2].append(node1)\n",
    "    return graph\n"
   ]
  },
  {
   "cell_type": "code",
   "execution_count": 3,
   "metadata": {},
   "outputs": [
    {
     "name": "stdout",
     "output_type": "stream",
     "text": [
      "True\n"
     ]
    }
   ],
   "source": [
    "edges = [\n",
    "  ['i', 'j'],\n",
    "  ['k', 'i'],\n",
    "  ['m', 'k'],\n",
    "  ['k', 'l'],\n",
    "  ['o', 'n']\n",
    "];\n",
    "\n",
    "print(undirected_path(edges, 'j', 'm'))"
   ]
  },
  {
   "cell_type": "code",
   "execution_count": null,
   "metadata": {},
   "outputs": [],
   "source": []
  }
 ],
 "metadata": {
  "kernelspec": {
   "display_name": "Python 3",
   "language": "python",
   "name": "python3"
  },
  "language_info": {
   "codemirror_mode": {
    "name": "ipython",
    "version": 3
   },
   "file_extension": ".py",
   "mimetype": "text/x-python",
   "name": "python",
   "nbconvert_exporter": "python",
   "pygments_lexer": "ipython3",
   "version": "3.10.9"
  }
 },
 "nbformat": 4,
 "nbformat_minor": 2
}
