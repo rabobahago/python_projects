{
 "cells": [
  {
   "cell_type": "code",
   "execution_count": 3,
   "metadata": {},
   "outputs": [],
   "source": [
    "def connected_components_count(graph):\n",
    "    count = 0\n",
    "    visited = set()\n",
    "    for node in graph:\n",
    "        if explode(graph, node, visited) == True:\n",
    "            count += 1\n",
    "    return count\n",
    "def explode(graph, current, visited):\n",
    "    if current in visited:\n",
    "        return False\n",
    "    visited.add(current)\n",
    "    for neighbor in graph[current]:\n",
    "        explode(graph, neighbor, visited)\n",
    "    return True"
   ]
  },
  {
   "cell_type": "code",
   "execution_count": 4,
   "metadata": {},
   "outputs": [
    {
     "data": {
      "text/plain": [
       "2"
      ]
     },
     "execution_count": 4,
     "metadata": {},
     "output_type": "execute_result"
    }
   ],
   "source": [
    "connected_components_count({\n",
    "  0: [8, 1, 5],\n",
    "  1: [0],\n",
    "  5: [0, 8],\n",
    "  8: [0, 5],\n",
    "  2: [3, 4],\n",
    "  3: [2, 4],\n",
    "  4: [3, 2]\n",
    "})"
   ]
  },
  {
   "cell_type": "code",
   "execution_count": 5,
   "metadata": {},
   "outputs": [
    {
     "data": {
      "text/plain": [
       "1"
      ]
     },
     "execution_count": 5,
     "metadata": {},
     "output_type": "execute_result"
    }
   ],
   "source": [
    "connected_components_count({\n",
    "  1: [2],\n",
    "  2: [1,8],\n",
    "  6: [7],\n",
    "  9: [8],\n",
    "  7: [6, 8],\n",
    "  8: [9, 7, 2]\n",
    "})"
   ]
  },
  {
   "cell_type": "code",
   "execution_count": null,
   "metadata": {},
   "outputs": [],
   "source": []
  }
 ],
 "metadata": {
  "kernelspec": {
   "display_name": "Python 3",
   "language": "python",
   "name": "python3"
  },
  "language_info": {
   "codemirror_mode": {
    "name": "ipython",
    "version": 3
   },
   "file_extension": ".py",
   "mimetype": "text/x-python",
   "name": "python",
   "nbconvert_exporter": "python",
   "pygments_lexer": "ipython3",
   "version": "3.10.9"
  }
 },
 "nbformat": 4,
 "nbformat_minor": 2
}
