{
 "cells": [
  {
   "cell_type": "code",
   "execution_count": 37,
   "metadata": {},
   "outputs": [],
   "source": [
    "def largest_component(graph):\n",
    "    large  = float('-inf')\n",
    "    visited = set()\n",
    "    for node in graph:\n",
    "        size = explode_size(graph, node, visited)\n",
    "        if size > large:\n",
    "            large = size\n",
    "    return large\n",
    "def explode_size(graph, current, visited):\n",
    "    if current in  visited:\n",
    "        return 0\n",
    "    visited.add(current)\n",
    "    count = 1\n",
    "    for neighbor in graph[current]:\n",
    "        count += explode_size(graph, int(neighbor), visited)\n",
    "    return count\n"
   ]
  },
  {
   "cell_type": "code",
   "execution_count": 38,
   "metadata": {},
   "outputs": [
    {
     "data": {
      "text/plain": [
       "6"
      ]
     },
     "execution_count": 38,
     "metadata": {},
     "output_type": "execute_result"
    }
   ],
   "source": [
    "largest_component({\n",
    "  1: ['2'],\n",
    "  2: ['1','8'],\n",
    "  6: ['7'],\n",
    "  9: ['8'],\n",
    "  7: ['6', '8'],\n",
    "  8: ['9', '7', '2']\n",
    "})"
   ]
  },
  {
   "cell_type": "markdown",
   "metadata": {},
   "source": []
  },
  {
   "cell_type": "code",
   "execution_count": null,
   "metadata": {},
   "outputs": [],
   "source": []
  }
 ],
 "metadata": {
  "kernelspec": {
   "display_name": "Python 3",
   "language": "python",
   "name": "python3"
  },
  "language_info": {
   "codemirror_mode": {
    "name": "ipython",
    "version": 3
   },
   "file_extension": ".py",
   "mimetype": "text/x-python",
   "name": "python",
   "nbconvert_exporter": "python",
   "pygments_lexer": "ipython3",
   "version": "3.10.9"
  }
 },
 "nbformat": 4,
 "nbformat_minor": 2
}
