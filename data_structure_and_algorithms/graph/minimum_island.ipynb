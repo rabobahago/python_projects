{
 "cells": [
  {
   "cell_type": "code",
   "execution_count": 17,
   "metadata": {},
   "outputs": [
    {
     "data": {
      "text/plain": [
       "2"
      ]
     },
     "execution_count": 17,
     "metadata": {},
     "output_type": "execute_result"
    }
   ],
   "source": [
    "def minimum_island(grid):\n",
    "    smallest = float('inf')\n",
    "    visited = set()\n",
    "    for r in range(len(grid)):\n",
    "        for c in range(len(grid[0])):\n",
    "            size = explode(grid, r, c, visited)\n",
    "            if size > 0 and size < smallest:\n",
    "                smallest = size\n",
    "    return smallest\n",
    "\n",
    "\n",
    "\n",
    "def explode(grid, r, c, visited):\n",
    "\n",
    "    row_in_bounds = 0<= r and r < len(grid)\n",
    "    col_in_bounds = 0 <= c and c < len(grid[0])\n",
    "    if not row_in_bounds or not col_in_bounds: return 0\n",
    "    if grid[r][c] == 'W': return 0\n",
    "    pos = (r,c)\n",
    "    if pos in visited: return 0\n",
    "    visited.add(pos)\n",
    "    counter = 1\n",
    "    counter += explode(grid, r - 1, c, visited)\n",
    "    counter += explode(grid, r, c - 1, visited)\n",
    "    counter += explode(grid, r, c + 1, visited)\n",
    "    counter += explode(grid, r + 1, c, visited)\n",
    "    return counter\n",
    "grid = [\n",
    "  ['W', 'L', 'W', 'W', 'W'],\n",
    "  ['W', 'L', 'W', 'W', 'W'],\n",
    "  ['W', 'W', 'W', 'L', 'W'],\n",
    "  ['W', 'W', 'L', 'L', 'W'],\n",
    "  ['L', 'W', 'W', 'L', 'L'],\n",
    "  ['L', 'L', 'W', 'W', 'W'],\n",
    "];\n",
    "\n",
    "minimum_island(grid)"
   ]
  },
  {
   "cell_type": "code",
   "execution_count": null,
   "metadata": {},
   "outputs": [],
   "source": []
  }
 ],
 "metadata": {
  "kernelspec": {
   "display_name": "Python 3",
   "language": "python",
   "name": "python3"
  },
  "language_info": {
   "codemirror_mode": {
    "name": "ipython",
    "version": 3
   },
   "file_extension": ".py",
   "mimetype": "text/x-python",
   "name": "python",
   "nbconvert_exporter": "python",
   "pygments_lexer": "ipython3",
   "version": "3.10.9"
  }
 },
 "nbformat": 4,
 "nbformat_minor": 2
}
