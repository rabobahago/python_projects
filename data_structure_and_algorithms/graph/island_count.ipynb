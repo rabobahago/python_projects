{
 "cells": [
  {
   "cell_type": "code",
   "execution_count": 15,
   "metadata": {},
   "outputs": [
    {
     "data": {
      "text/plain": [
       "3"
      ]
     },
     "execution_count": 15,
     "metadata": {},
     "output_type": "execute_result"
    }
   ],
   "source": [
    "def island_count(grid):\n",
    "  count = 0\n",
    "  visited = set()\n",
    "  for r in range(0, len(grid)):\n",
    "    for c in range(0, len(grid[0])):\n",
    "      count += explode(grid, r, c, visited)\n",
    "  return count\n",
    "\n",
    "\n",
    "def explode(grid, r, c, visited):\n",
    "  row_in_bounds = 0 <= r < len(grid)\n",
    "  col_in_bounds = 0 <= c < len(grid[0])\n",
    "\n",
    "  if not row_in_bounds or not col_in_bounds: return False\n",
    "  pos = (r, c)\n",
    "  if pos in visited or grid[r][c] == 'W': return False\n",
    "  visited.add(pos)\n",
    "\n",
    "  explode(grid, r - 1, c, visited)\n",
    "  explode(grid, r, c - 1, visited)\n",
    "  explode(grid, r + 1, c, visited)\n",
    "  explode(grid, r, c + 1, visited)\n",
    "  return True\n",
    "\n",
    "grid = [\n",
    "  ['W', 'L', 'W', 'W', 'W'],\n",
    "  ['W', 'L', 'W', 'W', 'W'],\n",
    "  ['W', 'W', 'W', 'L', 'W'],\n",
    "  ['W', 'W', 'L', 'L', 'W'],\n",
    "  ['L', 'W', 'W', 'L', 'L'],\n",
    "  ['L', 'L', 'W', 'W', 'W'],\n",
    "];\n",
    "\n",
    "island_count(grid)"
   ]
  },
  {
   "cell_type": "code",
   "execution_count": 11,
   "metadata": {},
   "outputs": [
    {
     "data": {
      "text/plain": [
       "4"
      ]
     },
     "execution_count": 11,
     "metadata": {},
     "output_type": "execute_result"
    }
   ],
   "source": [
    "grid = [\n",
    "  ['L', 'W', 'W', 'L', 'W'],\n",
    "  ['L', 'W', 'W', 'L', 'L'],\n",
    "  ['W', 'L', 'W', 'L', 'W'],\n",
    "  ['W', 'W', 'W', 'W', 'W'],\n",
    "  ['W', 'W', 'L', 'L', 'L'],\n",
    "];\n",
    "\n",
    "island_count(grid)"
   ]
  },
  {
   "cell_type": "code",
   "execution_count": null,
   "metadata": {},
   "outputs": [],
   "source": []
  }
 ],
 "metadata": {
  "kernelspec": {
   "display_name": "Python 3",
   "language": "python",
   "name": "python3"
  },
  "language_info": {
   "codemirror_mode": {
    "name": "ipython",
    "version": 3
   },
   "file_extension": ".py",
   "mimetype": "text/x-python",
   "name": "python",
   "nbconvert_exporter": "python",
   "pygments_lexer": "ipython3",
   "version": "3.10.9"
  }
 },
 "nbformat": 4,
 "nbformat_minor": 2
}
