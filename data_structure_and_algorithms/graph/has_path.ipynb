{
 "cells": [
  {
   "cell_type": "code",
   "execution_count": 10,
   "metadata": {},
   "outputs": [
    {
     "name": "stdout",
     "output_type": "stream",
     "text": [
      "True\n"
     ]
    }
   ],
   "source": [
    "def has_path(graph, src, dst):\n",
    "    if src == dst:\n",
    "        return True\n",
    "    for neigbor in graph[src]:\n",
    "        if has_path(graph, neigbor, dst) == True:\n",
    "            return True\n",
    "    return False\n",
    "graph = {\n",
    "  'f': ['g', 'i'],\n",
    "  'g': ['h'],\n",
    "  'h': [],\n",
    "  'i': ['g', 'k'],\n",
    "  'j': ['i'],\n",
    "  'k': []\n",
    "};\n",
    "\n",
    "print(has_path(graph, 'f', 'k'))"
   ]
  },
  {
   "cell_type": "code",
   "execution_count": 14,
   "metadata": {},
   "outputs": [],
   "source": [
    "def has_path_iterative(graph, src, dst):\n",
    "    stack = [src]\n",
    "    while stack:\n",
    "        current = stack.pop()\n",
    "        if current == dst:\n",
    "            return True\n",
    "        for neighbor in graph[current]:\n",
    "            stack.append(neighbor)\n",
    "    return False\n"
   ]
  },
  {
   "cell_type": "code",
   "execution_count": 17,
   "metadata": {},
   "outputs": [
    {
     "name": "stdout",
     "output_type": "stream",
     "text": [
      "True\n"
     ]
    }
   ],
   "source": [
    "graph = {\n",
    "  'f': ['g', 'i'],\n",
    "  'g': ['h'],\n",
    "  'h': [],\n",
    "  'i': ['g', 'k'],\n",
    "  'j': ['i'],\n",
    "  'k': []\n",
    "};\n",
    "\n",
    "print(has_path(graph, 'f', 'k'))"
   ]
  },
  {
   "cell_type": "code",
   "execution_count": null,
   "metadata": {},
   "outputs": [],
   "source": []
  }
 ],
 "metadata": {
  "kernelspec": {
   "display_name": "Python 3",
   "language": "python",
   "name": "python3"
  },
  "language_info": {
   "codemirror_mode": {
    "name": "ipython",
    "version": 3
   },
   "file_extension": ".py",
   "mimetype": "text/x-python",
   "name": "python",
   "nbconvert_exporter": "python",
   "pygments_lexer": "ipython3",
   "version": "3.10.9"
  }
 },
 "nbformat": 4,
 "nbformat_minor": 2
}
