{
 "cells": [
  {
   "cell_type": "markdown",
   "metadata": {},
   "source": [
    "# Word with most repeated letters"
   ]
  },
  {
   "cell_type": "markdown",
   "metadata": {},
   "source": [
    "### most repeated word"
   ]
  },
  {
   "cell_type": "code",
   "execution_count": 39,
   "metadata": {},
   "outputs": [
    {
     "data": {
      "text/plain": [
       "'elementary'"
      ]
     },
     "execution_count": 39,
     "metadata": {},
     "output_type": "execute_result"
    }
   ],
   "source": [
    "import collections\n",
    "words = ['this', 'is', 'an', 'elementary', 'test', 'example']\n",
    "def most_repeated_letter_count(word):\n",
    "    count = collections.Counter(word)\n",
    "    sorted_word = sorted(count.values(), reverse= True)\n",
    "    return sorted_word[0] if sorted_word else 0\n",
    "\n",
    "def most_repeated_words(words):\n",
    "    max_repeat = max(words, key = most_repeated_letter_count)\n",
    "    return max_repeat\n",
    "most_repeated_words(words)\n"
   ]
  },
  {
   "cell_type": "code",
   "execution_count": 50,
   "metadata": {},
   "outputs": [
    {
     "name": "stdout",
     "output_type": "stream",
     "text": [
      "elementary\n"
     ]
    }
   ],
   "source": [
    "from collections import Counter\n",
    "\n",
    "WORDS = ['this', 'is', 'an', 'elementary', 'test', 'example']\n",
    "\n",
    "def most_repeating_letter_count(word):\n",
    "    return Counter(word).most_common(1)[0][1]\n",
    "\n",
    "def most_repeating_word(words):\n",
    "    return max(words, key=most_repeating_letter_count)\n",
    "\n",
    "print(most_repeating_word(WORDS))\n"
   ]
  },
  {
   "cell_type": "markdown",
   "metadata": {},
   "source": [
    "### Repeated Vowel"
   ]
  },
  {
   "cell_type": "code",
   "execution_count": 49,
   "metadata": {},
   "outputs": [
    {
     "data": {
      "text/plain": [
       "'elementary'"
      ]
     },
     "execution_count": 49,
     "metadata": {},
     "output_type": "execute_result"
    }
   ],
   "source": [
    "from collections import Counter\n",
    "\n",
    "def check_for_vowel(word):\n",
    "    vowel = 'aeiou'\n",
    "    val = Counter(c for c in word if c in vowel)\n",
    "    return max(val.values())\n",
    "def most_repeated_vowel(words):\n",
    "    return max(words, key = check_for_vowel)\n",
    "most_repeated_vowel(words)"
   ]
  },
  {
   "cell_type": "markdown",
   "metadata": {},
   "source": [
    "### Printing tuple records"
   ]
  },
  {
   "cell_type": "code",
   "execution_count": 29,
   "metadata": {},
   "outputs": [
    {
     "name": "stdout",
     "output_type": "stream",
     "text": [
      "['Putin      Vladimir    3.63', 'Trump      Donald      7.85', 'Xi         Jinping    10.60']\n",
      "Putin      Vladimir    3.63\n",
      "Trump      Donald      7.85\n",
      "Xi         Jinping    10.60\n"
     ]
    }
   ],
   "source": [
    "import operator\n",
    "PEOPLE = [('Donald', 'Trump', 7.85),\n",
    "('Vladimir', 'Putin', 3.626),\n",
    "('Jinping', 'Xi', 10.603)]\n",
    "def  format_sort_records(list_of_tuples):\n",
    "    output = []\n",
    "    template = '{1:10} {0:10} {2:5.2f}'\n",
    "    for person in sorted(list_of_tuples, key = operator.itemgetter(1, 0)):\n",
    "        output.append(template.format(*person))\n",
    "    return output\n",
    "print(format_sort_records(PEOPLE))\n",
    "print('\\n'.join(format_sort_records(PEOPLE)))"
   ]
  },
  {
   "cell_type": "markdown",
   "metadata": {},
   "source": [
    "### use namedtuple method from collections"
   ]
  },
  {
   "cell_type": "code",
   "execution_count": 36,
   "metadata": {},
   "outputs": [
    {
     "name": "stdout",
     "output_type": "stream",
     "text": [
      "Putin      Vladimir    3.63\n",
      "Trump      Donald      7.85\n",
      "Xi         Jinping    10.60\n"
     ]
    }
   ],
   "source": [
    "from collections import namedtuple\n",
    "\n",
    "Person = namedtuple('Person', ['first_name', 'last_name', 'value'])\n",
    "\n",
    "PEOPLE = [\n",
    "    Person('Donald', 'Trump', 7.85),\n",
    "    Person('Vladimir', 'Putin', 3.626),\n",
    "    Person('Jinping', 'Xi', 10.603)\n",
    "]\n",
    "\n",
    "def format_sort_records(list_of_namedtuples):\n",
    "    output = []\n",
    "    template = '{last_name:10} {first_name:10} {value:5.2f}'\n",
    "\n",
    "    for person in sorted(list_of_namedtuples, key=lambda x: [x.last_name, x.first_name]):\n",
    "        output.append(template.format(**person._asdict()))\n",
    "\n",
    "    return output\n",
    "\n",
    "print('\\n'.join(format_sort_records(PEOPLE)))\n"
   ]
  },
  {
   "cell_type": "markdown",
   "metadata": {},
   "source": [
    "### Sort movies by either: Length, Director or Title"
   ]
  },
  {
   "cell_type": "code",
   "execution_count": 41,
   "metadata": {},
   "outputs": [
    {
     "name": "stdout",
     "output_type": "stream",
     "text": [
      "Movies sorted by Director\n",
      "------------------------------\n",
      "Title: The Trial of the Chicago 7, Length: 129 minutes, Director: Aaron Sorkin\n",
      "Title: Nomadland, Length: 107 minutes, Director: Chloé Zhao\n",
      "Title: Sound of Metal, Length: 130 minutes, Director: Darius Marder\n",
      "Title: Mank, Length: 131 minutes, Director: David Fincher\n",
      "Title: Promising Young Woman, Length: 113 minutes, Director: Emerald Fennell\n",
      "Title: The Father, Length: 97 minutes, Director: Florian Zeller\n",
      "Title: Minari, Length: 115 minutes, Director: Lee Isaac Chung\n",
      "Title: Judas and the Black Messiah, Length: 126 minutes, Director: Shaka King\n"
     ]
    }
   ],
   "source": [
    "# Define the list of tuples containing movie information\n",
    "movies = [\n",
    "    ('The Father', 97, 'Florian Zeller'),\n",
    "    ('Judas and the Black Messiah', 126, 'Shaka King'),\n",
    "    ('Mank', 131, 'David Fincher'),\n",
    "    ('Minari', 115, 'Lee Isaac Chung'),\n",
    "    ('Nomadland', 107, 'Chloé Zhao'),\n",
    "    ('Promising Young Woman', 113, 'Emerald Fennell'),\n",
    "    ('Sound of Metal', 130, 'Darius Marder'),\n",
    "    ('The Trial of the Chicago 7', 129, 'Aaron Sorkin')\n",
    "]\n",
    "def sort_movies(choice):\n",
    "    if choice == 'title':\n",
    "        return sorted(movies, key=lambda x: x[0])\n",
    "    elif choice == 'length':\n",
    "        return sorted(movies, key=lambda x: x[1])\n",
    "    elif choice == 'director':\n",
    "        return sorted(movies, key=lambda x: x[2])\n",
    "    else:\n",
    "        return movies\n",
    "\n",
    "sort_option = input(\"How would you like to sort the movies? (title/length/director): \").lower()\n",
    "sorted_movies = sort_movies(sort_option)\n",
    "print(\"Movies sorted by\", sort_option.capitalize())\n",
    "print(\"------------------------------\")\n",
    "for movie in sorted_movies:\n",
    "    print(f\"Title: {movie[0]}, Length: {movie[1]} minutes, Director: {movie[2]}\")\n"
   ]
  },
  {
   "cell_type": "markdown",
   "metadata": {},
   "source": [
    "### User to sort by two or three of these fields"
   ]
  },
  {
   "cell_type": "code",
   "execution_count": 59,
   "metadata": {},
   "outputs": [
    {
     "name": "stdout",
     "output_type": "stream",
     "text": [
      "['title', 'length']\n",
      "movies sorted by title, length\n",
      "-------------------------------------\n",
      "Title: The Father, Length: 97 minutes, Director: Florian Zeller\n",
      "Title: Judas and the Black Messiah, Length: 126 minutes, Director: Shaka King\n",
      "Title: Mank, Length: 131 minutes, Director: David Fincher\n",
      "Title: Minari, Length: 115 minutes, Director: Lee Isaac Chung\n",
      "Title: Nomadland, Length: 107 minutes, Director: Chloé Zhao\n",
      "Title: Promising Young Woman, Length: 113 minutes, Director: Emerald Fennell\n",
      "Title: Sound of Metal, Length: 130 minutes, Director: Darius Marder\n",
      "Title: The Trial of the Chicago 7, Length: 129 minutes, Director: Aaron Sorkin\n"
     ]
    }
   ],
   "source": [
    "movies = [\n",
    "    ('The Father', 97, 'Florian Zeller'),\n",
    "    ('Judas and the Black Messiah', 126, 'Shaka King'),\n",
    "    ('Mank', 131, 'David Fincher'),\n",
    "    ('Minari', 115, 'Lee Isaac Chung'),\n",
    "    ('Nomadland', 107, 'Chloé Zhao'),\n",
    "    ('Promising Young Woman', 113, 'Emerald Fennell'),\n",
    "    ('Sound of Metal', 130, 'Darius Marder'),\n",
    "    ('The Trial of the Chicago 7', 129, 'Aaron Sorkin')\n",
    "]\n",
    "\n",
    "def sort_movies(sort_option):\n",
    "    fields = [field.strip().lower() for field in sort_option.split(',')]\n",
    "    print(fields)\n",
    "    for field in fields:\n",
    "        if field not in ['title', 'length', 'director']:\n",
    "            print('Invalid sort option, please provide one, two or three of these option seperated by commas: title, length, director')\n",
    "            return field\n",
    "\n",
    "    return sorted(movies, key = lambda x: tuple(x[0] if field == 'title' else(x[1] if field == 'length' else x[2]) for field in fields))\n",
    "\n",
    "sort_option = input('How would you like to sort you movies data: please, provider either one or two or three of these: title, length, director seperated by commas').lower()\n",
    "movies_sorted = sort_movies(sort_option)\n",
    "print('movies sorted by', sort_option)\n",
    "print('-------------------------------------')\n",
    "for movie in movies:\n",
    "    print(f'Title: {movie[0]}, Length: {movie[1]} minutes, Director: {movie[2]}')"
   ]
  }
 ],
 "metadata": {
  "kernelspec": {
   "display_name": "base",
   "language": "python",
   "name": "python3"
  },
  "language_info": {
   "codemirror_mode": {
    "name": "ipython",
    "version": 3
   },
   "file_extension": ".py",
   "mimetype": "text/x-python",
   "name": "python",
   "nbconvert_exporter": "python",
   "pygments_lexer": "ipython3",
   "version": "3.10.9"
  }
 },
 "nbformat": 4,
 "nbformat_minor": 2
}
