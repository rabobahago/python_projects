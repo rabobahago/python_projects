{
 "cells": [
  {
   "cell_type": "markdown",
   "metadata": {},
   "source": [
    "# Maze"
   ]
  },
  {
   "cell_type": "code",
   "execution_count": 10,
   "metadata": {},
   "outputs": [
    {
     "name": "stdout",
     "output_type": "stream",
     "text": [
      "# # # # # # # #           # #   # #     # #           # # # # # # # # \n",
      "P # # # # # # \n",
      "#           # \n",
      "#   # #     # \n",
      "#           # \n",
      "# # # # # # # \n"
     ]
    },
    {
     "name": "stdout",
     "output_type": "stream",
     "text": [
      "Invalid direction! Please enter a valid direction.\n",
      "P # # # # # # \n",
      "#           # \n",
      "#   # #     # \n",
      "#           # \n",
      "# # # # # # # \n"
     ]
    }
   ],
   "source": [
    "maze = [\n",
    "    ['#', '#', '#', '#', '#', '#', '#'],\n",
    "    ['#', ' ', ' ', ' ', ' ', ' ', '#'],\n",
    "    ['#', ' ', '#', '#', ' ', ' ', '#'],\n",
    "    ['#', ' ', ' ', ' ', ' ', ' ', '#'],\n",
    "    ['#', '#', '#', '#', '#', '#', '#']\n",
    "]\n",
    "for row in maze:\n",
    "    for cell in row:\n",
    "        print(cell, end=' ')\n",
    "print()\n",
    "player_pos = (0, 0)\n",
    "maze[player_pos[0]][player_pos[0]] = 'P'\n",
    "def print_maze(maze, player_pos):\n",
    "    for row_index, row in enumerate(maze):\n",
    "        for col_index, cell in enumerate(row):\n",
    "            if(row_index, col_index) == player_pos:\n",
    "                print('P', end=' ')\n",
    "            else:\n",
    "                print(cell, end=' ')\n",
    "        print()\n",
    "# P start at the top left corner that is why the directions is a bit different\n",
    "# normal programming move\n",
    "directions = {\n",
    "    'up': (-1, 0),\n",
    "    'down': (1, 0),\n",
    "    'left': (0, -1),\n",
    "    'right': (0, 1)\n",
    "}\n",
    "def move_player(current_pos, directions):\n",
    "    row, col = current_pos\n",
    "    row_change, col_change = directions\n",
    "    new_row =row + row_change\n",
    "    new_col = col + col_change\n",
    "    return new_row,new_col\n",
    "while True:\n",
    "    print_maze(maze, player_pos)\n",
    "    direction_input =input('Enter direction (up/down/left/right): ').lower()\n",
    "\n",
    "    if direction_input == 'quit':\n",
    "        print('Goodbye see you next time')\n",
    "        break\n",
    "    elif direction_input in directions:\n",
    "        vector_direction = directions[direction_input]\n",
    "        new_player_pos = move_player(player_pos, vector_direction)\n",
    "        if maze[new_player_pos[0]][new_player_pos[1]] == \"G\":\n",
    "            print('Congratulations! You have reach you destinations')\n",
    "        elif maze[new_player_pos[0]][new_player_pos[1]] == ' ':\n",
    "            maze[player_pos[0]][player_pos[1]] = ' '\n",
    "            maze[new_player_pos[0]][new_player_pos[1]] = 'P'\n",
    "            player_pos = new_player_pos\n",
    "        else:\n",
    "            print('You can\\'t move to the position')\n",
    "    else:\n",
    "        print('Invalid direction! Please enter a valid direction.')\n"
   ]
  },
  {
   "cell_type": "code",
   "execution_count": null,
   "metadata": {},
   "outputs": [],
   "source": []
  }
 ],
 "metadata": {
  "kernelspec": {
   "display_name": "base",
   "language": "python",
   "name": "python3"
  },
  "language_info": {
   "codemirror_mode": {
    "name": "ipython",
    "version": 3
   },
   "file_extension": ".py",
   "mimetype": "text/x-python",
   "name": "python",
   "nbconvert_exporter": "python",
   "pygments_lexer": "ipython3",
   "version": "3.10.9"
  }
 },
 "nbformat": 4,
 "nbformat_minor": 2
}
