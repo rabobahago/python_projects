{
 "cells": [
  {
   "cell_type": "markdown",
   "metadata": {},
   "source": [
    "# Maze"
   ]
  },
  {
   "cell_type": "code",
   "execution_count": 1,
   "metadata": {},
   "outputs": [],
   "source": [
    "maze = [\n",
    "    ['#', '#', '#', '#', '#', '#', '#'],\n",
    "    ['#', ' ', ' ', ' ', ' ', ' ', '#'],\n",
    "    ['#', ' ', '#', '#', ' ', ' ', '#'],\n",
    "    ['#', ' ', ' ', ' ', ' ', ' ', '#'],\n",
    "    ['#', '#', '#', '#', '#', '#', '#']\n",
    "]\n"
   ]
  },
  {
   "cell_type": "code",
   "execution_count": 7,
   "metadata": {},
   "outputs": [
    {
     "name": "stdout",
     "output_type": "stream",
     "text": [
      "# # # # # # # #           # #   # #     # #           # # # # # # # # \n"
     ]
    }
   ],
   "source": [
    "for row in maze:\n",
    "    for cell in row:\n",
    "        print(cell, end=' ')\n",
    "print()\n"
   ]
  },
  {
   "cell_type": "code",
   "execution_count": null,
   "metadata": {},
   "outputs": [],
   "source": []
  }
 ],
 "metadata": {
  "kernelspec": {
   "display_name": "base",
   "language": "python",
   "name": "python3"
  },
  "language_info": {
   "codemirror_mode": {
    "name": "ipython",
    "version": 3
   },
   "file_extension": ".py",
   "mimetype": "text/x-python",
   "name": "python",
   "nbconvert_exporter": "python",
   "pygments_lexer": "ipython3",
   "version": "3.10.9"
  }
 },
 "nbformat": 4,
 "nbformat_minor": 2
}
