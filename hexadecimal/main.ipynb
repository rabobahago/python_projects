{
 "cells": [
  {
   "cell_type": "code",
   "execution_count": 3,
   "metadata": {},
   "outputs": [
    {
     "name": "stdout",
     "output_type": "stream",
     "text": [
      "52\n"
     ]
    }
   ],
   "source": [
    "def hex_output():\n",
    "    decnum = 0\n",
    "    hexnum = input('Enter a hex number to convert: ')\n",
    "    for power, digit in enumerate(reversed(hexnum)):\n",
    "        decnum += int(digit, 16) * (16 ** power)\n",
    "    print(decnum)\n",
    "hex_output()"
   ]
  },
  {
   "cell_type": "code",
   "execution_count": 4,
   "metadata": {},
   "outputs": [
    {
     "name": "stdout",
     "output_type": "stream",
     "text": [
      "r\n",
      "ra\n",
      "rab\n",
      "rabo\n"
     ]
    }
   ],
   "source": [
    "def name_triangle(name):\n",
    "    # Iterate through the characters in the name\n",
    "    for i in range(1, len(name) + 1):\n",
    "        # Print the first i characters of the name\n",
    "        print(name[:i])\n",
    "\n",
    "# Get user's name\n",
    "user_name = input(\"Enter your name: \")\n",
    "\n",
    "# Call the function to create the name triangle\n",
    "name_triangle(user_name)"
   ]
  },
  {
   "cell_type": "code",
   "execution_count": null,
   "metadata": {},
   "outputs": [],
   "source": []
  }
 ],
 "metadata": {
  "kernelspec": {
   "display_name": "base",
   "language": "python",
   "name": "python3"
  },
  "language_info": {
   "codemirror_mode": {
    "name": "ipython",
    "version": 3
   },
   "file_extension": ".py",
   "mimetype": "text/x-python",
   "name": "python",
   "nbconvert_exporter": "python",
   "pygments_lexer": "ipython3",
   "version": "3.10.9"
  }
 },
 "nbformat": 4,
 "nbformat_minor": 2
}
