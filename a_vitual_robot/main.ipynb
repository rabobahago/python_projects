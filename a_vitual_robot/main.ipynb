{
 "cells": [
  {
   "cell_type": "code",
   "execution_count": 11,
   "metadata": {},
   "outputs": [
    {
     "name": "stdout",
     "output_type": "stream",
     "text": [
      "Unknown Command\n",
      "Unknown Command\n",
      "Unknown Command\n",
      "Unknown Command\n",
      "Unknown Command\n",
      "They have crossed path at x 0 and y 0 coordinate\n",
      "Unknown Command\n",
      "Unknown Command\n",
      "They have crossed path at x 0 and y 0 coordinate\n",
      "Unknown Command\n",
      "Unknown Command\n",
      "Unknown Command\n",
      "Unknown Command\n",
      "Unknown Command\n",
      "Unknown Command\n",
      "Unknown Command\n",
      "Unknown Command\n",
      "Unknown Command\n",
      "Unknown Command\n",
      "Unknown Command\n",
      "Unknown Command\n",
      "Instructions ended without a STOP\n"
     ]
    }
   ],
   "source": [
    "commands = 'FFFFFLFFFLFFFFRRRFXFFFFFFS'\n",
    "x, y = 0, 0 # current location\n",
    "dx, dy = 1, 0 # current direction\n",
    "locs = [(0, 0)] # locations store\n",
    "for command in commands:\n",
    "    if commands == 'S':\n",
    "        print('You have reached the end')\n",
    "        break\n",
    "    if command == 'F':\n",
    "        x += dx\n",
    "        y += dy\n",
    "        if (x, y) in locs:\n",
    "            print(f'They have crossed path at x {x} and y {y} coordinate')\n",
    "            locs.append((x, y))\n",
    "            continue\n",
    "    if command =='R':\n",
    "        # move clockwise: (1,0)->(0, -1)->(-1, 0)->(0, 1), (1,1)\n",
    "        x, y = dx, -dy\n",
    "        continue\n",
    "    if command == 'L':\n",
    "        # move anticlockwise: (1, 0)->(0, 1)->(-1,0)->(0, -1)->(1,1)\n",
    "        x, y = -dx, dy\n",
    "        continue\n",
    "    else:\n",
    "        print('Unknown Command')\n",
    "else:\n",
    "    # We exhausted the commands without encountering an S for STOP\n",
    "    print('Instructions ended without a STOP')\n"
   ]
  },
  {
   "cell_type": "code",
   "execution_count": null,
   "metadata": {},
   "outputs": [],
   "source": []
  }
 ],
 "metadata": {
  "kernelspec": {
   "display_name": "Python 3",
   "language": "python",
   "name": "python3"
  },
  "language_info": {
   "codemirror_mode": {
    "name": "ipython",
    "version": 3
   },
   "file_extension": ".py",
   "mimetype": "text/x-python",
   "name": "python",
   "nbconvert_exporter": "python",
   "pygments_lexer": "ipython3",
   "version": "3.10.9"
  }
 },
 "nbformat": 4,
 "nbformat_minor": 2
}
