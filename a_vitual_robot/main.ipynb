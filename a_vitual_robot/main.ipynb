{
 "cells": [
  {
   "cell_type": "code",
   "execution_count": 27,
   "metadata": {},
   "outputs": [
    {
     "name": "stdout",
     "output_type": "stream",
     "text": [
      "Unknown Command\n",
      "They have crossed path at x 1 and y 0 coordinate\n",
      "Unknown Command\n",
      "Instructions ended without a STOP\n",
      " *****\n",
      " *   *\n",
      " *   *\n",
      "******\n",
      " *    \n",
      " *    \n",
      " *    \n",
      " *    \n"
     ]
    }
   ],
   "source": [
    "# commands = 'FFFFFLFFFLFFFFRRRFXFFFFFFS'\n",
    "# x, y = 0, 0 # current location\n",
    "# dx, dy = 1, 0 # current direction\n",
    "# locs = [(0, 0)] # locations store\n",
    "# for command in commands:\n",
    "#     if commands == 'S':\n",
    "#         print('You have reached the end')\n",
    "#         break\n",
    "#     elif command == 'F':\n",
    "#         x += dx\n",
    "#         y += dy\n",
    "#         if (x, y) in locs:\n",
    "#             print(f'They have crossed path at x {x} and y {y} coordinate')\n",
    "#         locs.append((x, y))\n",
    "#         continue\n",
    "#     elif command == 'L':\n",
    "#         # move anticlockwise: (1, 0)->(0, 1)->(-1,0)->(0, -1)->(1,1)\n",
    "#         dx, dy = -dy, dx\n",
    "#         continue\n",
    "#     elif command =='R':\n",
    "#         # move clockwise: (1,0)->(0, -1)->(-1, 0)->(0, 1), (1,1)\n",
    "#         dx, dy = dy, -dx\n",
    "#         continue\n",
    "\n",
    "#     else:\n",
    "#         print('Unknown Command')\n",
    "# else:\n",
    "#     # We exhausted the commands without encountering an S for STOP\n",
    "#     print('Instructions ended without a STOP')\n",
    "# x, y = zip(*locs)\n",
    "# min_x, max_x = min(x), max(x)\n",
    "# min_y, max_y = min(y), max(y)\n",
    "# # The grid size needed for the plot is (nx, ny).\n",
    "# xn = max_x - min_x + 1\n",
    "# yn = max_y - min_y + 1\n",
    "# for iy in reversed(range(yn)):\n",
    "#     for ix in range(xn):\n",
    "#         if (ix + min_x, iy + min_y) in locs:\n",
    "#             print('*', end='')\n",
    "#         else:\n",
    "#             print(' ', end='')\n",
    "#     print()\n"
   ]
  },
  {
   "cell_type": "code",
   "execution_count": 43,
   "metadata": {},
   "outputs": [
    {
     "name": "stdout",
     "output_type": "stream",
     "text": [
      "There is no such command\n",
      "There is path crossed at: {x} {y}\n",
      "End\n",
      " ***** \n",
      " *   * \n",
      " *   * \n",
      "****** \n",
      " *     \n",
      " *     \n",
      " *     \n",
      " *     \n"
     ]
    }
   ],
   "source": [
    "commands = 'FFFFFLFFFLFFFFRRRFXFFFFFFS'\n",
    "x, y = 0, 0\n",
    "dx, dy = (1, 0)\n",
    "locs = [(0, 0)]\n",
    "for command in commands:\n",
    "    if command == 'S':\n",
    "        print('End')\n",
    "        break\n",
    "    if command == 'F':\n",
    "        x += dx\n",
    "        y += dy\n",
    "        if (x, y) in locs:\n",
    "            print('There is path crossed at: {x} {y}')\n",
    "        locs.append((x, y))\n",
    "        continue\n",
    "    if command == 'R':\n",
    "        dx, dy = dy, -dx\n",
    "        continue\n",
    "    if command == 'L':\n",
    "        dx, dy = -dy, dx\n",
    "        continue\n",
    "    else:\n",
    "        print('There is no such command')\n",
    "else:\n",
    "# We exhausted the commands without encountering an S for STOP.\n",
    "    print('Instructions ended without a STOP')\n",
    "x, y = zip(*locs)\n",
    "min_x, max_x = min(x), max(x)\n",
    "min_y, max_y = min(y), max(y)\n",
    "xn = max_x - min_x + 1\n",
    "yn = max_y - min_y + 1\n",
    "for i_y in reversed(range(yn)):\n",
    "    for i_x in range(xn):\n",
    "        if (i_x + min_x, i_y + min_y) in locs:\n",
    "            print('*', end='')\n",
    "        else:\n",
    "            print(' ', end='')\n",
    "    print(' ')"
   ]
  }
 ],
 "metadata": {
  "kernelspec": {
   "display_name": "Python 3",
   "language": "python",
   "name": "python3"
  },
  "language_info": {
   "codemirror_mode": {
    "name": "ipython",
    "version": 3
   },
   "file_extension": ".py",
   "mimetype": "text/x-python",
   "name": "python",
   "nbconvert_exporter": "python",
   "pygments_lexer": "ipython3",
   "version": "3.10.9"
  }
 },
 "nbformat": 4,
 "nbformat_minor": 2
}
