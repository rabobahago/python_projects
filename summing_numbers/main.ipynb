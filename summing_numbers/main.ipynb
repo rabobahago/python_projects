{
 "cells": [
  {
   "cell_type": "markdown",
   "metadata": {},
   "source": [
    "# Summing Numbers"
   ]
  },
  {
   "cell_type": "markdown",
   "metadata": {},
   "source": [
    "### My Sum"
   ]
  },
  {
   "cell_type": "code",
   "execution_count": 5,
   "metadata": {},
   "outputs": [
    {
     "name": "stdout",
     "output_type": "stream",
     "text": [
      "321\n",
      "168\n"
     ]
    }
   ],
   "source": [
    "def mysum(number_list, start = 0):\n",
    "    output = start\n",
    "    for number in number_list:\n",
    "        output += number\n",
    "    return output\n",
    "print(mysum([30, 56, 45, 100], 90))\n",
    "print(mysum([90,78], 0))"
   ]
  },
  {
   "cell_type": "markdown",
   "metadata": {},
   "source": [
    "### List of Words"
   ]
  },
  {
   "cell_type": "code",
   "execution_count": 19,
   "metadata": {},
   "outputs": [
    {
     "data": {
      "text/plain": [
       "(3, 4, 3)"
      ]
     },
     "execution_count": 19,
     "metadata": {},
     "output_type": "execute_result"
    }
   ],
   "source": [
    "def length_tuple(words_list):\n",
    "    count = 0\n",
    "    sum = 0\n",
    "    for word in words_list:\n",
    "        sum += len(word)\n",
    "        count += 1\n",
    "    average = sum / count\n",
    "    sorted_words = sorted(words_list, key = lambda x : len(x))\n",
    "\n",
    "    return len(sorted_words[0]), len(sorted_words[-1]), round(average)\n",
    "length_tuple(['word', 'ate', 'red'])"
   ]
  },
  {
   "cell_type": "code",
   "execution_count": null,
   "metadata": {},
   "outputs": [],
   "source": []
  }
 ],
 "metadata": {
  "kernelspec": {
   "display_name": "base",
   "language": "python",
   "name": "python3"
  },
  "language_info": {
   "codemirror_mode": {
    "name": "ipython",
    "version": 3
   },
   "file_extension": ".py",
   "mimetype": "text/x-python",
   "name": "python",
   "nbconvert_exporter": "python",
   "pygments_lexer": "ipython3",
   "version": "3.10.9"
  }
 },
 "nbformat": 4,
 "nbformat_minor": 2
}
