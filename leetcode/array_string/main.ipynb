{
 "cells": [
  {
   "cell_type": "code",
   "execution_count": 7,
   "metadata": {},
   "outputs": [
    {
     "name": "stdout",
     "output_type": "stream",
     "text": [
      "10\n",
      "10\n",
      "45\n"
     ]
    }
   ],
   "source": [
    "def sum_all(arr):\n",
    "    arr = sorted(arr)\n",
    "    initial, final = arr[0], arr[-1]\n",
    "    result = 0\n",
    "    for num in range(initial, final + 1):\n",
    "        result += num\n",
    "    return result\n",
    "print(sum_all([1, 4]))\n",
    "print(sum_all([4, 1]))\n",
    "print(sum_all([5, 10]))\n"
   ]
  },
  {
   "cell_type": "code",
   "execution_count": 16,
   "metadata": {},
   "outputs": [
    {
     "name": "stdout",
     "output_type": "stream",
     "text": [
      "[4]\n",
      "['pink wool']\n"
     ]
    }
   ],
   "source": [
    "def diff_arr(arr1, arr2):\n",
    "    result = []\n",
    "    if len(arr1) < len(arr2):\n",
    "        arr1, arr2 = arr2, arr1\n",
    "    for elem in arr1:\n",
    "        if elem not in arr2:\n",
    "            result.append(elem)\n",
    "    return result\n",
    "print(diff_arr([1, 2, 3, 5], [1, 2, 3, 4, 5]))\n",
    "print(diff_arr([\"diorite\", \"andesite\", \"grass\", \"dirt\", \"pink wool\", \"dead shrub\"], [\"diorite\", \"andesite\", \"grass\", \"dirt\", \"dead shrub\"]))\n"
   ]
  },
  {
   "cell_type": "code",
   "execution_count": 21,
   "metadata": {},
   "outputs": [
    {
     "name": "stdout",
     "output_type": "stream",
     "text": [
      "[1, 1]\n",
      "[1, 5, 1]\n"
     ]
    }
   ],
   "source": [
    "def destroyer(arr, *arg):\n",
    "    return [elem for elem in arr if elem not in arg]\n",
    "print(destroyer([1, 2, 3, 1, 2, 3], 2, 3))\n",
    "print(destroyer([1, 2, 3, 5, 1, 2, 3], 2, 3))"
   ]
  },
  {
   "cell_type": "code",
   "execution_count": 34,
   "metadata": {},
   "outputs": [
    {
     "name": "stdout",
     "output_type": "stream",
     "text": [
      "[{'first': 'Tybalt', 'last': 'Capulet'}]\n",
      "[{'apple': 1, 'bat': 2}]\n"
     ]
    }
   ],
   "source": [
    "def what_is_in_a_name(collections, source):\n",
    "    for obj in collections:\n",
    "        for item, val in obj.items():\n",
    "            if item in source and source[item] == val:\n",
    "                return [obj]\n",
    "\n",
    "    return [{}]\n",
    "print(what_is_in_a_name([{ 'first': \"Romeo\", 'last': \"Montague\" }, { 'first': \"Mercutio\", 'last': None }, { 'first': \"Tybalt\", 'last': \"Capulet\" }], { 'last': \"Capulet\" }))\n",
    "print(what_is_in_a_name([{ \"apple\": 1, \"bat\": 2 }, { \"apple\": 1 }, { \"apple\": 1, \"bat\": 2, \"cookie\": 2 }, { \"bat\":2 }], { \"apple\": 1, \"bat\": 2 }))"
   ]
  },
  {
   "cell_type": "code",
   "execution_count": 41,
   "metadata": {},
   "outputs": [
    {
     "name": "stdout",
     "output_type": "stream",
     "text": [
      "this-is-spinal-tap\n",
      "teletubbies-say-eh-oh\n"
     ]
    }
   ],
   "source": [
    "def spinal_case(string):\n",
    "    return '-'.join(string.lower().split())\n",
    "print(spinal_case(\"This Is Spinal Tap\"))\n",
    "print(spinal_case(\"Teletubbies say Eh-oh\"))\n"
   ]
  },
  {
   "cell_type": "code",
   "execution_count": 5,
   "metadata": {},
   "outputs": [
    {
     "name": "stdout",
     "output_type": "stream",
     "text": [
      "6\n",
      "3\n"
     ]
    }
   ],
   "source": [
    "def k_index(arr, k):\n",
    "    return arr[-k - 1]\n",
    "print(k_index([1, 2, 3, 4, 5, 6], 0))\n",
    "print(k_index([-1, 2, 3, -4, 5, 0], 3))"
   ]
  },
  {
   "cell_type": "code",
   "execution_count": 13,
   "metadata": {},
   "outputs": [
    {
     "name": "stdout",
     "output_type": "stream",
     "text": [
      "5\n",
      "1\n"
     ]
    }
   ],
   "source": [
    "def last_occurence_integer(arr, k):\n",
    "    ind = None\n",
    "    for index, val in enumerate(arr):\n",
    "        if ind is None:\n",
    "            ind = -345677\n",
    "        if val == k:\n",
    "            ind = index\n",
    "    return ind if ind else -1\n",
    "print(last_occurence_integer([4, 1, 3, 5, 3, 4, 2], 4))\n",
    "print(last_occurence_integer([-1, -1, 3, 5, 3, 2], -1))"
   ]
  },
  {
   "cell_type": "code",
   "execution_count": 21,
   "metadata": {},
   "outputs": [
    {
     "data": {
      "text/plain": [
       "[-1, 2]"
      ]
     },
     "execution_count": 21,
     "metadata": {},
     "output_type": "execute_result"
    }
   ],
   "source": [
    "def movementOfAPersonGivenAnArray(arr):\n",
    "    position = [0, 0]\n",
    "    for cord in arr:\n",
    "        if cord == 'up':\n",
    "            position[1] += 1\n",
    "        elif cord == 'down':\n",
    "            position[1] -= 1\n",
    "        elif cord == 'left':\n",
    "            position[0] -= 1\n",
    "        else:\n",
    "            position[0] += 1\n",
    "    return position\n",
    "movementOfAPersonGivenAnArray([\n",
    "    \"up\",\n",
    "    \"up\",\n",
    "    \"down\",\n",
    "    \"left\",\n",
    "    \"left\",\n",
    "    \"right\",\n",
    "    \"up\",\n",
    "  ])"
   ]
  },
  {
   "cell_type": "code",
   "execution_count": 24,
   "metadata": {},
   "outputs": [
    {
     "data": {
      "text/plain": [
       "[4, 0]"
      ]
     },
     "execution_count": 24,
     "metadata": {},
     "output_type": "execute_result"
    }
   ],
   "source": [
    "def movement_on_2D(arr):\n",
    "    move = [0, 0]\n",
    "    for in_list in arr:\n",
    "        x, y = in_list[0], in_list[1]\n",
    "        move[0] += x\n",
    "        move[1] += y\n",
    "\n",
    "    return move\n",
    "\n",
    "movement_on_2D([[1, 0], [0,-3], [3,3]])"
   ]
  },
  {
   "cell_type": "code",
   "execution_count": 33,
   "metadata": {},
   "outputs": [
    {
     "data": {
      "text/plain": [
       "True"
      ]
     },
     "execution_count": 33,
     "metadata": {},
     "output_type": "execute_result"
    }
   ],
   "source": [
    "def palindrome(string):\n",
    "    result = ''\n",
    "    for index in range(len(string)-1, -1, -1):\n",
    "        result += string[index]\n",
    "    return string == result\n",
    "palindrome('abba')"
   ]
  },
  {
   "cell_type": "code",
   "execution_count": 44,
   "metadata": {},
   "outputs": [
    {
     "name": "stdout",
     "output_type": "stream",
     "text": [
      "False\n",
      "True\n"
     ]
    }
   ],
   "source": [
    "def prefix_of_str(str1, str2):\n",
    "    return str1[0 :len(str2)] == str2\n",
    "print(prefix_of_str(\"banner\", \"bang\"))\n",
    "print(prefix_of_str(\"hugging\", \"hug\"))"
   ]
  },
  {
   "cell_type": "code",
   "execution_count": 47,
   "metadata": {},
   "outputs": [
    {
     "data": {
      "text/plain": [
       "[2, 3, 5]"
      ]
     },
     "execution_count": 47,
     "metadata": {},
     "output_type": "execute_result"
    }
   ],
   "source": [
    "def remove_zero(arr):\n",
    "    result = []\n",
    "    for num in arr:\n",
    "        if num == 0:\n",
    "            continue\n",
    "        else:\n",
    "            result.append(num)\n",
    "    return result\n",
    "remove_zero([0, 0, 2, 0, 3, 0, 5])"
   ]
  },
  {
   "cell_type": "code",
   "execution_count": 49,
   "metadata": {},
   "outputs": [
    {
     "data": {
      "text/plain": [
       "'abcd'"
      ]
     },
     "execution_count": 49,
     "metadata": {},
     "output_type": "execute_result"
    }
   ],
   "source": [
    "def remove_parathesis(string):\n",
    "    result = []\n",
    "    for st in string:\n",
    "        if st == '(' or st == ')':\n",
    "            continue\n",
    "        else:\n",
    "            result.append(st)\n",
    "    return ''.join(result)\n",
    "remove_parathesis(\"(a)(b)((c))(((d)))\")"
   ]
  },
  {
   "cell_type": "code",
   "execution_count": 51,
   "metadata": {},
   "outputs": [
    {
     "data": {
      "text/plain": [
       "'milk'"
      ]
     },
     "execution_count": 51,
     "metadata": {},
     "output_type": "execute_result"
    }
   ],
   "source": [
    "def return_string_char(string, k):\n",
    "    str_char = string.split('\\n')\n",
    "    return str_char[k - 1]\n",
    "return_string_char(\"apples\\nmilk\\nbread\\nfish\\n\", 2)"
   ]
  },
  {
   "cell_type": "code",
   "execution_count": 63,
   "metadata": {},
   "outputs": [
    {
     "data": {
      "text/plain": [
       "['Bird', 'Skunk', 'Dog', 'Cat']"
      ]
     },
     "execution_count": 63,
     "metadata": {},
     "output_type": "execute_result"
    }
   ],
   "source": [
    "def reverse_a_list(arr):\n",
    "    result = []\n",
    "    for ind in range(len(arr)-1, -1, -1):\n",
    "        result.append(arr[ind])\n",
    "    return result\n",
    "\n",
    "\n",
    "reverse_a_list([\"Cat\",\"Dog\",\"Skunk\",\"Bird\"])"
   ]
  },
  {
   "cell_type": "code",
   "execution_count": 18,
   "metadata": {},
   "outputs": [
    {
     "data": {
      "text/plain": [
       "True"
      ]
     },
     "execution_count": 18,
     "metadata": {},
     "output_type": "execute_result"
    }
   ],
   "source": [
    "def anagram(arr):\n",
    "    result  = []\n",
    "    str_ = ''\n",
    "    for word in arr:\n",
    "        str_ = ''.join(sorted(word))\n",
    "        result.append(''.join(sorted(word)))\n",
    "    for word in result:\n",
    "        if word != str_:\n",
    "            return False\n",
    "    return True\n",
    "anagram(([\"act\",\"cat\",\"tac\"]))"
   ]
  },
  {
   "cell_type": "code",
   "execution_count": 20,
   "metadata": {},
   "outputs": [
    {
     "data": {
      "text/plain": [
       "True"
      ]
     },
     "execution_count": 20,
     "metadata": {},
     "output_type": "execute_result"
    }
   ],
   "source": [
    "def anagram_of(str1, str2):\n",
    "    return sorted(str1) == sorted(str2)\n",
    "anagram_of(\"listen\", \"silent\")"
   ]
  },
  {
   "cell_type": "code",
   "execution_count": 4,
   "metadata": {},
   "outputs": [
    {
     "data": {
      "text/plain": [
       "deque([2, 2, 9], maxlen=3)"
      ]
     },
     "execution_count": 4,
     "metadata": {},
     "output_type": "execute_result"
    }
   ],
   "source": [
    "from collections import deque\n",
    "queue = deque(maxlen=3)\n",
    "queue.append(1)\n",
    "queue.append(2)\n",
    "queue.append(2)\n",
    "queue.append(9)\n",
    "queue\n"
   ]
  },
  {
   "cell_type": "code",
   "execution_count": 7,
   "metadata": {},
   "outputs": [
    {
     "data": {
      "text/plain": [
       "[788, 556, 90]"
      ]
     },
     "execution_count": 7,
     "metadata": {},
     "output_type": "execute_result"
    }
   ],
   "source": [
    "import heapq\n",
    "heapq.nlargest(3, [67, 2, 788, 9, 90, 556])"
   ]
  },
  {
   "cell_type": "code",
   "execution_count": 8,
   "metadata": {},
   "outputs": [
    {
     "data": {
      "text/plain": [
       "[-1090, -2, 1]"
      ]
     },
     "execution_count": 8,
     "metadata": {},
     "output_type": "execute_result"
    }
   ],
   "source": [
    "heapq.nsmallest(3, [3, 1, -2, 5, -1090])"
   ]
  },
  {
   "cell_type": "code",
   "execution_count": 9,
   "metadata": {},
   "outputs": [
    {
     "data": {
      "text/plain": [
       "[{'name': 'YHOO', 'shares': 45, 'price': 16.35},\n",
       " {'name': 'FB', 'shares': 200, 'price': 21.09},\n",
       " {'name': 'HPQ', 'shares': 35, 'price': 31.75}]"
      ]
     },
     "execution_count": 9,
     "metadata": {},
     "output_type": "execute_result"
    }
   ],
   "source": [
    "portfolio = [\n",
    "{'name': 'IBM', 'shares': 100, 'price': 91.1},\n",
    "{'name': 'AAPL', 'shares': 50, 'price': 543.22},\n",
    "{'name': 'FB', 'shares': 200, 'price': 21.09},\n",
    "{'name': 'HPQ', 'shares': 35, 'price': 31.75},\n",
    "{'name': 'YHOO', 'shares': 45, 'price': 16.35},\n",
    "{'name': 'ACME', 'shares': 75, 'price': 115.65}\n",
    "]\n",
    "heapq.nsmallest(3, portfolio, key = lambda x: x['price'])"
   ]
  },
  {
   "cell_type": "code",
   "execution_count": 12,
   "metadata": {},
   "outputs": [
    {
     "data": {
      "text/plain": [
       "defaultdict(list, {'a': [90, 300], 'b': [1]})"
      ]
     },
     "execution_count": 12,
     "metadata": {},
     "output_type": "execute_result"
    }
   ],
   "source": [
    "from collections import defaultdict\n",
    "l = defaultdict(list)\n",
    "l['a'].append(90)\n",
    "l['a'].append(300)\n",
    "l['b'].append(1)\n",
    "l"
   ]
  },
  {
   "cell_type": "code",
   "execution_count": 15,
   "metadata": {},
   "outputs": [
    {
     "data": {
      "text/plain": [
       "{'a': [8, 90]}"
      ]
     },
     "execution_count": 15,
     "metadata": {},
     "output_type": "execute_result"
    }
   ],
   "source": [
    "s = {}\n",
    "s.setdefault('a', [],).append(8)\n",
    "s.setdefault('a', []).append(90)\n",
    "s"
   ]
  },
  {
   "cell_type": "code",
   "execution_count": 5,
   "metadata": {},
   "outputs": [
    {
     "data": {
      "text/plain": [
       "6"
      ]
     },
     "execution_count": 5,
     "metadata": {},
     "output_type": "execute_result"
    }
   ],
   "source": [
    "def max_c(arr):\n",
    "    max_sum = float('-inf')\n",
    "    current_sum = 0\n",
    "    for num in arr:\n",
    "        current_sum += num\n",
    "        if current_sum > max_sum:\n",
    "            max_sum = current_sum\n",
    "\n",
    "        if current_sum < 0:\n",
    "            current_sum = 0\n",
    "    return max_sum\n",
    "nums = [-2,1,-3,4,-1,2,1,-5,4]\n",
    "max_c(nums)"
   ]
  },
  {
   "cell_type": "code",
   "execution_count": 8,
   "metadata": {},
   "outputs": [
    {
     "data": {
      "text/plain": [
       "True"
      ]
     },
     "execution_count": 8,
     "metadata": {},
     "output_type": "execute_result"
    }
   ],
   "source": [
    "def is_valid(s):\n",
    "    hash = {')': '(', '}': '{', ']':'['}\n",
    "    stack = []\n",
    "    for symbol in s:\n",
    "        if symbol in hash:\n",
    "            stack_sym = stack.pop() if stack else '%'\n",
    "            if hash[symbol] != stack_sym:\n",
    "                return False\n",
    "        else:\n",
    "            stack.append(symbol)\n",
    "    return not stack\n",
    "s = \"()[]{}\"\n",
    "is_valid(s)"
   ]
  },
  {
   "cell_type": "code",
   "execution_count": null,
   "metadata": {},
   "outputs": [],
   "source": []
  }
 ],
 "metadata": {
  "kernelspec": {
   "display_name": "Python 3",
   "language": "python",
   "name": "python3"
  },
  "language_info": {
   "codemirror_mode": {
    "name": "ipython",
    "version": 3
   },
   "file_extension": ".py",
   "mimetype": "text/x-python",
   "name": "python",
   "nbconvert_exporter": "python",
   "pygments_lexer": "ipython3",
   "version": "3.10.9"
  }
 },
 "nbformat": 4,
 "nbformat_minor": 2
}
