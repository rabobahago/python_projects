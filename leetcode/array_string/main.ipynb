{
 "cells": [
  {
   "cell_type": "code",
   "execution_count": 7,
   "metadata": {},
   "outputs": [
    {
     "name": "stdout",
     "output_type": "stream",
     "text": [
      "10\n",
      "10\n",
      "45\n"
     ]
    }
   ],
   "source": [
    "def sum_all(arr):\n",
    "    arr = sorted(arr)\n",
    "    initial, final = arr[0], arr[-1]\n",
    "    result = 0\n",
    "    for num in range(initial, final + 1):\n",
    "        result += num\n",
    "    return result\n",
    "print(sum_all([1, 4]))\n",
    "print(sum_all([4, 1]))\n",
    "print(sum_all([5, 10]))\n"
   ]
  },
  {
   "cell_type": "code",
   "execution_count": 16,
   "metadata": {},
   "outputs": [
    {
     "name": "stdout",
     "output_type": "stream",
     "text": [
      "[4]\n",
      "['pink wool']\n"
     ]
    }
   ],
   "source": [
    "def diff_arr(arr1, arr2):\n",
    "    result = []\n",
    "    if len(arr1) < len(arr2):\n",
    "        arr1, arr2 = arr2, arr1\n",
    "    for elem in arr1:\n",
    "        if elem not in arr2:\n",
    "            result.append(elem)\n",
    "    return result\n",
    "print(diff_arr([1, 2, 3, 5], [1, 2, 3, 4, 5]))\n",
    "print(diff_arr([\"diorite\", \"andesite\", \"grass\", \"dirt\", \"pink wool\", \"dead shrub\"], [\"diorite\", \"andesite\", \"grass\", \"dirt\", \"dead shrub\"]))\n"
   ]
  },
  {
   "cell_type": "code",
   "execution_count": 21,
   "metadata": {},
   "outputs": [
    {
     "name": "stdout",
     "output_type": "stream",
     "text": [
      "[1, 1]\n",
      "[1, 5, 1]\n"
     ]
    }
   ],
   "source": [
    "def destroyer(arr, *arg):\n",
    "    return [elem for elem in arr if elem not in arg]\n",
    "print(destroyer([1, 2, 3, 1, 2, 3], 2, 3))\n",
    "print(destroyer([1, 2, 3, 5, 1, 2, 3], 2, 3))"
   ]
  },
  {
   "cell_type": "code",
   "execution_count": 34,
   "metadata": {},
   "outputs": [
    {
     "name": "stdout",
     "output_type": "stream",
     "text": [
      "[{'first': 'Tybalt', 'last': 'Capulet'}]\n",
      "[{'apple': 1, 'bat': 2}]\n"
     ]
    }
   ],
   "source": [
    "def what_is_in_a_name(collections, source):\n",
    "    for obj in collections:\n",
    "        for item, val in obj.items():\n",
    "            if item in source and source[item] == val:\n",
    "                return [obj]\n",
    "\n",
    "    return [{}]\n",
    "print(what_is_in_a_name([{ 'first': \"Romeo\", 'last': \"Montague\" }, { 'first': \"Mercutio\", 'last': None }, { 'first': \"Tybalt\", 'last': \"Capulet\" }], { 'last': \"Capulet\" }))\n",
    "print(what_is_in_a_name([{ \"apple\": 1, \"bat\": 2 }, { \"apple\": 1 }, { \"apple\": 1, \"bat\": 2, \"cookie\": 2 }, { \"bat\":2 }], { \"apple\": 1, \"bat\": 2 }))"
   ]
  },
  {
   "cell_type": "code",
   "execution_count": 41,
   "metadata": {},
   "outputs": [
    {
     "name": "stdout",
     "output_type": "stream",
     "text": [
      "this-is-spinal-tap\n",
      "teletubbies-say-eh-oh\n"
     ]
    }
   ],
   "source": [
    "def spinal_case(string):\n",
    "    return '-'.join(string.lower().split())\n",
    "print(spinal_case(\"This Is Spinal Tap\"))\n",
    "print(spinal_case(\"Teletubbies say Eh-oh\"))\n"
   ]
  },
  {
   "cell_type": "code",
   "execution_count": null,
   "metadata": {},
   "outputs": [],
   "source": []
  }
 ],
 "metadata": {
  "kernelspec": {
   "display_name": "Python 3",
   "language": "python",
   "name": "python3"
  },
  "language_info": {
   "codemirror_mode": {
    "name": "ipython",
    "version": 3
   },
   "file_extension": ".py",
   "mimetype": "text/x-python",
   "name": "python",
   "nbconvert_exporter": "python",
   "pygments_lexer": "ipython3",
   "version": "3.10.9"
  }
 },
 "nbformat": 4,
 "nbformat_minor": 2
}
