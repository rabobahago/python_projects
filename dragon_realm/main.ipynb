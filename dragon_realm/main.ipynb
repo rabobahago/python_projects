{
 "cells": [
  {
   "cell_type": "code",
   "execution_count": 17,
   "metadata": {},
   "outputs": [
    {
     "name": "stdout",
     "output_type": "stream",
     "text": [
      "\n",
      "        You are in a land full of dragons. In front of you, you see two caves. In one cave, the dragon is friendly and will share his treasure with you. The other dragon is greedy and hungry, and will eat you on sight.\n",
      "          \n",
      "\n",
      "Which cave will you go into? (1 or 2)\n",
      "You approach the cave...\n",
      "It's dark and spooky...\n",
      "A large dragon jumps out in front of you! He opens his jaws and...\n",
      "\n",
      "Gobbles you down in one bite!\n",
      "Do you want to play again? (yes or no)\n",
      "\n",
      "        You are in a land full of dragons. In front of you, you see two caves. In one cave, the dragon is friendly and will share his treasure with you. The other dragon is greedy and hungry, and will eat you on sight.\n",
      "          \n",
      "\n",
      "Which cave will you go into? (1 or 2)\n",
      "You approach the cave...\n",
      "It's dark and spooky...\n",
      "A large dragon jumps out in front of you! He opens his jaws and...\n",
      "\n",
      "Gobbles you down in one bite!\n",
      "Do you want to play again? (yes or no)\n",
      "\n",
      "        You are in a land full of dragons. In front of you, you see two caves. In one cave, the dragon is friendly and will share his treasure with you. The other dragon is greedy and hungry, and will eat you on sight.\n",
      "          \n",
      "\n",
      "Which cave will you go into? (1 or 2)\n",
      "You approach the cave...\n",
      "It's dark and spooky...\n",
      "A large dragon jumps out in front of you! He opens his jaws and...\n",
      "\n",
      "Gives you his treasure!\n",
      "Do you want to play again? (yes or no)\n"
     ]
    }
   ],
   "source": [
    "import random\n",
    "import time\n",
    "def displayIntro():\n",
    "    print(\"\"\"\n",
    "        You are in a land full of dragons. In front of you, you see two caves. In one cave, the dragon is friendly and will share his treasure with you. The other dragon is greedy and hungry, and will eat you on sight.\n",
    "          \"\"\")\n",
    "    print('')\n",
    "\n",
    "def chosenCave():\n",
    "    cave = ''\n",
    "    while cave != '1' and cave != '2':\n",
    "        print('Which cave will you go into? (1 or 2)')\n",
    "        cave = input()\n",
    "    return cave\n",
    "def checkCave(chosenCave):\n",
    "    print('You approach the cave...')\n",
    "    time.sleep(2)\n",
    "    print('It\\'s dark and spooky...')\n",
    "    time.sleep(2)\n",
    "    print('A large dragon jumps out in front of you! He opens his jaws and...')\n",
    "    print()\n",
    "    time.sleep(2)\n",
    "    friendlyCave = random.randint(1, 2)\n",
    "    if chosenCave == str(friendlyCave):\n",
    "        print('Gives you his treasure!')\n",
    "    else:\n",
    "        print('Gobbles you down in one bite!')\n",
    "playAgain = 'yes'\n",
    "while playAgain == 'yes' or playAgain == 'y':\n",
    "    displayIntro()\n",
    "    caveNumber = chosenCave()\n",
    "    checkCave(caveNumber)\n",
    "    print('Do you want to play again? (yes or no)')\n",
    "    playAgain = input()"
   ]
  },
  {
   "cell_type": "code",
   "execution_count": null,
   "metadata": {},
   "outputs": [],
   "source": []
  }
 ],
 "metadata": {
  "kernelspec": {
   "display_name": "Python 3",
   "language": "python",
   "name": "python3"
  },
  "language_info": {
   "codemirror_mode": {
    "name": "ipython",
    "version": 3
   },
   "file_extension": ".py",
   "mimetype": "text/x-python",
   "name": "python",
   "nbconvert_exporter": "python",
   "pygments_lexer": "ipython3",
   "version": "3.10.9"
  }
 },
 "nbformat": 4,
 "nbformat_minor": 2
}
