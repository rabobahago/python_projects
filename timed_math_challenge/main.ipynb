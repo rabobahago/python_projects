{
 "cells": [
  {
   "cell_type": "markdown",
   "metadata": {},
   "source": [
    "# Timed Math Challenge "
   ]
  },
  {
   "cell_type": "code",
   "execution_count": 4,
   "metadata": {},
   "outputs": [
    {
     "name": "stdout",
     "output_type": "stream",
     "text": [
      "Press enter to start!\n",
      "..........................\n",
      "Job well done, you\"ve finished in  33.54 seconds!\n",
      "You scored 100.0 %\n"
     ]
    }
   ],
   "source": [
    "import random\n",
    "import time\n",
    "MIN_OPERAND = 3\n",
    "MAX_OPERAND = 12\n",
    "TOTAL_PROBLEMS = 10\n",
    "OPERATORS = ['+', '-', '*']\n",
    "print('Press enter to start!')\n",
    "print('..........................')\n",
    "def generate_problem():\n",
    "    left = random.randint(MIN_OPERAND, MAX_OPERAND)\n",
    "    right = random.randint(MIN_OPERAND, MAX_OPERAND)\n",
    "    operator =random.choice(OPERATORS)\n",
    "    expr =str(left) + ' ' + operator +' ' +str(right)\n",
    "    answer =eval(expr)\n",
    "    return expr, answer\n",
    "wrong = 0\n",
    "\n",
    "start_time = time.time()\n",
    "for i in range(TOTAL_PROBLEMS):\n",
    "    expr, answer =generate_problem()\n",
    "    while True:\n",
    "        guess = input('Problem #' + str(i + 1) + ': ' + expr + ' = ')\n",
    "        if guess == str(answer):\n",
    "            break\n",
    "        wrong += 1\n",
    "end_time = time.time()\n",
    "total_time = round(end_time - start_time, 2)\n",
    "print('Job well done, you\"ve finished in ', total_time, 'seconds!')\n",
    "percentage = ((TOTAL_PROBLEMS - wrong) / TOTAL_PROBLEMS) * 100\n",
    "print('You scored', percentage, '%')"
   ]
  },
  {
   "cell_type": "code",
   "execution_count": null,
   "metadata": {},
   "outputs": [],
   "source": []
  }
 ],
 "metadata": {
  "kernelspec": {
   "display_name": "base",
   "language": "python",
   "name": "python3"
  },
  "language_info": {
   "codemirror_mode": {
    "name": "ipython",
    "version": 3
   },
   "file_extension": ".py",
   "mimetype": "text/x-python",
   "name": "python",
   "nbconvert_exporter": "python",
   "pygments_lexer": "ipython3",
   "version": "3.10.9"
  }
 },
 "nbformat": 4,
 "nbformat_minor": 2
}
