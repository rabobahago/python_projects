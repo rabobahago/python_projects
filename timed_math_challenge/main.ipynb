{
 "cells": [
  {
   "cell_type": "markdown",
   "metadata": {},
   "source": [
    "# Timed Math Challenge "
   ]
  },
  {
   "cell_type": "code",
   "execution_count": null,
   "metadata": {},
   "outputs": [],
   "source": [
    "import random\n",
    "MIN_OPERAND = 3\n",
    "MAX_OPERAND = 12\n",
    "TOTAL_PROBLEMS = 10\n",
    "OPERATORS = ['+', '-', '*']\n",
    "def generate_problem():\n",
    "    left = random.randint(MIN_OPERAND, MAX_OPERAND)\n",
    "    right = random.randint(MIN_OPERAND, MAX_OPERAND)\n",
    "    operator =random.choice(OPERATORS)\n",
    "    expr =str(left) + ' ' + operator +' ' +str(right)\n",
    "    answer =eval(expr)\n",
    "    return expr, answer\n",
    "for i in range(TOTAL_PROBLEMS):\n",
    "    expr, answer =generate_problem()\n",
    "    while True:\n",
    "        guess = input('Problem #' + str(i + 1) + ': ' + expr + ' = ')\n",
    "        if guess == str(answer):\n",
    "            break"
   ]
  },
  {
   "cell_type": "code",
   "execution_count": null,
   "metadata": {},
   "outputs": [],
   "source": []
  }
 ],
 "metadata": {
  "language_info": {
   "name": "python"
  }
 },
 "nbformat": 4,
 "nbformat_minor": 2
}
