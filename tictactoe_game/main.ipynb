{
 "cells": [
  {
   "cell_type": "markdown",
   "metadata": {},
   "source": [
    "# Tic Tac Toe Game"
   ]
  },
  {
   "cell_type": "code",
   "execution_count": 18,
   "metadata": {},
   "outputs": [
    {
     "data": {
      "text/plain": [
       "' '"
      ]
     },
     "execution_count": 18,
     "metadata": {},
     "output_type": "execute_result"
    }
   ],
   "source": [
    "def print_board(board):\n",
    "    for row in board:\n",
    "        print('|'.join(row))\n",
    "        print('_' * 5)\n",
    "def check_winner(board):\n",
    "    for i in range(3):\n",
    "        # rows and column check for winner\n",
    "        if board[i][0] == board[i][1] == board[i][2] != ' ':\n",
    "            return board[i][0]\n",
    "        if board[0][i] == board[1][i] == board[2][i] != ' ':\n",
    "            return board[0][i]\n",
    "        # check diagonal for winner\n",
    "        if board[0][0] == board[1][1] == board[2][2] != ' ':\n",
    "            return board[0][0]\n",
    "        if board[2][0] == board[1][1] == board[0][2] != ' ':\n",
    "            return board[2][0]\n",
    "        return None # return none if there is no winner\n",
    "def is_board_full(board):\n",
    "    for row in board:\n",
    "        for cell in row:\n",
    "            if cell == ' ':\n",
    "                return False\n",
    "    return True\n",
    "\n",
    "board = [[' ' for _ in range(3)] for _ in range(3)]\n",
    "check_winner(board)\n"
   ]
  },
  {
   "cell_type": "code",
   "execution_count": null,
   "metadata": {},
   "outputs": [],
   "source": []
  }
 ],
 "metadata": {
  "kernelspec": {
   "display_name": "base",
   "language": "python",
   "name": "python3"
  },
  "language_info": {
   "codemirror_mode": {
    "name": "ipython",
    "version": 3
   },
   "file_extension": ".py",
   "mimetype": "text/x-python",
   "name": "python",
   "nbconvert_exporter": "python",
   "pygments_lexer": "ipython3",
   "version": "3.10.9"
  }
 },
 "nbformat": 4,
 "nbformat_minor": 2
}
