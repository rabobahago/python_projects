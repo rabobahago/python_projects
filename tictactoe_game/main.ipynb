{
 "cells": [
  {
   "cell_type": "markdown",
   "metadata": {},
   "source": [
    "# Tic Tac Toe Game"
   ]
  },
  {
   "cell_type": "code",
   "execution_count": 33,
   "metadata": {},
   "outputs": [
    {
     "name": "stdout",
     "output_type": "stream",
     "text": [
      " | | \n",
      "_____\n",
      " | | \n",
      "_____\n",
      " | | \n",
      "_____\n"
     ]
    }
   ],
   "source": [
    "def print_board(board):\n",
    "    for row in board:\n",
    "\n",
    "        print('|'.join(row))\n",
    "        print('_' * 5)\n",
    "board = [[' ' for _ in range(3)] for _ in range(3)]\n",
    "\n",
    "print_board(board)\n"
   ]
  },
  {
   "cell_type": "code",
   "execution_count": null,
   "metadata": {},
   "outputs": [],
   "source": []
  }
 ],
 "metadata": {
  "kernelspec": {
   "display_name": "base",
   "language": "python",
   "name": "python3"
  },
  "language_info": {
   "codemirror_mode": {
    "name": "ipython",
    "version": 3
   },
   "file_extension": ".py",
   "mimetype": "text/x-python",
   "name": "python",
   "nbconvert_exporter": "python",
   "pygments_lexer": "ipython3",
   "version": "3.10.9"
  }
 },
 "nbformat": 4,
 "nbformat_minor": 2
}
