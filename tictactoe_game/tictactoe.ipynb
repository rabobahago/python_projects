{
 "cells": [
  {
   "cell_type": "code",
   "execution_count": 11,
   "metadata": {},
   "outputs": [
    {
     "name": "stdout",
     "output_type": "stream",
     "text": [
      " | | |\n",
      "-+-+-+-\n",
      "X| | |\n",
      "-+-+-+-\n",
      "O| | |\n"
     ]
    }
   ],
   "source": [
    "def drawBoard(board):\n",
    "    print(board[7] + '|' + board[8] + '|' + board[9] + '|')\n",
    "    print('-+-+-+-')\n",
    "    print(board[4] + '|' + board[5] + '|' + board[6] + '|')\n",
    "    print('-+-+-+-')\n",
    "    print(board[1] + '|' + board[2] + '|' + board[3] + '|')\n",
    "drawBoard([' ', 'O', ' ', ' ', 'X', ' ', ' ', ' ', ' ', ' '])"
   ]
  },
  {
   "cell_type": "code",
   "execution_count": null,
   "metadata": {},
   "outputs": [],
   "source": []
  }
 ],
 "metadata": {
  "kernelspec": {
   "display_name": "Python 3",
   "language": "python",
   "name": "python3"
  },
  "language_info": {
   "codemirror_mode": {
    "name": "ipython",
    "version": 3
   },
   "file_extension": ".py",
   "mimetype": "text/x-python",
   "name": "python",
   "nbconvert_exporter": "python",
   "pygments_lexer": "ipython3",
   "version": "3.10.9"
  }
 },
 "nbformat": 4,
 "nbformat_minor": 2
}
