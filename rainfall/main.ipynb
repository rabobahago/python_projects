{
 "cells": [
  {
   "cell_type": "markdown",
   "metadata": {},
   "source": [
    "# Simple rainfall Tracker\n"
   ]
  },
  {
   "cell_type": "code",
   "execution_count": 28,
   "metadata": {},
   "outputs": [
    {
     "name": "stdout",
     "output_type": "stream",
     "text": [
      "week: 56\n",
      "you: 89\n",
      "queen: 90\n",
      "The total amount of rainfall provider is 235, with an average of 78.33333333333333\n"
     ]
    }
   ],
   "source": [
    "\n",
    "##import collections\n",
    "def get_rainfall():\n",
    "    rainfall_tracker =  {} #collections.defaultdict(int)\n",
    "    count = 0\n",
    "    total = 0\n",
    "    while True:\n",
    "        city_name = input('Enter the city name you want to provide amount of rainfall:').lower()\n",
    "        if not city_name:\n",
    "            break\n",
    "        count += 1\n",
    "        mm_lil = input('Enter amount of rain:')\n",
    "        if mm_lil.isdigit():\n",
    "            mm_lil = int(mm_lil)\n",
    "        else:\n",
    "            print('You didn\\'t enter a valid number; try again.')\n",
    "            continue\n",
    "        rainfall_tracker[city_name] = rainfall_tracker.get(city_name, 0) + int(mm_lil)\n",
    "\n",
    "    for key, value in rainfall_tracker.items():\n",
    "        print(f'{key}: {value}')\n",
    "        total += value\n",
    "    average = total / count\n",
    "    print(f'The total amount of rainfall provider is {total}, with an average of {average}')\n",
    "get_rainfall()"
   ]
  },
  {
   "cell_type": "code",
   "execution_count": 20,
   "metadata": {},
   "outputs": [
    {
     "data": {
      "text/plain": [
       "0"
      ]
     },
     "execution_count": 20,
     "metadata": {},
     "output_type": "execute_result"
    }
   ],
   "source": [
    "from collections import defaultdict\n",
    "rainfall = defaultdict(int)\n",
    "rainfall['k']"
   ]
  },
  {
   "cell_type": "code",
   "execution_count": null,
   "metadata": {},
   "outputs": [],
   "source": []
  }
 ],
 "metadata": {
  "kernelspec": {
   "display_name": "base",
   "language": "python",
   "name": "python3"
  },
  "language_info": {
   "codemirror_mode": {
    "name": "ipython",
    "version": 3
   },
   "file_extension": ".py",
   "mimetype": "text/x-python",
   "name": "python",
   "nbconvert_exporter": "python",
   "pygments_lexer": "ipython3",
   "version": "3.10.9"
  }
 },
 "nbformat": 4,
 "nbformat_minor": 2
}
