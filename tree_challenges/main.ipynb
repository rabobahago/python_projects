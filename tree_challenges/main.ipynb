{
 "cells": [
  {
   "cell_type": "markdown",
   "metadata": {},
   "source": [
    "# Binary tree Representation"
   ]
  },
  {
   "cell_type": "code",
   "execution_count": 4,
   "metadata": {},
   "outputs": [],
   "source": [
    "class Node:\n",
    "    def __init__(self, data):\n",
    "        self.data = data\n",
    "        self.left = None\n",
    "        self.right = None\n",
    "a = Node('a')\n",
    "b = Node('b')\n",
    "c = Node('c')\n",
    "d = Node('d')\n",
    "e = Node('e')\n",
    "f = Node('f')\n",
    "a.left = b\n",
    "a.right = c\n",
    "b.left = d\n",
    "b.right = e\n",
    "c.right = f\n",
    "#              a\n",
    "#           /   \\\n",
    "#          b     c\n",
    "#         / \\     \\\n",
    "#        d   e     f"
   ]
  },
  {
   "cell_type": "markdown",
   "metadata": {},
   "source": [
    "### depth first binary tree "
   ]
  },
  {
   "cell_type": "code",
   "execution_count": 5,
   "metadata": {},
   "outputs": [
    {
     "name": "stdout",
     "output_type": "stream",
     "text": [
      "a\n",
      "b\n",
      "d\n",
      "e\n",
      "c\n",
      "f\n",
      "None\n"
     ]
    }
   ],
   "source": [
    "# Time N(o)\n",
    "# Space N(o)\n",
    "def depth(root):\n",
    "    if root is None:\n",
    "        return None\n",
    "    stack = []\n",
    "    stack.append(root)\n",
    "    while stack:\n",
    "        current = stack.pop()\n",
    "        print(current.data)\n",
    "        if current.right:\n",
    "            stack.append(current.right)\n",
    "        if current.left:\n",
    "            stack.append(current.left)\n",
    "print(depth(a))"
   ]
  },
  {
   "cell_type": "markdown",
   "metadata": {},
   "source": [
    "### Print list  of all binary tree Key with depth"
   ]
  },
  {
   "cell_type": "code",
   "execution_count": 6,
   "metadata": {},
   "outputs": [
    {
     "name": "stdout",
     "output_type": "stream",
     "text": [
      "['a', 'b', 'd', 'e', 'c', 'f']\n",
      ".........................\n",
      "[]\n"
     ]
    }
   ],
   "source": [
    "def depth(root):\n",
    "    result = []\n",
    "    if root is None:\n",
    "        return []\n",
    "    stack = []\n",
    "    stack.append(root)\n",
    "    while stack:\n",
    "        current = stack.pop()\n",
    "        result.append(current.data)\n",
    "        if current.right:\n",
    "            stack.append(current.right)\n",
    "        if current.left:\n",
    "            stack.append(current.left)\n",
    "    return result\n",
    "print(depth(a))\n",
    "print('.........................')\n",
    "print(depth(None))"
   ]
  },
  {
   "cell_type": "markdown",
   "metadata": {},
   "source": [
    "### Print list  of all binary tree Key recursive"
   ]
  },
  {
   "cell_type": "code",
   "execution_count": 7,
   "metadata": {},
   "outputs": [
    {
     "name": "stdout",
     "output_type": "stream",
     "text": [
      "['a', 'b', 'd', 'e', 'c', 'f']\n",
      "[]\n"
     ]
    }
   ],
   "source": [
    "def depth_recursive(root):\n",
    "    if root is None:\n",
    "        return []\n",
    "    right_result = depth_recursive(root.right)\n",
    "    left_result = depth_recursive(root.left)\n",
    "    return [root.data, *left_result, *right_result]\n",
    "\n",
    "print(depth_recursive(a))\n",
    "print(depth_recursive(None))"
   ]
  },
  {
   "cell_type": "markdown",
   "metadata": {},
   "source": [
    "### Print list  of all binary tree Key with breadth"
   ]
  },
  {
   "cell_type": "code",
   "execution_count": 7,
   "metadata": {},
   "outputs": [
    {
     "name": "stdout",
     "output_type": "stream",
     "text": [
      "['a', 'c', 'b', 'f', 'e', 'd']\n",
      ".........................\n",
      "None\n"
     ]
    }
   ],
   "source": [
    "def breadth(root):\n",
    "    result = []\n",
    "    if root is None:\n",
    "        return None\n",
    "    queue = []\n",
    "    queue.append(root)\n",
    "    while queue:\n",
    "        current = queue.pop(0)\n",
    "        result.append(current.data)\n",
    "        if current.right:\n",
    "            queue.append(current.right)\n",
    "        if current.left:\n",
    "            queue.append(current.left)\n",
    "    return result\n",
    "print(breadth(a))\n",
    "print('.........................')\n",
    "print(breadth(None))"
   ]
  },
  {
   "cell_type": "markdown",
   "metadata": {},
   "source": [
    "### Tree Include Problem"
   ]
  },
  {
   "cell_type": "code",
   "execution_count": 17,
   "metadata": {},
   "outputs": [
    {
     "name": "stdout",
     "output_type": "stream",
     "text": [
      "True\n",
      "True\n",
      "False\n",
      "False\n"
     ]
    }
   ],
   "source": [
    "# Time N(O)\n",
    "# space N(o)\n",
    "def  tree_include(root, target):\n",
    "    if root is None:\n",
    "        return False\n",
    "    queue = []\n",
    "    queue.append(root)\n",
    "    while queue:\n",
    "        current = queue.pop(0)\n",
    "        if current.data == target:\n",
    "            return True\n",
    "        if current.left:\n",
    "            queue.append(current.left)\n",
    "        if current.right:\n",
    "            queue.append(current.right)\n",
    "    return False\n",
    "print(tree_include(a, 'e'))\n",
    "print(tree_include(a, 'd'))\n",
    "print(tree_include(d, 'y'))\n",
    "print(tree_include(a, 't'))"
   ]
  },
  {
   "cell_type": "markdown",
   "metadata": {},
   "source": [
    "### Tree Include Recursive"
   ]
  },
  {
   "cell_type": "code",
   "execution_count": 24,
   "metadata": {},
   "outputs": [
    {
     "data": {
      "text/plain": [
       "False"
      ]
     },
     "execution_count": 24,
     "metadata": {},
     "output_type": "execute_result"
    }
   ],
   "source": [
    "def tree_include_recursive(root, target):\n",
    "    if root is None:\n",
    "        return False\n",
    "    if root.data == target:\n",
    "        return True\n",
    "    left = tree_include_recursive(root.left, target)\n",
    "    right = tree_include_recursive(root.right, target)\n",
    "    return left or right\n",
    "tree_include_recursive(a, 'y')\n"
   ]
  },
  {
   "cell_type": "markdown",
   "metadata": {},
   "source": [
    "### Tree sum Recursive"
   ]
  },
  {
   "cell_type": "code",
   "execution_count": 4,
   "metadata": {},
   "outputs": [
    {
     "data": {
      "text/plain": [
       "21"
      ]
     },
     "execution_count": 4,
     "metadata": {},
     "output_type": "execute_result"
    }
   ],
   "source": [
    "\n",
    "class Node:\n",
    "    def __init__(self, data):\n",
    "        self.data = data\n",
    "        self.left = None\n",
    "        self.right = None\n",
    "one = Node(1)\n",
    "two = Node(2)\n",
    "three = Node(3)\n",
    "four = Node(4)\n",
    "five = Node(5)\n",
    "six = Node(6)\n",
    "one.left = two\n",
    "one.right = three\n",
    "two.left = four\n",
    "two.right = five\n",
    "three.right = six\n",
    "def tree_sum(root):\n",
    "    if root is None:\n",
    "        return 0\n",
    "    return root.data + tree_sum(root.left) +tree_sum(root.right)\n",
    "tree_sum(one)"
   ]
  },
  {
   "cell_type": "markdown",
   "metadata": {},
   "source": [
    "### Tree sum Iterative"
   ]
  },
  {
   "cell_type": "code",
   "execution_count": 10,
   "metadata": {},
   "outputs": [
    {
     "data": {
      "text/plain": [
       "21"
      ]
     },
     "execution_count": 10,
     "metadata": {},
     "output_type": "execute_result"
    }
   ],
   "source": [
    "def tree_sum_iterative(root):\n",
    "    result = 0\n",
    "    if root is None:\n",
    "        return 0\n",
    "    queue = []\n",
    "    queue.append(root)\n",
    "    while queue:\n",
    "        current = queue.pop(0)\n",
    "        result += current.data\n",
    "        if current.left:\n",
    "            queue.append(current.left)\n",
    "        if current.right:\n",
    "            queue.append(current.right)\n",
    "    return result\n",
    "tree_sum_iterative(one)"
   ]
  },
  {
   "cell_type": "markdown",
   "metadata": {},
   "source": [
    "### Tree min value"
   ]
  },
  {
   "cell_type": "code",
   "execution_count": 16,
   "metadata": {},
   "outputs": [
    {
     "data": {
      "text/plain": [
       "1"
      ]
     },
     "execution_count": 16,
     "metadata": {},
     "output_type": "execute_result"
    }
   ],
   "source": [
    "def tree_min_value(root):\n",
    "    if root is None:\n",
    "        return 0\n",
    "    min_value = float('inf')\n",
    "    queue = []\n",
    "    queue.append(root)\n",
    "    while queue:\n",
    "        current = queue.pop(0)\n",
    "        if current.data <= min_value:\n",
    "            min_value = current.data\n",
    "        if current.left:\n",
    "            queue.append(current.left)\n",
    "        if current.right:\n",
    "            queue.append(current.right)\n",
    "    return min_value\n",
    "tree_min_value(one)\n"
   ]
  },
  {
   "cell_type": "markdown",
   "metadata": {},
   "source": [
    "### Tree min value recursive"
   ]
  },
  {
   "cell_type": "code",
   "execution_count": 19,
   "metadata": {},
   "outputs": [
    {
     "data": {
      "text/plain": [
       "1"
      ]
     },
     "execution_count": 19,
     "metadata": {},
     "output_type": "execute_result"
    }
   ],
   "source": [
    "def tree_min_value(root):\n",
    "    if root is None:\n",
    "        return float('inf')\n",
    "    return min(root.data, tree_min_value(root.left), tree_min_value(root.right))\n",
    "tree_min_value(one)"
   ]
  },
  {
   "cell_type": "markdown",
   "metadata": {},
   "source": [
    "### max path sum "
   ]
  },
  {
   "cell_type": "code",
   "execution_count": 24,
   "metadata": {},
   "outputs": [
    {
     "data": {
      "text/plain": [
       "10"
      ]
     },
     "execution_count": 24,
     "metadata": {},
     "output_type": "execute_result"
    }
   ],
   "source": [
    "def max_path_sum(root):\n",
    "    if root is None:\n",
    "        return float('-inf')\n",
    "    if root.left is None and root.right is None:\n",
    "        return root.data\n",
    "    max_rigt_left = max(max_path_sum(root.left), max_path_sum(root.right))\n",
    "    return root.data + max_rigt_left\n",
    "max_path_sum(one)"
   ]
  },
  {
   "cell_type": "markdown",
   "metadata": {},
   "source": [
    "### min path sum"
   ]
  },
  {
   "cell_type": "code",
   "execution_count": 5,
   "metadata": {},
   "outputs": [
    {
     "data": {
      "text/plain": [
       "7"
      ]
     },
     "execution_count": 5,
     "metadata": {},
     "output_type": "execute_result"
    }
   ],
   "source": [
    "def min_path_sum(root):\n",
    "    if root is None:\n",
    "        return float('inf')\n",
    "    # for the leaf nodes let them return there value\n",
    "    if root.left is None and root.right is None:\n",
    "        return root.data\n",
    "    min_right_left = min(min_path_sum(root.left), min_path_sum(root.right))\n",
    "    return root.data + min_right_left\n",
    "min_path_sum(one)"
   ]
  },
  {
   "cell_type": "code",
   "execution_count": null,
   "metadata": {},
   "outputs": [],
   "source": []
  }
 ],
 "metadata": {
  "kernelspec": {
   "display_name": "base",
   "language": "python",
   "name": "python3"
  },
  "language_info": {
   "codemirror_mode": {
    "name": "ipython",
    "version": 3
   },
   "file_extension": ".py",
   "mimetype": "text/x-python",
   "name": "python",
   "nbconvert_exporter": "python",
   "pygments_lexer": "ipython3",
   "version": "3.10.9"
  }
 },
 "nbformat": 4,
 "nbformat_minor": 2
}
