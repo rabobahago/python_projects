{
 "cells": [
  {
   "cell_type": "markdown",
   "metadata": {},
   "source": [
    "# Pig Latin Translate File"
   ]
  },
  {
   "cell_type": "code",
   "execution_count": 2,
   "metadata": {},
   "outputs": [],
   "source": [
    "def plword(word):\n",
    "    if word[0] in 'aeiou':\n",
    "        return word + 'way'\n",
    "    return word[1:] + word[0] + 'ay'\n",
    "def plfile(filename):\n",
    "    return ' '.join(plword(one_word) for one_line in open(filename) for one_word in one_line.split())"
   ]
  },
  {
   "cell_type": "code",
   "execution_count": 8,
   "metadata": {},
   "outputs": [
    {
     "data": {
      "text/plain": [
       "[('name', 'rabo'), ('age', 40), ('name', 'raise'), ('age', 40)]"
      ]
     },
     "execution_count": 8,
     "metadata": {},
     "output_type": "execute_result"
    }
   ],
   "source": [
    "person = [{'name':'rabo', 'age': 40}, {'name': 'raise', 'age': 40}]\n",
    "transform_person =[(key, value,) for dta in person for key, value in dta.items()]\n",
    "transform_person"
   ]
  },
  {
   "cell_type": "code",
   "execution_count": null,
   "metadata": {},
   "outputs": [],
   "source": []
  }
 ],
 "metadata": {
  "kernelspec": {
   "display_name": "base",
   "language": "python",
   "name": "python3"
  },
  "language_info": {
   "codemirror_mode": {
    "name": "ipython",
    "version": 3
   },
   "file_extension": ".py",
   "mimetype": "text/x-python",
   "name": "python",
   "nbconvert_exporter": "python",
   "pygments_lexer": "ipython3",
   "version": "3.10.9"
  }
 },
 "nbformat": 4,
 "nbformat_minor": 2
}
