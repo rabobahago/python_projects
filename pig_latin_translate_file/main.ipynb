{
 "cells": [
  {
   "cell_type": "markdown",
   "metadata": {},
   "source": [
    "# Pig Latin Translate File"
   ]
  },
  {
   "cell_type": "code",
   "execution_count": 2,
   "metadata": {},
   "outputs": [],
   "source": [
    "def plword(word):\n",
    "    if word[0] in 'aeiou':\n",
    "        return word + 'way'\n",
    "    return word[1:] + word[0] + 'ay'\n",
    "def plfile(filename):\n",
    "    return ' '.join(plword(one_word) for one_line in open(filename) for one_word in one_line.split())"
   ]
  },
  {
   "cell_type": "code",
   "execution_count": 8,
   "metadata": {},
   "outputs": [
    {
     "data": {
      "text/plain": [
       "[('name', 'rabo'), ('age', 40), ('name', 'raise'), ('age', 40)]"
      ]
     },
     "execution_count": 8,
     "metadata": {},
     "output_type": "execute_result"
    }
   ],
   "source": [
    "person = [{'name':'rabo', 'age': 40}, {'name': 'raise', 'age': 40}]\n",
    "transform_person =[(key, value,) for dta in person for key, value in dta.items()]\n",
    "transform_person"
   ]
  },
  {
   "cell_type": "code",
   "execution_count": 18,
   "metadata": {},
   "outputs": [
    {
     "name": "stdout",
     "output_type": "stream",
     "text": [
      "{1: 'a', 2: 'b', 3: 'c'}\n"
     ]
    },
    {
     "data": {
      "text/plain": [
       "{'this': 1, 'is': 1, 'an': 1, 'easy': 2, 'test': 1}"
      ]
     },
     "execution_count": 18,
     "metadata": {},
     "output_type": "execute_result"
    }
   ],
   "source": [
    "d = {'a':1, 'b':2, 'c':3}\n",
    "reversed_ = {value: key for key, value in d.items()}\n",
    "print(reversed_)\n",
    "str_ = 'this is an easy test'\n",
    "\n",
    "def count_vowel(word):\n",
    "    return sum(1 for letter in word if letter in 'aeiou')\n",
    "tran_str = {word:count_vowel(word) for word in str_.split()}\n",
    "tran_str\n"
   ]
  },
  {
   "cell_type": "code",
   "execution_count": 20,
   "metadata": {},
   "outputs": [
    {
     "name": "stdout",
     "output_type": "stream",
     "text": [
      "{'a': 1, 'b': 4, 'c': 9}\n"
     ]
    }
   ],
   "source": [
    "def transform_values(func, a_dict):\n",
    "    return {key: func(value)\n",
    "    for key, value in a_dict.items()}\n",
    "d = {'a':1, 'b':2, 'c':3}\n",
    "print(transform_values(lambda x: x*x, d))"
   ]
  }
 ],
 "metadata": {
  "kernelspec": {
   "display_name": "base",
   "language": "python",
   "name": "python3"
  },
  "language_info": {
   "codemirror_mode": {
    "name": "ipython",
    "version": 3
   },
   "file_extension": ".py",
   "mimetype": "text/x-python",
   "name": "python",
   "nbconvert_exporter": "python",
   "pygments_lexer": "ipython3",
   "version": "3.10.9"
  }
 },
 "nbformat": 4,
 "nbformat_minor": 2
}
