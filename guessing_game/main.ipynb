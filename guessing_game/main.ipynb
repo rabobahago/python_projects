{
 "cells": [
  {
   "cell_type": "markdown",
   "metadata": {},
   "source": [
    "# Guessing Game"
   ]
  },
  {
   "cell_type": "code",
   "execution_count": 2,
   "metadata": {},
   "outputs": [
    {
     "name": "stdout",
     "output_type": "stream",
     "text": [
      "Your guess of 0 is high\n",
      "Your guess of 0 is high\n",
      "Your guess of 9 is low\n",
      "Your guess of 2 is high\n",
      "Your guess of 4 is low\n",
      "Your guess of 6 is low\n",
      "Your guess of 8 is low\n",
      "Your guess of 9 is low\n",
      "Your guess of 10 is low\n",
      "Your guess of 122 is low\n",
      "Your guess of 1 is high\n",
      "Your guess of 4 is low\n",
      "Right! The answer is 3\n"
     ]
    }
   ],
   "source": [
    "from random import randint\n",
    "def guessing_game():\n",
    "    random_choice = randint(0, 10)\n",
    "    while True:\n",
    "        user_guess = int(input('Make your guess'))\n",
    "        if random_choice == user_guess:\n",
    "            print(f'Right! The answer is {user_guess}')\n",
    "            break\n",
    "        elif random_choice > user_guess:\n",
    "            print(f'Your guess of {user_guess} is high')\n",
    "        else:\n",
    "            print(f'Your guess of {user_guess} is low')\n",
    "guessing_game()"
   ]
  },
  {
   "cell_type": "code",
   "execution_count": null,
   "metadata": {},
   "outputs": [],
   "source": []
  }
 ],
 "metadata": {
  "kernelspec": {
   "display_name": "base",
   "language": "python",
   "name": "python3"
  },
  "language_info": {
   "codemirror_mode": {
    "name": "ipython",
    "version": 3
   },
   "file_extension": ".py",
   "mimetype": "text/x-python",
   "name": "python",
   "nbconvert_exporter": "python",
   "pygments_lexer": "ipython3",
   "version": "3.10.9"
  }
 },
 "nbformat": 4,
 "nbformat_minor": 2
}
