{
 "cells": [
  {
   "cell_type": "markdown",
   "metadata": {},
   "source": [
    "# Guessing Game"
   ]
  },
  {
   "cell_type": "markdown",
   "metadata": {},
   "source": [
    "### Integer Guessing Game"
   ]
  },
  {
   "cell_type": "code",
   "execution_count": 1,
   "metadata": {},
   "outputs": [
    {
     "name": "stdout",
     "output_type": "stream",
     "text": [
      "Your guess of 1 is high\n",
      "Your guess of 2 is high\n",
      "Your guess of 3 is high\n",
      "You didn't guess in time\n"
     ]
    }
   ],
   "source": [
    "from random import randint\n",
    "def guessing_game():\n",
    "    count = 0\n",
    "    random_choice = randint(0, 10)\n",
    "    random_base = randint(2, 16)\n",
    "    while True:\n",
    "        user_guess_str = input('Make your guess')\n",
    "        try:\n",
    "            user_guess = int(user_guess_str, random_base)\n",
    "        except ValueError:\n",
    "            print('Invalid input. Please enter a valid number in the specified base.')\n",
    "            continue\n",
    "        if count > 2:\n",
    "            print(f'You didn\\'t guess in time')\n",
    "            break\n",
    "        if random_choice == user_guess:\n",
    "            print(f'Right! The answer is {user_guess}')\n",
    "            break\n",
    "        elif random_choice > user_guess:\n",
    "            print(f'Your guess of {user_guess} is high')\n",
    "        else:\n",
    "            print(f'Your guess of {user_guess} is low')\n",
    "        count += 1\n",
    "guessing_game()"
   ]
  },
  {
   "cell_type": "markdown",
   "metadata": {},
   "source": [
    "### Word Guessing Game"
   ]
  },
  {
   "cell_type": "code",
   "execution_count": 2,
   "metadata": {},
   "outputs": [
    {
     "name": "stdout",
     "output_type": "stream",
     "text": [
      "Your guess comes earlier in the dictionary.\n",
      "Your guess comes later in the dictionary.\n",
      "Your guess comes later in the dictionary.\n",
      "You didn't guess in time. The word was: melon\n"
     ]
    }
   ],
   "source": [
    "from random import choice\n",
    "def choose_random_word():\n",
    "    words = ['apple', 'banana', 'cherry', 'lemon', 'orange', 'pear', 'grape', 'melon', 'peach']\n",
    "    return choice(words)\n",
    "def guessing_game():\n",
    "    random_word = choose_random_word()\n",
    "    count = 0\n",
    "    while True:\n",
    "        guess_word = input('Guess the word to win')\n",
    "        if count > 2:\n",
    "            print(f'You didn\\'t guess in time. The word was: {random_word}')\n",
    "            break\n",
    "        if guess_word == random_word:\n",
    "            print(f'Right! the answer is {guess_word}')\n",
    "            break\n",
    "        elif guess_word < random_word:\n",
    "            print('Your guess comes earlier in the dictionary.')\n",
    "        else:\n",
    "            print('Your guess comes later in the dictionary.')\n",
    "        count += 1\n",
    "guessing_game()"
   ]
  }
 ],
 "metadata": {
  "kernelspec": {
   "display_name": "base",
   "language": "python",
   "name": "python3"
  },
  "language_info": {
   "codemirror_mode": {
    "name": "ipython",
    "version": 3
   },
   "file_extension": ".py",
   "mimetype": "text/x-python",
   "name": "python",
   "nbconvert_exporter": "python",
   "pygments_lexer": "ipython3",
   "version": "3.10.9"
  }
 },
 "nbformat": 4,
 "nbformat_minor": 2
}
