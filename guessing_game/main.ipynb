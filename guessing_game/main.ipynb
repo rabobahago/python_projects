{
 "cells": [
  {
   "cell_type": "markdown",
   "metadata": {},
   "source": [
    "# Guessing Game"
   ]
  },
  {
   "cell_type": "markdown",
   "metadata": {},
   "source": [
    "### Integer Guessing Game"
   ]
  },
  {
   "cell_type": "code",
   "execution_count": 3,
   "metadata": {},
   "outputs": [
    {
     "name": "stdout",
     "output_type": "stream",
     "text": [
      "You got it wrong! Try again\n",
      "You got it wrong! Try again\n",
      "You got it wrong! Try again\n",
      "You got it wrong! Try again\n",
      "You got it wrong! Try again\n",
      "You got it wrong! Try again\n",
      "You got it wrong! Try again\n",
      "You got it wrong! Try again\n",
      "You got it wrong! Try again\n",
      "You got it wrong! Try again\n",
      "You got it wrong! Try again\n",
      "wow!. You got it\n",
      "You got the answer after 12 times guesses\n"
     ]
    }
   ],
   "source": [
    "from random import randint\n",
    "def guessing_game():\n",
    "    count = 0\n",
    "    random_number = input('Enter a number: ')\n",
    "    if random_number.isdigit():\n",
    "        random_number = int(random_number)\n",
    "        if random_number < 0:\n",
    "            print('You type none positive number')\n",
    "    else:\n",
    "        print('You type a character that isn\"t number, please try again')\n",
    "        quit()\n",
    "    while True:\n",
    "        count += 1\n",
    "        user_guess = input('Enter your guess: ')\n",
    "        choices = randint(0, random_number)\n",
    "        if user_guess.isdigit():\n",
    "            user_guess = int(user_guess)\n",
    "\n",
    "        else:\n",
    "            print(\"You type a character that isn't number, please try again\")\n",
    "\n",
    "        if user_guess == choices:\n",
    "            print('wow!. You got it')\n",
    "            break\n",
    "        else:\n",
    "            print('You got it wrong! Try again')\n",
    "            continue\n",
    "    print('You got the answer after', count, 'times guesses')\n",
    "guessing_game()"
   ]
  },
  {
   "cell_type": "markdown",
   "metadata": {},
   "source": [
    "### Word Guessing Game"
   ]
  },
  {
   "cell_type": "code",
   "execution_count": 3,
   "metadata": {},
   "outputs": [
    {
     "name": "stdout",
     "output_type": "stream",
     "text": [
      "Your guess comes earlier in the dictionary.\n",
      "Your guess comes earlier in the dictionary.\n",
      "Your guess comes earlier in the dictionary.\n",
      "You didn't guess in time. The word was: grape\n"
     ]
    }
   ],
   "source": [
    "from random import choice\n",
    "def choose_random_word():\n",
    "    words = ['apple', 'banana', 'cherry', 'lemon', 'orange', 'pear', 'grape', 'melon', 'peach']\n",
    "    return choice(words)\n",
    "def guessing_game():\n",
    "    random_word = choose_random_word()\n",
    "    count = 0\n",
    "    while True:\n",
    "        guess_word = input('Guess the word to win')\n",
    "        if count > 2:\n",
    "            print(f'You didn\\'t guess in time. The word was: {random_word}')\n",
    "            break\n",
    "        if guess_word == random_word:\n",
    "            print(f'Right! the answer is {guess_word}')\n",
    "            break\n",
    "        elif guess_word < random_word:\n",
    "            print('Your guess comes earlier in the dictionary.')\n",
    "        else:\n",
    "            print('Your guess comes later in the dictionary.')\n",
    "        count += 1\n",
    "guessing_game()"
   ]
  }
 ],
 "metadata": {
  "kernelspec": {
   "display_name": "base",
   "language": "python",
   "name": "python3"
  },
  "language_info": {
   "codemirror_mode": {
    "name": "ipython",
    "version": 3
   },
   "file_extension": ".py",
   "mimetype": "text/x-python",
   "name": "python",
   "nbconvert_exporter": "python",
   "pygments_lexer": "ipython3",
   "version": "3.10.9"
  }
 },
 "nbformat": 4,
 "nbformat_minor": 2
}
