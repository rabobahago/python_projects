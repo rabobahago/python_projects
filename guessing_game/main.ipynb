{
 "cells": [
  {
   "cell_type": "markdown",
   "metadata": {},
   "source": [
    "# Guessing Game"
   ]
  },
  {
   "cell_type": "code",
   "execution_count": 8,
   "metadata": {},
   "outputs": [
    {
     "name": "stdout",
     "output_type": "stream",
     "text": [
      "Your guess of 4 is high\n",
      "Your guess of 5 is high\n",
      "Your guess of 7 is high\n",
      "You didn't guess in time\n"
     ]
    }
   ],
   "source": [
    "from random import randint\n",
    "def guessing_game():\n",
    "    count = 0\n",
    "    random_choice = randint(0, 10)\n",
    "    random_base = randint(2, 16)\n",
    "    while True:\n",
    "        user_guess_str = input('Make your guess')\n",
    "        try:\n",
    "            user_guess = int(user_guess_str, random_base)\n",
    "        except ValueError:\n",
    "            print('Invalid input. Please enter a valid number in the specified base.')\n",
    "            continue\n",
    "        if count > 2:\n",
    "            print(f'You didn\\'t guess in time')\n",
    "            break\n",
    "        if random_choice == user_guess:\n",
    "            print(f'Right! The answer is {user_guess}')\n",
    "            break\n",
    "        elif random_choice > user_guess:\n",
    "            print(f'Your guess of {user_guess} is high')\n",
    "        else:\n",
    "            print(f'Your guess of {user_guess} is low')\n",
    "        count += 1\n",
    "guessing_game()"
   ]
  },
  {
   "cell_type": "code",
   "execution_count": null,
   "metadata": {},
   "outputs": [],
   "source": []
  }
 ],
 "metadata": {
  "kernelspec": {
   "display_name": "base",
   "language": "python",
   "name": "python3"
  },
  "language_info": {
   "codemirror_mode": {
    "name": "ipython",
    "version": 3
   },
   "file_extension": ".py",
   "mimetype": "text/x-python",
   "name": "python",
   "nbconvert_exporter": "python",
   "pygments_lexer": "ipython3",
   "version": "3.10.9"
  }
 },
 "nbformat": 4,
 "nbformat_minor": 2
}
