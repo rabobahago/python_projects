{
 "cells": [
  {
   "cell_type": "markdown",
   "metadata": {},
   "source": [
    "# Prefix notation calculator"
   ]
  },
  {
   "cell_type": "code",
   "execution_count": 6,
   "metadata": {},
   "outputs": [
    {
     "data": {
      "text/plain": [
       "20"
      ]
     },
     "execution_count": 6,
     "metadata": {},
     "output_type": "execute_result"
    }
   ],
   "source": [
    "def add(x, y):\n",
    "    return x + y\n",
    "def substract(x, y):\n",
    "    return x - y\n",
    "def multiple(x, y):\n",
    "    return x * y\n",
    "def division(x, y):\n",
    "    return x / y\n",
    "def mod(x, y):\n",
    "    return x % y\n",
    "def tim(x, y):\n",
    "    return x // y\n",
    "def calc(to_str):\n",
    "    operations = {'+': add, '-': substract, '*': multiple, '/': division, '%': mod, '//': tim}\n",
    "    op, first, second = to_str.split()\n",
    "    first_num = int(first)\n",
    "    second_num = int(second)\n",
    "    return operations[op](first_num, second_num)\n",
    "calc('+ 23 4')\n",
    "calc('* 4 5')\n"
   ]
  },
  {
   "cell_type": "code",
   "execution_count": null,
   "metadata": {},
   "outputs": [],
   "source": []
  }
 ],
 "metadata": {
  "kernelspec": {
   "display_name": "base",
   "language": "python",
   "name": "python3"
  },
  "language_info": {
   "codemirror_mode": {
    "name": "ipython",
    "version": 3
   },
   "file_extension": ".py",
   "mimetype": "text/x-python",
   "name": "python",
   "nbconvert_exporter": "python",
   "pygments_lexer": "ipython3",
   "version": "3.10.9"
  }
 },
 "nbformat": 4,
 "nbformat_minor": 2
}
