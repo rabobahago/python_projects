{
 "cells": [
  {
   "cell_type": "code",
   "execution_count": 11,
   "metadata": {},
   "outputs": [
    {
     "name": "stdout",
     "output_type": "stream",
     "text": [
      "[('I read books for fun', 9), ('I do walk everyday', 10), ('I like movies', 12)]\n",
      "('I like movies', 12)\n",
      "('I do walk everyday', 10)\n"
     ]
    }
   ],
   "source": [
    "class Priority_Queue:\n",
    "    def __init__(self):\n",
    "        self.items = []\n",
    "    def insert(self, item, priority):\n",
    "        if len(self.items) == 0:\n",
    "            self.items.insert(0, (item, priority))\n",
    "        else:\n",
    "            for index, elem in enumerate(self.items):\n",
    "                if priority >= elem[1]:\n",
    "                    self.items.insert(index + 1, (item, priority))\n",
    "                    return len(self.items)\n",
    "                elif priority < elem[1]:\n",
    "                    self.items.insert(index, (item, priority))\n",
    "                    return len(self.items)\n",
    "    def pop(self):\n",
    "        if not self.items:\n",
    "            return 'Items is empty'\n",
    "        return self.items.pop()\n",
    "    def peek(self):\n",
    "        if not self.items:\n",
    "            return 'Items is empty'\n",
    "        return self.items[len(self.items)-1]\n",
    "\n",
    "\n",
    "q = Priority_Queue()\n",
    "q.insert('I like movies', 12)\n",
    "q.insert('I do walk everyday', 10)\n",
    "q.insert('I read books for fun', 9)\n",
    "\n",
    "print(q.items)\n",
    "print(q.pop())\n",
    "print(q.peek())"
   ]
  },
  {
   "cell_type": "code",
   "execution_count": 2,
   "metadata": {},
   "outputs": [],
   "source": [
    "authors = [\n",
    "{\"author_id\": 1, \"name\" : \"Virginia Woolf\"},\n",
    "{\"author_id\": 2, \"name\": \"Leo Tolstoy\"},\n",
    "{\"author_id\": 3, \"name\": \"Dr. Seuss\"},\n",
    "{\"author_id\": 4, \"name\": \"J. K. Rowling\"},\n",
    "{\"author_id\": 5, \"name\": \"Mark Twain\"}\n",
    "]"
   ]
  },
  {
   "cell_type": "code",
   "execution_count": 3,
   "metadata": {},
   "outputs": [],
   "source": [
    "books = [\n",
    "    {\"author_id\": 3, \"title\": \"Hop on Pop\"},\n",
    "    {\"author_id\": 1, \"title\": \"Mrs. Dalloway\"},\n",
    "    {\"author_id\": 4, \"title\": \"Harry Potter and the Sorcerer's Stone\"},\n",
    "    {\"author_id\": 1, \"title\": \"To the Lighthouse\"},\n",
    "    {\"author_id\": 2, \"title\": \"Anna Karenina\"},\n",
    "    {\"author_id\": 5, \"title\": \"The Adventures of Tom Sawyer\"},\n",
    "    {\"author_id\": 3, \"title\": \"The Cat in the Hat\"},\n",
    "    {\"author_id\": 2, \"title\": \"War and Peace\"},\n",
    "    {\"author_id\": 3, \"title\": \"Green Eggs and Ham\"},\n",
    "    {\"author_id\": 5, \"title\": \"The Adventures of Huckleberry Finn\"}\n",
    "]\n"
   ]
  },
  {
   "cell_type": "code",
   "execution_count": 11,
   "metadata": {},
   "outputs": [
    {
     "name": "stdout",
     "output_type": "stream",
     "text": [
      "Virginia Woolf wrote Mrs. Dalloway\n",
      "Virginia Woolf wrote To the Lighthouse\n",
      "Leo Tolstoy wrote Anna Karenina\n",
      "Leo Tolstoy wrote War and Peace\n",
      "Dr. Seuss wrote Hop on Pop\n",
      "Dr. Seuss wrote The Cat in the Hat\n",
      "Dr. Seuss wrote Green Eggs and Ham\n",
      "J. K. Rowling wrote Harry Potter and the Sorcerer's Stone\n",
      "Mark Twain wrote The Adventures of Tom Sawyer\n",
      "Mark Twain wrote The Adventures of Huckleberry Finn\n"
     ]
    },
    {
     "data": {
      "text/plain": [
       "'Books and authors have been printed'"
      ]
     },
     "execution_count": 11,
     "metadata": {},
     "output_type": "execute_result"
    }
   ],
   "source": [
    "def name_book_author(authors, books):\n",
    "    for author in authors:\n",
    "        for book in books:\n",
    "            if author['author_id'] == book['author_id']:\n",
    "                print(f\"{author['name']} wrote {book['title']}\")\n",
    "    return  'Books and authors have been printed'\n",
    "#O(n * m)\n",
    "\n",
    "name_book_author(authors, books)"
   ]
  },
  {
   "cell_type": "code",
   "execution_count": 19,
   "metadata": {},
   "outputs": [
    {
     "name": "stdout",
     "output_type": "stream",
     "text": [
      "Dr. Seuss wrote Hop on Pop\n",
      "Virginia Woolf wrote Mrs. Dalloway\n",
      "J. K. Rowling wrote Harry Potter and the Sorcerer's Stone\n",
      "Virginia Woolf wrote To the Lighthouse\n",
      "Leo Tolstoy wrote Anna Karenina\n",
      "Mark Twain wrote The Adventures of Tom Sawyer\n",
      "Dr. Seuss wrote The Cat in the Hat\n",
      "Leo Tolstoy wrote War and Peace\n",
      "Dr. Seuss wrote Green Eggs and Ham\n",
      "Mark Twain wrote The Adventures of Huckleberry Finn\n"
     ]
    },
    {
     "data": {
      "text/plain": [
       "'Books and authors have been printed'"
      ]
     },
     "execution_count": 19,
     "metadata": {},
     "output_type": "execute_result"
    }
   ],
   "source": [
    "def name_author(authors, books):\n",
    "    books_dict = {}\n",
    "    for author in authors:\n",
    "        books_dict[author['author_id']] = author['name']\n",
    "    for book in books:\n",
    "        if book['author_id'] in books_dict:\n",
    "            print(f\"{books_dict[book['author_id']]} wrote {book['title']}\")\n",
    "    return  'Books and authors have been printed'\n",
    "name_author(authors, books)\n",
    "#O(n)"
   ]
  },
  {
   "cell_type": "code",
   "execution_count": 2,
   "metadata": {},
   "outputs": [
    {
     "name": "stdout",
     "output_type": "stream",
     "text": [
      "[[90, 2]]\n"
     ]
    }
   ],
   "source": [
    "a = []\n",
    "a.append([90, 2])\n",
    "print(a)"
   ]
  },
  {
   "cell_type": "code",
   "execution_count": 7,
   "metadata": {},
   "outputs": [
    {
     "name": "stdout",
     "output_type": "stream",
     "text": [
      "a\n",
      "c\n",
      "e\n",
      "b\n",
      "d\n",
      "f\n"
     ]
    }
   ],
   "source": [
    "def depth_first(graph, source):\n",
    "    stack = [source]\n",
    "    while stack:\n",
    "        current = stack.pop()\n",
    "        print(current)\n",
    "        for neighbor in graph[current]:\n",
    "            stack.append(neighbor)\n",
    "\n",
    "\n",
    "graph = {\n",
    "    'a': ['b', 'c'],\n",
    "    'b':['d'],\n",
    "    'c': ['e'],\n",
    "    'd': ['f'],\n",
    "    'e': [],\n",
    "    'f':[]\n",
    "}\n",
    "depth_first(graph, 'a')"
   ]
  },
  {
   "cell_type": "code",
   "execution_count": 12,
   "metadata": {},
   "outputs": [
    {
     "name": "stdout",
     "output_type": "stream",
     "text": [
      "a\n",
      "b\n",
      "d\n",
      "f\n",
      "c\n",
      "e\n"
     ]
    }
   ],
   "source": [
    "def depth_first_rec(graph, source):\n",
    "    print(source)\n",
    "    for neighbor in graph[source]:\n",
    "        depth_first_rec(graph, neighbor)\n",
    "depth_first_rec(graph, 'a')"
   ]
  },
  {
   "cell_type": "code",
   "execution_count": 18,
   "metadata": {},
   "outputs": [
    {
     "name": "stdout",
     "output_type": "stream",
     "text": [
      "True\n"
     ]
    }
   ],
   "source": [
    "def has_path(graph, source, dist):\n",
    "    if source == dist:\n",
    "      return True\n",
    "    for neighbor in graph[source]:\n",
    "        if(has_path(graph, neighbor, dist)==True):\n",
    "          return True\n",
    "\n",
    "    return False\n",
    "graph = {\n",
    "  'f': ['g', 'i'],\n",
    "  'g': ['h'],\n",
    "  'h': [],\n",
    "  'i': ['g', 'k'],\n",
    "  'j': ['i'],\n",
    "  'k': []\n",
    "};\n",
    "\n",
    "print(has_path(graph, 'f', 'k'));"
   ]
  },
  {
   "cell_type": "code",
   "execution_count": 27,
   "metadata": {},
   "outputs": [
    {
     "data": {
      "text/plain": [
       "{'b': ['a', 'c'],\n",
       " 'a': ['b', 'c'],\n",
       " 'c': ['a', 'b'],\n",
       " 'q': ['r', 's', 'u', 't'],\n",
       " 'r': ['q'],\n",
       " 's': ['q'],\n",
       " 'u': ['q'],\n",
       " 't': ['q']}"
      ]
     },
     "execution_count": 27,
     "metadata": {},
     "output_type": "execute_result"
    }
   ],
   "source": [
    "edges = [\n",
    "  ['b', 'a'],\n",
    "  ['c', 'a'],\n",
    "  ['b', 'c'],\n",
    "  ['q', 'r'],\n",
    "  ['q', 's'],\n",
    "  ['q', 'u'],\n",
    "  ['q', 't'],\n",
    "];\n",
    "\n",
    "def edge_list(edges):\n",
    "    graph = {}\n",
    "    for edge in edges:\n",
    "        a, b = edge\n",
    "        if a not in graph: graph[a] = []\n",
    "        if b not in graph: graph[b] = []\n",
    "\n",
    "        graph[b].append(a)\n",
    "        graph[a].append(b)\n",
    "    return graph\n",
    "edge_list(edges)\n",
    "\n",
    "# undirectedPath(edges, 'j', 'm')"
   ]
  },
  {
   "cell_type": "code",
   "execution_count": null,
   "metadata": {},
   "outputs": [],
   "source": []
  }
 ],
 "metadata": {
  "kernelspec": {
   "display_name": "base",
   "language": "python",
   "name": "python3"
  },
  "language_info": {
   "codemirror_mode": {
    "name": "ipython",
    "version": 3
   },
   "file_extension": ".py",
   "mimetype": "text/x-python",
   "name": "python",
   "nbconvert_exporter": "python",
   "pygments_lexer": "ipython3",
   "version": "3.10.9"
  }
 },
 "nbformat": 4,
 "nbformat_minor": 2
}
