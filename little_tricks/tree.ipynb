{
 "cells": [
  {
   "cell_type": "code",
   "execution_count": 15,
   "metadata": {},
   "outputs": [
    {
     "name": "stdout",
     "output_type": "stream",
     "text": [
      "None\n",
      "40\n",
      "90\n",
      "40\n"
     ]
    }
   ],
   "source": [
    "class TreeNode:\n",
    "    def __init__(self, value, left = None, right = None):\n",
    "        self.value = value\n",
    "        self.leftChild = left\n",
    "        self.rightChild = right\n",
    "    def binary_search_tree(self, searchValue, node):\n",
    "\n",
    "        if node is None:\n",
    "            return node\n",
    "\n",
    "        if searchValue == node.value:\n",
    "            return node\n",
    "        elif searchValue < node.value:\n",
    "            return self.binary_search_tree(searchValue, node.leftChild)\n",
    "        else:\n",
    "            return self.binary_search_tree(searchValue, node.rightChild)\n",
    "    def insert(self, value, node):\n",
    "        if value < node.value:\n",
    "            if node.leftChild is None:\n",
    "                node.leftChild = TreeNode(value)\n",
    "            else:\n",
    "                self.insert(value, node.leftChild)\n",
    "        elif value > node.value:\n",
    "            if node.rightChild is None:\n",
    "                node.rightChild  = TreeNode(value)\n",
    "            else:\n",
    "                self.insert(value, node.rightChild)\n",
    "    def delete(self, deleteValue, node):\n",
    "        if node is None:\n",
    "            return None\n",
    "        elif deleteValue < node.value:\n",
    "            node.leftChild = self.delete(deleteValue, node.leftChild)\n",
    "            return node\n",
    "        elif deleteValue > node.value:\n",
    "            node.right = self.delete(deleteValue, node.rightChild)\n",
    "            return node\n",
    "        elif deleteValue == node.value:\n",
    "            if node.leftChild is None:\n",
    "                return node.rightChild\n",
    "            elif node.rightChild is None:\n",
    "                return node.leftChild\n",
    "            else:\n",
    "                node.rightChild = self.lift(node.rightChild, node)\n",
    "                return node\n",
    "    def lift(self, node, nodeToDelete):\n",
    "        if node.leftChild:\n",
    "            node.leftChild = self.lift(node.leftChild, nodeToDelete)\n",
    "            return node\n",
    "        else:\n",
    "            nodeToDelete.value == node.value\n",
    "            return node.rightChild\n",
    "\n",
    "\n",
    "node1 = TreeNode(25)\n",
    "node2 = TreeNode(50)\n",
    "root = TreeNode(40, node1, node2)\n",
    "search = root.binary_search_tree(4, root)\n",
    "print(search)\n",
    "s = root.binary_search_tree(40, root)\n",
    "print(s.value)\n",
    "root.insert(90, root)\n",
    "w = root.binary_search_tree(90, root)\n",
    "print(w.value)\n",
    "root.delete(40, root)\n",
    "r = root.binary_search_tree(40, root)\n",
    "print(r.value)"
   ]
  },
  {
   "cell_type": "code",
   "execution_count": null,
   "metadata": {},
   "outputs": [],
   "source": []
  }
 ],
 "metadata": {
  "kernelspec": {
   "display_name": "base",
   "language": "python",
   "name": "python3"
  },
  "language_info": {
   "codemirror_mode": {
    "name": "ipython",
    "version": 3
   },
   "file_extension": ".py",
   "mimetype": "text/x-python",
   "name": "python",
   "nbconvert_exporter": "python",
   "pygments_lexer": "ipython3",
   "version": "3.10.9"
  }
 },
 "nbformat": 4,
 "nbformat_minor": 2
}
