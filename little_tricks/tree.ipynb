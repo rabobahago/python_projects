{
 "cells": [
  {
   "cell_type": "code",
   "execution_count": 9,
   "metadata": {},
   "outputs": [
    {
     "data": {
      "text/plain": [
       "False"
      ]
     },
     "execution_count": 9,
     "metadata": {},
     "output_type": "execute_result"
    }
   ],
   "source": [
    "class TreeNode:\n",
    "    def __init__(self, value, left = None, right = None):\n",
    "        self.value = value\n",
    "        self.leftChild = left\n",
    "        self.rightChild = right\n",
    "    def binary_search_tree(self, searchValue, node):\n",
    "\n",
    "        if node is None:\n",
    "            return False\n",
    "\n",
    "        if searchValue == node.value:\n",
    "            return True\n",
    "        elif searchValue < node.value:\n",
    "            return self.binary_search_tree(searchValue, node.leftChild)\n",
    "        else:\n",
    "            return self.binary_search_tree(searchValue, node.rightChild)\n",
    "node1 = TreeNode(25)\n",
    "node2 = TreeNode(50)\n",
    "root = TreeNode(40, node1, node2)\n",
    "root.binary_search_tree(2, root)"
   ]
  },
  {
   "cell_type": "code",
   "execution_count": null,
   "metadata": {},
   "outputs": [],
   "source": []
  }
 ],
 "metadata": {
  "kernelspec": {
   "display_name": "base",
   "language": "python",
   "name": "python3"
  },
  "language_info": {
   "codemirror_mode": {
    "name": "ipython",
    "version": 3
   },
   "file_extension": ".py",
   "mimetype": "text/x-python",
   "name": "python",
   "nbconvert_exporter": "python",
   "pygments_lexer": "ipython3",
   "version": "3.10.9"
  }
 },
 "nbformat": 4,
 "nbformat_minor": 2
}
