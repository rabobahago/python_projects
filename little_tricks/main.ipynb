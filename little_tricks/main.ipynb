{
 "cells": [
  {
   "cell_type": "code",
   "execution_count": 1,
   "metadata": {},
   "outputs": [
    {
     "data": {
      "text/plain": [
       "[2, 4, 45, 67, 90]"
      ]
     },
     "execution_count": 1,
     "metadata": {},
     "output_type": "execute_result"
    }
   ],
   "source": [
    "def bubble_sort(list_arr):\n",
    "    unsorted_index = len(list_arr)-1\n",
    "    sorted = False\n",
    "    while not sorted:\n",
    "        sorted = True\n",
    "        for i in range(unsorted_index):\n",
    "            if list_arr[i] > list_arr[i + 1]:\n",
    "                list_arr[i], list_arr[i + 1] = list_arr[i + 1], list_arr[i]\n",
    "                sorted =False\n",
    "        unsorted_index -= 1\n",
    "    return list_arr\n",
    "bubble_sort([90, 45, 2, 4, 67])"
   ]
  },
  {
   "cell_type": "code",
   "execution_count": 3,
   "metadata": {},
   "outputs": [
    {
     "data": {
      "text/plain": [
       "[2, 4, 45, 67, 90]"
      ]
     },
     "execution_count": 3,
     "metadata": {},
     "output_type": "execute_result"
    }
   ],
   "source": [
    "def selectionSort(list_):\n",
    "    for i in range(len(list_)):\n",
    "        min_num = i\n",
    "        for j in range(i + 1, len(list_)):\n",
    "            if list_[min_num]>list_[j]:\n",
    "                min_num = j\n",
    "        if min_num != i:\n",
    "            list_[i], list_[min_num] = list_[min_num], list_[i]\n",
    "    return list_\n",
    "selectionSort([90, 45, 2, 4, 67])"
   ]
  },
  {
   "cell_type": "code",
   "execution_count": 4,
   "metadata": {},
   "outputs": [
    {
     "data": {
      "text/plain": [
       "[45, 90, 2, 4, 67]"
      ]
     },
     "execution_count": 4,
     "metadata": {},
     "output_type": "execute_result"
    }
   ],
   "source": [
    "def insertion_sort(array):\n",
    "    for index in range(1, len(array)):\n",
    "        temp_value = array[index]\n",
    "        position = index - 1\n",
    "        while position >= 0:\n",
    "            if array[position] > temp_value:\n",
    "                array[position + 1] = array[position]\n",
    "                position = position - 1\n",
    "            else:\n",
    "                break\n",
    "        array[position + 1] = temp_value\n",
    "        return array\n",
    "insertion_sort([90, 45, 2, 4, 67])"
   ]
  },
  {
   "cell_type": "code",
   "execution_count": 5,
   "metadata": {},
   "outputs": [
    {
     "data": {
      "text/plain": [
       "['Purple Shirt Size: 1',\n",
       " 'Purple Shirt Size: 2',\n",
       " 'Purple Shirt Size: 3',\n",
       " 'Purple Shirt Size: 4',\n",
       " 'Purple Shirt Size: 5',\n",
       " 'Green Shirt Size: 1',\n",
       " 'Green Shirt Size: 2',\n",
       " 'Green Shirt Size: 3',\n",
       " 'Green Shirt Size: 4',\n",
       " 'Green Shirt Size: 5']"
      ]
     },
     "execution_count": 5,
     "metadata": {},
     "output_type": "execute_result"
    }
   ],
   "source": [
    "def mark_inventory(clothing_items):\n",
    "    clothing_options = []\n",
    "    for item in clothing_items:\n",
    "    # For sizes 1 through 5 (Python ranges go UP TO second\n",
    "    # number, but do not include it):\n",
    "        for size in range(1, 6):\n",
    "            clothing_options.append(item + \" Size: \" + str(size))\n",
    "    return clothing_options\n",
    "mark_inventory([\"Purple Shirt\", \"Green Shirt\"])"
   ]
  },
  {
   "cell_type": "code",
   "execution_count": 8,
   "metadata": {},
   "outputs": [
    {
     "data": {
      "text/plain": [
       "False"
      ]
     },
     "execution_count": 8,
     "metadata": {},
     "output_type": "execute_result"
    }
   ],
   "source": [
    "from collections import defaultdict\n",
    "nums = [60, 8, 79, 90, 100, 200, 300, 34]\n",
    "def search_nums(nums, search):\n",
    "    hash = defaultdict(dict)\n",
    "    for num in nums:\n",
    "        hash[num] = True\n",
    "    return hash[search] == True\n",
    "search_nums(nums, 30)"
   ]
  },
  {
   "cell_type": "code",
   "execution_count": 9,
   "metadata": {},
   "outputs": [
    {
     "data": {
      "text/plain": [
       "'c'"
      ]
     },
     "execution_count": 9,
     "metadata": {},
     "output_type": "execute_result"
    }
   ],
   "source": [
    "def duplicate(arr):\n",
    "    non_duplicate = set()\n",
    "    for i in arr:\n",
    "        if i in non_duplicate:\n",
    "            return i\n",
    "        else:\n",
    "            non_duplicate.add(i)\n",
    "    return None\n",
    "duplicate([\"a\", \"b\", \"c\", \"d\", \"c\", \"e\",\"f\"])"
   ]
  },
  {
   "cell_type": "code",
   "execution_count": 10,
   "metadata": {},
   "outputs": [
    {
     "data": {
      "text/plain": [
       "'f'"
      ]
     },
     "execution_count": 10,
     "metadata": {},
     "output_type": "execute_result"
    }
   ],
   "source": [
    "import string\n",
    "from collections import defaultdict\n",
    "def contain_all_letters(strn):\n",
    "    alphabets = string.ascii_lowercase + ' '\n",
    "    hash_alphabets = defaultdict(bool)\n",
    "    for letter in strn:\n",
    "        hash_alphabets[letter] = True\n",
    "    for lett in alphabets:\n",
    "        if not hash_alphabets[lett]:\n",
    "            return lett\n",
    "    return None\n",
    "contain_all_letters('the quick brown box jumps over a lazy dog')"
   ]
  },
  {
   "cell_type": "code",
   "execution_count": 11,
   "metadata": {},
   "outputs": [
    {
     "data": {
      "text/plain": [
       "'n'"
      ]
     },
     "execution_count": 11,
     "metadata": {},
     "output_type": "execute_result"
    }
   ],
   "source": [
    "from collections import defaultdict\n",
    "def non_duplicates(strn):\n",
    "    hash = defaultdict(dict)\n",
    "    for i in strn:\n",
    "        if not hash[i]:\n",
    "            hash[i] = 1\n",
    "        else:\n",
    "            hash[i] += 1\n",
    "    for i in strn:\n",
    "        if hash[i] == 1:\n",
    "            return i\n",
    "    return None\n",
    "non_duplicates('minimum')"
   ]
  },
  {
   "cell_type": "code",
   "execution_count": 12,
   "metadata": {},
   "outputs": [
    {
     "data": {
      "text/plain": [
       "[23]"
      ]
     },
     "execution_count": 12,
     "metadata": {},
     "output_type": "execute_result"
    }
   ],
   "source": [
    "class Stack:\n",
    "    def __init__(self):\n",
    "        self.stack = []\n",
    "    def push(self, item):\n",
    "        self.stack.append(item)\n",
    "        return len(self.stack)\n",
    "    def pop(self):\n",
    "        if not self.stack:\n",
    "            return None\n",
    "        return self.stack.pop()\n",
    "    def peek(self):\n",
    "        if not self.stack:\n",
    "            return None\n",
    "        return self.stack[len(self.stack)-1]\n",
    "\n",
    "s = Stack()\n",
    "s.push(23)\n",
    "s.stack"
   ]
  },
  {
   "cell_type": "code",
   "execution_count": 13,
   "metadata": {},
   "outputs": [
    {
     "name": "stdout",
     "output_type": "stream",
     "text": [
      "False\n",
      "True\n",
      "True\n"
     ]
    }
   ],
   "source": [
    "def linter(string):\n",
    "    stack = []\n",
    "    for char in string:\n",
    "        if char in '({[':\n",
    "            stack.append(char)\n",
    "        elif char in ')}]':\n",
    "            if not stack:\n",
    "                return False\n",
    "            c = stack.pop()\n",
    "            if char == ']' and c != '[' or char == '}' and c != '{' or char == ')' and c != '(':\n",
    "                return False\n",
    "    return len(stack) == 0\n",
    "\n",
    "print(linter('var = {)'))\n",
    "print(linter('var s = ()!'))\n",
    "print(linter('string=2344{()s779}'))"
   ]
  },
  {
   "cell_type": "code",
   "execution_count": 14,
   "metadata": {},
   "outputs": [
    {
     "name": "stdout",
     "output_type": "stream",
     "text": [
      "[90]\n",
      "90\n"
     ]
    }
   ],
   "source": [
    "class Queue:\n",
    "    def __init__(self):\n",
    "        self.queue = []\n",
    "    def push(self, item):\n",
    "        self.queue.append(item)\n",
    "        return len(self.queue)\n",
    "    def pop(self):\n",
    "        if not self.queue:\n",
    "            return None\n",
    "        remove = self.queue.pop(0)\n",
    "        return remove\n",
    "    def peek(self):\n",
    "        if not self.queue:\n",
    "            return None\n",
    "        return self.queue[0]\n",
    "q = Queue()\n",
    "q.push(90)\n",
    "print(q.queue)\n",
    "print(q.peek())"
   ]
  },
  {
   "cell_type": "code",
   "execution_count": 15,
   "metadata": {},
   "outputs": [
    {
     "data": {
      "text/plain": [
       "'nobaR'"
      ]
     },
     "execution_count": 15,
     "metadata": {},
     "output_type": "execute_result"
    }
   ],
   "source": [
    "def reverse_word(string):\n",
    "    result = ''\n",
    "    stack = []\n",
    "    for char in string:\n",
    "        stack.append(char)\n",
    "    while stack:\n",
    "        c = stack.pop()\n",
    "        result += c\n",
    "    return result\n",
    "reverse_word('Rabon')"
   ]
  },
  {
   "cell_type": "code",
   "execution_count": 17,
   "metadata": {},
   "outputs": [
    {
     "data": {
      "text/plain": [
       "[4, 92, 14, 16]"
      ]
     },
     "execution_count": 17,
     "metadata": {},
     "output_type": "execute_result"
    }
   ],
   "source": [
    "def recursive_arr(arr, index = 0):\n",
    "    if index > len(arr)-1:\n",
    "        return\n",
    "    arr[index] = arr[index] * 2\n",
    "    recursive_arr(arr, index + 1)\n",
    "    return arr\n",
    "recursive_arr([2, 46, 7, 8])"
   ]
  },
  {
   "cell_type": "code",
   "execution_count": 25,
   "metadata": {},
   "outputs": [
    {
     "name": "stdout",
     "output_type": "stream",
     "text": [
      "1\n",
      "2\n",
      "3\n",
      "4\n",
      "5\n",
      "6\n",
      "7\n",
      "8\n",
      "9\n",
      "10\n",
      "11\n",
      "12\n",
      "13\n",
      "14\n",
      "15\n",
      "16\n",
      "17\n",
      "18\n",
      "19\n",
      "20\n",
      "21\n",
      "22\n",
      "23\n",
      "24\n",
      "25\n",
      "26\n",
      "27\n",
      "29\n",
      "30\n",
      "31\n",
      "32\n",
      "33\n"
     ]
    }
   ],
   "source": [
    "def print_num(arr, index):\n",
    "    if index > len(arr)-1:\n",
    "        return\n",
    "    if isinstance(arr[index], list):\n",
    "        print_num(arr[index], 0)\n",
    "    elif isinstance(arr[index], (int, float)):\n",
    "        print(arr[index])\n",
    "    print_num(arr, index + 1)\n",
    "array = [ 1, 2, 3, [4, 5, 6], 7, [8, [9, 10, 11, [12, 13, 14]]],[15, 16, 17, 18, 19,[20, 21, 22,[23, 24, 25,[26, 27, 29]], 30, 31], 32], 33]\n",
    "print_num(array, 0)"
   ]
  },
  {
   "cell_type": "code",
   "execution_count": 3,
   "metadata": {},
   "outputs": [
    {
     "data": {
      "text/plain": [
       "15"
      ]
     },
     "execution_count": 3,
     "metadata": {},
     "output_type": "execute_result"
    }
   ],
   "source": [
    "def sum(arr):\n",
    "\n",
    "    if not arr:\n",
    "        return 0\n",
    "    return arr[0] + sum(arr[1:])\n",
    "sum([1, 2, 3, 4, 5])"
   ]
  },
  {
   "cell_type": "code",
   "execution_count": 9,
   "metadata": {},
   "outputs": [
    {
     "data": {
      "text/plain": [
       "'olleH'"
      ]
     },
     "execution_count": 9,
     "metadata": {},
     "output_type": "execute_result"
    }
   ],
   "source": [
    "def reverse_str_rec(string):\n",
    "    if not string:\n",
    "        return ''\n",
    "    return string[-1] + reverse_str_rec(string[0:-1])\n",
    "reverse_str_rec('Hello')"
   ]
  },
  {
   "cell_type": "code",
   "execution_count": 12,
   "metadata": {},
   "outputs": [
    {
     "data": {
      "text/plain": [
       "3"
      ]
     },
     "execution_count": 12,
     "metadata": {},
     "output_type": "execute_result"
    }
   ],
   "source": [
    "def x_counts(string):\n",
    "    if not string:\n",
    "        return 0\n",
    "    if string[0] == 'x':\n",
    "        return 1 + x_counts(string[1:])\n",
    "    else:\n",
    "        return x_counts(string[1:])\n",
    "x_counts('xnsnxxrw')"
   ]
  },
  {
   "cell_type": "code",
   "execution_count": 3,
   "metadata": {},
   "outputs": [
    {
     "data": {
      "text/plain": [
       "13"
      ]
     },
     "execution_count": 3,
     "metadata": {},
     "output_type": "execute_result"
    }
   ],
   "source": [
    "def number_of_paths(n):\n",
    "    if n <= 0:\n",
    "        return 0\n",
    "    if n == 1:\n",
    "        return 1\n",
    "    if n == 2:\n",
    "        return 2\n",
    "    if n == 3:\n",
    "        return 4\n",
    "    return number_of_paths(n - 1) + number_of_paths(n - 2) + number_of_paths(n - 3)\n",
    "\n",
    "number_of_paths(5)"
   ]
  },
  {
   "cell_type": "code",
   "execution_count": 11,
   "metadata": {},
   "outputs": [
    {
     "name": "stdout",
     "output_type": "stream",
     "text": [
      "['c']\n",
      "['bc', 'cb']\n"
     ]
    },
    {
     "data": {
      "text/plain": [
       "['abc', 'bac', 'bca', 'acb', 'cab', 'cba']"
      ]
     },
     "execution_count": 11,
     "metadata": {},
     "output_type": "execute_result"
    }
   ],
   "source": [
    "def anagram(string):\n",
    "    if len(string) == 1:\n",
    "        return [string]\n",
    "    result = []\n",
    "    sub_string = anagram(string[1:])\n",
    "    print(sub_string)\n",
    "    for word in sub_string:\n",
    "        #print(word)\n",
    "        for index in range(len(word) + 1):\n",
    "            anagram_set = word[:index] + string[0] + word[index:]\n",
    "            result.append(anagram_set)\n",
    "    return result\n",
    "anagram('abc')\n"
   ]
  },
  {
   "cell_type": "code",
   "execution_count": 8,
   "metadata": {},
   "outputs": [
    {
     "name": "stdout",
     "output_type": "stream",
     "text": [
      "s\n"
     ]
    }
   ],
   "source": [
    "\n",
    "print('str'[0:1])"
   ]
  },
  {
   "cell_type": "code",
   "execution_count": 2,
   "metadata": {},
   "outputs": [
    {
     "data": {
      "text/plain": [
       "9"
      ]
     },
     "execution_count": 2,
     "metadata": {},
     "output_type": "execute_result"
    }
   ],
   "source": [
    "def count_char(arr):\n",
    "    if not arr:\n",
    "        return 0\n",
    "\n",
    "    return len(arr[0]) + count_char(arr[1:])\n",
    "count_char(['a', 'bgy', 'raise'])"
   ]
  },
  {
   "cell_type": "code",
   "execution_count": 6,
   "metadata": {},
   "outputs": [
    {
     "data": {
      "text/plain": [
       "[2, 4, 6, 8]"
      ]
     },
     "execution_count": 6,
     "metadata": {},
     "output_type": "execute_result"
    }
   ],
   "source": [
    "def even_num(arr):\n",
    "    if not arr:\n",
    "        return []\n",
    "    return [num for num in  arr[0:1] if num % 2 == 0] + even_num(arr[1:])\n",
    "even_num([1, 2, 3, 4, 5, 6, 7, 8, 9])"
   ]
  },
  {
   "cell_type": "code",
   "execution_count": 10,
   "metadata": {},
   "outputs": [
    {
     "data": {
      "text/plain": [
       "28"
      ]
     },
     "execution_count": 10,
     "metadata": {},
     "output_type": "execute_result"
    }
   ],
   "source": [
    "def series_sum(N):\n",
    "    if N == 1:\n",
    "        return 1\n",
    "    return N + series_sum(N-1)\n",
    "series_sum(2)\n",
    "series_sum(3)\n",
    "series_sum(7)"
   ]
  },
  {
   "cell_type": "code",
   "execution_count": 15,
   "metadata": {},
   "outputs": [
    {
     "data": {
      "text/plain": [
       "23"
      ]
     },
     "execution_count": 15,
     "metadata": {},
     "output_type": "execute_result"
    }
   ],
   "source": [
    "def first_index(string, index = 0):\n",
    "    if not string:\n",
    "        return None\n",
    "    if index > len(string)-1:\n",
    "        return None\n",
    "    if string[index] == 'x':\n",
    "        return index\n",
    "\n",
    "    return first_index(string, index + 1)\n",
    "first_index(\"abcdefghijklmnopqrstuvwxyz\", 0)"
   ]
  },
  {
   "cell_type": "code",
   "execution_count": null,
   "metadata": {},
   "outputs": [],
   "source": []
  }
 ],
 "metadata": {
  "kernelspec": {
   "display_name": "base",
   "language": "python",
   "name": "python3"
  },
  "language_info": {
   "codemirror_mode": {
    "name": "ipython",
    "version": 3
   },
   "file_extension": ".py",
   "mimetype": "text/x-python",
   "name": "python",
   "nbconvert_exporter": "python",
   "pygments_lexer": "ipython3",
   "version": "3.10.9"
  }
 },
 "nbformat": 4,
 "nbformat_minor": 2
}
