{
 "cells": [
  {
   "cell_type": "code",
   "execution_count": 1,
   "metadata": {},
   "outputs": [
    {
     "data": {
      "text/plain": [
       "[2, 4, 45, 67, 90]"
      ]
     },
     "execution_count": 1,
     "metadata": {},
     "output_type": "execute_result"
    }
   ],
   "source": [
    "def bubble_sort(list_arr):\n",
    "    unsorted_index = len(list_arr)-1\n",
    "    sorted = False\n",
    "    while not sorted:\n",
    "        sorted = True\n",
    "        for i in range(unsorted_index):\n",
    "            if list_arr[i] > list_arr[i + 1]:\n",
    "                list_arr[i], list_arr[i + 1] = list_arr[i + 1], list_arr[i]\n",
    "                sorted =False\n",
    "        unsorted_index -= 1\n",
    "    return list_arr\n",
    "bubble_sort([90, 45, 2, 4, 67])"
   ]
  },
  {
   "cell_type": "code",
   "execution_count": 3,
   "metadata": {},
   "outputs": [
    {
     "data": {
      "text/plain": [
       "[2, 4, 45, 67, 90]"
      ]
     },
     "execution_count": 3,
     "metadata": {},
     "output_type": "execute_result"
    }
   ],
   "source": [
    "def selectionSort(list_):\n",
    "    for i in range(len(list_)):\n",
    "        min_num = i\n",
    "        for j in range(i + 1, len(list_)):\n",
    "            if list_[min_num]>list_[j]:\n",
    "                min_num = j\n",
    "        if min_num != i:\n",
    "            list_[i], list_[min_num] = list_[min_num], list_[i]\n",
    "    return list_\n",
    "selectionSort([90, 45, 2, 4, 67])"
   ]
  },
  {
   "cell_type": "code",
   "execution_count": 4,
   "metadata": {},
   "outputs": [
    {
     "data": {
      "text/plain": [
       "[45, 90, 2, 4, 67]"
      ]
     },
     "execution_count": 4,
     "metadata": {},
     "output_type": "execute_result"
    }
   ],
   "source": [
    "def insertion_sort(array):\n",
    "    for index in range(1, len(array)):\n",
    "        temp_value = array[index]\n",
    "        position = index - 1\n",
    "        while position >= 0:\n",
    "            if array[position] > temp_value:\n",
    "                array[position + 1] = array[position]\n",
    "                position = position - 1\n",
    "            else:\n",
    "                break\n",
    "        array[position + 1] = temp_value\n",
    "        return array\n",
    "insertion_sort([90, 45, 2, 4, 67])"
   ]
  },
  {
   "cell_type": "code",
   "execution_count": 5,
   "metadata": {},
   "outputs": [
    {
     "data": {
      "text/plain": [
       "['Purple Shirt Size: 1',\n",
       " 'Purple Shirt Size: 2',\n",
       " 'Purple Shirt Size: 3',\n",
       " 'Purple Shirt Size: 4',\n",
       " 'Purple Shirt Size: 5',\n",
       " 'Green Shirt Size: 1',\n",
       " 'Green Shirt Size: 2',\n",
       " 'Green Shirt Size: 3',\n",
       " 'Green Shirt Size: 4',\n",
       " 'Green Shirt Size: 5']"
      ]
     },
     "execution_count": 5,
     "metadata": {},
     "output_type": "execute_result"
    }
   ],
   "source": [
    "def mark_inventory(clothing_items):\n",
    "    clothing_options = []\n",
    "    for item in clothing_items:\n",
    "    # For sizes 1 through 5 (Python ranges go UP TO second\n",
    "    # number, but do not include it):\n",
    "        for size in range(1, 6):\n",
    "            clothing_options.append(item + \" Size: \" + str(size))\n",
    "    return clothing_options\n",
    "mark_inventory([\"Purple Shirt\", \"Green Shirt\"])"
   ]
  },
  {
   "cell_type": "code",
   "execution_count": 8,
   "metadata": {},
   "outputs": [
    {
     "data": {
      "text/plain": [
       "False"
      ]
     },
     "execution_count": 8,
     "metadata": {},
     "output_type": "execute_result"
    }
   ],
   "source": [
    "from collections import defaultdict\n",
    "nums = [60, 8, 79, 90, 100, 200, 300, 34]\n",
    "def search_nums(nums, search):\n",
    "    hash = defaultdict(dict)\n",
    "    for num in nums:\n",
    "        hash[num] = True\n",
    "    return hash[search] == True\n",
    "search_nums(nums, 30)"
   ]
  },
  {
   "cell_type": "code",
   "execution_count": 9,
   "metadata": {},
   "outputs": [
    {
     "data": {
      "text/plain": [
       "'c'"
      ]
     },
     "execution_count": 9,
     "metadata": {},
     "output_type": "execute_result"
    }
   ],
   "source": [
    "def duplicate(arr):\n",
    "    non_duplicate = set()\n",
    "    for i in arr:\n",
    "        if i in non_duplicate:\n",
    "            return i\n",
    "        else:\n",
    "            non_duplicate.add(i)\n",
    "    return None\n",
    "duplicate([\"a\", \"b\", \"c\", \"d\", \"c\", \"e\",\"f\"])"
   ]
  },
  {
   "cell_type": "code",
   "execution_count": 10,
   "metadata": {},
   "outputs": [
    {
     "data": {
      "text/plain": [
       "'f'"
      ]
     },
     "execution_count": 10,
     "metadata": {},
     "output_type": "execute_result"
    }
   ],
   "source": [
    "import string\n",
    "from collections import defaultdict\n",
    "def contain_all_letters(strn):\n",
    "    alphabets = string.ascii_lowercase + ' '\n",
    "    hash_alphabets = defaultdict(bool)\n",
    "    for letter in strn:\n",
    "        hash_alphabets[letter] = True\n",
    "    for lett in alphabets:\n",
    "        if not hash_alphabets[lett]:\n",
    "            return lett\n",
    "    return None\n",
    "contain_all_letters('the quick brown box jumps over a lazy dog')"
   ]
  },
  {
   "cell_type": "code",
   "execution_count": 11,
   "metadata": {},
   "outputs": [
    {
     "data": {
      "text/plain": [
       "'n'"
      ]
     },
     "execution_count": 11,
     "metadata": {},
     "output_type": "execute_result"
    }
   ],
   "source": [
    "from collections import defaultdict\n",
    "def non_duplicates(strn):\n",
    "    hash = defaultdict(dict)\n",
    "    for i in strn:\n",
    "        if not hash[i]:\n",
    "            hash[i] = 1\n",
    "        else:\n",
    "            hash[i] += 1\n",
    "    for i in strn:\n",
    "        if hash[i] == 1:\n",
    "            return i\n",
    "    return None\n",
    "non_duplicates('minimum')"
   ]
  },
  {
   "cell_type": "code",
   "execution_count": 12,
   "metadata": {},
   "outputs": [
    {
     "data": {
      "text/plain": [
       "[23]"
      ]
     },
     "execution_count": 12,
     "metadata": {},
     "output_type": "execute_result"
    }
   ],
   "source": [
    "class Stack:\n",
    "    def __init__(self):\n",
    "        self.stack = []\n",
    "    def push(self, item):\n",
    "        self.stack.append(item)\n",
    "        return len(self.stack)\n",
    "    def pop(self):\n",
    "        if not self.stack:\n",
    "            return None\n",
    "        return self.stack.pop()\n",
    "    def peek(self):\n",
    "        if not self.stack:\n",
    "            return None\n",
    "        return self.stack[len(self.stack)-1]\n",
    "\n",
    "s = Stack()\n",
    "s.push(23)\n",
    "s.stack"
   ]
  },
  {
   "cell_type": "code",
   "execution_count": 13,
   "metadata": {},
   "outputs": [
    {
     "name": "stdout",
     "output_type": "stream",
     "text": [
      "False\n",
      "True\n",
      "True\n"
     ]
    }
   ],
   "source": [
    "def linter(string):\n",
    "    stack = []\n",
    "    for char in string:\n",
    "        if char in '({[':\n",
    "            stack.append(char)\n",
    "        elif char in ')}]':\n",
    "            if not stack:\n",
    "                return False\n",
    "            c = stack.pop()\n",
    "            if char == ']' and c != '[' or char == '}' and c != '{' or char == ')' and c != '(':\n",
    "                return False\n",
    "    return len(stack) == 0\n",
    "\n",
    "print(linter('var = {)'))\n",
    "print(linter('var s = ()!'))\n",
    "print(linter('string=2344{()s779}'))"
   ]
  },
  {
   "cell_type": "code",
   "execution_count": 14,
   "metadata": {},
   "outputs": [
    {
     "name": "stdout",
     "output_type": "stream",
     "text": [
      "[90]\n",
      "90\n"
     ]
    }
   ],
   "source": [
    "class Queue:\n",
    "    def __init__(self):\n",
    "        self.queue = []\n",
    "    def push(self, item):\n",
    "        self.queue.append(item)\n",
    "        return len(self.queue)\n",
    "    def pop(self):\n",
    "        if not self.queue:\n",
    "            return None\n",
    "        remove = self.queue.pop(0)\n",
    "        return remove\n",
    "    def peek(self):\n",
    "        if not self.queue:\n",
    "            return None\n",
    "        return self.queue[0]\n",
    "q = Queue()\n",
    "q.push(90)\n",
    "print(q.queue)\n",
    "print(q.peek())"
   ]
  },
  {
   "cell_type": "code",
   "execution_count": 15,
   "metadata": {},
   "outputs": [
    {
     "data": {
      "text/plain": [
       "'nobaR'"
      ]
     },
     "execution_count": 15,
     "metadata": {},
     "output_type": "execute_result"
    }
   ],
   "source": [
    "def reverse_word(string):\n",
    "    result = ''\n",
    "    stack = []\n",
    "    for char in string:\n",
    "        stack.append(char)\n",
    "    while stack:\n",
    "        c = stack.pop()\n",
    "        result += c\n",
    "    return result\n",
    "reverse_word('Rabon')"
   ]
  },
  {
   "cell_type": "code",
   "execution_count": null,
   "metadata": {},
   "outputs": [],
   "source": []
  }
 ],
 "metadata": {
  "kernelspec": {
   "display_name": "base",
   "language": "python",
   "name": "python3"
  },
  "language_info": {
   "codemirror_mode": {
    "name": "ipython",
    "version": 3
   },
   "file_extension": ".py",
   "mimetype": "text/x-python",
   "name": "python",
   "nbconvert_exporter": "python",
   "pygments_lexer": "ipython3",
   "version": "3.10.9"
  }
 },
 "nbformat": 4,
 "nbformat_minor": 2
}
