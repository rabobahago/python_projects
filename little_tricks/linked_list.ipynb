{
 "cells": [
  {
   "cell_type": "code",
   "execution_count": 2,
   "metadata": {},
   "outputs": [],
   "source": [
    "class Node:\n",
    "    def __init__(self, data):\n",
    "\n",
    "        self.data = data\n",
    "        self.next = None\n",
    "    @property\n",
    "    def next_node(self):\n",
    "        return self.next\n",
    "    @next_node.setter\n",
    "    def next_node(self, value):\n",
    "        self.data = value\n",
    "node_1 = Node('once')\n",
    "node_2 = Node('upon')\n",
    "node_3 = Node('a')\n",
    "node_4 = Node('time')\n",
    "node_1.next = node_2\n",
    "node_2.next = node_3\n",
    "node_3.next = node_4\n"
   ]
  },
  {
   "cell_type": "code",
   "execution_count": 3,
   "metadata": {},
   "outputs": [
    {
     "data": {
      "text/plain": [
       "'time'"
      ]
     },
     "execution_count": 3,
     "metadata": {},
     "output_type": "execute_result"
    }
   ],
   "source": [
    "\n",
    "def print_node_value(node):\n",
    "    result = None\n",
    "    while node:\n",
    "        result = node.data\n",
    "        node = node.next\n",
    "    return result\n",
    "print_node_value(node_1)"
   ]
  },
  {
   "cell_type": "code",
   "execution_count": 22,
   "metadata": {},
   "outputs": [
    {
     "name": "stdout",
     "output_type": "stream",
     "text": [
      "once\n",
      "hello\n",
      "world\n"
     ]
    }
   ],
   "source": [
    "class Linkedlist:\n",
    "    def __init__(self, first_node):\n",
    "        self.first_node = first_node\n",
    "        self.next = None\n",
    "    @property\n",
    "    def next_node(self):\n",
    "        return self.next_node\n",
    "    @next_node.setter\n",
    "    def next_node(self, value):\n",
    "        self.next = value\n",
    "    def read(self, index):\n",
    "        count = 0;\n",
    "        current_node = self.first_node\n",
    "        while current_node:\n",
    "            if count == index:\n",
    "                return current_node.data\n",
    "            count += 1\n",
    "            current_node = current_node.next\n",
    "        return None\n",
    "    def search(self, value):\n",
    "        node = self.first_node\n",
    "        while node:\n",
    "            if node.data == value:\n",
    "                return True\n",
    "            node = node.next\n",
    "        return False\n",
    "    def insert(self, index, data):\n",
    "        new_node = Node(data)\n",
    "\n",
    "        if index == 0:\n",
    "            new_node.next = self.first_node\n",
    "            self.first_node = new_node\n",
    "            return\n",
    "        current_index = 0\n",
    "        current_node = self.first_node\n",
    "        while current_index < index - 1:\n",
    "            current_node = current_node\n",
    "            current_index += 1\n",
    "        new_node.next = current_node\n",
    "        current_node.next = new_node\n",
    "\n",
    "node_list = Linkedlist(node_1)\n",
    "print(node_list.first_node.data)\n",
    "node_list.read(2)\n",
    "node_list.search('a')\n",
    "node_list.insert(0, 'hello')\n",
    "print(node_list.first_node.data)\n",
    "node_list.insert(2, 'world')\n",
    "print(node_list.read(1))"
   ]
  },
  {
   "cell_type": "code",
   "execution_count": null,
   "metadata": {},
   "outputs": [],
   "source": []
  }
 ],
 "metadata": {
  "kernelspec": {
   "display_name": "base",
   "language": "python",
   "name": "python3"
  },
  "language_info": {
   "codemirror_mode": {
    "name": "ipython",
    "version": 3
   },
   "file_extension": ".py",
   "mimetype": "text/x-python",
   "name": "python",
   "nbconvert_exporter": "python",
   "pygments_lexer": "ipython3",
   "version": "3.10.9"
  }
 },
 "nbformat": 4,
 "nbformat_minor": 2
}
