{
 "cells": [
  {
   "cell_type": "markdown",
   "metadata": {},
   "source": [
    "# Word Count"
   ]
  },
  {
   "cell_type": "code",
   "execution_count": 16,
   "metadata": {},
   "outputs": [
    {
     "name": "stdout",
     "output_type": "stream",
     "text": [
      "lines 11\n",
      "characters 164\n",
      "words 28\n",
      "unique_words 20\n"
     ]
    }
   ],
   "source": [
    "def word_count(filename):\n",
    "    count = {'lines': 0, 'characters': 0, 'words': 0}\n",
    "    unique_words = set()\n",
    "    with open(filename) as file_:\n",
    "        for one_line in file_:\n",
    "            count['lines'] += 1\n",
    "            count['characters'] += len(one_line)\n",
    "            count['words'] += len(one_line.split())\n",
    "            unique_words.update(one_line.split())\n",
    "    count['unique_words'] = len(unique_words)\n",
    "    for key, value in count.items():\n",
    "        print(f'{key} {value}')\n",
    "word_count('wcfile.txt')\n"
   ]
  }
 ],
 "metadata": {
  "kernelspec": {
   "display_name": "base",
   "language": "python",
   "name": "python3"
  },
  "language_info": {
   "codemirror_mode": {
    "name": "ipython",
    "version": 3
   },
   "file_extension": ".py",
   "mimetype": "text/x-python",
   "name": "python",
   "nbconvert_exporter": "python",
   "pygments_lexer": "ipython3",
   "version": "3.10.9"
  }
 },
 "nbformat": 4,
 "nbformat_minor": 2
}
