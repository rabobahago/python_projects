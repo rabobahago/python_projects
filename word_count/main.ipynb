{
 "cells": [
  {
   "cell_type": "markdown",
   "metadata": {},
   "source": [
    "# Word Count"
   ]
  },
  {
   "cell_type": "code",
   "execution_count": 19,
   "metadata": {},
   "outputs": [
    {
     "name": "stdout",
     "output_type": "stream",
     "text": [
      "lines 11\n",
      "characters 164\n",
      "words 28\n",
      "unique_words 20\n"
     ]
    }
   ],
   "source": [
    "def word_count(filename):\n",
    "    count = {'lines': 0, 'characters': 0, 'words': 0}\n",
    "    unique_words = set()\n",
    "    with open(filename) as file_:\n",
    "        for one_line in file_:\n",
    "            count['lines'] += 1\n",
    "            count['characters'] += len(one_line)\n",
    "            count['words'] += len(one_line.split())\n",
    "            unique_words.update(one_line.split())\n",
    "    count['unique_words'] = len(unique_words)\n",
    "    for key, value in count.items():\n",
    "        print(f'{key} {value}')\n",
    "word_count('wcfile.txt')\n"
   ]
  },
  {
   "cell_type": "code",
   "execution_count": 30,
   "metadata": {},
   "outputs": [
    {
     "data": {
      "text/plain": [
       "{'is': 2, 'a': 1, 'self': 0, 'contains': 3}"
      ]
     },
     "execution_count": 30,
     "metadata": {},
     "output_type": "execute_result"
    }
   ],
   "source": [
    "def user_words_found(filename):\n",
    "    user_input = input('Enter your words in text')\n",
    "    user_words = {word: 0 for word in user_input.split()}\n",
    "    with open(filename) as file:\n",
    "        for lines in file:\n",
    "            for word in lines.split():\n",
    "                if word in user_words:\n",
    "                    user_words[word] += 1\n",
    "    return user_words\n",
    "\n",
    "user_words_found('wcfile.txt')"
   ]
  },
  {
   "cell_type": "code",
   "execution_count": 31,
   "metadata": {},
   "outputs": [
    {
     "name": "stdout",
     "output_type": "stream",
     "text": [
      "File Sizes:\n",
      "main.ipynb: 2821 bytes\n",
      "wcfile.txt: 174 bytes\n"
     ]
    }
   ],
   "source": [
    "import os\n",
    "current_directory = os.getcwd()\n",
    "file_sizes = {}\n",
    "for filename in os.listdir(current_directory):\n",
    "    if os.path.isfile(filename):\n",
    "        file_size = os.path.getsize(filename)\n",
    "        file_sizes[filename] = file_size\n",
    "print(\"File Sizes:\")\n",
    "for filename, size in file_sizes.items():\n",
    "    print(f\"{filename}: {size} bytes\")\n"
   ]
  },
  {
   "cell_type": "code",
   "execution_count": null,
   "metadata": {},
   "outputs": [],
   "source": []
  }
 ],
 "metadata": {
  "kernelspec": {
   "display_name": "base",
   "language": "python",
   "name": "python3"
  },
  "language_info": {
   "codemirror_mode": {
    "name": "ipython",
    "version": 3
   },
   "file_extension": ".py",
   "mimetype": "text/x-python",
   "name": "python",
   "nbconvert_exporter": "python",
   "pygments_lexer": "ipython3",
   "version": "3.10.9"
  }
 },
 "nbformat": 4,
 "nbformat_minor": 2
}
