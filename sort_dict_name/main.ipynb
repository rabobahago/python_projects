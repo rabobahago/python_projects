{
 "cells": [
  {
   "cell_type": "markdown",
   "metadata": {},
   "source": [
    "# Sorting in Python"
   ]
  },
  {
   "cell_type": "markdown",
   "metadata": {},
   "source": [
    "### Alphabeting Name"
   ]
  },
  {
   "cell_type": "code",
   "execution_count": 1,
   "metadata": {},
   "outputs": [
    {
     "name": "stdout",
     "output_type": "stream",
     "text": [
      "[{'first': 'Donald', 'last': 'Trump', 'email': 'president@whitehouse.gov'}, {'first': 'Reuven', 'last': 'Lerner', 'email': 'reuven@lerner.co.il'}, {'first': 'Vladimir', 'last': 'Putin', 'email': 'president@kremvax.ru'}]\n"
     ]
    }
   ],
   "source": [
    "import operator\n",
    "PEOPLE = [{'first': 'Reuven', 'last': 'Lerner',\n",
    "'email': 'reuven@lerner.co.il'},\n",
    "{'first': 'Donald', 'last': 'Trump',\n",
    "'email': 'president@whitehouse.gov'},\n",
    "{'first': 'Vladimir', 'last': 'Putin',\n",
    "'email': 'president@kremvax.ru'}\n",
    "]\n",
    "def alphabeting_name(dict_names):\n",
    "    sot =sorted(dict_names, key = operator.itemgetter('first', 'last'))\n",
    "    print(sot)\n",
    "alphabeting_name(PEOPLE)\n"
   ]
  },
  {
   "cell_type": "markdown",
   "metadata": {},
   "source": [
    "### sorting by absolute value"
   ]
  },
  {
   "cell_type": "code",
   "execution_count": 11,
   "metadata": {},
   "outputs": [
    {
     "data": {
      "text/plain": [
       "['hi', 'hello', 'goodness']"
      ]
     },
     "execution_count": 11,
     "metadata": {},
     "output_type": "execute_result"
    }
   ],
   "source": [
    "nums = [-3, -1,-8, 3, 4,-4, 6, -7, 9]\n",
    "def sort_by_absolute(nums):\n",
    "    return sorted(nums, key = lambda x: x * x)\n",
    "sort_by_absolute(nums)\n"
   ]
  },
  {
   "cell_type": "markdown",
   "metadata": {},
   "source": [
    "### sorted by vowels"
   ]
  },
  {
   "cell_type": "code",
   "execution_count": 12,
   "metadata": {},
   "outputs": [
    {
     "data": {
      "text/plain": [
       "['hi', 'hello', 'goodness']"
      ]
     },
     "execution_count": 12,
     "metadata": {},
     "output_type": "execute_result"
    }
   ],
   "source": [
    "def sorted_by_vowel(list_):\n",
    "    vowels = 'aeiouAEIOU'\n",
    "    return sorted(list_, key = lambda x: [len(i) for  i in x if i in vowels])\n",
    "sorted_by_vowel(['hello', 'hi', 'goodness'])"
   ]
  },
  {
   "cell_type": "code",
   "execution_count": 15,
   "metadata": {},
   "outputs": [
    {
     "name": "stdout",
     "output_type": "stream",
     "text": [
      "[[1, 2, 3], [4, 5], [10], [6, 7, 8, 9]]\n"
     ]
    }
   ],
   "source": [
    "def sort_by_sum(list_of_lists):\n",
    "    return sorted(list_of_lists, key=sum)\n",
    "lists = [[1, 2, 3], [4, 5], [6, 7, 8, 9], [10]]\n",
    "sorted_lists = sort_by_sum(lists)\n",
    "print(sorted_lists)"
   ]
  },
  {
   "cell_type": "code",
   "execution_count": null,
   "metadata": {},
   "outputs": [],
   "source": []
  }
 ],
 "metadata": {
  "kernelspec": {
   "display_name": "base",
   "language": "python",
   "name": "python3"
  },
  "language_info": {
   "codemirror_mode": {
    "name": "ipython",
    "version": 3
   },
   "file_extension": ".py",
   "mimetype": "text/x-python",
   "name": "python",
   "nbconvert_exporter": "python",
   "pygments_lexer": "ipython3",
   "version": "3.10.9"
  }
 },
 "nbformat": 4,
 "nbformat_minor": 2
}
