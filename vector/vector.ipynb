{
 "cells": [
  {
   "cell_type": "code",
   "execution_count": 4,
   "metadata": {},
   "outputs": [],
   "source": [
    "import sys\n",
    "def test(did_pass):\n",
    "    \"\"\"Test for the pass code\"\"\"\n",
    "    lineno = sys._getframe(1).f_lineno\n",
    "    if did_pass:\n",
    "        msg = f\"Test case at line {lineno} Passed\"\n",
    "    else:\n",
    "        msg = f\"Test case at line {lineno} Failed\"\n",
    "    print(msg)"
   ]
  },
  {
   "cell_type": "code",
   "execution_count": 6,
   "metadata": {},
   "outputs": [
    {
     "name": "stdout",
     "output_type": "stream",
     "text": [
      "[2, 2]\n",
      "[2, 6]\n",
      "[2, 6, 4]\n"
     ]
    }
   ],
   "source": [
    "def add_vectors(a_list, b_list):\n",
    "    result = []\n",
    "    for i in range(len(a_list)):\n",
    "        new_ele = a_list[i] + b_list[i]\n",
    "        result.append(new_ele)\n",
    "    return result\n",
    "\n",
    "print(add_vectors([1, 1], [1, 1]))\n",
    "print(add_vectors([1, 2], [1, 4]))\n",
    "print(add_vectors([1, 2, 1], [1, 4, 3]))"
   ]
  },
  {
   "cell_type": "code",
   "execution_count": 7,
   "metadata": {},
   "outputs": [
    {
     "name": "stdout",
     "output_type": "stream",
     "text": [
      "Test case at line 1 Passed\n",
      "Test case at line 2 Passed\n",
      "Test case at line 3 Passed\n"
     ]
    }
   ],
   "source": [
    "test(add_vectors([1, 1], [1, 1]) == [2, 2])\n",
    "test(add_vectors([1, 2], [1, 4]) == [2, 6])\n",
    "test(add_vectors([1, 2, 1], [1, 4, 3]) == [2, 6, 4])"
   ]
  },
  {
   "cell_type": "code",
   "execution_count": 8,
   "metadata": {},
   "outputs": [],
   "source": [
    "def dot_product(a_list, b_list):\n",
    "    result = 0\n",
    "    for i in range(len(a_list)):\n",
    "        new_sum = a_list[i] * b_list[i]\n",
    "        result += new_sum\n",
    "    return result"
   ]
  },
  {
   "cell_type": "code",
   "execution_count": 9,
   "metadata": {},
   "outputs": [
    {
     "name": "stdout",
     "output_type": "stream",
     "text": [
      "Test case at line 1 Passed\n",
      "Test case at line 2 Passed\n",
      "Test case at line 3 Passed\n"
     ]
    }
   ],
   "source": [
    "test(dot_product([1, 1], [1, 1]) == 2)\n",
    "test(dot_product([1, 2], [1, 4]) == 9)\n",
    "test(dot_product([1, 2, 1], [1, 4, 3]) == 12)"
   ]
  },
  {
   "cell_type": "code",
   "execution_count": 10,
   "metadata": {},
   "outputs": [],
   "source": [
    "def scalar_mult(scalar, b_list):\n",
    "    result = []\n",
    "    for elem in b_list:\n",
    "        new_sum = elem * scalar\n",
    "        result.append(new_sum)\n",
    "    return result"
   ]
  },
  {
   "cell_type": "code",
   "execution_count": 11,
   "metadata": {},
   "outputs": [
    {
     "name": "stdout",
     "output_type": "stream",
     "text": [
      "Test case at line 1 Passed\n",
      "Test case at line 2 Passed\n",
      "Test case at line 3 Passed\n"
     ]
    }
   ],
   "source": [
    "test(scalar_mult(5, [1, 2]) == [5, 10])\n",
    "test(scalar_mult(3, [1, 0, -1]) == [3, 0, -3])\n",
    "test(scalar_mult(7, [3, 0, 5, 11, 2]) == [21, 0, 35, 77, 14])"
   ]
  },
  {
   "cell_type": "code",
   "execution_count": 18,
   "metadata": {},
   "outputs": [
    {
     "name": "stdout",
     "output_type": "stream",
     "text": [
      "Test case at line 5 Passed\n",
      "Test case at line 7 Passed\n",
      "Test case at line 8 Passed\n"
     ]
    }
   ],
   "source": [
    "def replace(s, old, new):\n",
    "    split_s = s.split(old)\n",
    "    return new.join(split_s)\n",
    "\n",
    "test(replace(\"Mississippi\", \"i\", \"I\") == \"MIssIssIppI\")\n",
    "s = \"I love spom! Spom is my favorite food. Spom, spom, yum!\"\n",
    "test(replace(s, \"om\", \"am\") == \"I love spam! Spam is my favorite food. Spam, spam, yum!\")\n",
    "test(replace(s, \"o\", \"a\") == \"I lave spam! Spam is my favarite faad. Spam, spam, yum!\")\n"
   ]
  },
  {
   "cell_type": "code",
   "execution_count": 10,
   "metadata": {},
   "outputs": [
    {
     "name": "stdout",
     "output_type": "stream",
     "text": [
      "None\n"
     ]
    }
   ],
   "source": [
    "import random\n",
    "rng = random.Random()\n",
    "result = rng.shuffle([4, 8, 89,9])\n",
    "print(result)"
   ]
  },
  {
   "cell_type": "code",
   "execution_count": null,
   "metadata": {},
   "outputs": [],
   "source": []
  }
 ],
 "metadata": {
  "kernelspec": {
   "display_name": "Python 3",
   "language": "python",
   "name": "python3"
  },
  "language_info": {
   "codemirror_mode": {
    "name": "ipython",
    "version": 3
   },
   "file_extension": ".py",
   "mimetype": "text/x-python",
   "name": "python",
   "nbconvert_exporter": "python",
   "pygments_lexer": "ipython3",
   "version": "3.10.9"
  }
 },
 "nbformat": 4,
 "nbformat_minor": 2
}
