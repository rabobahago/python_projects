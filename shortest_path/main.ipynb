{
 "cells": [
  {
   "cell_type": "code",
   "execution_count": 4,
   "metadata": {},
   "outputs": [],
   "source": [
    "#This is know as weighted graph\n",
    "my_graph = {\n",
    "    'A': [('B', 3), ('D', 1)],\n",
    "    'B': [('A', 3), ('C', 4)],\n",
    "    'C': [('B', 4), ('D', 7)],\n",
    "    'D': [('A', 1), ('C', 7)]\n",
    "}\n",
    "\n",
    "# Edge\tWeight\n",
    "# A-B\t     3\n",
    "# B-C\t     4\n",
    "# C-D\t     7\n",
    "# D-A\t     1\n"
   ]
  },
  {
   "cell_type": "code",
   "execution_count": null,
   "metadata": {},
   "outputs": [],
   "source": []
  }
 ],
 "metadata": {
  "kernelspec": {
   "display_name": "base",
   "language": "python",
   "name": "python3"
  },
  "language_info": {
   "codemirror_mode": {
    "name": "ipython",
    "version": 3
   },
   "file_extension": ".py",
   "mimetype": "text/x-python",
   "name": "python",
   "nbconvert_exporter": "python",
   "pygments_lexer": "ipython3",
   "version": "3.10.9"
  }
 },
 "nbformat": 4,
 "nbformat_minor": 2
}
