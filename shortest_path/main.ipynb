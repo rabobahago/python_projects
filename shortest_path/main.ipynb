{
 "cells": [
  {
   "cell_type": "code",
   "execution_count": 8,
   "metadata": {},
   "outputs": [
    {
     "name": "stdout",
     "output_type": "stream",
     "text": [
      "\n",
      "A-B distance: 3\n",
      "Path: A\n",
      "\n",
      "A-C distance: 7\n",
      "Path: A -> A\n",
      "\n",
      "A-D distance: 1\n",
      "Path: A\n"
     ]
    }
   ],
   "source": [
    "#This is know as weighted graph\n",
    "my_graph = {\n",
    "    'A': [('B', 3), ('D', 1)],\n",
    "    'B': [('A', 3), ('C', 4)],\n",
    "    'C': [('B', 4), ('D', 7)],\n",
    "    'D': [('A', 1), ('C', 7)]\n",
    "}\n",
    "\n",
    "#Distance interconnection\n",
    "# Edge\tWeight\n",
    "# A-B\t     3\n",
    "# B-C\t     4\n",
    "# C-D\t     7\n",
    "# D-A\t     1\n",
    "\n",
    "# my_graph = {\n",
    "#     'A': ['B', 'D'],\n",
    "#     'B': ['A', 'C'],\n",
    "#     'C': ['B', 'D'],\n",
    "#     'D': ['A', 'C']\n",
    "# }\n",
    "\n",
    "def shortest_path(graph, start, target = ''):\n",
    "    #all nodes are added a unvisited node from the begin of this algorithms\n",
    "    # unvisited = []\n",
    "    # distance connecting all node\n",
    "    # distances = {}\n",
    "    # for node in graph:\n",
    "    #     #loop through the graph and append to unvisited node\n",
    "    #     unvisited.append(node)\n",
    "    #     if node == start:\n",
    "    #         distances[node] = 0 #start node has distance of zero\n",
    "    #     else:\n",
    "    #         #else it will assign infinite distance since it has been assign\n",
    "    #         distances[node] = float('inf')\n",
    "    unvisited = list(graph)\n",
    "    paths = {key: [] for key in graph}\n",
    "    distances = {key:0 if key == start else float('inf') for key in graph}\n",
    "    paths[start].append(start) # paths[start] = paths[start] + [start]\n",
    "    while unvisited:\n",
    "        current = min(unvisited, key=distances.get)\n",
    "        for node, distance in graph[current]:\n",
    "            if distance + distances[current] < distances[node]:\n",
    "                distances[node] = distance + distances[current]\n",
    "                if paths[node] and paths[node][-1] == node:\n",
    "                    paths[node] = paths[current][:]\n",
    "                else:\n",
    "                    paths[node].extend(paths[current])\n",
    "        unvisited.remove(current)\n",
    "    targets_to_print = [target] if target else graph\n",
    "    for node in targets_to_print:\n",
    "        if node == start:\n",
    "            continue\n",
    "        print(f'\\n{start}-{node} distance: {distances[node]}\\nPath: {\" -> \".join(paths[node])}')\n",
    "    return distances, paths\n",
    "shortest_path(my_graph, 'A')\n"
   ]
  },
  {
   "cell_type": "code",
   "execution_count": null,
   "metadata": {},
   "outputs": [],
   "source": []
  }
 ],
 "metadata": {
  "kernelspec": {
   "display_name": "base",
   "language": "python",
   "name": "python3"
  },
  "language_info": {
   "codemirror_mode": {
    "name": "ipython",
    "version": 3
   },
   "file_extension": ".py",
   "mimetype": "text/x-python",
   "name": "python",
   "nbconvert_exporter": "python",
   "pygments_lexer": "ipython3",
   "version": "3.10.9"
  }
 },
 "nbformat": 4,
 "nbformat_minor": 2
}
