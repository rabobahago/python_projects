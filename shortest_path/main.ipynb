{
 "cells": [
  {
   "cell_type": "code",
   "execution_count": 4,
   "metadata": {},
   "outputs": [
    {
     "ename": "TypeError",
     "evalue": "unsupported operand type(s) for +: 'dict' and 'int'",
     "output_type": "error",
     "traceback": [
      "\u001b[1;31m---------------------------------------------------------------------------\u001b[0m",
      "\u001b[1;31mTypeError\u001b[0m                                 Traceback (most recent call last)",
      "Cell \u001b[1;32mIn[4], line 51\u001b[0m\n\u001b[0;32m     49\u001b[0m         unvisited\u001b[38;5;241m.\u001b[39mremove(current)\n\u001b[0;32m     50\u001b[0m     \u001b[38;5;28mprint\u001b[39m(\u001b[38;5;124mf\u001b[39m\u001b[38;5;124m'\u001b[39m\u001b[38;5;124mUnvisited: \u001b[39m\u001b[38;5;132;01m{\u001b[39;00munvisited\u001b[38;5;132;01m}\u001b[39;00m\u001b[38;5;130;01m\\n\u001b[39;00m\u001b[38;5;124mDistances: \u001b[39m\u001b[38;5;132;01m{\u001b[39;00mdistances\u001b[38;5;132;01m}\u001b[39;00m\u001b[38;5;130;01m\\n\u001b[39;00m\u001b[38;5;124mPaths: \u001b[39m\u001b[38;5;132;01m{\u001b[39;00mpaths\u001b[38;5;132;01m}\u001b[39;00m\u001b[38;5;124m'\u001b[39m)\n\u001b[1;32m---> 51\u001b[0m \u001b[43mshortest_path\u001b[49m\u001b[43m(\u001b[49m\u001b[43mmy_graph\u001b[49m\u001b[43m,\u001b[49m\u001b[43m \u001b[49m\u001b[38;5;124;43m'\u001b[39;49m\u001b[38;5;124;43mA\u001b[39;49m\u001b[38;5;124;43m'\u001b[39;49m\u001b[43m)\u001b[49m\n",
      "Cell \u001b[1;32mIn[4], line 44\u001b[0m, in \u001b[0;36mshortest_path\u001b[1;34m(graph, start)\u001b[0m\n\u001b[0;32m     42\u001b[0m \u001b[38;5;28;01mfor\u001b[39;00m node, distance \u001b[38;5;129;01min\u001b[39;00m graph[current]:\n\u001b[0;32m     43\u001b[0m     \u001b[38;5;28;01mif\u001b[39;00m distance \u001b[38;5;241m+\u001b[39m distances[current] \u001b[38;5;241m<\u001b[39m distances[node]:\n\u001b[1;32m---> 44\u001b[0m         distances[node] \u001b[38;5;241m=\u001b[39m \u001b[43mdistances\u001b[49m\u001b[43m \u001b[49m\u001b[38;5;241;43m+\u001b[39;49m\u001b[43m \u001b[49m\u001b[43mdistances\u001b[49m\u001b[43m[\u001b[49m\u001b[43mcurrent\u001b[49m\u001b[43m]\u001b[49m\n\u001b[0;32m     45\u001b[0m         \u001b[38;5;28;01mif\u001b[39;00m paths[node] \u001b[38;5;129;01mand\u001b[39;00m paths[node][\u001b[38;5;241m-\u001b[39m\u001b[38;5;241m1\u001b[39m] \u001b[38;5;241m==\u001b[39m node:\n\u001b[0;32m     46\u001b[0m             paths[node] \u001b[38;5;241m=\u001b[39m paths[current]\n",
      "\u001b[1;31mTypeError\u001b[0m: unsupported operand type(s) for +: 'dict' and 'int'"
     ]
    }
   ],
   "source": [
    "#This is know as weighted graph\n",
    "my_graph = {\n",
    "    'A': [('B', 3), ('D', 1)],\n",
    "    'B': [('A', 3), ('C', 4)],\n",
    "    'C': [('B', 4), ('D', 7)],\n",
    "    'D': [('A', 1), ('C', 7)]\n",
    "}\n",
    "\n",
    "#Distance interconnection\n",
    "# Edge\tWeight\n",
    "# A-B\t     3\n",
    "# B-C\t     4\n",
    "# C-D\t     7\n",
    "# D-A\t     1\n",
    "\n",
    "# my_graph = {\n",
    "#     'A': ['B', 'D'],\n",
    "#     'B': ['A', 'C'],\n",
    "#     'C': ['B', 'D'],\n",
    "#     'D': ['A', 'C']\n",
    "# }\n",
    "\n",
    "def shortest_path(graph, start):\n",
    "    #all nodes are added a unvisited node from the begin of this algorithms\n",
    "    # unvisited = []\n",
    "    # distance connecting all node\n",
    "    # distances = {}\n",
    "    # for node in graph:\n",
    "    #     #loop through the graph and append to unvisited node\n",
    "    #     unvisited.append(node)\n",
    "    #     if node == start:\n",
    "    #         distances[node] = 0 #start node has distance of zero\n",
    "    #     else:\n",
    "    #         #else it will assign infinite distance since it has been assign\n",
    "    #         distances[node] = float('inf')\n",
    "    unvisited = list(graph)\n",
    "    paths = {key: [] for key in graph}\n",
    "    distances = {key:0 if key == start else float('inf') for key in graph}\n",
    "    paths[start].append(start) # paths[start] = paths[start] + [start]\n",
    "    while unvisited:\n",
    "        current = min(unvisited, key=distances.get)\n",
    "        for node, distance in graph[current]:\n",
    "            if distance + distances[current] < distances[node]:\n",
    "                distances[node] = distance + distances[current]\n",
    "                if paths[node] and paths[node][-1] == node:\n",
    "                    paths[node] = paths[current]\n",
    "                else:\n",
    "                    paths[node].extend(paths[current])\n",
    "        unvisited.remove(current)\n",
    "    print(f'Unvisited: {unvisited}\\nDistances: {distances}\\nPaths: {paths}')\n",
    "shortest_path(my_graph, 'A')\n"
   ]
  },
  {
   "cell_type": "code",
   "execution_count": null,
   "metadata": {},
   "outputs": [],
   "source": []
  }
 ],
 "metadata": {
  "kernelspec": {
   "display_name": "base",
   "language": "python",
   "name": "python3"
  },
  "language_info": {
   "codemirror_mode": {
    "name": "ipython",
    "version": 3
   },
   "file_extension": ".py",
   "mimetype": "text/x-python",
   "name": "python",
   "nbconvert_exporter": "python",
   "pygments_lexer": "ipython3",
   "version": "3.10.9"
  }
 },
 "nbformat": 4,
 "nbformat_minor": 2
}
