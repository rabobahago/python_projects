{
 "cells": [
  {
   "cell_type": "code",
   "execution_count": 11,
   "metadata": {},
   "outputs": [
    {
     "ename": "SyntaxError",
     "evalue": "invalid syntax (2602418729.py, line 43)",
     "output_type": "error",
     "traceback": [
      "\u001b[1;36m  Cell \u001b[1;32mIn[11], line 43\u001b[1;36m\u001b[0m\n\u001b[1;33m    distance + distances[current] < distances[node]:\u001b[0m\n\u001b[1;37m                                                   ^\u001b[0m\n\u001b[1;31mSyntaxError\u001b[0m\u001b[1;31m:\u001b[0m invalid syntax\n"
     ]
    }
   ],
   "source": [
    "#This is know as weighted graph\n",
    "my_graph = {\n",
    "    'A': [('B', 3), ('D', 1)],\n",
    "    'B': [('A', 3), ('C', 4)],\n",
    "    'C': [('B', 4), ('D', 7)],\n",
    "    'D': [('A', 1), ('C', 7)]\n",
    "}\n",
    "\n",
    "#Distance interconnection\n",
    "# Edge\tWeight\n",
    "# A-B\t     3\n",
    "# B-C\t     4\n",
    "# C-D\t     7\n",
    "# D-A\t     1\n",
    "\n",
    "# my_graph = {\n",
    "#     'A': ['B', 'D'],\n",
    "#     'B': ['A', 'C'],\n",
    "#     'C': ['B', 'D'],\n",
    "#     'D': ['A', 'C']\n",
    "# }\n",
    "\n",
    "def shortest_path(graph, start):\n",
    "    #all nodes are added a unvisited node from the begin of this algorithms\n",
    "    # unvisited = []\n",
    "    # distance connecting all node\n",
    "    # distances = {}\n",
    "    # for node in graph:\n",
    "    #     #loop through the graph and append to unvisited node\n",
    "    #     unvisited.append(node)\n",
    "    #     if node == start:\n",
    "    #         distances[node] = 0 #start node has distance of zero\n",
    "    #     else:\n",
    "    #         #else it will assign infinite distance since it has been assign\n",
    "    #         distances[node] = float('inf')\n",
    "    unvisited = list(graph)\n",
    "    paths = {key: [] for key in graph}\n",
    "    distances = {key:0 if key == start else float('inf') for key in graph}\n",
    "    paths[start].append(start) # paths[start] = paths[start] + [start]\n",
    "    while unvisited:\n",
    "        current = min(unvisited, key=distances.get)\n",
    "        for node, distance in graph[current]:\n",
    "            if distance + distances[current] < distances[node]:\n",
    "                distances[node] = distances + distances[current]\n",
    "    print(f'Unvisited: {unvisited}\\nDistances: {distances}\\nPaths: {paths}')\n",
    "# shortest_path(my_graph, 'A')\n"
   ]
  },
  {
   "cell_type": "code",
   "execution_count": 10,
   "metadata": {},
   "outputs": [
    {
     "name": "stdout",
     "output_type": "stream",
     "text": [
      "lod\n"
     ]
    }
   ],
   "source": [
    "arr =['red', 'blue', 'lod']\n",
    "color = {'red': 0, 'blue': 90, 'white': 56, 'lod': -23 }\n",
    "print(min(arr, key = color.get))"
   ]
  },
  {
   "cell_type": "code",
   "execution_count": null,
   "metadata": {},
   "outputs": [],
   "source": []
  }
 ],
 "metadata": {
  "kernelspec": {
   "display_name": "base",
   "language": "python",
   "name": "python3"
  },
  "language_info": {
   "codemirror_mode": {
    "name": "ipython",
    "version": 3
   },
   "file_extension": ".py",
   "mimetype": "text/x-python",
   "name": "python",
   "nbconvert_exporter": "python",
   "pygments_lexer": "ipython3",
   "version": "3.10.9"
  }
 },
 "nbformat": 4,
 "nbformat_minor": 2
}
