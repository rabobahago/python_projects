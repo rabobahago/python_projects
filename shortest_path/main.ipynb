{
 "cells": [
  {
   "cell_type": "code",
   "execution_count": 6,
   "metadata": {},
   "outputs": [
    {
     "name": "stdout",
     "output_type": "stream",
     "text": [
      "A\n",
      "B\n",
      "C\n",
      "D\n"
     ]
    }
   ],
   "source": [
    "#This is know as weighted graph\n",
    "my_graph = {\n",
    "    'A': [('B', 3), ('D', 1)],\n",
    "    'B': [('A', 3), ('C', 4)],\n",
    "    'C': [('B', 4), ('D', 7)],\n",
    "    'D': [('A', 1), ('C', 7)]\n",
    "}\n",
    "\n",
    "#Distance interconnection\n",
    "# Edge\tWeight\n",
    "# A-B\t     3\n",
    "# B-C\t     4\n",
    "# C-D\t     7\n",
    "# D-A\t     1\n",
    "\n",
    "# my_graph = {\n",
    "#     'A': ['B', 'D'],\n",
    "#     'B': ['A', 'C'],\n",
    "#     'C': ['B', 'D'],\n",
    "#     'D': ['A', 'C']\n",
    "# }\n",
    "\n",
    "def shortest_path(graph, start):\n",
    "    #all nodes are added a unvisited node from the begin of this algorithms\n",
    "    unvisited = []\n",
    "    # distance connecting all node\n",
    "    distances = {}\n",
    "    for node in graph:\n",
    "        #loop through the graph and append to unvisited node\n",
    "        unvisited.append(node)\n",
    "        if node == start:\n",
    "            distances[node] = 0 #start node has distance of zero\n",
    "        else:\n",
    "            #else it will assign infinite distance since it has been assign\n",
    "            distances[node] = float('inf')"
   ]
  },
  {
   "cell_type": "code",
   "execution_count": null,
   "metadata": {},
   "outputs": [],
   "source": []
  }
 ],
 "metadata": {
  "kernelspec": {
   "display_name": "base",
   "language": "python",
   "name": "python3"
  },
  "language_info": {
   "codemirror_mode": {
    "name": "ipython",
    "version": 3
   },
   "file_extension": ".py",
   "mimetype": "text/x-python",
   "name": "python",
   "nbconvert_exporter": "python",
   "pygments_lexer": "ipython3",
   "version": "3.10.9"
  }
 },
 "nbformat": 4,
 "nbformat_minor": 2
}
