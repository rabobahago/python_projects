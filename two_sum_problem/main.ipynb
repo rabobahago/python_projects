{
 "cells": [
  {
   "cell_type": "markdown",
   "metadata": {},
   "source": [
    "### Two Sum Problem"
   ]
  },
  {
   "cell_type": "code",
   "execution_count": 1,
   "metadata": {},
   "outputs": [
    {
     "name": "stdout",
     "output_type": "stream",
     "text": [
      "Pair found (8, 2)\n"
     ]
    }
   ],
   "source": [
    "def findPair(nums, target):\n",
    "\n",
    "    # consider each element except the last\n",
    "    for i in range(len(nums) - 1):\n",
    "\n",
    "        # start from the i'th element until the last element\n",
    "        for j in range(i + 1, len(nums)):\n",
    "\n",
    "            # if the desired sum is found, print it\n",
    "            if nums[i] + nums[j] == target:\n",
    "                print('Pair found', (nums[i], nums[j]))\n",
    "                return\n",
    "\n",
    "    # No pair with the given sum exists in the list\n",
    "    print('Pair not found')\n",
    "\n",
    "nums = [8, 7, 2, 5, 3, 1]\n",
    "target = 10\n",
    "\n",
    "findPair(nums, target)\n"
   ]
  },
  {
   "cell_type": "code",
   "execution_count": null,
   "metadata": {},
   "outputs": [],
   "source": []
  }
 ],
 "metadata": {
  "kernelspec": {
   "display_name": "Python 3",
   "language": "python",
   "name": "python3"
  },
  "language_info": {
   "codemirror_mode": {
    "name": "ipython",
    "version": 3
   },
   "file_extension": ".py",
   "mimetype": "text/x-python",
   "name": "python",
   "nbconvert_exporter": "python",
   "pygments_lexer": "ipython3",
   "version": "3.10.9"
  }
 },
 "nbformat": 4,
 "nbformat_minor": 2
}
