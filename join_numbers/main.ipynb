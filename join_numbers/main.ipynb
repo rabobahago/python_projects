{
 "cells": [
  {
   "cell_type": "markdown",
   "metadata": {},
   "source": [
    "# Join numbers"
   ]
  },
  {
   "cell_type": "code",
   "execution_count": 21,
   "metadata": {},
   "outputs": [
    {
     "data": {
      "text/plain": [
       "'0,1,2,3,4'"
      ]
     },
     "execution_count": 21,
     "metadata": {},
     "output_type": "execute_result"
    }
   ],
   "source": [
    "def join_numbers(num):\n",
    "    return ','.join(str(x) for x in range(num))\n",
    "join_numbers(5)"
   ]
  },
  {
   "cell_type": "markdown",
   "metadata": {},
   "source": [
    "### Turn String"
   ]
  },
  {
   "cell_type": "code",
   "execution_count": 38,
   "metadata": {},
   "outputs": [
    {
     "data": {
      "text/plain": [
       "'012345678910'"
      ]
     },
     "execution_count": 38,
     "metadata": {},
     "output_type": "execute_result"
    }
   ],
   "source": [
    "def turn_str(num):\n",
    "    return ''.join(str(x) for x in range(num) if x  in [0, 1, 2, 3, 4, 5, 6, 7, 8, 9, 10])\n",
    "turn_str(23)"
   ]
  },
  {
   "cell_type": "markdown",
   "metadata": {},
   "source": [
    "### Add Number"
   ]
  },
  {
   "cell_type": "code",
   "execution_count": 15,
   "metadata": {},
   "outputs": [
    {
     "data": {
      "text/plain": [
       "301"
      ]
     },
     "execution_count": 15,
     "metadata": {},
     "output_type": "execute_result"
    }
   ],
   "source": [
    "def add_number(str_num):\n",
    "    return sum(int(num) for num in str_num.split() if num.isdigit())\n",
    "add_number('200 67 we20 34')"
   ]
  },
  {
   "cell_type": "markdown",
   "metadata": {},
   "source": [
    "### Phone Number\n"
   ]
  },
  {
   "cell_type": "markdown",
   "metadata": {},
   "source": [
    "In the United States, phone numbers have 10 digits—a three-digit area code,\n",
    "followed by a seven-digit number. Several times during my childhood, area\n",
    "codes would run out of phone numbers, forcing half of the population to get a\n",
    "new area code. After such a split, XXX-YYY-ZZZZ might remain XXX-YYY-ZZZZ,\n",
    "or it might become NNN-YYY-ZZZZ, with NNN being the new area code. The\n",
    "decision regarding which numbers remained and which changed was often\n",
    "made based on the phone numbers’ final seven digits. Use a list comprehension\n",
    "to return a new list of strings, in which any phone number whose YYY begins\n",
    "with the digits 0–5 will have its area code changed to XXX+1. For example,\n",
    "given the list of strings ['123-456-7890', '123-333-4444', '123-777-8888'],\n",
    "we want to convert them to ['124-456-7890', '124-333-4444', '124-777-\n",
    "8888']."
   ]
  },
  {
   "cell_type": "code",
   "execution_count": 16,
   "metadata": {},
   "outputs": [
    {
     "name": "stdout",
     "output_type": "stream",
     "text": [
      "['123-556-7890', '123-433-4444', '123-777-8888']\n"
     ]
    }
   ],
   "source": [
    "phone_numbers = ['123-456-7890', '123-333-4444', '123-777-8888']\n",
    "\n",
    "new_phone_numbers = [number[:4] + str(int(number[4]) + 1) + number[5:] if int(number[4]) <= 5 else number for number in phone_numbers]\n",
    "\n",
    "print(new_phone_numbers)\n"
   ]
  },
  {
   "cell_type": "code",
   "execution_count": 21,
   "metadata": {},
   "outputs": [
    {
     "data": {
      "text/plain": [
       "[{'name': 'Rabo', 'age': 24, 'age_in_months': 'Jan'}]"
      ]
     },
     "execution_count": 21,
     "metadata": {},
     "output_type": "execute_result"
    }
   ],
   "source": [
    "names = ['Rabo', ]\n",
    "ages = [24]\n",
    "months = ['Jan']\n",
    "combine = [{'name': name, 'age': age, 'age_in_months': month} for name in names for age in ages for month in months]\n",
    "combine"
   ]
  },
  {
   "cell_type": "code",
   "execution_count": 11,
   "metadata": {},
   "outputs": [
    {
     "name": "stdout",
     "output_type": "stream",
     "text": [
      "[1, 2, 3, 4]\n"
     ]
    },
    {
     "data": {
      "text/plain": [
       "[23, 45, 45, 89, 90]"
      ]
     },
     "execution_count": 11,
     "metadata": {},
     "output_type": "execute_result"
    }
   ],
   "source": [
    "def flatten(mylist):\n",
    "    return [one_element\n",
    "    for one_sublist in mylist\n",
    "    for one_element in one_sublist]\n",
    "print(flatten([[1,2], [3,4]]))\n",
    "flat = [[23, 45], [45, [89, 90]]]\n",
    "flatten_list = [n for nums in flat for num in nums for n in ( num if isinstance(num, list) else [num])]\n",
    "flatten_list"
   ]
  },
  {
   "cell_type": "code",
   "execution_count": null,
   "metadata": {},
   "outputs": [],
   "source": []
  }
 ],
 "metadata": {
  "kernelspec": {
   "display_name": "base",
   "language": "python",
   "name": "python3"
  },
  "language_info": {
   "codemirror_mode": {
    "name": "ipython",
    "version": 3
   },
   "file_extension": ".py",
   "mimetype": "text/x-python",
   "name": "python",
   "nbconvert_exporter": "python",
   "pygments_lexer": "ipython3",
   "version": "3.10.9"
  }
 },
 "nbformat": 4,
 "nbformat_minor": 2
}
