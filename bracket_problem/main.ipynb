{
 "cells": [
  {
   "cell_type": "code",
   "execution_count": null,
   "metadata": {},
   "outputs": [],
   "source": [
    "def isValid(s: str) -> bool:\n",
    "    # This dictionary holds the mappings of closing to opening brackets\n",
    "    bracket_map = {')': '(', '}': '{', ']': '['}\n",
    "    # This stack will store the opening brackets\n",
    "    stack = []\n",
    "\n",
    "    # Iterate through each character in the string\n",
    "    for char in s:\n",
    "        if char in bracket_map:  # If it's a closing bracket\n",
    "            # Pop the top element from the stack if it's not empty, otherwise assign a dummy value\n",
    "            top_element = stack.pop() if stack else '#'\n",
    "            # Check if the popped element is the corresponding opening bracket\n",
    "            if bracket_map[char] != top_element:\n",
    "                return False\n",
    "        else:\n",
    "            # If it's an opening bracket, push it onto the stack\n",
    "            stack.append(char)\n",
    "\n",
    "    # If the stack is empty, all opening brackets were matched\n",
    "    return not stack\n",
    "\n",
    "# Examples to test the function\n",
    "print(isValid(\"()\"))       # Output: True\n",
    "print(isValid(\"()[]{}\"))   # Output: True\n",
    "print(isValid(\"(]\"))       # Output: False\n"
   ]
  }
 ],
 "metadata": {
  "language_info": {
   "name": "python"
  }
 },
 "nbformat": 4,
 "nbformat_minor": 2
}
