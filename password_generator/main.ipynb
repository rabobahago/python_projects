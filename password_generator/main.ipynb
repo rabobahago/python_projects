{
 "cells": [
  {
   "cell_type": "code",
   "execution_count": 30,
   "metadata": {},
   "outputs": [
    {
     "name": "stdout",
     "output_type": "stream",
     "text": [
      "Generated password: 3RZz|/zz{)6Zu#4$\n"
     ]
    }
   ],
   "source": [
    "import re\n",
    "import secrets\n",
    "import string\n",
    "def generate_password(length =16, nums = 1, special_chars =1 , uppercase =1, lowercase = 1):\n",
    "    #Define the possible characters for the passwor\n",
    "    letters = string.ascii_letters\n",
    "    digits = string.digits\n",
    "    symbols = string.punctuation\n",
    "    #Combine all characters.\n",
    "    all_characters = letters + digits + symbols\n",
    "    while True:\n",
    "        password = ''\n",
    "        #Generate password\n",
    "        for _ in range(length):\n",
    "            password += secrets.choice(all_characters)\n",
    "        constraints = [(nums, r'\\d'), (lowercase, r'[a-z]'), (uppercase, r'[A-Z]'), (special_chars, fr'[{symbols}]')]\n",
    "        # Check constraints\n",
    "        if all(\n",
    "\n",
    "                constraint <= len(re.findall(pattern, password))\n",
    "                for constraint, pattern in constraints\n",
    "\n",
    "        ):\n",
    "            break\n",
    "    return password\n",
    "\n",
    "if __name__ == '__main__':\n",
    "    new_password = generate_password()\n",
    "    print('Generated password:', new_password)"
   ]
  },
  {
   "cell_type": "code",
   "execution_count": null,
   "metadata": {},
   "outputs": [],
   "source": []
  }
 ],
 "metadata": {
  "kernelspec": {
   "display_name": "base",
   "language": "python",
   "name": "python3"
  },
  "language_info": {
   "codemirror_mode": {
    "name": "ipython",
    "version": 3
   },
   "file_extension": ".py",
   "mimetype": "text/x-python",
   "name": "python",
   "nbconvert_exporter": "python",
   "pygments_lexer": "ipython3",
   "version": "3.10.9"
  }
 },
 "nbformat": 4,
 "nbformat_minor": 2
}
