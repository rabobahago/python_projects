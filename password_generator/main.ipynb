{
 "cells": [
  {
   "cell_type": "code",
   "execution_count": 36,
   "metadata": {},
   "outputs": [],
   "source": [
    "import re\n",
    "import secrets\n",
    "import string\n",
    "def generate_password(length, nums, special_chars, uppercase, lowercase):\n",
    "    #Define the possible characters for the passwor\n",
    "    letters = string.ascii_letters\n",
    "    digits = string.digits\n",
    "    symbols = string.punctuation\n",
    "    #Combine all characters.\n",
    "    all_characters = letters + digits + symbols\n",
    "    while True:\n",
    "        password = ''\n",
    "        #Generate password\n",
    "        for _ in range(length):\n",
    "            password += secrets.choice(all_characters)\n",
    "        constraints = [(nums, r'\\d'), (lowercase, r'[a-z]'), (uppercase, r'[A-Z]'), (special_chars, fr'[{symbols}]')]\n",
    "    return password\n",
    "\n",
    "# new_password = generate_password(8)\n",
    "# print(new_password)"
   ]
  },
  {
   "cell_type": "code",
   "execution_count": null,
   "metadata": {},
   "outputs": [],
   "source": []
  }
 ],
 "metadata": {
  "kernelspec": {
   "display_name": "base",
   "language": "python",
   "name": "python3"
  },
  "language_info": {
   "codemirror_mode": {
    "name": "ipython",
    "version": 3
   },
   "file_extension": ".py",
   "mimetype": "text/x-python",
   "name": "python",
   "nbconvert_exporter": "python",
   "pygments_lexer": "ipython3",
   "version": "3.10.9"
  }
 },
 "nbformat": 4,
 "nbformat_minor": 2
}
