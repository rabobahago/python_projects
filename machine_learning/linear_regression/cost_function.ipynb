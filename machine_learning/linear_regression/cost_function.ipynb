{
 "cells": [
  {
   "cell_type": "markdown",
   "metadata": {},
   "source": [
    "#### Cost function"
   ]
  },
  {
   "cell_type": "code",
   "execution_count": 33,
   "metadata": {},
   "outputs": [],
   "source": [
    "import math, copy\n",
    "import numpy as np\n",
    "import matplotlib.pyplot as plt\n"
   ]
  },
  {
   "cell_type": "code",
   "execution_count": 34,
   "metadata": {},
   "outputs": [],
   "source": [
    "x_train = np.array([1.0, 2.0])           #(size in 1000 square feet)\n",
    "y_train = np.array([300.0, 500.0])           #(price in 1000s of dollars)"
   ]
  },
  {
   "cell_type": "code",
   "execution_count": 35,
   "metadata": {},
   "outputs": [],
   "source": [
    "def compute_cost(x, y, w, b):\n",
    "    m = x.shape[0]\n",
    "    total_sum = 0\n",
    "    for i in range(m):\n",
    "        f_wb = w * x[i] + b\n",
    "        cost = (f_wb - y[i])**2\n",
    "        total_sum += cost\n",
    "    total_cost = (1/(2*m)) * total_sum\n",
    "    return total_cost"
   ]
  },
  {
   "cell_type": "code",
   "execution_count": 36,
   "metadata": {},
   "outputs": [
    {
     "name": "stdout",
     "output_type": "stream",
     "text": [
      "The cost of selection parameters w = 200 and b = 100 is 0.0\n"
     ]
    }
   ],
   "source": [
    "w, b = 200, 100\n",
    "cost = compute_cost(x_train, y_train, w, b)\n",
    "print(f'The cost of selection parameters w = {w} and b = {b} is {cost}')"
   ]
  },
  {
   "cell_type": "code",
   "execution_count": 37,
   "metadata": {},
   "outputs": [
    {
     "data": {
      "text/plain": [
       "(0.0, 0.0)"
      ]
     },
     "execution_count": 37,
     "metadata": {},
     "output_type": "execute_result"
    }
   ],
   "source": [
    "def compute_gradient(x, y, w, b):\n",
    "    m = len(x)\n",
    "    dj_dw = 0\n",
    "    dj_db = 0\n",
    "    for i in range(m):\n",
    "        f_wb_i = w*x[i] + b\n",
    "        # calculate the partial derivatives of cost for this example\n",
    "        dj_dw_i = f_wb_i - y[i]\n",
    "        dj_db_i = (f_wb_i -y[i]) * x[i]\n",
    "        # add total\n",
    "        dj_db += dj_db_i\n",
    "        dj_dw += dj_dw_i\n",
    "    dj_dw = (1/m) * dj_dw\n",
    "    dj_db = (1/m) * dj_db\n",
    "    return dj_dw, dj_db\n",
    "compute_gradient(x_train, y_train, w, b)\n"
   ]
  },
  {
   "cell_type": "code",
   "execution_count": 44,
   "metadata": {},
   "outputs": [],
   "source": [
    "def gradient_descent(x, y, w_in, b_in, alpha, num_iters, cost_function, gradient_function):\n",
    "    \"\"\"\n",
    "    Performs gradient descent to fit w,b. Updates w,b by taking\n",
    "    num_iters gradient steps with learning rate alpha\n",
    "\n",
    "    Args:\n",
    "      x (ndarray (m,))  : Data, m examples\n",
    "      y (ndarray (m,))  : target values\n",
    "      w_in,b_in (scalar): initial values of model parameters\n",
    "      alpha (float):     Learning rate\n",
    "      num_iters (int):   number of iterations to run gradient descent\n",
    "      cost_function:     function to call to produce cost\n",
    "      gradient_function: function to call to produce gradient\n",
    "\n",
    "    Returns:\n",
    "      w (scalar): Updated value of parameter after running gradient descent\n",
    "      b (scalar): Updated value of parameter after running gradient descent\n",
    "      J_history (List): History of cost values\n",
    "      p_history (list): History of parameters [w,b]\n",
    "      \"\"\"\n",
    "    J_history = []\n",
    "    P_history = []\n",
    "    w = copy.deepcopy(w_in)\n",
    "    w = w_in\n",
    "    b = b_in\n",
    "    for i in range(num_iters):\n",
    "        dj_dw, dj_db = gradient_function(x, y, w, b)\n",
    "        w = w - (alpha * dj_dw)\n",
    "        b = b - (alpha * dj_db)\n",
    "        if i < 1000:\n",
    "          J_history.append(cost_function(x, y, w, b))\n",
    "          P_history.append([w, w])\n",
    "        if i % math.ceil(num_iters / 10) == 0:\n",
    "          print(f\"Iteration {i:4}: Cost {J_history[-1]:0.2e} \",\n",
    "                  f\"dj_dw: {dj_dw: 0.3e}, dj_db: {dj_db: 0.3e}  \",\n",
    "                  f\"w: {w: 0.3e}, b:{b: 0.5e}\")\n",
    "    return w, b, J_history, P_history\n"
   ]
  },
  {
   "cell_type": "code",
   "execution_count": 45,
   "metadata": {},
   "outputs": [
    {
     "name": "stdout",
     "output_type": "stream",
     "text": [
      "Iteration    0: Cost 7.99e+04  dj_dw: -4.000e+02, dj_db: -6.500e+02   w:  4.000e+00, b: 6.50000e+00\n",
      "Iteration 1000: Cost 3.04e+03  dj_dw:  1.248e+01, dj_db: -1.974e+01   w:  4.601e+01, b: 3.43485e+02\n",
      "Iteration 2000: Cost 3.04e+03  dj_dw:  2.809e+01, dj_db: -4.442e+01   w: -1.465e+02, b: 6.47912e+02\n",
      "Iteration 3000: Cost 3.04e+03  dj_dw:  6.322e+01, dj_db: -9.996e+01   w: -5.798e+02, b: 1.33296e+03\n",
      "Iteration 4000: Cost 3.04e+03  dj_dw:  1.423e+02, dj_db: -2.249e+02   w: -1.555e+03, b: 2.87452e+03\n",
      "Iteration 5000: Cost 3.04e+03  dj_dw:  3.201e+02, dj_db: -5.062e+02   w: -3.749e+03, b: 6.34348e+03\n",
      "Iteration 6000: Cost 3.04e+03  dj_dw:  7.204e+02, dj_db: -1.139e+03   w: -8.686e+03, b: 1.41496e+04\n",
      "Iteration 7000: Cost 3.04e+03  dj_dw:  1.621e+03, dj_db: -2.563e+03   w: -1.980e+04, b: 3.17158e+04\n",
      "Iteration 8000: Cost 3.04e+03  dj_dw:  3.648e+03, dj_db: -5.768e+03   w: -4.480e+04, b: 7.12447e+04\n",
      "Iteration 9000: Cost 3.04e+03  dj_dw:  8.209e+03, dj_db: -1.298e+04   w: -1.011e+05, b: 1.60196e+05\n",
      "(w,b) found by gradient descent: (-227465.5195,360070.7931)\n"
     ]
    }
   ],
   "source": [
    "# initialize parameters\n",
    "w_init = 0\n",
    "b_init = 0\n",
    "# some gradient descent settings\n",
    "iterations = 10000\n",
    "tmp_alpha = 1.0e-2\n",
    "# run gradient descent\n",
    "w_final, b_final, J_hist, p_hist = gradient_descent(x_train ,y_train, w_init, b_init, tmp_alpha, iterations, compute_cost, compute_gradient)\n",
    "print(f\"(w,b) found by gradient descent: ({w_final:8.4f},{b_final:8.4f})\")"
   ]
  },
  {
   "cell_type": "code",
   "execution_count": null,
   "metadata": {},
   "outputs": [],
   "source": []
  }
 ],
 "metadata": {
  "kernelspec": {
   "display_name": "base",
   "language": "python",
   "name": "python3"
  },
  "language_info": {
   "codemirror_mode": {
    "name": "ipython",
    "version": 3
   },
   "file_extension": ".py",
   "mimetype": "text/x-python",
   "name": "python",
   "nbconvert_exporter": "python",
   "pygments_lexer": "ipython3",
   "version": "3.10.9"
  }
 },
 "nbformat": 4,
 "nbformat_minor": 2
}
