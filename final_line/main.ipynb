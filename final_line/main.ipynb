{
 "cells": [
  {
   "cell_type": "markdown",
   "metadata": {},
   "source": [
    "# Final Line"
   ]
  },
  {
   "cell_type": "code",
   "execution_count": 1,
   "metadata": {},
   "outputs": [
    {
     "name": "stdout",
     "output_type": "stream",
     "text": [
      "\n"
     ]
    }
   ],
   "source": [
    "def get_final_line(filename):\n",
    "    final_line = ''\n",
    "    for current_line in open(filename):\n",
    "        final_line = current_line\n",
    "    return final_line\n",
    "print(get_final_line('text.txt'))"
   ]
  },
  {
   "cell_type": "markdown",
   "metadata": {},
   "source": [
    "### sum integer in a file\n",
    "Iterate over the lines of a text file. Find all of the words (i.e., non-whitespace\n",
    "surrounded by whitespace) that contain only integers, and sum them."
   ]
  },
  {
   "cell_type": "code",
   "execution_count": 8,
   "metadata": {},
   "outputs": [
    {
     "name": "stdout",
     "output_type": "stream",
     "text": [
      "Total sum of integers found in the file: 23\n"
     ]
    }
   ],
   "source": [
    "with open('text.txt', 'r') as f:\n",
    "    total_sum = 0\n",
    "    for line in f:\n",
    "        for word in line.split():\n",
    "            try:\n",
    "                total_sum += int(word)\n",
    "            except (ValueError, TypeError):\n",
    "                pass\n",
    "\n",
    "print(\"Total sum of integers found in the file:\", total_sum)\n"
   ]
  },
  {
   "cell_type": "code",
   "execution_count": null,
   "metadata": {},
   "outputs": [],
   "source": []
  }
 ],
 "metadata": {
  "kernelspec": {
   "display_name": "base",
   "language": "python",
   "name": "python3"
  },
  "language_info": {
   "codemirror_mode": {
    "name": "ipython",
    "version": 3
   },
   "file_extension": ".py",
   "mimetype": "text/x-python",
   "name": "python",
   "nbconvert_exporter": "python",
   "pygments_lexer": "ipython3",
   "version": "3.10.9"
  }
 },
 "nbformat": 4,
 "nbformat_minor": 2
}
