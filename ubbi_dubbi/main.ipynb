{
 "cells": [
  {
   "cell_type": "markdown",
   "metadata": {},
   "source": [
    "# ubbi dubbi\n"
   ]
  },
  {
   "cell_type": "markdown",
   "metadata": {},
   "source": [
    "### ubbi dubbi implementation\n"
   ]
  },
  {
   "cell_type": "code",
   "execution_count": 2,
   "metadata": {},
   "outputs": [
    {
     "name": "stdout",
     "output_type": "stream",
     "text": [
      "pythubon\n"
     ]
    }
   ],
   "source": [
    "def ubbi_dubbi(word):\n",
    "    output = []\n",
    "    for letter in word:\n",
    "        if letter in 'aeiou':\n",
    "            output.append(f'ub{letter}')\n",
    "        else:\n",
    "            output.append(letter),\n",
    "    return ''.join(output)\n",
    "print(ubbi_dubbi('python'))"
   ]
  },
  {
   "cell_type": "markdown",
   "metadata": {},
   "source": [
    "### sorting a string"
   ]
  },
  {
   "cell_type": "code",
   "execution_count": 3,
   "metadata": {},
   "outputs": [
    {
     "name": "stdout",
     "output_type": "stream",
     "text": [
      "abcefj\n"
     ]
    }
   ],
   "source": [
    "def strsort(a_string):\n",
    "    return ''.join(sorted(a_string))\n",
    "print(strsort('cbjeaf'))"
   ]
  },
  {
   "cell_type": "code",
   "execution_count": 19,
   "metadata": {},
   "outputs": [
    {
     "data": {
      "text/plain": [
       "'Tmo, Dcik, Harry'"
      ]
     },
     "execution_count": 19,
     "metadata": {},
     "output_type": "execute_result"
    }
   ],
   "source": [
    "def sort_names(names):\n",
    "    output = []\n",
    "    for name in names[0:-1].split():\n",
    "        output.append(''.join(sorted(name)))\n",
    "    return ', '.join(output)\n",
    "sort_names('Tom Dick Harry,')"
   ]
  }
 ],
 "metadata": {
  "kernelspec": {
   "display_name": "base",
   "language": "python",
   "name": "python3"
  },
  "language_info": {
   "codemirror_mode": {
    "name": "ipython",
    "version": 3
   },
   "file_extension": ".py",
   "mimetype": "text/x-python",
   "name": "python",
   "nbconvert_exporter": "python",
   "pygments_lexer": "ipython3",
   "version": "3.10.9"
  }
 },
 "nbformat": 4,
 "nbformat_minor": 2
}
