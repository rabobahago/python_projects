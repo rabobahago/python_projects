{
 "cells": [
  {
   "cell_type": "markdown",
   "metadata": {},
   "source": [
    "# ubbi dubbi\n"
   ]
  },
  {
   "cell_type": "code",
   "execution_count": 1,
   "metadata": {},
   "outputs": [
    {
     "name": "stdout",
     "output_type": "stream",
     "text": [
      "pythubon\n"
     ]
    }
   ],
   "source": [
    "def ubbi_dubbi(word):\n",
    "    output = []\n",
    "    for letter in word:\n",
    "        if letter in 'aeiou':\n",
    "            output.append(f'ub{letter}')\n",
    "        else:\n",
    "            output.append(letter),\n",
    "    return ''.join(output)\n",
    "print(ubbi_dubbi('python'))"
   ]
  }
 ],
 "metadata": {
  "kernelspec": {
   "display_name": "base",
   "language": "python",
   "name": "python3"
  },
  "language_info": {
   "codemirror_mode": {
    "name": "ipython",
    "version": 3
   },
   "file_extension": ".py",
   "mimetype": "text/x-python",
   "name": "python",
   "nbconvert_exporter": "python",
   "pygments_lexer": "ipython3",
   "version": "3.10.9"
  }
 },
 "nbformat": 4,
 "nbformat_minor": 2
}
