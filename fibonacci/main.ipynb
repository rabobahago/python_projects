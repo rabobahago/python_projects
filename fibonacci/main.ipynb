{
 "cells": [
  {
   "cell_type": "markdown",
   "metadata": {},
   "source": [
    "# Fibonacci Series"
   ]
  },
  {
   "cell_type": "code",
   "execution_count": 1,
   "metadata": {},
   "outputs": [
    {
     "name": "stdout",
     "output_type": "stream",
     "text": [
      "610\n",
      "5\n"
     ]
    }
   ],
   "source": [
    "def fib(n: int)->int:\n",
    "    if n < 2:\n",
    "        return n\n",
    "    return fib(n - 1) + fib(n - 2)\n",
    "if __name__ == '__main__':\n",
    "    print(fib(15))\n",
    "    print(fib(5))\n"
   ]
  },
  {
   "cell_type": "markdown",
   "metadata": {},
   "source": [
    "### Memorization of fibonacci Series"
   ]
  },
  {
   "cell_type": "code",
   "execution_count": 11,
   "metadata": {},
   "outputs": [
    {
     "name": "stdout",
     "output_type": "stream",
     "text": [
      "3\n",
      "6765\n",
      "12586269025\n",
      "354224848179261915075\n",
      "280571172992510140037611932413038677189525\n",
      "410615886307971260333568378719267105220125108637369252408885430926905584274113403731330491660850044560830036835706942274588569362145476502674373045446852160486606292497360503469773453733196887405847255290082049086907512622059054542195889758031109222670849274793859539133318371244795543147611073276240066737934085191731810993201706776838934766764778739502174470268627820918553842225858306408301661862900358266857238210235802504351951472997919676524004784236376453347268364152648346245840573214241419937917242918602639810097866942392015404620153818671425739835074851396421139982713640679581178458198658692285968043243656709796000\n"
     ]
    }
   ],
   "source": [
    "from typing import Dict\n",
    "memo: Dict[int, int] = {0:0, 1:1}\n",
    "def fib(n:int)->int:\n",
    "    if n not in memo:\n",
    "        memo[n] = fib(n-1) + fib(n-2)\n",
    "    return memo[n]\n",
    "if __name__ == '__main__':\n",
    "    print(fib(4))\n",
    "    print(fib(20))\n",
    "    print(fib(50))\n",
    "    print(fib(100))\n",
    "    print(fib(200))\n",
    "    print(fib(3000))\n"
   ]
  },
  {
   "cell_type": "markdown",
   "metadata": {},
   "source": [
    "### Automatic memoization"
   ]
  },
  {
   "cell_type": "code",
   "execution_count": 15,
   "metadata": {},
   "outputs": [
    {
     "name": "stdout",
     "output_type": "stream",
     "text": [
      "3\n",
      "6765\n",
      "12586269025\n",
      "354224848179261915075\n",
      "280571172992510140037611932413038677189525\n",
      "410615886307971260333568378719267105220125108637369252408885430926905584274113403731330491660850044560830036835706942274588569362145476502674373045446852160486606292497360503469773453733196887405847255290082049086907512622059054542195889758031109222670849274793859539133318371244795543147611073276240066737934085191731810993201706776838934766764778739502174470268627820918553842225858306408301661862900358266857238210235802504351951472997919676524004784236376453347268364152648346245840573214241419937917242918602639810097866942392015404620153818671425739835074851396421139982713640679581178458198658692285968043243656709796000\n"
     ]
    }
   ],
   "source": [
    "from functools import lru_cache\n",
    "@lru_cache(maxsize=None)\n",
    "def fib(n:int)->int:\n",
    "    if n < 2:\n",
    "        return n\n",
    "    return fib(n - 2) + fib(n - 1)\n",
    "if __name__ == '__main__':\n",
    "    print(fib(4))\n",
    "    print(fib(20))\n",
    "    print(fib(50))\n",
    "    print(fib(100))\n",
    "    print(fib(200))\n",
    "    print(fib(3000))\n"
   ]
  },
  {
   "cell_type": "code",
   "execution_count": null,
   "metadata": {},
   "outputs": [],
   "source": []
  }
 ],
 "metadata": {
  "kernelspec": {
   "display_name": "base",
   "language": "python",
   "name": "python3"
  },
  "language_info": {
   "codemirror_mode": {
    "name": "ipython",
    "version": 3
   },
   "file_extension": ".py",
   "mimetype": "text/x-python",
   "name": "python",
   "nbconvert_exporter": "python",
   "pygments_lexer": "ipython3",
   "version": "3.10.9"
  }
 },
 "nbformat": 4,
 "nbformat_minor": 2
}
