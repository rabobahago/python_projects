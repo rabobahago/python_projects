{
 "cells": [
  {
   "cell_type": "code",
   "execution_count": 9,
   "metadata": {},
   "outputs": [
    {
     "data": {
      "text/plain": [
       "70"
      ]
     },
     "execution_count": 9,
     "metadata": {},
     "output_type": "execute_result"
    }
   ],
   "source": [
    "class Stack:\n",
    "    def __init__(self) -> None:\n",
    "        self.stack_items = []\n",
    "        self.top = -1\n",
    "    def is_empty(self)-> bool:\n",
    "        return  self.top == -1\n",
    "    def push(self, item)->int:\n",
    "        self.top += 1\n",
    "        self.stack_items += [item]\n",
    "        return len(self.stack_items)\n",
    "\n",
    "    def pop(self)->int:\n",
    "        if self.is_empty():\n",
    "            return f'The stack is empty'\n",
    "        self.top =- 1\n",
    "        remove_item = self.stack_items.pop()\n",
    "        return remove_item\n",
    "    def peek(self)->int:\n",
    "        if self.is_empty():\n",
    "            return f'The stack is empty'\n",
    "        return self.stack_items[self.top]\n",
    "stack = Stack()\n",
    "stack.is_empty()\n",
    "stack.push(90)\n",
    "stack.push(80)\n",
    "stack.push(70)\n",
    "stack.is_empty()\n",
    "stack.peek()\n",
    "stack.pop()\n"
   ]
  }
 ],
 "metadata": {
  "kernelspec": {
   "display_name": "base",
   "language": "python",
   "name": "python3"
  },
  "language_info": {
   "codemirror_mode": {
    "name": "ipython",
    "version": 3
   },
   "file_extension": ".py",
   "mimetype": "text/x-python",
   "name": "python",
   "nbconvert_exporter": "python",
   "pygments_lexer": "ipython3",
   "version": "3.10.9"
  }
 },
 "nbformat": 4,
 "nbformat_minor": 2
}
