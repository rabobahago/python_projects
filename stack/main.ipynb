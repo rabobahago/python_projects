{
 "cells": [
  {
   "cell_type": "markdown",
   "metadata": {},
   "source": [
    "# STACK"
   ]
  },
  {
   "cell_type": "code",
   "execution_count": 13,
   "metadata": {},
   "outputs": [
    {
     "data": {
      "text/plain": [
       "['c', 'h']"
      ]
     },
     "execution_count": 13,
     "metadata": {},
     "output_type": "execute_result"
    }
   ],
   "source": [
    "class Stack:\n",
    "    def __init__(self):\n",
    "        self.items = []\n",
    "    def is_empty(self):\n",
    "        return self.items == []\n",
    "    def push(self, item):\n",
    "        self.items.insert(0, item)\n",
    "\n",
    "    def pop(self):\n",
    "        remove = self.items.pop(0)\n",
    "        return remove\n",
    "    def size(self):\n",
    "        return len(self.items)\n",
    "    def peek(self):\n",
    "        return self.items[0]\n",
    "stack = Stack()\n",
    "stack.push('h')\n",
    "stack.push('c')\n",
    "stack.items\n"
   ]
  },
  {
   "cell_type": "markdown",
   "metadata": {},
   "source": [
    "### Application of Stack: *Simple Balance Parentheses*"
   ]
  },
  {
   "cell_type": "code",
   "execution_count": 14,
   "metadata": {},
   "outputs": [
    {
     "name": "stdout",
     "output_type": "stream",
     "text": [
      "True\n",
      "False\n"
     ]
    }
   ],
   "source": [
    "def par_checker(symbol_string):\n",
    "    stack = Stack()\n",
    "    index = 0\n",
    "    balanced = True\n",
    "    while index < len(symbol_string) and balanced:\n",
    "        symbol = symbol_string[index]\n",
    "        if symbol == '(':\n",
    "            stack.push(symbol)\n",
    "        else:\n",
    "            if stack.is_empty():\n",
    "                balanced = False\n",
    "            else:\n",
    "                stack.pop()\n",
    "        index = index + 1\n",
    "    if balanced and stack.is_empty():\n",
    "        return True\n",
    "    else:\n",
    "        return False\n",
    "print(par_checker('((()))'))\n",
    "print(par_checker('(()'))"
   ]
  },
  {
   "cell_type": "markdown",
   "metadata": {},
   "source": [
    "### Stack Application:Balanced Symbols (A General Case)"
   ]
  },
  {
   "cell_type": "code",
   "execution_count": 15,
   "metadata": {},
   "outputs": [
    {
     "name": "stdout",
     "output_type": "stream",
     "text": [
      "True\n",
      "False\n"
     ]
    }
   ],
   "source": [
    "def par_checker(symbol_string):\n",
    "    stack = Stack()\n",
    "    balanced = True\n",
    "    index = 0\n",
    "    while index < len(symbol_string) and balanced:\n",
    "        symbol = symbol_string[index]\n",
    "        if symbol in '([{':\n",
    "            stack.push(symbol)\n",
    "        else:\n",
    "            if stack.is_empty():\n",
    "                balanced = False\n",
    "            else:\n",
    "                top = stack.pop()\n",
    "                if not matches(top, symbol):\n",
    "                    balanced = False\n",
    "        index += 1\n",
    "    if balanced and stack.is_empty():\n",
    "        return True\n",
    "    else:\n",
    "        return False\n",
    "def matches(open, close):\n",
    "    opens ='([{'\n",
    "    closes = ')]}'\n",
    "    return opens.index(open) ==closes.index(close)\n",
    "print(par_checker('{{([][])}()}'))\n",
    "print(par_checker('[{()]'))"
   ]
  },
  {
   "cell_type": "code",
   "execution_count": null,
   "metadata": {},
   "outputs": [],
   "source": []
  }
 ],
 "metadata": {
  "kernelspec": {
   "display_name": "base",
   "language": "python",
   "name": "python3"
  },
  "language_info": {
   "codemirror_mode": {
    "name": "ipython",
    "version": 3
   },
   "file_extension": ".py",
   "mimetype": "text/x-python",
   "name": "python",
   "nbconvert_exporter": "python",
   "pygments_lexer": "ipython3",
   "version": "3.10.9"
  }
 },
 "nbformat": 4,
 "nbformat_minor": 2
}
