{
 "cells": [
  {
   "cell_type": "markdown",
   "metadata": {},
   "source": [
    "# STACK"
   ]
  },
  {
   "cell_type": "code",
   "execution_count": 1,
   "metadata": {},
   "outputs": [
    {
     "data": {
      "text/plain": [
       "70"
      ]
     },
     "execution_count": 1,
     "metadata": {},
     "output_type": "execute_result"
    }
   ],
   "source": [
    "class Stack:\n",
    "    def __init__(self) -> None:\n",
    "        self.stack_items = []\n",
    "        self.top = -1\n",
    "    def is_empty(self)-> bool:\n",
    "        return  self.top == -1\n",
    "    def push(self, item):\n",
    "        self.top += 1\n",
    "        self.stack_items += [item]\n",
    "        return len(self.stack_items)\n",
    "\n",
    "    def pop(self):\n",
    "        if self.is_empty():\n",
    "            return f'The stack is empty'\n",
    "        self.top =- 1\n",
    "        remove_item = self.stack_items.pop()\n",
    "        return remove_item\n",
    "    def peek(self):\n",
    "\n",
    "        if self.is_empty():\n",
    "            return f'The stack is empty'\n",
    "        return self.stack_items[self.top]\n",
    "stack = Stack()\n",
    "stack.is_empty()\n",
    "stack.push(90)\n",
    "stack.push(80)\n",
    "stack.push(70)\n",
    "stack.is_empty()\n",
    "stack.peek()"
   ]
  },
  {
   "cell_type": "code",
   "execution_count": null,
   "metadata": {},
   "outputs": [],
   "source": []
  }
 ],
 "metadata": {
  "kernelspec": {
   "display_name": "base",
   "language": "python",
   "name": "python3"
  },
  "language_info": {
   "codemirror_mode": {
    "name": "ipython",
    "version": 3
   },
   "file_extension": ".py",
   "mimetype": "text/x-python",
   "name": "python",
   "nbconvert_exporter": "python",
   "pygments_lexer": "ipython3",
   "version": "3.10.9"
  }
 },
 "nbformat": 4,
 "nbformat_minor": 2
}
