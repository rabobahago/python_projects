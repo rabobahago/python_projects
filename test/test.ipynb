{
 "cells": [
  {
   "cell_type": "code",
   "execution_count": 6,
   "metadata": {},
   "outputs": [],
   "source": [
    "def absolute_value(x):\n",
    "    if x < 0:\n",
    "        return -x\n",
    "    return x"
   ]
  },
  {
   "cell_type": "code",
   "execution_count": 14,
   "metadata": {},
   "outputs": [],
   "source": [
    "import sys\n",
    "def test(did_pass):\n",
    "    \"\"\"Test for the pass code\"\"\"\n",
    "    lineno = sys._getframe(1).f_lineno\n",
    "    if did_pass:\n",
    "        msg = f\"Test case at line {lineno} Passed\"\n",
    "    else:\n",
    "        msg = f\"Test case at line {lineno} Passed\"\n",
    "    print(msg)"
   ]
  },
  {
   "cell_type": "code",
   "execution_count": 17,
   "metadata": {},
   "outputs": [
    {
     "name": "stdout",
     "output_type": "stream",
     "text": [
      "Test case at line 2 Passed\n",
      "Test case at line 3 Passed\n",
      "Test case at line 4 Passed\n",
      "Test case at line 5 Passed\n",
      "Test case at line 6 Passed\n",
      "Test case at line 7 Passed\n"
     ]
    }
   ],
   "source": [
    "\n",
    "def test_suite():\n",
    "    test(absolute_value(-4) == -4)\n",
    "    test(absolute_value(17) == 17)\n",
    "    test(absolute_value(-17) == 17)\n",
    "    test(absolute_value(0) == 0)\n",
    "    test(absolute_value(3.14) == 3.14)\n",
    "    test(absolute_value(-3.14) == 3.14)\n",
    "test_suite()"
   ]
  },
  {
   "cell_type": "code",
   "execution_count": null,
   "metadata": {},
   "outputs": [],
   "source": []
  }
 ],
 "metadata": {
  "kernelspec": {
   "display_name": "Python 3",
   "language": "python",
   "name": "python3"
  },
  "language_info": {
   "codemirror_mode": {
    "name": "ipython",
    "version": 3
   },
   "file_extension": ".py",
   "mimetype": "text/x-python",
   "name": "python",
   "nbconvert_exporter": "python",
   "pygments_lexer": "ipython3",
   "version": "3.10.9"
  }
 },
 "nbformat": 4,
 "nbformat_minor": 2
}
