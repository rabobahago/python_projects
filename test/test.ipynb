{
 "cells": [
  {
   "cell_type": "code",
   "execution_count": 1,
   "metadata": {},
   "outputs": [],
   "source": [
    "def absolute_value(x):\n",
    "    if x < 0:\n",
    "        return -x\n",
    "    return x"
   ]
  },
  {
   "cell_type": "code",
   "execution_count": 2,
   "metadata": {},
   "outputs": [],
   "source": [
    "import sys\n",
    "def test(did_pass):\n",
    "    \"\"\"Test for the pass code\"\"\"\n",
    "    lineno = sys._getframe(1).f_lineno\n",
    "    if did_pass:\n",
    "        msg = f\"Test case at line {lineno} Passed\"\n",
    "    else:\n",
    "        msg = f\"Test case at line {lineno} Failed\"\n",
    "    print(msg)"
   ]
  },
  {
   "cell_type": "code",
   "execution_count": 3,
   "metadata": {},
   "outputs": [
    {
     "name": "stdout",
     "output_type": "stream",
     "text": [
      "Test case at line 2 Failed\n",
      "Test case at line 3 Passed\n",
      "Test case at line 4 Passed\n",
      "Test case at line 5 Passed\n",
      "Test case at line 6 Passed\n",
      "Test case at line 7 Passed\n"
     ]
    }
   ],
   "source": [
    "\n",
    "def test_suite():\n",
    "    test(absolute_value(-4) == -4)\n",
    "    test(absolute_value(17) == 17)\n",
    "    test(absolute_value(-17) == 17)\n",
    "    test(absolute_value(0) == 0)\n",
    "    test(absolute_value(3.14) == 3.14)\n",
    "    test(absolute_value(-3.14) == 3.14)\n",
    "test_suite()"
   ]
  },
  {
   "cell_type": "code",
   "execution_count": 4,
   "metadata": {},
   "outputs": [
    {
     "name": "stdout",
     "output_type": "stream",
     "text": [
      "value \t\t square\n",
      "0 \t\t 0\n",
      "1 \t\t 1\n",
      "2 \t\t 4\n",
      "3 \t\t 9\n",
      "4 \t\t 16\n",
      "5 \t\t 25\n",
      "6 \t\t 36\n",
      "7 \t\t 49\n",
      "8 \t\t 64\n",
      "9 \t\t 81\n"
     ]
    }
   ],
   "source": [
    "\n",
    "for x in range(10):\n",
    "    if x == 0:\n",
    "        print('value', '\\t\\t', 'square')\n",
    "    print(x, '\\t\\t', x**2)"
   ]
  },
  {
   "cell_type": "code",
   "execution_count": 5,
   "metadata": {},
   "outputs": [
    {
     "name": "stdout",
     "output_type": "stream",
     "text": [
      "1 \t 2 \t 3 \t 4 \t 5 \t \n",
      "2 \t 4 \t 6 \t 8 \t 10 \t \n",
      "3 \t 6 \t 9 \t 12 \t 15 \t \n",
      "4 \t 8 \t 12 \t 16 \t 20 \t \n",
      "5 \t 10 \t 15 \t 20 \t 25 \t \n"
     ]
    }
   ],
   "source": [
    "def print_multiple(n):\n",
    "    for i in range(1, 6):\n",
    "        print(i * n, '\\t', end=\" \")\n",
    "    print()\n",
    "for i in range(1, 6):\n",
    "    print_multiple(i)"
   ]
  },
  {
   "cell_type": "code",
   "execution_count": 6,
   "metadata": {},
   "outputs": [
    {
     "name": "stdout",
     "output_type": "stream",
     "text": [
      "0\n",
      "1\n",
      "2\n",
      "3\n",
      "4\n",
      "5\n",
      "You have pass the level of num\n"
     ]
    }
   ],
   "source": [
    "def name_age(n):\n",
    "    for i in range(n):\n",
    "        if i > 5:\n",
    "            print('You have pass the level of num')\n",
    "            return\n",
    "        print(i)\n",
    "name_age(59)"
   ]
  },
  {
   "cell_type": "code",
   "execution_count": 7,
   "metadata": {},
   "outputs": [
    {
     "name": "stdout",
     "output_type": "stream",
     "text": [
      "total  6\n"
     ]
    }
   ],
   "source": [
    "total = 0\n",
    "while True:\n",
    "    response = input('Enter number int or float')\n",
    "    if response == '':\n",
    "        break\n",
    "    if not response.isdigit():\n",
    "        raise ValueError('The value provided is not a number')\n",
    "    total += int(response)\n",
    "print('total ', total)"
   ]
  },
  {
   "cell_type": "code",
   "execution_count": null,
   "metadata": {},
   "outputs": [],
   "source": []
  },
  {
   "cell_type": "code",
   "execution_count": 8,
   "metadata": {},
   "outputs": [
    {
     "name": "stdout",
     "output_type": "stream",
     "text": [
      "\n",
      "\n",
      "Great, you got it in 3 guesses!\n",
      "\n",
      "\n"
     ]
    }
   ],
   "source": [
    "import random\n",
    "rng = random.Random()\n",
    "number = rng.randrange(1, 6)\n",
    "guesses = 0\n",
    "msg = ''\n",
    "while True:\n",
    "    guesses += 1\n",
    "    guess = int(input(msg + 'Please, provide another predictions'))\n",
    "    if number > guesses:\n",
    "        msg = str(guess) + ' is high \\n'\n",
    "    elif number < guesses:\n",
    "        msg = str(guess) + ' is low \\n'\n",
    "    else:\n",
    "        break\n",
    "print(\"\\n\\nGreat, you got it in {0} guesses!\\n\\n\".format(guesses))\n"
   ]
  },
  {
   "cell_type": "code",
   "execution_count": 9,
   "metadata": {},
   "outputs": [
    {
     "data": {
      "text/plain": [
       "[3, 5]"
      ]
     },
     "execution_count": 9,
     "metadata": {},
     "output_type": "execute_result"
    }
   ],
   "source": [
    "def iterate_list(a_list, start = 0):\n",
    "    result = None\n",
    "    ind = start\n",
    "    while ind < len(a_list):\n",
    "        if result is None:\n",
    "            result = []\n",
    "        if a_list[ind] >= 6:\n",
    "            break\n",
    "        result.append(a_list[ind])\n",
    "        ind += 1\n",
    "    return result\n",
    "iterate_list([3, 5, 6, 7],)"
   ]
  },
  {
   "cell_type": "code",
   "execution_count": 10,
   "metadata": {},
   "outputs": [
    {
     "data": {
      "text/plain": [
       "'hll wrld, I lv ppl'"
      ]
     },
     "execution_count": 10,
     "metadata": {},
     "output_type": "execute_result"
    }
   ],
   "source": [
    "def remove_vowel(strin):\n",
    "    no_vowel = ''\n",
    "    vowel = 'aeiou'\n",
    "    for letter in strin:\n",
    "        if letter not in vowel:\n",
    "            no_vowel += letter\n",
    "    return no_vowel\n",
    "remove_vowel('hello world, I love people')\n"
   ]
  },
  {
   "cell_type": "code",
   "execution_count": 11,
   "metadata": {},
   "outputs": [
    {
     "name": "stdout",
     "output_type": "stream",
     "text": [
      "Test case at line 1 Passed\n",
      "Test case at line 2 Failed\n"
     ]
    }
   ],
   "source": [
    "test(remove_vowel('hello') == 'hll')\n",
    "test(remove_vowel('map') == 8)"
   ]
  },
  {
   "cell_type": "code",
   "execution_count": 13,
   "metadata": {},
   "outputs": [
    {
     "name": "stdout",
     "output_type": "stream",
     "text": [
      "Test case at line 8 Passed\n",
      "Test case at line 9 Passed\n"
     ]
    }
   ],
   "source": [
    "import string\n",
    "def remove_punctuation(s):\n",
    "    s_with_punc = ''\n",
    "    for letter in s:\n",
    "        if letter not in string.punctuation:\n",
    "            s_with_punc += letter\n",
    "    return s_with_punc\n",
    "test(remove_punctuation(\"'Well, I never did!', said Alice.\") == \"Well I never did said Alice\")\n",
    "test(remove_punctuation(\"Are you very, very, sure?\") ==\"Are you very very sure\")\n"
   ]
  },
  {
   "cell_type": "code",
   "execution_count": 14,
   "metadata": {},
   "outputs": [
    {
     "name": "stdout",
     "output_type": "stream",
     "text": [
      "['Pythons', 'are', 'constrictors', 'which', 'means', 'that', 'they', 'will', '’squeeze’', 'the', 'life', 'out', 'of', 'their', 'prey', 'They', 'coil', 'themselves', 'around', 'their', 'prey', 'and', 'with', 'each', 'breath', 'the', 'creature', 'takes', 'the', 'snake', 'will', 'squeeze', 'a', 'little', 'tighter', 'until', 'they', 'stop', 'breathing', 'completely', 'Once', 'the', 'heart', 'stops', 'the', 'prey', 'is', 'swallowed', 'whole', 'The', 'entire', 'animal', 'is', 'digested', 'in', 'the', 'snake’s', 'stomach', 'except', 'for', 'fur', 'or', 'feathers', 'What', 'do', 'you', 'think', 'happens', 'to', 'the', 'fur', 'feathers', 'beaks', 'and', 'eggshells', 'The', '’extra', 'stuff’', 'gets', 'passed', 'out', 'as', 'you', 'guessed', 'it', 'snake', 'POOP']\n"
     ]
    }
   ],
   "source": [
    "my_story = \"\"\"\n",
    "Pythons are constrictors, which means that they will ’squeeze’ the life\n",
    "out of their prey. They coil themselves around their prey and with\n",
    "each breath the creature takes the snake will squeeze a little tighter\n",
    "until they stop breathing completely. Once the heart stops the prey\n",
    "is swallowed whole. The entire animal is digested in the snake’s\n",
    "stomach except for fur or feathers. What do you think happens to the fur,\n",
    "feathers, beaks, and eggshells? The ’extra stuff’ gets passed out as ---\n",
    "you guessed it --- snake POOP! \"\"\"\n",
    "wds = remove_punctuation(my_story).split()\n",
    "print(wds)"
   ]
  },
  {
   "cell_type": "code",
   "execution_count": 16,
   "metadata": {},
   "outputs": [
    {
     "name": "stdout",
     "output_type": "stream",
     "text": [
      "Your text contains 87 words, of which 50 (57.5%) contain an e.\n",
      "Your text contains 87 words, of which 32 (36.8%) contain an h.\n"
     ]
    }
   ],
   "source": [
    "import string\n",
    "def words_letter_count(a_string, counter):\n",
    "    count = 0\n",
    "    sentence = ''\n",
    "    for letter in a_string:\n",
    "        if letter not in string.punctuation:\n",
    "            sentence += letter\n",
    "    list_words = sentence.split()\n",
    "    total_words = len(list_words)\n",
    "    for word in list_words:\n",
    "        if counter in word:\n",
    "            count += 1\n",
    "    percentage = f\"{count / total_words * 100:.3g}\"\n",
    "    return f'Your text contains {total_words} words, of which {count} ({percentage}%) contain an {counter}.'\n",
    "print(words_letter_count(my_story, 'e'))\n",
    "print(words_letter_count(my_story, 'h'))"
   ]
  },
  {
   "cell_type": "code",
   "execution_count": 17,
   "metadata": {},
   "outputs": [
    {
     "name": "stdout",
     "output_type": "stream",
     "text": [
      "Test case at line 1 Passed\n",
      "Test case at line 2 Passed\n"
     ]
    }
   ],
   "source": [
    "test(words_letter_count(my_story, 'e') == 'Your text contains 87 words, of which 50 (57.5%) contain an e.')\n",
    "test(words_letter_count(my_story, 'h') == 'Your text contains 87 words, of which 32 (36.8%) contain an h.')"
   ]
  },
  {
   "cell_type": "code",
   "execution_count": 18,
   "metadata": {},
   "outputs": [
    {
     "data": {
      "text/plain": [
       "'olleh'"
      ]
     },
     "execution_count": 18,
     "metadata": {},
     "output_type": "execute_result"
    }
   ],
   "source": [
    "def reverse(a_string):\n",
    "    reverse_word = ''\n",
    "    index = len(a_string) - 1\n",
    "\n",
    "    while index >= 0:\n",
    "        reverse_word += a_string[index]\n",
    "        index -= 1\n",
    "    return reverse_word\n",
    "reverse('hello')"
   ]
  },
  {
   "cell_type": "code",
   "execution_count": 19,
   "metadata": {},
   "outputs": [
    {
     "name": "stdout",
     "output_type": "stream",
     "text": [
      "Test case at line 1 Passed\n",
      "Test case at line 2 Passed\n",
      "Test case at line 3 Passed\n",
      "Test case at line 4 Passed\n"
     ]
    }
   ],
   "source": [
    "test(reverse(\"happy\") == \"yppah\")\n",
    "test(reverse(\"Python\") == \"nohtyP\")\n",
    "test(reverse(\"\") == \"\")\n",
    "test(reverse(\"a\") == \"a\")"
   ]
  },
  {
   "cell_type": "code",
   "execution_count": 20,
   "metadata": {},
   "outputs": [
    {
     "data": {
      "text/plain": [
       "'PythonnohtyP'"
      ]
     },
     "execution_count": 20,
     "metadata": {},
     "output_type": "execute_result"
    }
   ],
   "source": [
    "def mirror(a_string):\n",
    "    reverse_word = reverse(a_string)\n",
    "    return a_string + reverse_word\n",
    "mirror('Python')"
   ]
  },
  {
   "cell_type": "code",
   "execution_count": 21,
   "metadata": {},
   "outputs": [
    {
     "name": "stdout",
     "output_type": "stream",
     "text": [
      "Test case at line 1 Passed\n",
      "Test case at line 2 Passed\n",
      "Test case at line 3 Passed\n",
      "Test case at line 4 Passed\n"
     ]
    }
   ],
   "source": [
    "test(mirror(\"good\") == \"gooddoog\")\n",
    "test(mirror(\"Python\") == \"PythonnohtyP\")\n",
    "test(mirror(\"\") == \"\")\n",
    "test(mirror(\"a\") == \"aa\")"
   ]
  },
  {
   "cell_type": "code",
   "execution_count": 22,
   "metadata": {},
   "outputs": [
    {
     "name": "stdout",
     "output_type": "stream",
     "text": [
      "pple\n",
      "bnn\n",
      "banana\n",
      "Msssspp\n",
      "\n"
     ]
    }
   ],
   "source": [
    "def remove_letter(letter, words):\n",
    "    result = ''\n",
    "    for lett in words:\n",
    "        if lett == letter:\n",
    "            continue\n",
    "        result += lett\n",
    "    return result\n",
    "print(remove_letter('a', 'apple'))\n",
    "print(remove_letter(\"a\", \"banana\"))\n",
    "print(remove_letter(\"z\", \"banana\"))\n",
    "print(remove_letter(\"i\", \"Mississippi\"))\n",
    "print(remove_letter(\"b\", \"\"))\n"
   ]
  },
  {
   "cell_type": "code",
   "execution_count": 23,
   "metadata": {},
   "outputs": [
    {
     "name": "stdout",
     "output_type": "stream",
     "text": [
      "Test case at line 1 Passed\n",
      "Test case at line 2 Passed\n",
      "Test case at line 3 Passed\n",
      "Test case at line 4 Passed\n",
      "Test case at line 5 Passed\n",
      "Test case at line 6 Passed\n"
     ]
    }
   ],
   "source": [
    "test(remove_letter(\"a\", \"apple\") == \"pple\")\n",
    "test(remove_letter(\"a\", \"banana\") == \"bnn\")\n",
    "test(remove_letter(\"z\", \"banana\") == \"banana\")\n",
    "test(remove_letter(\"i\", \"Mississippi\") == \"Msssspp\")\n",
    "test(remove_letter(\"b\", \"\") == \"\")\n",
    "test(remove_letter(\"b\", \"c\") == \"c\")"
   ]
  },
  {
   "cell_type": "code",
   "execution_count": 24,
   "metadata": {},
   "outputs": [
    {
     "data": {
      "text/plain": [
       "True"
      ]
     },
     "execution_count": 24,
     "metadata": {},
     "output_type": "execute_result"
    }
   ],
   "source": [
    "def is_palindrome(a_list):\n",
    "    return reverse(a_list) == a_list\n",
    "is_palindrome(\"abba\")\n"
   ]
  },
  {
   "cell_type": "code",
   "execution_count": 25,
   "metadata": {},
   "outputs": [
    {
     "name": "stdout",
     "output_type": "stream",
     "text": [
      "Test case at line 1 Passed\n",
      "Test case at line 2 Passed\n",
      "Test case at line 3 Passed\n",
      "Test case at line 4 Passed\n",
      "Test case at line 5 Passed\n",
      "Test case at line 6 Passed\n"
     ]
    }
   ],
   "source": [
    "test(is_palindrome(\"abba\"))\n",
    "test(not is_palindrome(\"abab\"))\n",
    "test(is_palindrome(\"tenet\"))\n",
    "test(not is_palindrome(\"banana\"))\n",
    "test(is_palindrome(\"straw warts\"))\n",
    "test(is_palindrome(\"a\"))"
   ]
  },
  {
   "cell_type": "code",
   "execution_count": 26,
   "metadata": {},
   "outputs": [
    {
     "name": "stdout",
     "output_type": "stream",
     "text": [
      "2\n",
      "1\n"
     ]
    }
   ],
   "source": [
    "def count(word, a_string):\n",
    "    return a_string.count(word)\n",
    "print(count(\"is\", \"Mississippi\"))\n",
    "print(count(\"ana\", \"banana\"))\n"
   ]
  },
  {
   "cell_type": "code",
   "execution_count": 27,
   "metadata": {},
   "outputs": [
    {
     "name": "stdout",
     "output_type": "stream",
     "text": [
      "Test case at line 1 Passed\n",
      "Test case at line 2 Passed\n",
      "Test case at line 3 Failed\n",
      "Test case at line 4 Passed\n",
      "Test case at line 5 Passed\n",
      "Test case at line 6 Failed\n"
     ]
    }
   ],
   "source": [
    "test(count(\"is\", \"Mississippi\") == 2)\n",
    "test(count(\"an\", \"banana\") == 2)\n",
    "test(count(\"ana\", \"banana\") == 2)\n",
    "test(count(\"nana\", \"banana\") == 1)\n",
    "test(count(\"nanan\", \"banana\") == 0)\n",
    "test(count(\"aaa\", \"aaaaaa\") == 4)"
   ]
  },
  {
   "cell_type": "code",
   "execution_count": 28,
   "metadata": {},
   "outputs": [
    {
     "name": "stdout",
     "output_type": "stream",
     "text": [
      "bile\n",
      "Missippi\n",
      "bicycle\n"
     ]
    }
   ],
   "source": [
    "def remove(word, a_string):\n",
    "    if word in a_string:\n",
    "        index = a_string.index(word)\n",
    "        total_index = index + len(word)\n",
    "        initial_word = a_string[:index]\n",
    "        final_word = a_string[total_index:]\n",
    "        return initial_word + final_word\n",
    "    return a_string\n",
    "print(remove(\"cyc\", \"bicycle\"))\n",
    "print(remove(\"iss\", \"Mississippi\"))\n",
    "print(remove(\"eggs\", \"bicycle\"))"
   ]
  },
  {
   "cell_type": "code",
   "execution_count": 29,
   "metadata": {},
   "outputs": [
    {
     "name": "stdout",
     "output_type": "stream",
     "text": [
      "Test case at line 1 Passed\n",
      "Test case at line 2 Passed\n",
      "Test case at line 3 Passed\n",
      "Test case at line 4 Passed\n"
     ]
    }
   ],
   "source": [
    "test(remove(\"an\", \"banana\") == \"bana\")\n",
    "test(remove(\"cyc\", \"bicycle\") == \"bile\")\n",
    "test(remove(\"iss\", \"Mississippi\") == \"Missippi\")\n",
    "test(remove(\"eggs\", \"bicycle\") == \"bicycle\")"
   ]
  },
  {
   "cell_type": "code",
   "execution_count": 30,
   "metadata": {},
   "outputs": [
    {
     "data": {
      "text/plain": [
       "'bile'"
      ]
     },
     "execution_count": 30,
     "metadata": {},
     "output_type": "execute_result"
    }
   ],
   "source": [
    "def remove_all(letters, a_string):\n",
    "    result = a_string.replace(letters, \"\")\n",
    "    return result\n",
    "remove_all(\"an\", \"banana\")\n",
    "remove_all(\"cyc\", \"bicycle\")\n"
   ]
  },
  {
   "cell_type": "code",
   "execution_count": 31,
   "metadata": {},
   "outputs": [
    {
     "name": "stdout",
     "output_type": "stream",
     "text": [
      "Test case at line 1 Passed\n",
      "Test case at line 2 Passed\n",
      "Test case at line 3 Passed\n",
      "Test case at line 4 Passed\n"
     ]
    }
   ],
   "source": [
    "test(remove_all(\"an\", \"banana\") == \"ba\")\n",
    "test(remove_all(\"cyc\", \"bicycle\") == \"bile\")\n",
    "test(remove_all(\"iss\", \"Mississippi\") == \"Mippi\")\n",
    "test(remove_all(\"eggs\", \"bicycle\") == \"bicycle\")"
   ]
  },
  {
   "cell_type": "code",
   "execution_count": 32,
   "metadata": {},
   "outputs": [
    {
     "name": "stdout",
     "output_type": "stream",
     "text": [
      "name \t        years\n",
      "Duplicity\t2009\n",
      "Notting Hill\t1999\n",
      "Pretty Woman\t1990\n",
      "Erin Brockovich\t2000\n",
      "Eat Pray Love\t2010\n",
      "Mona Lisa Smile\t2003\n",
      "Oceans Twelve\t2004\n"
     ]
    }
   ],
   "source": [
    "julia_more_info = ( (\"Julia\", \"Roberts\"), (8, \"October\", 1967), \"Actress\", (\"Atlanta\", \"Georgia\"),[(\"Duplicity\", 2009), (\"Notting Hill\", 1999), (\"Pretty Woman\", 1990), (\"Erin Brockovich\", 2000), (\"Eat Pray Love\", 2010), (\"Mona Lisa Smile\", 2003), (\"Oceans Twelve\", 2004) ])\n",
    "def return_long_names(a_tuple):\n",
    "    largest = float('-inf')\n",
    "    largest_items = None\n",
    "    for items in a_tuple:\n",
    "        if len(items) > largest and not isinstance(items, str):\n",
    "            largest = len(items)\n",
    "            largest_items = items\n",
    "    print('name', '\\t' + \" \" * 7, 'years')\n",
    "    for name, year in largest_items:\n",
    "        print(name + '\\t' + str(year))\n",
    "return_long_names(julia_more_info)\n"
   ]
  }
 ],
 "metadata": {
  "kernelspec": {
   "display_name": "Python 3",
   "language": "python",
   "name": "python3"
  },
  "language_info": {
   "codemirror_mode": {
    "name": "ipython",
    "version": 3
   },
   "file_extension": ".py",
   "mimetype": "text/x-python",
   "name": "python",
   "nbconvert_exporter": "python",
   "pygments_lexer": "ipython3",
   "version": "3.10.9"
  }
 },
 "nbformat": 4,
 "nbformat_minor": 2
}
