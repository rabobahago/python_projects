{
 "cells": [
  {
   "cell_type": "markdown",
   "metadata": {},
   "source": [
    "# Summing anything"
   ]
  },
  {
   "cell_type": "code",
   "execution_count": 2,
   "metadata": {},
   "outputs": [
    {
     "name": "stdout",
     "output_type": "stream",
     "text": [
      "()\n",
      "100\n",
      "abcd\n",
      "[]\n",
      "[10, 20, 30, 40, 50, 60, 70, 80]\n"
     ]
    }
   ],
   "source": [
    "def mysum(*items):\n",
    "    if not items:\n",
    "        return items\n",
    "    output =items[0]\n",
    "    for elem in items[1:]:\n",
    "        output += elem\n",
    "    return output\n",
    "print(mysum())\n",
    "print(mysum(10, 20, 30, 40))\n",
    "print(mysum('a', 'b', 'c', 'd'))\n",
    "print([])\n",
    "print(mysum([10, 20, 30], [40, 50, 60], [70, 80]))\n"
   ]
  },
  {
   "cell_type": "markdown",
   "metadata": {},
   "source": [
    "### sum bigger than\n",
    "Write a function, mysum_bigger_than, that works the same as mysum, except that\n",
    "it takes a first argument that precedes *args. That argument indicates the\n",
    "threshold for including an argument in the sum. Thus, calling mysum_bigger\n",
    "_than(10, 5, 20, 30, 6) would return 50—because 5 and 6 aren’t greater than\n",
    "10. This function should similarly work with any type and assumes that all of the\n",
    "arguments are of the same type. Note that > and < work on many different types\n",
    "in Python, not just on numbers; with strings, lists, and tuples, it refers to their\n",
    "sort order."
   ]
  },
  {
   "cell_type": "code",
   "execution_count": 14,
   "metadata": {},
   "outputs": [
    {
     "name": "stdout",
     "output_type": "stream",
     "text": [
      "50\n",
      "tk\n"
     ]
    }
   ],
   "source": [
    "def mysum_bigger_than(start, *elems):\n",
    "    result = None\n",
    "    if not elems:\n",
    "        return elems\n",
    "    isstr = isinstance(elems[0], str)\n",
    "    islist = isinstance(elems[0], list)\n",
    "    if isstr:\n",
    "        result = ''\n",
    "    elif islist:\n",
    "        result = []\n",
    "    else:\n",
    "        result = 0\n",
    "\n",
    "    for elem in elems[1:]:\n",
    "        if elem > start:\n",
    "            result += elem\n",
    "    return result\n",
    "print(mysum_bigger_than(10, 5, 20, 30, 6))\n",
    "print(mysum_bigger_than('he', 'h', 't', 'k'))"
   ]
  },
  {
   "cell_type": "markdown",
   "metadata": {},
   "source": [
    "### Sum Numeric: \n",
    "Write a function, sum_numeric, that takes any number of arguments. If the\n",
    "argument is or can be turned into an integer, then it should be added to the\n",
    "total. Arguments that can’t be handled as integers should be ignored. The\n",
    "result is the sum of the numbers. Thus, sum_numeric(10, 20, 'a', '30',\n",
    "'bcd') would return 60. Notice that even if the string 30 is an element in the\n",
    "list, it’s converted into an integer and added to the total."
   ]
  },
  {
   "cell_type": "code",
   "execution_count": 41,
   "metadata": {},
   "outputs": [
    {
     "name": "stdout",
     "output_type": "stream",
     "text": [
      "60\n"
     ]
    }
   ],
   "source": [
    "def sum_numeric(*elems):\n",
    "    result = 0\n",
    "    for elem in elems:\n",
    "        try:\n",
    "\n",
    "                num = int(elem)\n",
    "                result += num\n",
    "        except ValueError:\n",
    "            pass\n",
    "    return result\n",
    "\n",
    "result = sum_numeric(10, 20, 'a', '30', 'bcd')\n",
    "print(result)"
   ]
  },
  {
   "cell_type": "markdown",
   "metadata": {},
   "source": [
    "### List of Dictionary \n",
    "Write a function that takes a list of dicts and returns a single dict that combines\n",
    "all of the keys and values. If a key appears in more than one argument, the\n",
    "value should be a list containing all of the values from the arguments."
   ]
  },
  {
   "cell_type": "code",
   "execution_count": 53,
   "metadata": {},
   "outputs": [
    {
     "name": "stdout",
     "output_type": "stream",
     "text": [
      "{'a': 1, 'b': [2, 3], 'c': 4, 'd': 5}\n"
     ]
    }
   ],
   "source": [
    "def combine_dicts(list_of_dicts):\n",
    "    combined_dict = {}\n",
    "    for dict_ in list_of_dicts:\n",
    "        for key, value in dict_.items():\n",
    "            if key in combined_dict:\n",
    "                if isinstance(combined_dict[key], list):\n",
    "                    combined_dict[key].append(value)\n",
    "                else:\n",
    "                    combined_dict[key] = [combined_dict[key], value]\n",
    "            else:\n",
    "                combined_dict[key] = value\n",
    "    return combined_dict\n",
    "\n",
    "list_of_dicts = [\n",
    "    {'a': 1, 'b': 2},\n",
    "    {'b': 3, 'c': 4},\n",
    "    {'d': 5}\n",
    "]\n",
    "result = combine_dicts(list_of_dicts)\n",
    "print(result)"
   ]
  },
  {
   "cell_type": "code",
   "execution_count": null,
   "metadata": {},
   "outputs": [],
   "source": []
  }
 ],
 "metadata": {
  "kernelspec": {
   "display_name": "base",
   "language": "python",
   "name": "python3"
  },
  "language_info": {
   "codemirror_mode": {
    "name": "ipython",
    "version": 3
   },
   "file_extension": ".py",
   "mimetype": "text/x-python",
   "name": "python",
   "nbconvert_exporter": "python",
   "pygments_lexer": "ipython3",
   "version": "3.10.9"
  }
 },
 "nbformat": 4,
 "nbformat_minor": 2
}
