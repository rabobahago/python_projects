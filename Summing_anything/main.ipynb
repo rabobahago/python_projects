{
 "cells": [
  {
   "cell_type": "markdown",
   "metadata": {},
   "source": [
    "# Summing anything"
   ]
  },
  {
   "cell_type": "code",
   "execution_count": 2,
   "metadata": {},
   "outputs": [
    {
     "name": "stdout",
     "output_type": "stream",
     "text": [
      "()\n",
      "100\n",
      "abcd\n",
      "[]\n",
      "[10, 20, 30, 40, 50, 60, 70, 80]\n"
     ]
    }
   ],
   "source": [
    "def mysum(*items):\n",
    "    if not items:\n",
    "        return items\n",
    "    output =items[0]\n",
    "    for elem in items[1:]:\n",
    "        output += elem\n",
    "    return output\n",
    "print(mysum())\n",
    "print(mysum(10, 20, 30, 40))\n",
    "print(mysum('a', 'b', 'c', 'd'))\n",
    "print([])\n",
    "print(mysum([10, 20, 30], [40, 50, 60], [70, 80]))\n"
   ]
  },
  {
   "cell_type": "markdown",
   "metadata": {},
   "source": [
    "### sum bigger than\n",
    "Write a function, mysum_bigger_than, that works the same as mysum, except that\n",
    "it takes a first argument that precedes *args. That argument indicates the\n",
    "threshold for including an argument in the sum. Thus, calling mysum_bigger\n",
    "_than(10, 5, 20, 30, 6) would return 50—because 5 and 6 aren’t greater than\n",
    "10. This function should similarly work with any type and assumes that all of the\n",
    "arguments are of the same type. Note that > and < work on many different types\n",
    "in Python, not just on numbers; with strings, lists, and tuples, it refers to their\n",
    "sort order."
   ]
  },
  {
   "cell_type": "code",
   "execution_count": 14,
   "metadata": {},
   "outputs": [
    {
     "name": "stdout",
     "output_type": "stream",
     "text": [
      "50\n",
      "tk\n"
     ]
    }
   ],
   "source": [
    "def mysum_bigger_than(start, *elems):\n",
    "    result = None\n",
    "    if not elems:\n",
    "        return elems\n",
    "    isstr = isinstance(elems[0], str)\n",
    "    islist = isinstance(elems[0], list)\n",
    "    if isstr:\n",
    "        result = ''\n",
    "    elif islist:\n",
    "        result = []\n",
    "    else:\n",
    "        result = 0\n",
    "\n",
    "    for elem in elems[1:]:\n",
    "        if elem > start:\n",
    "            result += elem\n",
    "    return result\n",
    "print(mysum_bigger_than(10, 5, 20, 30, 6))\n",
    "print(mysum_bigger_than('he', 'h', 't', 'k'))"
   ]
  },
  {
   "cell_type": "code",
   "execution_count": null,
   "metadata": {},
   "outputs": [],
   "source": []
  }
 ],
 "metadata": {
  "kernelspec": {
   "display_name": "base",
   "language": "python",
   "name": "python3"
  },
  "language_info": {
   "codemirror_mode": {
    "name": "ipython",
    "version": 3
   },
   "file_extension": ".py",
   "mimetype": "text/x-python",
   "name": "python",
   "nbconvert_exporter": "python",
   "pygments_lexer": "ipython3",
   "version": "3.10.9"
  }
 },
 "nbformat": 4,
 "nbformat_minor": 2
}
