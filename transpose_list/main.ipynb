{
 "cells": [
  {
   "cell_type": "markdown",
   "metadata": {},
   "source": [
    "# Tranpose list of string"
   ]
  },
  {
   "cell_type": "code",
   "execution_count": 13,
   "metadata": {},
   "outputs": [
    {
     "name": "stdout",
     "output_type": "stream",
     "text": [
      "[('abc', 'jkl', 'stu'), ('def', 'mno', 'vwx'), ('ghi', 'pqr', 'yz')]\n",
      "['abc jkl stu', 'def mno vwx', 'ghi pqr yz']\n"
     ]
    }
   ],
   "source": [
    "def transpose_list_of_strings(lst):\n",
    "    words_lists = [s.split() for s in lst]\n",
    "    transposed_lists = list(zip(*words_lists))\n",
    "    transposed_strings = [' '.join(words) for words in transposed_lists]\n",
    "    return transposed_strings\n",
    "input_list = ['abc def ghi', 'jkl mno pqr', 'stu vwx yz']\n",
    "result = transpose_list_of_strings(input_list)\n",
    "print(result)\n"
   ]
  },
  {
   "cell_type": "code",
   "execution_count": null,
   "metadata": {},
   "outputs": [],
   "source": []
  }
 ],
 "metadata": {
  "kernelspec": {
   "display_name": "base",
   "language": "python",
   "name": "python3"
  },
  "language_info": {
   "codemirror_mode": {
    "name": "ipython",
    "version": 3
   },
   "file_extension": ".py",
   "mimetype": "text/x-python",
   "name": "python",
   "nbconvert_exporter": "python",
   "pygments_lexer": "ipython3",
   "version": "3.10.9"
  }
 },
 "nbformat": 4,
 "nbformat_minor": 2
}
