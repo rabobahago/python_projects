{
 "cells": [
  {
   "cell_type": "code",
   "execution_count": 1,
   "metadata": {},
   "outputs": [],
   "source": [
    "def merge_sort(array):\n",
    "    middle_point = len(array) // 2\n",
    "\n",
    "    left_part = array[:middle_point]\n",
    "    right_part = array[middle_point:]\n",
    "    merge_sort(left_part)\n",
    "    merge_sort(right_part)\n",
    "\n",
    "    left_array_index = 0\n",
    "    right_array_index = 0\n",
    "    sorted_index = 0\n",
    "    while left_array_index < len(left_part) and right_array_index < len(right_part):\n",
    "        if left_part[left_array_index] < right_part[right_array_index]:\n",
    "            array[sorted_index] = left_part[left_array_index]\n",
    "            left_array_index += 1\n",
    "        else:\n",
    "            array[sorted_index] = right_part[right_array_index]\n",
    "            right_array_index += 1\n",
    "        sorted_index += 1\n",
    "        #if the is element left after one has been empty\n",
    "    while left_array_index < len(left_part):\n",
    "        array[sorted_index] = left_part[left_array_index]\n",
    "        left_array_index += 1\n",
    "        sorted_index += 1"
   ]
  }
 ],
 "metadata": {
  "kernelspec": {
   "display_name": "base",
   "language": "python",
   "name": "python3"
  },
  "language_info": {
   "codemirror_mode": {
    "name": "ipython",
    "version": 3
   },
   "file_extension": ".py",
   "mimetype": "text/x-python",
   "name": "python",
   "nbconvert_exporter": "python",
   "pygments_lexer": "ipython3",
   "version": "3.10.9"
  }
 },
 "nbformat": 4,
 "nbformat_minor": 2
}
