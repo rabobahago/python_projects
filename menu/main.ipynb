{
 "cells": [
  {
   "cell_type": "markdown",
   "metadata": {},
   "source": [
    "# Menu"
   ]
  },
  {
   "cell_type": "code",
   "execution_count": null,
   "metadata": {},
   "outputs": [],
   "source": [
    "def menu(**options):\n",
    "    while True:\n",
    "        option_string = '/'.join(sorted(options))\n",
    "        choice = input(\n",
    "        f'Enter an option ({option_string}): ')\n",
    "        if choice in options:\n",
    "            return options[choice]()\n",
    "        print('Not a valid option')\n",
    "def func_a():\n",
    "    return \"A\"\n",
    "def func_b():\n",
    "    return \"B\"\n",
    "return_value = menu(a=func_a, b=func_b)\n",
    "print(f'Result is {return_value}')"
   ]
  },
  {
   "cell_type": "code",
   "execution_count": null,
   "metadata": {},
   "outputs": [],
   "source": []
  }
 ],
 "metadata": {
  "language_info": {
   "name": "python"
  }
 },
 "nbformat": 4,
 "nbformat_minor": 2
}
