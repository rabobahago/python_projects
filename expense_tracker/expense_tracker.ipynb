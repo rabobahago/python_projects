{
 "cells": [
  {
   "cell_type": "code",
   "execution_count": 1,
   "metadata": {},
   "outputs": [],
   "source": [
    "def add_expense(expenses, amount, category):\n",
    "    #append newly created amount and category\n",
    "    expenses.append({'amount': amount, 'category': category})\n",
    "expenses = []\n",
    "\n",
    "def print_expenses(expenses):\n",
    "    # iterate over expenses to get the object that contain amount and category\n",
    "    for expense in expenses:\n",
    "        print(f'Amount: {expense[\"amount\"]}, Category: {expense[\"category\"]}')\n",
    "def total_expenses(expenses):\n",
    "    # iterate through the expenses to sum the amount\n",
    "    return sum(map(lambda expense: expense['amount'], expenses))\n",
    "\n",
    "def filter_expenses_by_category(expenses, category):\n",
    "    # iterate to filter according to the category pass\n",
    "    return filter(lambda expense: expense['category'] == category, expenses)\n",
    "\n",
    "def main():\n",
    "    expenses = []\n",
    "    while True:\n",
    "        print('\\nExpense Tracker')\n",
    "        print('1. Add an expense')\n",
    "        print('2. List all expenses')\n",
    "        print('3. Show total expenses')\n",
    "        print('4. Filter expenses by category')\n",
    "        print('5. Exit')\n",
    "        # let user make a choice\n",
    "        choice = input('Enter your choice: ')\n",
    "        # if the user choice is string one, let him/her input amount and category\n",
    "        if choice == '1':\n",
    "            amount = float(input('Enter amount: '))\n",
    "            category = input('Enter category: ')\n",
    "            add_expense(expenses, amount, category)\n",
    "        # if the user choice is string two, let him/her print expenses\n",
    "        elif choice == '2':\n",
    "            print('\\nAll Expenses:')\n",
    "            print_expenses(expenses)\n",
    "        # if the user choice is string three, let him/her call total expenses function with argument expenses\n",
    "        elif choice == '3':\n",
    "            print('\\nTotal Expenses: ', total_expenses(expenses))\n",
    "        # if the user choice is string four, let him/her type the category and\n",
    "        # log it to the console, call filter expenses by category with expenses and category\n",
    "        elif choice == '4':\n",
    "            category = input('Enter category to filter: ')\n",
    "            print(f'\\nExpenses for {category}:')\n",
    "            expenses_from_category = filter_expenses_by_category(expenses, category)\n",
    "            print_expenses(expenses_from_category)"
   ]
  },
  {
   "cell_type": "code",
   "execution_count": null,
   "metadata": {},
   "outputs": [],
   "source": []
  }
 ],
 "metadata": {
  "kernelspec": {
   "display_name": "base",
   "language": "python",
   "name": "python3"
  },
  "language_info": {
   "codemirror_mode": {
    "name": "ipython",
    "version": 3
   },
   "file_extension": ".py",
   "mimetype": "text/x-python",
   "name": "python",
   "nbconvert_exporter": "python",
   "pygments_lexer": "ipython3",
   "version": "3.10.9"
  }
 },
 "nbformat": 4,
 "nbformat_minor": 2
}
