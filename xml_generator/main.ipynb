{
 "cells": [
  {
   "cell_type": "markdown",
   "metadata": {},
   "source": [
    "# XML Generator"
   ]
  },
  {
   "cell_type": "code",
   "execution_count": 6,
   "metadata": {},
   "outputs": [
    {
     "name": "stdout",
     "output_type": "stream",
     "text": [
      "< tagname  a = \"1\"b = \"2\"c = \"3\" >hello</>\n"
     ]
    }
   ],
   "source": [
    "def myxml(tagname, content = '', **kwargs):\n",
    "    attribute = ''.join([f'{key} = \"{value}\"' for key, value in kwargs.items()])\n",
    "    return f'< {tagname}  {attribute} >{content}</>'\n",
    "print(myxml('tagname', 'hello', a=1, b=2, c=3))"
   ]
  },
  {
   "cell_type": "code",
   "execution_count": 8,
   "metadata": {},
   "outputs": [
    {
     "data": {
      "text/plain": [
       "4698"
      ]
     },
     "execution_count": 8,
     "metadata": {},
     "output_type": "execute_result"
    }
   ],
   "source": [
    "def factorial(*args):\n",
    "    result = 1\n",
    "    for arg in args:\n",
    "        result *= arg\n",
    "    return result\n",
    "factorial(9, 87, 6)"
   ]
  },
  {
   "cell_type": "code",
   "execution_count": null,
   "metadata": {},
   "outputs": [],
   "source": []
  }
 ],
 "metadata": {
  "kernelspec": {
   "display_name": "base",
   "language": "python",
   "name": "python3"
  },
  "language_info": {
   "codemirror_mode": {
    "name": "ipython",
    "version": 3
   },
   "file_extension": ".py",
   "mimetype": "text/x-python",
   "name": "python",
   "nbconvert_exporter": "python",
   "pygments_lexer": "ipython3",
   "version": "3.10.9"
  }
 },
 "nbformat": 4,
 "nbformat_minor": 2
}
