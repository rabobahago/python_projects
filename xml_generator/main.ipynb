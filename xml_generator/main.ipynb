{
 "cells": [
  {
   "cell_type": "markdown",
   "metadata": {},
   "source": [
    "# XML Generator"
   ]
  },
  {
   "cell_type": "code",
   "execution_count": 6,
   "metadata": {},
   "outputs": [
    {
     "name": "stdout",
     "output_type": "stream",
     "text": [
      "< tagname  a = \"1\"b = \"2\"c = \"3\" >hello</>\n"
     ]
    }
   ],
   "source": [
    "def myxml(tagname, content = '', **kwargs):\n",
    "    attribute = ''.join([f'{key} = \"{value}\"' for key, value in kwargs.items()])\n",
    "    return f'< {tagname}  {attribute} >{content}</>'\n",
    "print(myxml('tagname', 'hello', a=1, b=2, c=3))"
   ]
  },
  {
   "cell_type": "code",
   "execution_count": 52,
   "metadata": {},
   "outputs": [
    {
     "data": {
      "text/plain": [
       "4698"
      ]
     },
     "execution_count": 52,
     "metadata": {},
     "output_type": "execute_result"
    }
   ],
   "source": [
    "def factorial(*args):\n",
    "    result = 1\n",
    "    for arg in args:\n",
    "        result *= arg\n",
    "    return result\n",
    "factorial(9, 87, 6)"
   ]
  },
  {
   "cell_type": "code",
   "execution_count": 53,
   "metadata": {},
   "outputs": [
    {
     "name": "stdout",
     "output_type": "stream",
     "text": [
      "['black', 'white']\n",
      "Hello, rabo. You are by your skin color: white\n",
      "A human being will say: Hello fox with 2 legs\n"
     ]
    }
   ],
   "source": [
    "class Animal:\n",
    "    def __init__(self, head = 0, legs = 10, eyes = 2):\n",
    "        self.head = head\n",
    "        self.legs = legs\n",
    "        self.eyes = eyes\n",
    "    def __str__(self) -> str:\n",
    "        return f'{self.head}, {self.legs}, {self.eyes}'\n",
    "class Human(Animal):\n",
    "    \"\"\"This is human class that inherint from Animal class\"\"\"\n",
    "    human_color = ['black', 'white']\n",
    "    def __init__(self, head, legs, eyes, talk):\n",
    "        super().__init__(head, eyes)\n",
    "        self.head = head\n",
    "        self.legs = legs\n",
    "        self.eyes = eyes\n",
    "        self.talk = talk\n",
    "    def mode_talking(self, voice):\n",
    "        return f'A human being will say: {voice} with {self.legs} legs'\n",
    "    def fly_action(self):\n",
    "        return f'There is no flying actions to any normal human being'\n",
    "    @classmethod\n",
    "    def color_identification(cls, index, name):\n",
    "        \"\"\"Note: Human being can be only be either black or white in color, so 0 for white\n",
    "           color index or 1 for a black color index\n",
    "        \"\"\"\n",
    "        return f'Hello, {name}. You are by your skin color: {cls.human_color[index]}'\n",
    "rabo = Human(1, 2, 2, 'hello')\n",
    "print(Human.human_color)\n",
    "print(rabo.color_identification(1, 'rabo'))\n",
    "print(rabo.mode_talking('Hello fox'))"
   ]
  },
  {
   "cell_type": "code",
   "execution_count": 127,
   "metadata": {},
   "outputs": [
    {
     "name": "stdout",
     "output_type": "stream",
     "text": [
      "['axis', 'four', 'five', 'one', 'six', 'two', 'three']\n",
      "['axis', 'five', 'two', 'four', 'six', 'three', 'one']\n"
     ]
    },
    {
     "data": {
      "text/plain": [
       "0"
      ]
     },
     "execution_count": 127,
     "metadata": {},
     "output_type": "execute_result"
    }
   ],
   "source": [
    "d2 ={'one':'uno' , 'two':'deux', 'three':'trois', 'four': 'quatre', 'five':'cinq', 'six':'six', 'axis': 'axis'}\n",
    "r = sorted(d2, key=lambda k: k[0], reverse= False)\n",
    "print(r)\n",
    "w = sorted(d2, key=lambda k: d2[k])\n",
    "print(w)\n",
    "l = sorted(d2, key=lambda k: k[-1])\n",
    "d2.setdefault('Animal',0)\n"
   ]
  },
  {
   "cell_type": "code",
   "execution_count": 143,
   "metadata": {},
   "outputs": [
    {
     "name": "stdout",
     "output_type": "stream",
     "text": [
      "[0]\n",
      "deque(['helloo', 0, 90])\n"
     ]
    },
    {
     "data": {
      "text/plain": [
       "deque([0, 90, 'helloo'])"
      ]
     },
     "execution_count": 143,
     "metadata": {},
     "output_type": "execute_result"
    }
   ],
   "source": [
    "from collections import deque\n",
    "import itertools\n",
    "q = deque()\n",
    "q.append(90)\n",
    "q.append(40)\n",
    "q.appendleft(0)\n",
    "q.appendleft(800)\n",
    "q.popleft()\n",
    "q.appendleft('helloo')\n",
    "q.pop()\n",
    "print(list(itertools.islice(q, 1, 2)))\n",
    "print(q)\n",
    "q.rotate(2)\n",
    "q\n"
   ]
  },
  {
   "cell_type": "code",
   "execution_count": 144,
   "metadata": {},
   "outputs": [
    {
     "name": "stdout",
     "output_type": "stream",
     "text": [
      "deque([3], maxlen=3)\n",
      "deque([3, 4], maxlen=3)\n",
      "deque([3, 4, 5], maxlen=3)\n"
     ]
    }
   ],
   "source": [
    "p = deque(maxlen=3)\n",
    "for i in range(3,  6):\n",
    "    p.append(i)\n",
    "    print(p)\n"
   ]
  },
  {
   "cell_type": "code",
   "execution_count": 177,
   "metadata": {},
   "outputs": [
    {
     "name": "stdout",
     "output_type": "stream",
     "text": [
      "Counter({'n': 5, ' ': 4, 'o': 4, 's': 4, 'h': 3, 'l': 3, 'e': 1, 'p': 1})\n",
      "{'a': 3, 'b': 3, 'q': 6, 't': 56}\n"
     ]
    },
    {
     "data": {
      "text/plain": [
       "[('t', 56), ('q', 6)]"
      ]
     },
     "execution_count": 177,
     "metadata": {},
     "output_type": "execute_result"
    }
   ],
   "source": [
    "from collections import Counter\n",
    "a = Counter('helll ooo  hhs opnnsnsnsn')\n",
    "a.most_common(3)[0][0]\n",
    "print(a)\n",
    "e = {'a': 3, 'b': 3}\n",
    "e.update({'q': 6, 't':56})\n",
    "print(e)\n",
    "d = Counter(e).most_common(2)\n",
    "d"
   ]
  },
  {
   "cell_type": "code",
   "execution_count": 202,
   "metadata": {},
   "outputs": [
    {
     "data": {
      "text/plain": [
       "Counter({'a': -20, 'b': 67})"
      ]
     },
     "execution_count": 202,
     "metadata": {},
     "output_type": "execute_result"
    }
   ],
   "source": [
    "d = Counter(a=3, b=67)\n",
    "d.most_common(1)\n",
    "d.subtract({'a': 23})\n",
    "d"
   ]
  },
  {
   "cell_type": "code",
   "execution_count": 200,
   "metadata": {},
   "outputs": [
    {
     "name": "stdout",
     "output_type": "stream",
     "text": [
      "['e', 'h', 'l', 'l', 'o']\n"
     ]
    },
    {
     "data": {
      "text/plain": [
       "'elhlllllo'"
      ]
     },
     "execution_count": 200,
     "metadata": {},
     "output_type": "execute_result"
    }
   ],
   "source": [
    "d = {'k': 40, 'a': 3, 'b': 4}\n",
    "d = list('hello')\n",
    "d.sort(key=lambda k:k)\n",
    "print(d)\n",
    "'l'.join(d)"
   ]
  },
  {
   "cell_type": "code",
   "execution_count": 213,
   "metadata": {},
   "outputs": [
    {
     "name": "stdout",
     "output_type": "stream",
     "text": [
      "{'r': 7, 't': 8, 'a': 90, 'b': 244, 'j': 12}\n"
     ]
    },
    {
     "data": {
      "text/plain": [
       "OrderedDict([('r', 7), ('t', 8), ('a', 90), ('b', 244), ('j', 12)])"
      ]
     },
     "execution_count": 213,
     "metadata": {},
     "output_type": "execute_result"
    }
   ],
   "source": [
    "from collections import OrderedDict\n",
    "woof = OrderedDict()\n",
    "woof['a'] = 90\n",
    "woof['g'] = 56\n",
    "woof['c'] = 84\n",
    "woof\n",
    "\n",
    "foof = {'r': 7, 't':8}\n",
    "foof['a'] = 90\n",
    "foof['b'] = 244\n",
    "foof['j'] = 12\n",
    "print(foof)\n",
    "q = OrderedDict(foof)\n",
    "q"
   ]
  },
  {
   "cell_type": "code",
   "execution_count": 239,
   "metadata": {},
   "outputs": [
    {
     "data": {
      "text/plain": [
       "23"
      ]
     },
     "execution_count": 239,
     "metadata": {},
     "output_type": "execute_result"
    }
   ],
   "source": [
    "from collections import namedtuple\n",
    "a_list = namedtuple('list', ['name', 'age'])\n",
    "rabo = a_list('Rabo', 23)\n",
    "hosea = a_list('Hosea', 67)\n",
    "\n",
    "rabo.name\n",
    "rabo.age\n"
   ]
  },
  {
   "cell_type": "code",
   "execution_count": 240,
   "metadata": {},
   "outputs": [
    {
     "data": {
      "text/plain": [
       "defaultdict(list, {'a': ['rabo'], 'b': 90})"
      ]
     },
     "execution_count": 240,
     "metadata": {},
     "output_type": "execute_result"
    }
   ],
   "source": [
    "from collections import defaultdict\n",
    "d = defaultdict(list)\n",
    "d['a'] = 89\n",
    "d['a'] = ['rabo']\n",
    "d['b'] = 90\n",
    "d"
   ]
  },
  {
   "cell_type": "code",
   "execution_count": 245,
   "metadata": {},
   "outputs": [
    {
     "data": {
      "text/plain": [
       "defaultdict(None, {'name': 'leo'})"
      ]
     },
     "execution_count": 245,
     "metadata": {},
     "output_type": "execute_result"
    }
   ],
   "source": [
    "a = defaultdict()\n",
    "a['name'] = 'queen'\n",
    "a['name'] = 'leo'\n",
    "a"
   ]
  },
  {
   "cell_type": "code",
   "execution_count": 1,
   "metadata": {},
   "outputs": [
    {
     "data": {
      "text/plain": [
       "120"
      ]
     },
     "execution_count": 1,
     "metadata": {},
     "output_type": "execute_result"
    }
   ],
   "source": [
    "def factorial(n):\n",
    "    if n == 1: return 1\n",
    "    return n * factorial(n-1)\n",
    "factorial(5)"
   ]
  },
  {
   "cell_type": "code",
   "execution_count": 3,
   "metadata": {},
   "outputs": [
    {
     "data": {
      "text/plain": [
       "['aa', 'ab', 'ac', 'ba', 'bb', 'bc', 'ca', 'cb', 'cc']"
      ]
     },
     "execution_count": 3,
     "metadata": {},
     "output_type": "execute_result"
    }
   ],
   "source": [
    "def bit_string(n, s):\n",
    "    if n == 1: return s\n",
    "    return [digit + bit for digit in bit_string(1, s) for bit in bit_string(n - 1, s)]\n",
    "bit_string(2, 'abc')\n"
   ]
  },
  {
   "cell_type": "code",
   "execution_count": 35,
   "metadata": {},
   "outputs": [
    {
     "name": "stdout",
     "output_type": "stream",
     "text": [
      "3\n",
      "black\n",
      "white\n",
      "red\n"
     ]
    }
   ],
   "source": [
    "class Node:\n",
    "    def __init__(self, data = None, next = None):\n",
    "        self.data = data\n",
    "        self.next = next\n",
    "class LinkedList:\n",
    "    def __init__(self):\n",
    "        self.tail = None\n",
    "        self.size = 0\n",
    "    def append(self, data):\n",
    "        node = Node(data)\n",
    "        if self.tail is None:\n",
    "            self.tail = node\n",
    "            self.size += 1\n",
    "        else:\n",
    "            current = self.tail\n",
    "            while current.next:\n",
    "                current = current.next\n",
    "            current.next = node\n",
    "            self.size += 1\n",
    "    def iter(self):\n",
    "        current = self.tail\n",
    "        while current:\n",
    "            val = current.data\n",
    "            current = current.next\n",
    "            yield val\n",
    "    def delete(self, data):\n",
    "        current = self.tail\n",
    "        previous = self.tail\n",
    "        while current:\n",
    "            if data == current.data:\n",
    "                if self.tail == current:\n",
    "                    self.tail = current.next\n",
    "                else:\n",
    "                    previous.next = current.next\n",
    "                    self.size -= 1\n",
    "                return\n",
    "            previous = current\n",
    "            current = current.next\n",
    "    def search(self, data):\n",
    "        current = self.tail\n",
    "        while current:\n",
    "            if data == current.data:\n",
    "                return True\n",
    "            current = current.next\n",
    "        return False\n",
    "    def clear(self):\n",
    "        self.tail = None\n",
    "\n",
    "linked  = LinkedList()\n",
    "linked.append('black')\n",
    "linked.append('white')\n",
    "linked.append('red')\n",
    "print(linked.size)\n",
    "for color in linked.iter():\n",
    "    print(color)\n"
   ]
  },
  {
   "cell_type": "code",
   "execution_count": 30,
   "metadata": {},
   "outputs": [
    {
     "name": "stdout",
     "output_type": "stream",
     "text": [
      "--------------\n",
      "black\n",
      "red\n",
      "2\n"
     ]
    }
   ],
   "source": [
    "linked.delete('white')\n",
    "print('--------------')\n",
    "for color in linked.iter():\n",
    "    print(color)\n",
    "print(linked.size)"
   ]
  },
  {
   "cell_type": "code",
   "execution_count": 34,
   "metadata": {},
   "outputs": [
    {
     "name": "stdout",
     "output_type": "stream",
     "text": [
      "True\n",
      "False\n"
     ]
    }
   ],
   "source": [
    "print(linked.search('red'))\n",
    "print(linked.search('green'))"
   ]
  },
  {
   "cell_type": "code",
   "execution_count": 8,
   "metadata": {},
   "outputs": [
    {
     "data": {
      "text/plain": [
       "[104, 101, 108, 108, 111]"
      ]
     },
     "execution_count": 8,
     "metadata": {},
     "output_type": "execute_result"
    }
   ],
   "source": [
    "list(map(ord, 'hello'))"
   ]
  },
  {
   "cell_type": "code",
   "execution_count": 2,
   "metadata": {},
   "outputs": [
    {
     "name": "stdout",
     "output_type": "stream",
     "text": [
      "{'A': ['B', 'C'], 'B': ['E', 'A'], 'C': ['A', 'B', 'E', 'F'], 'E': ['B', 'C'], 'F': ['C']}\n"
     ]
    }
   ],
   "source": [
    "graph = dict()\n",
    "graph = dict()\n",
    "graph['A'] = ['B', 'C']\n",
    "graph['B'] = ['E','A']\n",
    "graph['C'] = ['A', 'B', 'E','F']\n",
    "graph['E'] = ['B', 'C']\n",
    "graph['F'] = ['C']\n",
    "print(graph)\n",
    "\n",
    "# Given an adjacency list, it should be possible to create an adjacency matrix. A sorted list of\n",
    "# keys of graph is required:\n"
   ]
  },
  {
   "cell_type": "code",
   "execution_count": 3,
   "metadata": {},
   "outputs": [
    {
     "name": "stdout",
     "output_type": "stream",
     "text": [
      "['A', 'B', 'C', 'E', 'F']\n",
      "5 5\n"
     ]
    }
   ],
   "source": [
    "matrix_elements = sorted(graph.keys())\n",
    "print(matrix_elements)\n",
    "row = col = len(matrix_elements)\n",
    "print(row, col)"
   ]
  },
  {
   "cell_type": "code",
   "execution_count": 4,
   "metadata": {},
   "outputs": [
    {
     "data": {
      "text/plain": [
       "[[0, 0, 0, 0, 0],\n",
       " [0, 0, 0, 0, 0],\n",
       " [0, 0, 0, 0, 0],\n",
       " [0, 0, 0, 0, 0],\n",
       " [0, 0, 0, 0, 0]]"
      ]
     },
     "execution_count": 4,
     "metadata": {},
     "output_type": "execute_result"
    }
   ],
   "source": [
    "adjacency_matrix = [[0 for _ in range(row)] for _ in range(col)]\n",
    "adjacency_matrix"
   ]
  },
  {
   "cell_type": "code",
   "execution_count": 5,
   "metadata": {},
   "outputs": [
    {
     "data": {
      "text/plain": [
       "[('A', 'B'),\n",
       " ('A', 'C'),\n",
       " ('B', 'E'),\n",
       " ('B', 'A'),\n",
       " ('C', 'A'),\n",
       " ('C', 'B'),\n",
       " ('C', 'E'),\n",
       " ('C', 'F'),\n",
       " ('E', 'B'),\n",
       " ('E', 'C'),\n",
       " ('F', 'C')]"
      ]
     },
     "execution_count": 5,
     "metadata": {},
     "output_type": "execute_result"
    }
   ],
   "source": [
    "edges_list = []\n",
    "for key in matrix_elements:\n",
    "    for neigbor in graph[key]:\n",
    "        edges_list.append((key, neigbor))\n",
    "edges_list"
   ]
  },
  {
   "cell_type": "code",
   "execution_count": 94,
   "metadata": {},
   "outputs": [],
   "source": []
  },
  {
   "cell_type": "code",
   "execution_count": 111,
   "metadata": {},
   "outputs": [],
   "source": [
    "class Student:\n",
    "    def __init__(self, details=None):\n",
    "        if details is None:\n",
    "            self.details = []\n",
    "        else:\n",
    "            self.details = details\n",
    "        self.set_amount = 200\n",
    "        self.__total = self.set_amount\n",
    "\n",
    "    def __str__(self):\n",
    "        if self.details:\n",
    "            return ','.join([f\"{detail['name']}, {detail['age']}\" for detail in self.details])\n",
    "        else:\n",
    "            return \"No details available\"\n",
    "\n",
    "    @property\n",
    "    def get_tuition(self):\n",
    "        return self.__total\n",
    "\n",
    "    @get_tuition.setter\n",
    "    def get_tuition(self, amount):\n",
    "        if amount > 0:\n",
    "            self.__total = amount\n",
    "        else:\n",
    "            raise ValueError('Amount must be greater than 0')\n",
    "\n",
    "    @classmethod\n",
    "    def remain_tuition(cls, student: \"Student\"):\n",
    "        if student.__total == student.set_amount:\n",
    "            return 'You paid your school fee already! Welcome'\n",
    "        else:\n",
    "            raise ValueError('You haven\\'t paid your fee')\n",
    "\n",
    "    def add_detail(self, details, amount):\n",
    "        if amount <= 0:\n",
    "            raise ValueError('Amount must be greater than 0')\n",
    "        for v in self.details:\n",
    "            if v['name'] == details[0] and v['age'] == details[1] and v['tution'] < self.__total:\n",
    "                self.details.append({'tution': amount, 'name': details[0], 'age': details[1]})\n",
    "                return\n",
    "        self.details.append({'tution': amount, 'name': details[0], 'age': details[1]})\n"
   ]
  },
  {
   "cell_type": "code",
   "execution_count": 112,
   "metadata": {},
   "outputs": [
    {
     "name": "stdout",
     "output_type": "stream",
     "text": [
      "Rabo, 23,Kera, 56\n",
      "200\n",
      "400\n"
     ]
    }
   ],
   "source": [
    "student = Student()\n",
    "student.add_detail(('Rabo', 23), 200)\n",
    "student.add_detail(('Kera',56), 32)\n",
    "print(student)\n",
    "print(student.get_tuition)\n",
    "student.get_tuition = 400\n",
    "print(student.get_tuition)"
   ]
  },
  {
   "cell_type": "code",
   "execution_count": 121,
   "metadata": {},
   "outputs": [
    {
     "name": "stdout",
     "output_type": "stream",
     "text": [
      "Tomato is not greater than Mango\n",
      "123\n",
      "3510\n"
     ]
    }
   ],
   "source": [
    "class StockPrice:\n",
    "    def __init__(self, name, price):\n",
    "        self.name = name\n",
    "        self.price = price\n",
    "    def __gt__(self, amount):\n",
    "        return self.price > amount.price\n",
    "    def print_detail(self):\n",
    "        if price > price1:\n",
    "            print('Tomato is greater than Mango')\n",
    "        else:\n",
    "            print('Tomato is not greater than Mango')\n",
    "\n",
    "    def __add__(self, another):\n",
    "        return self.price + another.price\n",
    "    def __mul__(self, another):\n",
    "        return self.price * another.price\n",
    "price = StockPrice('Tomato', 45)\n",
    "price1 = StockPrice('Mango', 78)\n",
    "price.print_detail()\n",
    "print(price + price1)\n",
    "print(price * price1)\n"
   ]
  },
  {
   "cell_type": "code",
   "execution_count": 127,
   "metadata": {},
   "outputs": [
    {
     "name": "stdout",
     "output_type": "stream",
     "text": [
      "Person('Anna', 25)\n",
      "Person('Peter', 99)\n"
     ]
    }
   ],
   "source": [
    "class Person:\n",
    "    def __init__(self, name: str, age: int):\n",
    "        self.name = name\n",
    "        self.age = age\n",
    "\n",
    "    def __repr__(self):\n",
    "        return f\"Person({repr(self.name)}, {self.age})\"\n",
    "person1 = Person(\"Anna\", 25)\n",
    "person2 = Person(\"Peter\", 99)\n",
    "print(person1)\n",
    "print(person2)"
   ]
  },
  {
   "cell_type": "code",
   "execution_count": 155,
   "metadata": {},
   "outputs": [],
   "source": [
    "class Book:\n",
    "    def __init__(self, title:str, author: str, page_count: int):\n",
    "        self.title = title\n",
    "        self.author = author\n",
    "        self.page_count = page_count\n",
    "class Bookshelf:\n",
    "    def __init__(self, shelf = None):\n",
    "        if shelf is None:\n",
    "            self.shelf = []\n",
    "        else:\n",
    "            self.shelf = shelf\n",
    "    def add_book(self, book: Book):\n",
    "        self.shelf.append(book)\n",
    "        return\n",
    "    def __iter__(self):\n",
    "        self.n = 0\n",
    "        return self\n",
    "    def __next__(self):\n",
    "        if self.n < len(self.shelf):\n",
    "            item  = self.shelf[self.n]\n",
    "            self.n +=1\n",
    "            return item\n",
    "        else:\n",
    "            raise StopIteration\n"
   ]
  },
  {
   "cell_type": "code",
   "execution_count": 160,
   "metadata": {},
   "outputs": [
    {
     "name": "stdout",
     "output_type": "stream",
     "text": [
      "The Life of Python\n",
      "........\n",
      "Montague Python\n",
      "........\n",
      "123\n",
      "The Old Man and the C\n",
      "........\n",
      "Ernest Hemingjavay\n",
      "........\n",
      "204\n",
      "A Good Cup of Java\n",
      "........\n",
      "Caffee Coder\n",
      "........\n",
      "997\n"
     ]
    }
   ],
   "source": [
    "if __name__ == \"__main__\":\n",
    "    b1 = Book(\"The Life of Python\", \"Montague Python\", 123)\n",
    "    b2 = Book(\"The Old Man and the C\", \"Ernest Hemingjavay\", 204)\n",
    "    b3 = Book(\"A Good Cup of Java\", \"Caffee Coder\", 997)\n",
    "\n",
    "    shelf = Bookshelf()\n",
    "    shelf.add_book(b1)\n",
    "    shelf.add_book(b2)\n",
    "    shelf.add_book(b3)\n",
    "\n",
    "    # Print the names of all the books\n",
    "    for book in shelf:\n",
    "        print(book.title)\n",
    "        print('........')\n",
    "        print(book.author)\n",
    "        print('........')\n",
    "        print(book.page_count)"
   ]
  },
  {
   "cell_type": "code",
   "execution_count": 4,
   "metadata": {},
   "outputs": [
    {
     "name": "stdout",
     "output_type": "stream",
     "text": [
      "['567899999']\n",
      "['234566789']\n",
      "None\n"
     ]
    }
   ],
   "source": [
    "# single responsibility principle\n",
    "    # Person class or logic\n",
    "    # Phone book class or logic\n",
    "    # User interaction class or logic\n",
    "    # File handling class or logic\n",
    "class PhoneBook:\n",
    "    def __init__(self, persons = None):\n",
    "        if persons is None:\n",
    "            self.__persons = {}\n",
    "        else:\n",
    "            self.__persons = persons\n",
    "    def add_number(self, name: str, number: str ):\n",
    "        if not name in self.__persons:\n",
    "            self.__persons[name] = []\n",
    "        self.__persons[name].append(number)\n",
    "    def get_numbers(self, name: str):\n",
    "        if name not in self.__persons:\n",
    "            return None\n",
    "        return self.__persons[name]\n",
    "phonebook  = PhoneBook()\n",
    "phonebook.add_number('rabo', '234566789')\n",
    "phonebook.add_number('yusuf','567899999')\n",
    "print(phonebook.get_numbers('yusuf'))\n",
    "print(phonebook.get_numbers('rabo'))\n",
    "print(phonebook.get_numbers('tes'))"
   ]
  },
  {
   "cell_type": "code",
   "execution_count": 33,
   "metadata": {},
   "outputs": [],
   "source": [
    "class PhoneBookApplication:\n",
    "    def __init__(self):\n",
    "        self.__phonebook = PhoneBook()\n",
    "        self._filehandler = FileHandler('phonebook.txt')\n",
    "        for name, numbers in self.__filehandler.load_file().items():\n",
    "            for number in numbers:\n",
    "                self.__phonebook.add_number(name, number)\n",
    "    def help(self):\n",
    "        print(\"commands: \")\n",
    "        print(\"0 exit\")\n",
    "        print(\"1 add entry\")\n",
    "        print(\"2 search\")\n",
    "    def add_entry(self):\n",
    "        name = input('name: ')\n",
    "        number = input('number: ')\n",
    "        self.__phonebook.add_number(name, number)\n",
    "    def search(self):\n",
    "        name = input('name: ')\n",
    "        numbers = self.__phonebook.get_numbers(name)\n",
    "        if numbers is None:\n",
    "            print('number unknown')\n",
    "            return\n",
    "        for number in numbers:\n",
    "            print(number)\n",
    "\n",
    "    def execute(self):\n",
    "        self.help()\n",
    "        while True:\n",
    "            print('')\n",
    "            command = input('command: ')\n",
    "            if command == \"0\":\n",
    "                break\n",
    "            elif command == '1':\n",
    "                self.add_entry()\n",
    "            elif command == '2':\n",
    "                self.search()\n",
    "            else:\n",
    "                self.help()\n",
    "        \n",
    "    def exit(self):\n",
    "        self.__filehandler.save_file(self.__phonebook.all_entries())\n",
    "# application = PhoneBookApplication()\n",
    "# application.execute()\n"
   ]
  },
  {
   "cell_type": "code",
   "execution_count": 35,
   "metadata": {},
   "outputs": [],
   "source": [
    "class FileHandler:\n",
    "    def __init__(self, filename):\n",
    "        self.__filename = filename\n",
    "    def load_file(self):\n",
    "        names = {}\n",
    "        with open(self.__filename) as f:\n",
    "\n",
    "            for line in f:\n",
    "                parts = line.strip().split(';')\n",
    "                name, *numbers = parts\n",
    "                names[name] = numbers\n",
    "        return names\n",
    "    def save_file(self, phonebook: dict):\n",
    "        with open(self.__filename, \"w\") as f:\n",
    "            for name, numbers in phonebook.items():\n",
    "                line = [name] + numbers\n",
    "                f.write(\";\".join(line) + \"\\n\")\n"
   ]
  },
  {
   "cell_type": "code",
   "execution_count": 25,
   "metadata": {},
   "outputs": [
    {
     "data": {
      "text/plain": [
       "{'': [], 'Eric': ['02-1234567', '045-4356713'], 'Emily': ['040-324344']}"
      ]
     },
     "execution_count": 25,
     "metadata": {},
     "output_type": "execute_result"
    }
   ],
   "source": [
    "f = FileHandler(\"phonebook.txt\")\n",
    "f.load_file()"
   ]
  },
  {
   "cell_type": "code",
   "execution_count": null,
   "metadata": {},
   "outputs": [],
   "source": []
  }
 ],
 "metadata": {
  "kernelspec": {
   "display_name": "base",
   "language": "python",
   "name": "python3"
  },
  "language_info": {
   "codemirror_mode": {
    "name": "ipython",
    "version": 3
   },
   "file_extension": ".py",
   "mimetype": "text/x-python",
   "name": "python",
   "nbconvert_exporter": "python",
   "pygments_lexer": "ipython3",
   "version": "3.10.9"
  }
 },
 "nbformat": 4,
 "nbformat_minor": 2
}
