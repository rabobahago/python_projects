{
 "cells": [
  {
   "cell_type": "markdown",
   "metadata": {},
   "source": [
    "# XML Generator"
   ]
  },
  {
   "cell_type": "code",
   "execution_count": 6,
   "metadata": {},
   "outputs": [
    {
     "name": "stdout",
     "output_type": "stream",
     "text": [
      "< tagname  a = \"1\"b = \"2\"c = \"3\" >hello</>\n"
     ]
    }
   ],
   "source": [
    "def myxml(tagname, content = '', **kwargs):\n",
    "    attribute = ''.join([f'{key} = \"{value}\"' for key, value in kwargs.items()])\n",
    "    return f'< {tagname}  {attribute} >{content}</>'\n",
    "print(myxml('tagname', 'hello', a=1, b=2, c=3))"
   ]
  },
  {
   "cell_type": "code",
   "execution_count": 52,
   "metadata": {},
   "outputs": [
    {
     "data": {
      "text/plain": [
       "4698"
      ]
     },
     "execution_count": 52,
     "metadata": {},
     "output_type": "execute_result"
    }
   ],
   "source": [
    "def factorial(*args):\n",
    "    result = 1\n",
    "    for arg in args:\n",
    "        result *= arg\n",
    "    return result\n",
    "factorial(9, 87, 6)"
   ]
  },
  {
   "cell_type": "code",
   "execution_count": 53,
   "metadata": {},
   "outputs": [
    {
     "name": "stdout",
     "output_type": "stream",
     "text": [
      "['black', 'white']\n",
      "Hello, rabo. You are by your skin color: white\n",
      "A human being will say: Hello fox with 2 legs\n"
     ]
    }
   ],
   "source": [
    "class Animal:\n",
    "    def __init__(self, head = 0, legs = 10, eyes = 2):\n",
    "        self.head = head\n",
    "        self.legs = legs\n",
    "        self.eyes = eyes\n",
    "    def __str__(self) -> str:\n",
    "        return f'{self.head}, {self.legs}, {self.eyes}'\n",
    "class Human(Animal):\n",
    "    \"\"\"This is human class that inherint from Animal class\"\"\"\n",
    "    human_color = ['black', 'white']\n",
    "    def __init__(self, head, legs, eyes, talk):\n",
    "        super().__init__(head, eyes)\n",
    "        self.head = head\n",
    "        self.legs = legs\n",
    "        self.eyes = eyes\n",
    "        self.talk = talk\n",
    "    def mode_talking(self, voice):\n",
    "        return f'A human being will say: {voice} with {self.legs} legs'\n",
    "    def fly_action(self):\n",
    "        return f'There is no flying actions to any normal human being'\n",
    "    @classmethod\n",
    "    def color_identification(cls, index, name):\n",
    "        \"\"\"Note: Human being can be only be either black or white in color, so 0 for white\n",
    "           color index or 1 for a black color index\n",
    "        \"\"\"\n",
    "        return f'Hello, {name}. You are by your skin color: {cls.human_color[index]}'\n",
    "rabo = Human(1, 2, 2, 'hello')\n",
    "print(Human.human_color)\n",
    "print(rabo.color_identification(1, 'rabo'))\n",
    "print(rabo.mode_talking('Hello fox'))"
   ]
  },
  {
   "cell_type": "code",
   "execution_count": 127,
   "metadata": {},
   "outputs": [
    {
     "name": "stdout",
     "output_type": "stream",
     "text": [
      "['axis', 'four', 'five', 'one', 'six', 'two', 'three']\n",
      "['axis', 'five', 'two', 'four', 'six', 'three', 'one']\n"
     ]
    },
    {
     "data": {
      "text/plain": [
       "0"
      ]
     },
     "execution_count": 127,
     "metadata": {},
     "output_type": "execute_result"
    }
   ],
   "source": [
    "d2 ={'one':'uno' , 'two':'deux', 'three':'trois', 'four': 'quatre', 'five':'cinq', 'six':'six', 'axis': 'axis'}\n",
    "r = sorted(d2, key=lambda k: k[0], reverse= False)\n",
    "print(r)\n",
    "w = sorted(d2, key=lambda k: d2[k])\n",
    "print(w)\n",
    "l = sorted(d2, key=lambda k: k[-1])\n",
    "d2.setdefault('Animal',0)\n"
   ]
  },
  {
   "cell_type": "code",
   "execution_count": 143,
   "metadata": {},
   "outputs": [
    {
     "name": "stdout",
     "output_type": "stream",
     "text": [
      "[0]\n",
      "deque(['helloo', 0, 90])\n"
     ]
    },
    {
     "data": {
      "text/plain": [
       "deque([0, 90, 'helloo'])"
      ]
     },
     "execution_count": 143,
     "metadata": {},
     "output_type": "execute_result"
    }
   ],
   "source": [
    "from collections import deque\n",
    "import itertools\n",
    "q = deque()\n",
    "q.append(90)\n",
    "q.append(40)\n",
    "q.appendleft(0)\n",
    "q.appendleft(800)\n",
    "q.popleft()\n",
    "q.appendleft('helloo')\n",
    "q.pop()\n",
    "print(list(itertools.islice(q, 1, 2)))\n",
    "print(q)\n",
    "q.rotate(2)\n",
    "q\n"
   ]
  },
  {
   "cell_type": "code",
   "execution_count": 144,
   "metadata": {},
   "outputs": [
    {
     "name": "stdout",
     "output_type": "stream",
     "text": [
      "deque([3], maxlen=3)\n",
      "deque([3, 4], maxlen=3)\n",
      "deque([3, 4, 5], maxlen=3)\n"
     ]
    }
   ],
   "source": [
    "p = deque(maxlen=3)\n",
    "for i in range(3,  6):\n",
    "    p.append(i)\n",
    "    print(p)\n"
   ]
  },
  {
   "cell_type": "code",
   "execution_count": 177,
   "metadata": {},
   "outputs": [
    {
     "name": "stdout",
     "output_type": "stream",
     "text": [
      "Counter({'n': 5, ' ': 4, 'o': 4, 's': 4, 'h': 3, 'l': 3, 'e': 1, 'p': 1})\n",
      "{'a': 3, 'b': 3, 'q': 6, 't': 56}\n"
     ]
    },
    {
     "data": {
      "text/plain": [
       "[('t', 56), ('q', 6)]"
      ]
     },
     "execution_count": 177,
     "metadata": {},
     "output_type": "execute_result"
    }
   ],
   "source": [
    "from collections import Counter\n",
    "a = Counter('helll ooo  hhs opnnsnsnsn')\n",
    "a.most_common(3)[0][0]\n",
    "print(a)\n",
    "e = {'a': 3, 'b': 3}\n",
    "e.update({'q': 6, 't':56})\n",
    "print(e)\n",
    "d = Counter(e).most_common(2)\n",
    "d"
   ]
  },
  {
   "cell_type": "code",
   "execution_count": 202,
   "metadata": {},
   "outputs": [
    {
     "data": {
      "text/plain": [
       "Counter({'a': -20, 'b': 67})"
      ]
     },
     "execution_count": 202,
     "metadata": {},
     "output_type": "execute_result"
    }
   ],
   "source": [
    "d = Counter(a=3, b=67)\n",
    "d.most_common(1)\n",
    "d.subtract({'a': 23})\n",
    "d"
   ]
  },
  {
   "cell_type": "code",
   "execution_count": 200,
   "metadata": {},
   "outputs": [
    {
     "name": "stdout",
     "output_type": "stream",
     "text": [
      "['e', 'h', 'l', 'l', 'o']\n"
     ]
    },
    {
     "data": {
      "text/plain": [
       "'elhlllllo'"
      ]
     },
     "execution_count": 200,
     "metadata": {},
     "output_type": "execute_result"
    }
   ],
   "source": [
    "d = {'k': 40, 'a': 3, 'b': 4}\n",
    "d = list('hello')\n",
    "d.sort(key=lambda k:k)\n",
    "print(d)\n",
    "'l'.join(d)"
   ]
  },
  {
   "cell_type": "code",
   "execution_count": 213,
   "metadata": {},
   "outputs": [
    {
     "name": "stdout",
     "output_type": "stream",
     "text": [
      "{'r': 7, 't': 8, 'a': 90, 'b': 244, 'j': 12}\n"
     ]
    },
    {
     "data": {
      "text/plain": [
       "OrderedDict([('r', 7), ('t', 8), ('a', 90), ('b', 244), ('j', 12)])"
      ]
     },
     "execution_count": 213,
     "metadata": {},
     "output_type": "execute_result"
    }
   ],
   "source": [
    "from collections import OrderedDict\n",
    "woof = OrderedDict()\n",
    "woof['a'] = 90\n",
    "woof['g'] = 56\n",
    "woof['c'] = 84\n",
    "woof\n",
    "\n",
    "foof = {'r': 7, 't':8}\n",
    "foof['a'] = 90\n",
    "foof['b'] = 244\n",
    "foof['j'] = 12\n",
    "print(foof)\n",
    "q = OrderedDict(foof)\n",
    "q"
   ]
  },
  {
   "cell_type": "code",
   "execution_count": 239,
   "metadata": {},
   "outputs": [
    {
     "data": {
      "text/plain": [
       "23"
      ]
     },
     "execution_count": 239,
     "metadata": {},
     "output_type": "execute_result"
    }
   ],
   "source": [
    "from collections import namedtuple\n",
    "a_list = namedtuple('list', ['name', 'age'])\n",
    "rabo = a_list('Rabo', 23)\n",
    "hosea = a_list('Hosea', 67)\n",
    "\n",
    "rabo.name\n",
    "rabo.age\n"
   ]
  },
  {
   "cell_type": "code",
   "execution_count": 240,
   "metadata": {},
   "outputs": [
    {
     "data": {
      "text/plain": [
       "defaultdict(list, {'a': ['rabo'], 'b': 90})"
      ]
     },
     "execution_count": 240,
     "metadata": {},
     "output_type": "execute_result"
    }
   ],
   "source": [
    "from collections import defaultdict\n",
    "d = defaultdict(list)\n",
    "d['a'] = 89\n",
    "d['a'] = ['rabo']\n",
    "d['b'] = 90\n",
    "d"
   ]
  },
  {
   "cell_type": "code",
   "execution_count": 245,
   "metadata": {},
   "outputs": [
    {
     "data": {
      "text/plain": [
       "defaultdict(None, {'name': 'leo'})"
      ]
     },
     "execution_count": 245,
     "metadata": {},
     "output_type": "execute_result"
    }
   ],
   "source": [
    "a = defaultdict()\n",
    "a['name'] = 'queen'\n",
    "a['name'] = 'leo'\n",
    "a"
   ]
  },
  {
   "cell_type": "code",
   "execution_count": 1,
   "metadata": {},
   "outputs": [
    {
     "data": {
      "text/plain": [
       "120"
      ]
     },
     "execution_count": 1,
     "metadata": {},
     "output_type": "execute_result"
    }
   ],
   "source": [
    "def factorial(n):\n",
    "    if n == 1: return 1\n",
    "    return n * factorial(n-1)\n",
    "factorial(5)"
   ]
  },
  {
   "cell_type": "code",
   "execution_count": 3,
   "metadata": {},
   "outputs": [
    {
     "data": {
      "text/plain": [
       "['aa', 'ab', 'ac', 'ba', 'bb', 'bc', 'ca', 'cb', 'cc']"
      ]
     },
     "execution_count": 3,
     "metadata": {},
     "output_type": "execute_result"
    }
   ],
   "source": [
    "def bit_string(n, s):\n",
    "    if n == 1: return s\n",
    "    return [digit + bit for digit in bit_string(1, s) for bit in bit_string(n - 1, s)]\n",
    "bit_string(2, 'abc')\n"
   ]
  },
  {
   "cell_type": "code",
   "execution_count": 35,
   "metadata": {},
   "outputs": [
    {
     "name": "stdout",
     "output_type": "stream",
     "text": [
      "3\n",
      "black\n",
      "white\n",
      "red\n"
     ]
    }
   ],
   "source": [
    "class Node:\n",
    "    def __init__(self, data = None, next = None):\n",
    "        self.data = data\n",
    "        self.next = next\n",
    "class LinkedList:\n",
    "    def __init__(self):\n",
    "        self.tail = None\n",
    "        self.size = 0\n",
    "    def append(self, data):\n",
    "        node = Node(data)\n",
    "        if self.tail is None:\n",
    "            self.tail = node\n",
    "            self.size += 1\n",
    "        else:\n",
    "            current = self.tail\n",
    "            while current.next:\n",
    "                current = current.next\n",
    "            current.next = node\n",
    "            self.size += 1\n",
    "    def iter(self):\n",
    "        current = self.tail\n",
    "        while current:\n",
    "            val = current.data\n",
    "            current = current.next\n",
    "            yield val\n",
    "    def delete(self, data):\n",
    "        current = self.tail\n",
    "        previous = self.tail\n",
    "        while current:\n",
    "            if data == current.data:\n",
    "                if self.tail == current:\n",
    "                    self.tail = current.next\n",
    "                else:\n",
    "                    previous.next = current.next\n",
    "                    self.size -= 1\n",
    "                return\n",
    "            previous = current\n",
    "            current = current.next\n",
    "    def search(self, data):\n",
    "        current = self.tail\n",
    "        while current:\n",
    "            if data == current.data:\n",
    "                return True\n",
    "            current = current.next\n",
    "        return False\n",
    "    def clear(self):\n",
    "        self.tail = None\n",
    "\n",
    "linked  = LinkedList()\n",
    "linked.append('black')\n",
    "linked.append('white')\n",
    "linked.append('red')\n",
    "print(linked.size)\n",
    "for color in linked.iter():\n",
    "    print(color)\n"
   ]
  },
  {
   "cell_type": "code",
   "execution_count": 30,
   "metadata": {},
   "outputs": [
    {
     "name": "stdout",
     "output_type": "stream",
     "text": [
      "--------------\n",
      "black\n",
      "red\n",
      "2\n"
     ]
    }
   ],
   "source": [
    "linked.delete('white')\n",
    "print('--------------')\n",
    "for color in linked.iter():\n",
    "    print(color)\n",
    "print(linked.size)"
   ]
  },
  {
   "cell_type": "code",
   "execution_count": 34,
   "metadata": {},
   "outputs": [
    {
     "name": "stdout",
     "output_type": "stream",
     "text": [
      "True\n",
      "False\n"
     ]
    }
   ],
   "source": [
    "print(linked.search('red'))\n",
    "print(linked.search('green'))"
   ]
  },
  {
   "cell_type": "code",
   "execution_count": null,
   "metadata": {},
   "outputs": [],
   "source": []
  }
 ],
 "metadata": {
  "kernelspec": {
   "display_name": "base",
   "language": "python",
   "name": "python3"
  },
  "language_info": {
   "codemirror_mode": {
    "name": "ipython",
    "version": 3
   },
   "file_extension": ".py",
   "mimetype": "text/x-python",
   "name": "python",
   "nbconvert_exporter": "python",
   "pygments_lexer": "ipython3",
   "version": "3.10.9"
  }
 },
 "nbformat": 4,
 "nbformat_minor": 2
}
