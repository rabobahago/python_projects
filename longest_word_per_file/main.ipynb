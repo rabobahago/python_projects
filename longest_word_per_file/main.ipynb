{
 "cells": [
  {
   "cell_type": "markdown",
   "metadata": {},
   "source": [
    "# Longest Word Per File"
   ]
  },
  {
   "cell_type": "code",
   "execution_count": 8,
   "metadata": {},
   "outputs": [
    {
     "name": "stdout",
     "output_type": "stream",
     "text": [
      "{'1342-0.txt': 'http://www.gutenberg.org/1/3/4/1342/', '2701-0.txt': 'http://www.gutenberg.org/2/7/0/2701/', '43-0.txt': 'http://www.gutenberg.org/4/43/', '46-0.txt': 'http://www.gutenberg.net/4/46/', '61105-0.txt': 'http://www.gutenberg.org/6/1/1/0/61105/', '84-0.txt': 'http://www.gutenberg.org/8/84/', 'main.ipynb': \"'two-pages-to-the-week-with-Sunday-squeezed-in-a-corner',\", 'pg25525.txt': 'http://www.gutenberg.org/2/5/5/2/25525/', 'pg28860.txt': 'http://www.gutenberg.org/2/8/8/6/28860/', 'pg345.txt': 'two-pages-to-the-week-with-Sunday-squeezed-in-a-corner', 'pg514.txt': '_________________________________________________'}\n"
     ]
    }
   ],
   "source": [
    "import os\n",
    "def find_longest_word(filename):\n",
    "    longest = ''\n",
    "    for lines in open(filename):\n",
    "        for word in lines.split():\n",
    "            if len(word) > len(longest):\n",
    "                longest = word\n",
    "    return longest\n",
    "def find_all_longest_word(dirname):\n",
    "    return{filename: find_longest_word(os.path.join(dirname, filename)) for filename in os.listdir(dirname) if os.path.isfile(os.path.join(dirname, filename))}\n",
    "print(find_all_longest_word('.'))\n"
   ]
  },
  {
   "cell_type": "markdown",
   "metadata": {},
   "source": [
    "### print file hashes\n",
    "Use the hashlib module in the Python standard library, and the md5 function\n",
    "within it, to calculate the MD5 hash for the contents of every file in a userspecified directory. Then print all of the filenames and their MD5 hashes."
   ]
  },
  {
   "cell_type": "code",
   "execution_count": null,
   "metadata": {},
   "outputs": [],
   "source": [
    "import os\n",
    "import hashlib\n",
    "\n",
    "def calculate_md5(file_path):\n",
    "    md5_hash = hashlib.md5()\n",
    "    with open(file_path, \"rb\") as file:\n",
    "\n",
    "        chunk = 0\n",
    "        while chunk := file.read(4096):\n",
    "            md5_hash.update(chunk)\n",
    "    return md5_hash.hexdigest()\n",
    "\n",
    "def print_file_hashes(directory):\n",
    "    for filename in os.listdir(directory):\n",
    "        file_path = os.path.join(directory, filename)\n",
    "        if os.path.isfile(file_path):\n",
    "            md5_hash = calculate_md5(file_path)\n",
    "            print(f\"{filename}: {md5_hash}\")\n",
    "directory = input(\"Enter the directory path: \")\n",
    "print_file_hashes(directory)\n"
   ]
  }
 ],
 "metadata": {
  "kernelspec": {
   "display_name": "base",
   "language": "python",
   "name": "python3"
  },
  "language_info": {
   "codemirror_mode": {
    "name": "ipython",
    "version": 3
   },
   "file_extension": ".py",
   "mimetype": "text/x-python",
   "name": "python",
   "nbconvert_exporter": "python",
   "pygments_lexer": "ipython3",
   "version": "3.10.9"
  }
 },
 "nbformat": 4,
 "nbformat_minor": 2
}
