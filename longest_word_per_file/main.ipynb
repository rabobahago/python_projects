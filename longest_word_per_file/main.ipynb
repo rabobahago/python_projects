{
 "cells": [
  {
   "cell_type": "markdown",
   "metadata": {},
   "source": [
    "# Longest Word Per File"
   ]
  },
  {
   "cell_type": "code",
   "execution_count": 5,
   "metadata": {},
   "outputs": [
    {
     "name": "stdout",
     "output_type": "stream",
     "text": [
      "{'1342-0.txt': 'http://www.gutenberg.org/1/3/4/1342/', '2701-0.txt': 'http://www.gutenberg.org/2/7/0/2701/', '43-0.txt': 'http://www.gutenberg.org/4/43/', '46-0.txt': 'http://www.gutenberg.net/4/46/', '61105-0.txt': 'http://www.gutenberg.org/6/1/1/0/61105/', '84-0.txt': 'http://www.gutenberg.org/8/84/', 'main.ipynb': 'find_longest_word(os.path.join(dirname,', 'pg25525.txt': 'http://www.gutenberg.org/2/5/5/2/25525/', 'pg28860.txt': 'http://www.gutenberg.org/2/8/8/6/28860/', 'pg345.txt': 'two-pages-to-the-week-with-Sunday-squeezed-in-a-corner', 'pg514.txt': '_________________________________________________'}\n"
     ]
    }
   ],
   "source": [
    "import os\n",
    "def find_longest_word(filename):\n",
    "    longest = ''\n",
    "    for lines in open(filename):\n",
    "        for word in lines.split():\n",
    "            if len(word) > len(longest):\n",
    "                longest = word\n",
    "    return longest\n",
    "def find_all_longest_word(dirname):\n",
    "    return{filename: find_longest_word(os.path.join(dirname, filename)) for filename in os.listdir(dirname) if os.path.isfile(os.path.join(dirname, filename))}\n",
    "print(find_all_longest_word('.'))\n"
   ]
  },
  {
   "cell_type": "code",
   "execution_count": null,
   "metadata": {},
   "outputs": [],
   "source": []
  }
 ],
 "metadata": {
  "kernelspec": {
   "display_name": "base",
   "language": "python",
   "name": "python3"
  },
  "language_info": {
   "codemirror_mode": {
    "name": "ipython",
    "version": 3
   },
   "file_extension": ".py",
   "mimetype": "text/x-python",
   "name": "python",
   "nbconvert_exporter": "python",
   "pygments_lexer": "ipython3",
   "version": "3.10.9"
  }
 },
 "nbformat": 4,
 "nbformat_minor": 2
}
