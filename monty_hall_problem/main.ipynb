{
 "cells": [
  {
   "cell_type": "code",
   "execution_count": 6,
   "metadata": {},
   "outputs": [],
   "source": [
    "import random\n",
    "def run_trial(switch_doors , ndoors=3):\n",
    "    \"\"\"\n",
    "    Run a single trial of the Monty Hall problem , with or without switching\n",
    "    after the game show host reveals a goat behind one of the unchosen doors.\n",
    "    (switch_doors is True or False). The car is behind door number 1 and the\n",
    "    game show host knows that. Returns True for a win, otherwise returns False.\n",
    "    \"\"\"\n",
    "    # Pick a random door out of the ndoors available.\n",
    "    chosen_door = random.randint(1, ndoors)\n",
    "    if switch_doors:\n",
    "        # Reveal a goat.\n",
    "        revealed_door = 3 if chosen_door==2 else 2\n",
    "        # Make the switch by choosing any other door than the initially\n",
    "        # selected one and the one just opened to reveal a goat.\n",
    "        available_doors = [dnum for dnum in range(1,ndoors+1) if dnum not in (chosen_door , revealed_door)]\n",
    "        chosen_door = random.choice(available_doors)\n",
    "    # You win if you picked door number 1.\n",
    "    return chosen_door == 1"
   ]
  },
  {
   "cell_type": "code",
   "execution_count": 7,
   "metadata": {},
   "outputs": [
    {
     "name": "stdout",
     "output_type": "stream",
     "text": [
      "Monty Hall Problem with 3 doors\n",
      "Proportion of wins without switching: 0.3379\n",
      "Proportion of wins with switching: 0.6674\n"
     ]
    }
   ],
   "source": [
    "def run_trials(ntrials , switch_doors , ndoors=3):\n",
    "    \"\"\"\n",
    "    Run ntrials iterations of the Monty Hall problem with ndoors doors , with\n",
    "    and without switching (switch_doors = True or False). Returns the number\n",
    "    of trials which resulted in winning the car by picking door number 1.\n",
    "    \"\"\"\n",
    "    nwins = 0\n",
    "    for i in range(ntrials):\n",
    "        if run_trial(switch_doors , ndoors):\n",
    "            nwins += 1\n",
    "    return nwins\n",
    "ndoors , ntrials = 3, 10000\n",
    "nwins_without_switch = run_trials(ntrials , False , ndoors)\n",
    "nwins_with_switch = run_trials(ntrials , True , ndoors)\n",
    "\n",
    "print('Monty Hall Problem with {} doors'.format(ndoors))\n",
    "print('Proportion of wins without switching: {:.4f}'.format(nwins_without_switch/ntrials))\n",
    "print('Proportion of wins with switching: {:.4f}'.format(nwins_with_switch/ntrials))"
   ]
  },
  {
   "cell_type": "code",
   "execution_count": 4,
   "metadata": {},
   "outputs": [
    {
     "data": {
      "text/plain": [
       "'12:00:00 on 15/08/24'"
      ]
     },
     "execution_count": 4,
     "metadata": {},
     "output_type": "execute_result"
    }
   ],
   "source": [
    "from datetime import date\n",
    "birthday = date(1986, 10, 10)\n",
    "birthday.strftime('%A, %d %B %Y')\n",
    "now = date.today()\n",
    "now.strftime('%I:%M:%S on %d/%m/%y')"
   ]
  },
  {
   "cell_type": "code",
   "execution_count": 7,
   "metadata": {},
   "outputs": [
    {
     "data": {
      "text/plain": [
       "datetime.datetime(1969, 7, 16, 9, 32)"
      ]
     },
     "execution_count": 7,
     "metadata": {},
     "output_type": "execute_result"
    }
   ],
   "source": [
    "from datetime import  datetime\n",
    "launch_time = datetime.strptime('09:32:00 July 16, 1969','%H:%M:%S %B %d, %Y')\n",
    "launch_time"
   ]
  },
  {
   "cell_type": "code",
   "execution_count": null,
   "metadata": {},
   "outputs": [],
   "source": []
  }
 ],
 "metadata": {
  "kernelspec": {
   "display_name": "Python 3",
   "language": "python",
   "name": "python3"
  },
  "language_info": {
   "codemirror_mode": {
    "name": "ipython",
    "version": 3
   },
   "file_extension": ".py",
   "mimetype": "text/x-python",
   "name": "python",
   "nbconvert_exporter": "python",
   "pygments_lexer": "ipython3",
   "version": "3.10.9"
  }
 },
 "nbformat": 4,
 "nbformat_minor": 2
}
