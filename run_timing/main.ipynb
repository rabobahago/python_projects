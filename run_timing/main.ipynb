{
 "cells": [
  {
   "cell_type": "markdown",
   "metadata": {},
   "source": [
    "# Run Timing"
   ]
  },
  {
   "cell_type": "code",
   "execution_count": 1,
   "metadata": {},
   "outputs": [
    {
     "name": "stdout",
     "output_type": "stream",
     "text": [
      "Average of 23.0, over 3 runs\n"
     ]
    }
   ],
   "source": [
    "def run_timing():\n",
    "    total_time = 0\n",
    "    number_of_runs = 0\n",
    "    while True:\n",
    "        run_time = input('Enter 10 km run time: ')\n",
    "        if not run_time:\n",
    "            break\n",
    "        try:\n",
    "            number_of_runs += 1\n",
    "            total_time += float(run_time)\n",
    "\n",
    "        except ValueError:\n",
    "            print(f'Invalid Data Type, please provie a number')\n",
    "    average_time = total_time / number_of_runs\n",
    "    print(f'Average of {average_time}, over {number_of_runs} runs')\n",
    "run_timing()\n"
   ]
  },
  {
   "cell_type": "markdown",
   "metadata": {},
   "source": [
    "### Truncate Float"
   ]
  },
  {
   "cell_type": "code",
   "execution_count": 9,
   "metadata": {},
   "outputs": [
    {
     "data": {
      "text/plain": [
       "34.567"
      ]
     },
     "execution_count": 9,
     "metadata": {},
     "output_type": "execute_result"
    }
   ],
   "source": [
    "def truncate_float(num, before, after):\n",
    "    integer_part, decimal_part = str(num).split('.')\n",
    "    truncated_integer = integer_part[-before:]\n",
    "    truncated_decimal = decimal_part[:after]\n",
    "    truncated_float = float(truncated_integer + '.' + truncated_decimal)\n",
    "\n",
    "    return truncated_float\n",
    "truncate_float(1234.5678, 2, 3)"
   ]
  },
  {
   "cell_type": "code",
   "execution_count": 10,
   "metadata": {},
   "outputs": [
    {
     "name": "stdout",
     "output_type": "stream",
     "text": [
      "Sum: 0.5\n"
     ]
    }
   ],
   "source": [
    "from decimal import Decimal\n",
    "\n",
    "def decimal_sum(str1, str2):\n",
    "    # Convert user input strings to Decimal instances\n",
    "    decimal1 = Decimal(str1)\n",
    "    decimal2 = Decimal(str2)\n",
    "\n",
    "    # Calculate the sum of the Decimal instances\n",
    "    decimal_sum = decimal1 + decimal2\n",
    "\n",
    "    return decimal_sum\n",
    "\n",
    "# Get user input\n",
    "input_str1 = input(\"Enter the first decimal number: \")\n",
    "input_str2 = input(\"Enter the second decimal number: \")\n",
    "\n",
    "# Calculate and print the sum\n",
    "result = decimal_sum(input_str1, input_str2)\n",
    "print(\"Sum:\", result)"
   ]
  },
  {
   "cell_type": "code",
   "execution_count": null,
   "metadata": {},
   "outputs": [],
   "source": []
  }
 ],
 "metadata": {
  "kernelspec": {
   "display_name": "base",
   "language": "python",
   "name": "python3"
  },
  "language_info": {
   "codemirror_mode": {
    "name": "ipython",
    "version": 3
   },
   "file_extension": ".py",
   "mimetype": "text/x-python",
   "name": "python",
   "nbconvert_exporter": "python",
   "pygments_lexer": "ipython3",
   "version": "3.10.9"
  }
 },
 "nbformat": 4,
 "nbformat_minor": 2
}
