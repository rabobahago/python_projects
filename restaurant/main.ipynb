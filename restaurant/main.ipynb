{
 "cells": [
  {
   "cell_type": "markdown",
   "metadata": {},
   "source": [
    "# Restaurant"
   ]
  },
  {
   "cell_type": "markdown",
   "metadata": {},
   "source": [
    "I want you to create a new constant dict, called MENU, representing\n",
    "the possible items you can order at a restaurant. The keys will be strings, and the values will be prices (i.e., integers). You should then write a function, restaurant, that\n",
    "asks the user to enter an order:\n",
    " If the user enters the name of a dish on the menu, the program prints the price\n",
    "and the running total. It then asks the user again for their order.\n",
    " If the user enters the name of a dish not on the menu, the program scolds the\n",
    "user (mildly). It then asks the user again for their order.\n",
    " If the user enters an empty string, the program stops prompting and prints the\n",
    "total amount."
   ]
  },
  {
   "cell_type": "code",
   "execution_count": 4,
   "metadata": {},
   "outputs": [
    {
     "name": "stdout",
     "output_type": "stream",
     "text": [
      "sandwich is 10, total is 10\n",
      "tea is 7, total is 17\n",
      "salad is 9, total is 26\n",
      "We are fresh out of rice today\n",
      "Your total is 26\n"
     ]
    }
   ],
   "source": [
    "MENU = {'sandwich': 10, 'tea': 7, 'salad': 9}\n",
    "def restaurants():\n",
    "    total = 0\n",
    "    while True:\n",
    "        order = input('Enter your restaurant order: ').lower()\n",
    "        if not order:\n",
    "            break\n",
    "        if order in MENU:\n",
    "            price = MENU[order]\n",
    "            total += price\n",
    "            print(f'{order} is {price}, total is {total}')\n",
    "        else:\n",
    "            print(f'We are fresh out of {order} today')\n",
    "    print(f'Your total is {total}')\n",
    "restaurants()\n"
   ]
  },
  {
   "cell_type": "markdown",
   "metadata": {},
   "source": [
    "### Login Sytem\n",
    "Create a dict in which the keys are usernames and the values are passwords,\n",
    "both represented as strings. Create a tiny login system, in which the user must\n",
    "enter a username and password. If there is a match, then indicate that the user\n",
    "has successfully logged in. If not, then refuse them entry. (Note: This is a nice\n",
    "little exercise, but please never store unencrypted passwords. It’s a major security risk.)"
   ]
  },
  {
   "cell_type": "code",
   "execution_count": 13,
   "metadata": {},
   "outputs": [],
   "source": [
    "log_sytem  = {'rabo': 'raboyusuf@gmail.com', 'john':'1234567', 'joel':'joel123456'}\n",
    "def login_system():\n",
    "    count = 0\n",
    "    while True:\n",
    "        login_detail = input('Enter your username and password seperated by a comma').lower()\n",
    "        if not login_detail:\n",
    "            break\n",
    "        username, password =[detail.strip().lower() for detail in login_detail.split(',')]\n",
    "        if username in log_sytem and password == log_sytem[username]:\n",
    "            print(f'successfully login into the system')\n",
    "        else:\n",
    "            print(f'Incorrect password, please enter your username and password again')\n",
    "            count += 1\n",
    "            if count > 2:\n",
    "                print(f'You have tried to login {count} times, goodbye, see you next time')\n",
    "                break\n",
    "login_system()"
   ]
  },
  {
   "cell_type": "code",
   "execution_count": null,
   "metadata": {},
   "outputs": [],
   "source": []
  }
 ],
 "metadata": {
  "kernelspec": {
   "display_name": "base",
   "language": "python",
   "name": "python3"
  },
  "language_info": {
   "codemirror_mode": {
    "name": "ipython",
    "version": 3
   },
   "file_extension": ".py",
   "mimetype": "text/x-python",
   "name": "python",
   "nbconvert_exporter": "python",
   "pygments_lexer": "ipython3",
   "version": "3.10.9"
  }
 },
 "nbformat": 4,
 "nbformat_minor": 2
}
