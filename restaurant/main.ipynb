{
 "cells": [
  {
   "cell_type": "markdown",
   "metadata": {},
   "source": [
    "# Restaurant"
   ]
  },
  {
   "cell_type": "markdown",
   "metadata": {},
   "source": [
    "I want you to create a new constant dict, called MENU, representing\n",
    "the possible items you can order at a restaurant. The keys will be strings, and the values will be prices (i.e., integers). You should then write a function, restaurant, that\n",
    "asks the user to enter an order:\n",
    " If the user enters the name of a dish on the menu, the program prints the price\n",
    "and the running total. It then asks the user again for their order.\n",
    " If the user enters the name of a dish not on the menu, the program scolds the\n",
    "user (mildly). It then asks the user again for their order.\n",
    " If the user enters an empty string, the program stops prompting and prints the\n",
    "total amount."
   ]
  },
  {
   "cell_type": "code",
   "execution_count": 4,
   "metadata": {},
   "outputs": [
    {
     "name": "stdout",
     "output_type": "stream",
     "text": [
      "sandwich is 10, total is 10\n",
      "tea is 7, total is 17\n",
      "salad is 9, total is 26\n",
      "We are fresh out of rice today\n",
      "Your total is 26\n"
     ]
    }
   ],
   "source": [
    "MENU = {'sandwich': 10, 'tea': 7, 'salad': 9}\n",
    "def restaurants():\n",
    "    total = 0\n",
    "    while True:\n",
    "        order = input('Enter your restaurant order: ').lower()\n",
    "        if not order:\n",
    "            break\n",
    "        if order in MENU:\n",
    "            price = MENU[order]\n",
    "            total += price\n",
    "            print(f'{order} is {price}, total is {total}')\n",
    "        else:\n",
    "            print(f'We are fresh out of {order} today')\n",
    "    print(f'Your total is {total}')\n",
    "restaurants()\n"
   ]
  },
  {
   "cell_type": "markdown",
   "metadata": {},
   "source": [
    "### Login Sytem\n",
    "Create a dict in which the keys are usernames and the values are passwords,\n",
    "both represented as strings. Create a tiny login system, in which the user must\n",
    "enter a username and password. If there is a match, then indicate that the user\n",
    "has successfully logged in. If not, then refuse them entry. (Note: This is a nice\n",
    "little exercise, but please never store unencrypted passwords. It’s a major security risk.)"
   ]
  },
  {
   "cell_type": "code",
   "execution_count": 13,
   "metadata": {},
   "outputs": [],
   "source": [
    "log_sytem  = {'rabo': 'raboyusuf@gmail.com', 'john':'1234567', 'joel':'joel123456'}\n",
    "def login_system():\n",
    "    count = 0\n",
    "    while True:\n",
    "        login_detail = input('Enter your username and password seperated by a comma').lower()\n",
    "        if not login_detail:\n",
    "            break\n",
    "        username, password =[detail.strip().lower() for detail in login_detail.split(',')]\n",
    "        if username in log_sytem and password == log_sytem[username]:\n",
    "            print(f'successfully login into the system')\n",
    "        else:\n",
    "            print(f'Incorrect password, please enter your username and password again')\n",
    "            count += 1\n",
    "            if count > 2:\n",
    "                print(f'You have tried to login {count} times, goodbye, see you next time')\n",
    "                break\n",
    "login_system()"
   ]
  },
  {
   "cell_type": "markdown",
   "metadata": {},
   "source": [
    "### Temperature Display"
   ]
  },
  {
   "cell_type": "markdown",
   "metadata": {},
   "source": [
    "Define a dict whose keys are dates (represented by strings) from the most recent\n",
    "week and whose values are temperatures. Ask the user to enter a date, and display the temperature on that date, as well as the previous and subsequent dates,\n",
    "if available."
   ]
  },
  {
   "cell_type": "code",
   "execution_count": 16,
   "metadata": {},
   "outputs": [
    {
     "name": "stdout",
     "output_type": "stream",
     "text": [
      "Temperature data not available for the entered date.\n"
     ]
    }
   ],
   "source": [
    "temperature_data = {\n",
    "    '2024-01-31': 25,\n",
    "    '2024-02-01': 28,\n",
    "    '2024-02-02': 26,\n",
    "    '2024-02-03': 27,\n",
    "    '2024-02-04': 29,\n",
    "    '2024-02-05': 30,\n",
    "    '2024-02-06': 28\n",
    "}\n",
    "input_date = input(\"Enter a date (YYYY-MM-DD): \")\n",
    "\n",
    "if input_date in temperature_data:\n",
    "    temperature = temperature_data[input_date]\n",
    "    print(f\"Temperature on {input_date}: {temperature}°C\")\n",
    "    previous_date = sorted(temperature_data.keys())[:sorted(temperature_data.keys()).index(input_date)]\n",
    "    if previous_date:\n",
    "        print(f\"Previous date: {previous_date[-1]}\")\n",
    "    subsequent_date = sorted(temperature_data.keys())[sorted(temperature_data.keys()).index(input_date)+1:]\n",
    "    if subsequent_date:\n",
    "        print(f\"Subsequent date: {subsequent_date[0]}\")\n",
    "else:\n",
    "    print(\"Temperature data not available for the entered date.\")\n"
   ]
  },
  {
   "cell_type": "markdown",
   "metadata": {},
   "source": [
    "### Birthday Calculator\n",
    "Define a dict whose keys are names of people in your family, and whose values\n",
    "are their birth dates, as represented by Python date objects. Ask the user to enter the name of someone in your family, and have the\n",
    "program calculate how many days old that person is."
   ]
  },
  {
   "cell_type": "code",
   "execution_count": 28,
   "metadata": {},
   "outputs": [
    {
     "name": "stdout",
     "output_type": "stream",
     "text": [
      "rabo is 13633 days old\n"
     ]
    }
   ],
   "source": [
    "from datetime import date\n",
    "family_birthday = {\n",
    "    'rabo': date(1986, 10, 10),\n",
    "    'nagode':date(1975, 9, 12),\n",
    "    'jummai':date(1965, 12, 24)\n",
    "}\n",
    "name = input('Enter the person name to get how old she/he is in days').lower()\n",
    "if name in family_birthday:\n",
    "    birthday = family_birthday[name]\n",
    "    today = date.today()\n",
    "    days_old = (today - birthday).days\n",
    "    print(f'{name} is {days_old} days old')\n",
    "else:\n",
    "    print('There is no person in this family with such name')"
   ]
  },
  {
   "cell_type": "code",
   "execution_count": null,
   "metadata": {},
   "outputs": [],
   "source": []
  }
 ],
 "metadata": {
  "kernelspec": {
   "display_name": "base",
   "language": "python",
   "name": "python3"
  },
  "language_info": {
   "codemirror_mode": {
    "name": "ipython",
    "version": 3
   },
   "file_extension": ".py",
   "mimetype": "text/x-python",
   "name": "python",
   "nbconvert_exporter": "python",
   "pygments_lexer": "ipython3",
   "version": "3.10.9"
  }
 },
 "nbformat": 4,
 "nbformat_minor": 2
}
