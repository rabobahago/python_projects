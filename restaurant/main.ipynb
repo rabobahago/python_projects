{
 "cells": [
  {
   "cell_type": "markdown",
   "metadata": {},
   "source": [
    "# Restaurant"
   ]
  },
  {
   "cell_type": "code",
   "execution_count": 4,
   "metadata": {},
   "outputs": [
    {
     "name": "stdout",
     "output_type": "stream",
     "text": [
      "sandwich is 10, total is 10\n",
      "tea is 7, total is 17\n",
      "salad is 9, total is 26\n",
      "We are fresh out of rice today\n",
      "Your total is 26\n"
     ]
    }
   ],
   "source": [
    "MENU = {'sandwich': 10, 'tea': 7, 'salad': 9}\n",
    "def restaurants():\n",
    "    total = 0\n",
    "    while True:\n",
    "        order = input('Enter your restaurant order: ').lower()\n",
    "        if not order:\n",
    "            break\n",
    "        if order in MENU:\n",
    "            price = MENU[order]\n",
    "            total += price\n",
    "            print(f'{order} is {price}, total is {total}')\n",
    "        else:\n",
    "            print(f'We are fresh out of {order} today')\n",
    "    print(f'Your total is {total}')\n",
    "restaurants()\n"
   ]
  },
  {
   "cell_type": "code",
   "execution_count": null,
   "metadata": {},
   "outputs": [],
   "source": []
  }
 ],
 "metadata": {
  "kernelspec": {
   "display_name": "base",
   "language": "python",
   "name": "python3"
  },
  "language_info": {
   "codemirror_mode": {
    "name": "ipython",
    "version": 3
   },
   "file_extension": ".py",
   "mimetype": "text/x-python",
   "name": "python",
   "nbconvert_exporter": "python",
   "pygments_lexer": "ipython3",
   "version": "3.10.9"
  }
 },
 "nbformat": 4,
 "nbformat_minor": 2
}
