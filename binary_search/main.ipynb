{
 "cells": [
  {
   "cell_type": "markdown",
   "metadata": {},
   "source": [
    "### Binary Search"
   ]
  },
  {
   "cell_type": "code",
   "execution_count": 1,
   "metadata": {},
   "outputs": [
    {
     "name": "stdout",
     "output_type": "stream",
     "text": [
      "True\n",
      "True\n",
      "False\n",
      "False\n"
     ]
    }
   ],
   "source": [
    "def binary_search(target: list, item: int, left : int, right : int):\n",
    "    \"\"\" The function returns True if the item is contained in the target list, False otherwise \"\"\"\n",
    "    # If the search area is empty, item was not found\n",
    "    if left > right:\n",
    "        return False\n",
    "\n",
    "    # Calculate the centre of the search area, integer result\n",
    "    centre = (left+right)//2\n",
    "\n",
    "    # If the item is found at the centre, return\n",
    "    if target[centre] == item:\n",
    "        return True\n",
    "\n",
    "    # If the item is greater, search the greater half\n",
    "    if target[centre] < item:\n",
    "        return binary_search(target, item, centre+1, right)\n",
    "    # Else the item is smaller, search the smaller half\n",
    "    else:\n",
    "        return binary_search(target, item, left, centre-1)\n",
    "\n",
    "\n",
    "if __name__ == \"__main__\":\n",
    "    # Test your function\n",
    "    target = [1, 2, 4, 5, 7, 8, 11, 13, 14, 18]\n",
    "    print(binary_search(target, 2, 0, len(target)-1))\n",
    "    print(binary_search(target, 13, 0, len(target)-1))\n",
    "    print(binary_search(target, 6, 0, len(target)-1))\n",
    "    print(binary_search(target, 15, 0, len(target)-1))"
   ]
  },
  {
   "cell_type": "code",
   "execution_count": null,
   "metadata": {},
   "outputs": [],
   "source": []
  }
 ],
 "metadata": {
  "kernelspec": {
   "display_name": "Python 3",
   "language": "python",
   "name": "python3"
  },
  "language_info": {
   "codemirror_mode": {
    "name": "ipython",
    "version": 3
   },
   "file_extension": ".py",
   "mimetype": "text/x-python",
   "name": "python",
   "nbconvert_exporter": "python",
   "pygments_lexer": "ipython3",
   "version": "3.10.9"
  }
 },
 "nbformat": 4,
 "nbformat_minor": 2
}
