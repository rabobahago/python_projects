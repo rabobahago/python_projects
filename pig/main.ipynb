{
 "cells": [
  {
   "cell_type": "markdown",
   "metadata": {},
   "source": [
    "# Pig Game"
   ]
  },
  {
   "cell_type": "code",
   "execution_count": 1,
   "metadata": {},
   "outputs": [
    {
     "name": "stdout",
     "output_type": "stream",
     "text": [
      "\n",
      "Player 1 has just started\n",
      "\n",
      "Your total score:  0 \n",
      "\n",
      "you rolled 6\n",
      "Your Score is: 6\n",
      "you rolled 1, turn down\n",
      "\n",
      "Player 2 has just started\n",
      "\n",
      "Your total score:  0 \n",
      "\n",
      "you rolled 1, turn down\n",
      "Your total scored : 0\n",
      "\n",
      "Player 1 has just started\n",
      "\n",
      "Your total score:  0 \n",
      "\n",
      "you rolled 4\n",
      "Your Score is: 4\n",
      "\n",
      "Player 2 has just started\n",
      "\n",
      "Your total score:  0 \n",
      "\n",
      "Your total scored : 0\n",
      "\n",
      "Player 1 has just started\n",
      "\n",
      "Your total score:  0 \n",
      "\n"
     ]
    }
   ],
   "source": [
    "import random\n",
    "def roll():\n",
    "    min_value = 1\n",
    "    max_value =6\n",
    "    roll =random.randint(min_value, max_value)\n",
    "    return roll\n",
    "while True:\n",
    "    players = input('Enter number of players (2-4): ')\n",
    "    if players.isdigit():\n",
    "            players = int(players)\n",
    "            if 2<= players <=4:\n",
    "                break\n",
    "            else:\n",
    "                print('Enter number between 2 and 4')\n",
    "    else:\n",
    "        print('Invalid character, please enter number between (2-4):')\n",
    "max_score = 50\n",
    "player_scores = [0 for _ in range(players)]\n",
    "while max(player_scores) < max_score:\n",
    "\n",
    "    for players_index in range(players):\n",
    "        print('\\nPlayer', players_index + 1, 'has just started\\n')\n",
    "        print('Your total score: ', player_scores[players_index], '\\n')\n",
    "        current_score = 0\n",
    "        while True:\n",
    "            should_roll =input('would you like to roll (y)? ')\n",
    "            if should_roll.strip().lower() !='y':\n",
    "                break\n",
    "            value = roll()\n",
    "            if value == 1:\n",
    "                print('you rolled 1, turn down')\n",
    "                current_score = 0\n",
    "                break\n",
    "            else:\n",
    "                current_score += value\n",
    "                print('you rolled', value)\n",
    "            print('Your Score is:', current_score)\n",
    "    player_scores[players_index] +=current_score\n",
    "    print('Your total scored :', player_scores[players_index])\n",
    "max_score = max(player_scores)\n",
    "winning_index =player_scores.index(max_score)\n",
    "print('player number', winning_index + 1, 'is the winner with the score of: ', max_score)"
   ]
  },
  {
   "cell_type": "code",
   "execution_count": null,
   "metadata": {},
   "outputs": [],
   "source": []
  }
 ],
 "metadata": {
  "kernelspec": {
   "display_name": "base",
   "language": "python",
   "name": "python3"
  },
  "language_info": {
   "codemirror_mode": {
    "name": "ipython",
    "version": 3
   },
   "file_extension": ".py",
   "mimetype": "text/x-python",
   "name": "python",
   "nbconvert_exporter": "python",
   "pygments_lexer": "ipython3",
   "version": "3.10.9"
  }
 },
 "nbformat": 4,
 "nbformat_minor": 2
}
