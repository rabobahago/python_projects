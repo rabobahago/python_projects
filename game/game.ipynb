{
 "cells": [
  {
   "cell_type": "code",
   "execution_count": 1,
   "metadata": {},
   "outputs": [
    {
     "name": "stdout",
     "output_type": "stream",
     "text": [
      "pygame 2.5.2 (SDL 2.28.3, Python 3.10.9)\n",
      "Hello from the pygame community. https://www.pygame.org/contribute.html\n",
      "<Event(4352-AudioDeviceAdded {'which': 0, 'iscapture': 0})>\n",
      "<Event(4352-AudioDeviceAdded {'which': 0, 'iscapture': 1})>\n",
      "<Event(32774-WindowShown {'window': None})>\n",
      "<Event(32770-VideoExpose {})>\n",
      "<Event(32776-WindowExposed {'window': None})>\n"
     ]
    }
   ],
   "source": [
    "import pygame\n",
    "import math\n",
    "pygame.init()\n",
    "window = pygame.display.set_mode((800, 500))\n",
    "\n",
    "# window.blit(robot, (730, 0))\n",
    "# window.blit(robot, (0, 430))\n",
    "# window.blit(robot, (730, 430))\n",
    "# height = robot.get_width()\n",
    "# width = robot.get_width()\n",
    "# window.blit(robot, (400 - width / 2, 250 - height / 2))\n",
    "robot = pygame.image.load('robot.png')\n",
    "x = 0\n",
    "y = 0\n",
    "velocity = 1\n",
    "clock = pygame.time.Clock()\n",
    "angle = 0\n",
    "while True:\n",
    "    for event in pygame.event.get():\n",
    "        print(event)\n",
    "        if event.type == pygame.QUIT:\n",
    "            exit()\n",
    "    a = (800 + math.sin(angle) * 200 - robot.get_width()) /2\n",
    "    b = (500 + math.cos(angle) * 200 - robot.get_height()) /2\n",
    "    c = (800 + math.sin(angle) * 70 - robot.get_width()) /2\n",
    "    d = (500 + math.cos(angle) * 70 - robot.get_height()) /2\n",
    "\n",
    "    window.fill((0, 0, 0))\n",
    "    window.blit(robot, (x, y))\n",
    "    window.blit(robot, (a, b))\n",
    "    window.blit(robot, (c, d))\n",
    "    pygame.display.flip()\n",
    "\n",
    "    y += velocity\n",
    "    angle += 0.02\n",
    "    if velocity > 0 and y + robot.get_height() >= 500:\n",
    "        velocity = -velocity\n",
    "    if velocity < 0 and y <= 0:\n",
    "        velocity = - velocity\n",
    "    clock.tick(120)\n"
   ]
  },
  {
   "cell_type": "code",
   "execution_count": 1,
   "metadata": {},
   "outputs": [
    {
     "name": "stdout",
     "output_type": "stream",
     "text": [
      "pygame 2.5.2 (SDL 2.28.3, Python 3.10.9)\n",
      "Hello from the pygame community. https://www.pygame.org/contribute.html\n"
     ]
    }
   ],
   "source": [
    "import pygame\n",
    "\n",
    "pygame.init()\n",
    "window = pygame.display.set_mode((640, 480))\n",
    "\n",
    "robot = pygame.image.load(\"robot.png\")\n",
    "x = 640 - robot.get_width()\n",
    "y = 480-robot.get_height()\n",
    "to_right = False\n",
    "to_left = False\n",
    "\n",
    "clock = pygame.time.Clock()\n",
    "while True:\n",
    "    for event in pygame.event.get():\n",
    "        if event.type == pygame.KEYDOWN:\n",
    "            if event.key == pygame.K_LEFT:\n",
    "                to_left = True\n",
    "            if event.key == pygame.K_RIGHT:\n",
    "                to_right = True\n",
    "\n",
    "        if event.type == pygame.KEYUP:\n",
    "            if event.key == pygame.K_LEFT:\n",
    "                to_left = False\n",
    "            if event.key == pygame.K_RIGHT:\n",
    "                to_right = False\n",
    "\n",
    "        if event.type == pygame.QUIT:\n",
    "            exit()\n",
    "\n",
    "    if to_right:\n",
    "        x += 2\n",
    "    if to_left:\n",
    "        x -= 2\n",
    "\n",
    "    window.fill((0, 0, 0))\n",
    "    window.blit(robot, (x, y))\n",
    "    pygame.display.flip()\n",
    "    clock.tick(60)"
   ]
  },
  {
   "cell_type": "code",
   "execution_count": null,
   "metadata": {},
   "outputs": [],
   "source": []
  }
 ],
 "metadata": {
  "kernelspec": {
   "display_name": "Python 3",
   "language": "python",
   "name": "python3"
  },
  "language_info": {
   "codemirror_mode": {
    "name": "ipython",
    "version": 3
   },
   "file_extension": ".py",
   "mimetype": "text/x-python",
   "name": "python",
   "nbconvert_exporter": "python",
   "pygments_lexer": "ipython3",
   "version": "3.10.9"
  }
 },
 "nbformat": 4,
 "nbformat_minor": 2
}
