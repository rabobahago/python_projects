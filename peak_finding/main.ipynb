{
 "cells": [
  {
   "cell_type": "markdown",
   "metadata": {},
   "source": [
    "# Peak Finding"
   ]
  },
  {
   "cell_type": "code",
   "execution_count": 8,
   "metadata": {},
   "outputs": [
    {
     "data": {
      "text/plain": [
       "5"
      ]
     },
     "execution_count": 8,
     "metadata": {},
     "output_type": "execute_result"
    }
   ],
   "source": [
    "def find_peak_brute_force(arr):\n",
    "    n = len(arr)\n",
    "    for i in range(n):\n",
    "        if (i == 0 or arr[i] >= arr[i - 1]) and (i == n - 1 or arr[i] >= arr[i + 1]):\n",
    "            return arr[i]\n",
    "    return None\n",
    "array = [1, 3, 5, 4, 2]\n",
    "find_peak_brute_force(array)\n"
   ]
  },
  {
   "cell_type": "markdown",
   "metadata": {},
   "source": [
    "#### Peak Finding using Binary search"
   ]
  },
  {
   "cell_type": "code",
   "execution_count": 9,
   "metadata": {},
   "outputs": [
    {
     "name": "stdout",
     "output_type": "stream",
     "text": [
      "The peak using binary search method is: 5\n"
     ]
    }
   ],
   "source": [
    "def find_peak_binary_search(array, low, high):\n",
    "    mid = (low + high) // 2  # Finding the middle index\n",
    "\n",
    "    # Let's check if the middle element is a peak\n",
    "    if (mid == 0 or array[mid - 1] <= array[mid]) and (mid == len(array) - 1 or array[mid + 1] <= array[mid]):\n",
    "        return array[mid]\n",
    "    # If the middle element is not a peak and the left neighbor is bigger, go left\n",
    "    elif mid > 0 and array[mid - 1] > array[mid]:\n",
    "        return find_peak_binary_search(array, low, mid - 1)\n",
    "    # Otherwise, go right\n",
    "    else:\n",
    "        return find_peak_binary_search(array, mid + 1, high)\n",
    "\n",
    "# Example usage:\n",
    "array = [1, 3, 5, 4, 2]\n",
    "peak = find_peak_binary_search(array, 0, len(array) - 1)\n",
    "print(\"The peak using binary search method is:\", peak)"
   ]
  },
  {
   "cell_type": "code",
   "execution_count": null,
   "metadata": {},
   "outputs": [],
   "source": []
  }
 ],
 "metadata": {
  "kernelspec": {
   "display_name": "Python 3",
   "language": "python",
   "name": "python3"
  },
  "language_info": {
   "codemirror_mode": {
    "name": "ipython",
    "version": 3
   },
   "file_extension": ".py",
   "mimetype": "text/x-python",
   "name": "python",
   "nbconvert_exporter": "python",
   "pygments_lexer": "ipython3",
   "version": "3.10.9"
  }
 },
 "nbformat": 4,
 "nbformat_minor": 2
}
