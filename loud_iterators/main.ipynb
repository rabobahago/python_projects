{
 "cells": [
  {
   "cell_type": "markdown",
   "metadata": {},
   "source": [
    "## Loud Iterator"
   ]
  },
  {
   "cell_type": "code",
   "execution_count": 1,
   "metadata": {},
   "outputs": [
    {
     "name": "stdout",
     "output_type": "stream",
     "text": [
      "\tNow in __init__\n",
      "\tNow in __iter__\n",
      "\tNow in __next__\n",
      "\tGot value {value}, incremented index to {self.index}\n",
      "a\n",
      "\tNow in __next__\n",
      "\tGot value {value}, incremented index to {self.index}\n",
      "b\n",
      "\tNow in __next__\n",
      "\tGot value {value}, incremented index to {self.index}\n",
      "c\n",
      "\tNow in __next__\n",
      "\tself.index (3) is too big; exiting\n"
     ]
    }
   ],
   "source": [
    "class LoudIterator():\n",
    "    def __init__(self, data):\n",
    "        print('\\tNow in __init__')\n",
    "        self.data = data\n",
    "        self.index = 0\n",
    "    def __iter__(self):\n",
    "        print('\\tNow in __iter__')\n",
    "        return self\n",
    "    def __next__(self):\n",
    "        print('\\tNow in __next__')\n",
    "        if self.index >= len(self.data):\n",
    "            print(\n",
    "    f'\\tself.index ({self.index}) is too big; exiting')\n",
    "            raise StopIteration\n",
    "        value = self.data[self.index]\n",
    "        self.index += 1\n",
    "        print('\\tGot value {value}, incremented index to {self.index}')\n",
    "        return value\n",
    "for one_item in LoudIterator('abc'):\n",
    "    print(one_item)"
   ]
  },
  {
   "cell_type": "code",
   "execution_count": null,
   "metadata": {},
   "outputs": [],
   "source": []
  }
 ],
 "metadata": {
  "kernelspec": {
   "display_name": "base",
   "language": "python",
   "name": "python3"
  },
  "language_info": {
   "codemirror_mode": {
    "name": "ipython",
    "version": 3
   },
   "file_extension": ".py",
   "mimetype": "text/x-python",
   "name": "python",
   "nbconvert_exporter": "python",
   "pygments_lexer": "ipython3",
   "version": "3.10.9"
  }
 },
 "nbformat": 4,
 "nbformat_minor": 2
}
