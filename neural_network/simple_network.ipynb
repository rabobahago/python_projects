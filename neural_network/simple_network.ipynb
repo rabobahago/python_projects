{
 "cells": [
  {
   "cell_type": "code",
   "execution_count": 1,
   "metadata": {},
   "outputs": [
    {
     "data": {
      "text/plain": [
       "0.8500000000000001"
      ]
     },
     "execution_count": 1,
     "metadata": {},
     "output_type": "execute_result"
    }
   ],
   "source": [
    "weight = 0.1\n",
    "number_of_toes = [8.5, 9.5, 10, 9]\n",
    "def neural_network(input, weight):\n",
    "    prediction = input * weight # information multiply by knowledge\n",
    "    return prediction\n",
    "input_data = number_of_toes[0]\n",
    "neural_network(input_data, weight)"
   ]
  },
  {
   "cell_type": "code",
   "execution_count": 7,
   "metadata": {},
   "outputs": [
    {
     "data": {
      "text/plain": [
       "0.9800000000000001"
      ]
     },
     "execution_count": 7,
     "metadata": {},
     "output_type": "execute_result"
    }
   ],
   "source": [
    "toes = [8.5, 9.5, 9.9, 9.0]\n",
    "wlrec = [0.65, 0.8, 0.8, 0.9]\n",
    "nfans = [1.2, 1.3, 0.5, 1.0]\n",
    "input = [toes[0], wlrec[0], nfans[0]]\n",
    "weights = [0.1, .2, .0]\n",
    "def w_sum(a, b):\n",
    "    assert(len(a) == len(b))\n",
    "    output = 0\n",
    "    for i in range(len(a)):\n",
    "        output += a[i] * b[i]\n",
    "    return output\n",
    "def neural_network(input, weights):\n",
    "    pred = w_sum(input, weights)\n",
    "    return pred\n",
    "neural_network(input, weights)"
   ]
  },
  {
   "cell_type": "markdown",
   "metadata": {},
   "source": [
    "### Elementwise Multiplication"
   ]
  },
  {
   "cell_type": "code",
   "execution_count": 24,
   "metadata": {},
   "outputs": [
    {
     "name": "stdout",
     "output_type": "stream",
     "text": [
      "[18, 0]\n",
      "[12, -12]\n"
     ]
    }
   ],
   "source": [
    "def element_wise_mu(a, b):\n",
    "    assert(len(a) == len(b))\n",
    "    output = []\n",
    "    for i in range(len(a)):\n",
    "        output.append(a[i] * b[i])\n",
    "\n",
    "    return output\n",
    "print(element_wise_mu([2, 4], [9, 0]))\n",
    "print(element_wise_mu([2, 4],[6,-3]))"
   ]
  },
  {
   "cell_type": "code",
   "execution_count": 22,
   "metadata": {},
   "outputs": [
    {
     "name": "stdout",
     "output_type": "stream",
     "text": [
      "[11, 4]\n",
      "[8, 1]\n"
     ]
    }
   ],
   "source": [
    "def element_wise_add(a, b):\n",
    "    assert(len(a) == len(b))\n",
    "    output = []\n",
    "    for i in range(len(a)):\n",
    "        output.append(a[i] + b[i])\n",
    "\n",
    "    return output\n",
    "print(element_wise_add([2, 4], [9, 0]))\n",
    "print(element_wise_add([2, 4],[6,-3]))"
   ]
  },
  {
   "cell_type": "code",
   "execution_count": 19,
   "metadata": {},
   "outputs": [
    {
     "data": {
      "text/plain": [
       "17"
      ]
     },
     "execution_count": 19,
     "metadata": {},
     "output_type": "execute_result"
    }
   ],
   "source": [
    "def vector_sum(vec_a):\n",
    "    output = 0\n",
    "    for num in vec_a:\n",
    "        output += num\n",
    "    return output\n",
    "vector_sum([8, 9])"
   ]
  },
  {
   "cell_type": "code",
   "execution_count": 21,
   "metadata": {},
   "outputs": [
    {
     "data": {
      "text/plain": [
       "5.25"
      ]
     },
     "execution_count": 21,
     "metadata": {},
     "output_type": "execute_result"
    }
   ],
   "source": [
    "def vector_average(vec_a):\n",
    "    output = 0\n",
    "    for num in vec_a:\n",
    "        output += num\n",
    "    return output / len(vec_a)\n",
    "vector_average([9, 2, 4, 6])"
   ]
  },
  {
   "cell_type": "code",
   "execution_count": 27,
   "metadata": {},
   "outputs": [
    {
     "data": {
      "text/plain": [
       "39"
      ]
     },
     "execution_count": 27,
     "metadata": {},
     "output_type": "execute_result"
    }
   ],
   "source": [
    "def dot_product(a, b):\n",
    "    return vector_sum(element_wise_mu(a, b))\n",
    "dot_product([4, 3], [9, 1])"
   ]
  },
  {
   "cell_type": "code",
   "execution_count": 31,
   "metadata": {},
   "outputs": [
    {
     "data": {
      "text/plain": [
       "array([0.85 , 0.065, 0.12 ])"
      ]
     },
     "execution_count": 31,
     "metadata": {},
     "output_type": "execute_result"
    }
   ],
   "source": [
    "import numpy as np\n",
    "weights = np.array([0.1, 0.2, 0])\n",
    "def neural_network(input, weights):\n",
    "    pred = input.dot(weight)\n",
    "    return pred\n",
    "\n",
    "toes = np.array([8.5, 9.5, 9.9, 9.0])\n",
    "wlrec = np.array([0.65, 0.8, 0.8, 0.9])\n",
    "nfans = np.array([1.2, 1.3, 0.5, 1.0])\n",
    "input = np.array([toes[0], wlrec[0], nfans[0]])\n",
    "neural_network(input, weights)"
   ]
  },
  {
   "cell_type": "markdown",
   "metadata": {},
   "source": [
    "### multiple predictions using only a single input"
   ]
  },
  {
   "cell_type": "code",
   "execution_count": 36,
   "metadata": {},
   "outputs": [
    {
     "data": {
      "text/plain": [
       "[0.42250000000000004, 0.52, 0.52, 0.5850000000000001]"
      ]
     },
     "execution_count": 36,
     "metadata": {},
     "output_type": "execute_result"
    }
   ],
   "source": [
    "wlrec = [0.65, 0.8, 0.8, 0.9]\n",
    "input = wlrec[0]\n",
    "def ele_mul(number, weights):\n",
    "    output = [0, 0, 0, 0]\n",
    "    assert(len(output) == len(weights))\n",
    "    for i in range(len(weights)):\n",
    "        output[i] = number * weights[i]\n",
    "    return output\n",
    "def neural_network(input, weights):\n",
    "    pred = ele_mul(input, weights)\n",
    "    return pred\n",
    "neural_network(input, wlrec)\n"
   ]
  },
  {
   "cell_type": "markdown",
   "metadata": {},
   "source": [
    "### Neural networks can predict multiple outputs"
   ]
  },
  {
   "cell_type": "code",
   "execution_count": 7,
   "metadata": {},
   "outputs": [
    {
     "data": {
      "text/plain": [
       "[0.555, 0.9800000000000001, 0.9650000000000001]"
      ]
     },
     "execution_count": 7,
     "metadata": {},
     "output_type": "execute_result"
    }
   ],
   "source": [
    "def vect_sum(input, weight):\n",
    "    assert(len(input) == len(weight))\n",
    "    output = 0\n",
    "    for i in range(len(input)):\n",
    "        output += input[i]*weight[i]\n",
    "    return output\n",
    "\n",
    "def vect_mat_mul(vect, matrix):\n",
    "    assert(len(vect) == len(matrix))\n",
    "    output = [0,0,0]\n",
    "    for i in range(len(vect)):\n",
    "        output[i] = vect_sum(vect, matrix[i])\n",
    "    return output\n",
    "def neural_network(input, weights):\n",
    "    pred = vect_mat_mul(input, weights)\n",
    "    return pred\n",
    "toes = [8.5, 9.5, 9.9, 9.0]\n",
    "wlrec = [0.65,0.8, 0.8, 0.9]\n",
    "nfans = [1.2, 1.3, 0.5, 1.0]\n",
    "input = [toes[0],wlrec[0],nfans[0]]\n",
    "weights = [ [0.1, 0.1, -0.3],# hurt?\n",
    "[0.1, 0.2, 0.0], # win?\n",
    "[0.0, 1.3, 0.1] ] # sad?\n",
    "neural_network(input, weights)"
   ]
  },
  {
   "cell_type": "markdown",
   "metadata": {},
   "source": [
    "### hidden layer"
   ]
  },
  {
   "cell_type": "code",
   "execution_count": 33,
   "metadata": {},
   "outputs": [
    {
     "name": "stdout",
     "output_type": "stream",
     "text": [
      "[0.21350000000000002, 0.14500000000000002, 0.5065]\n"
     ]
    }
   ],
   "source": [
    "# toes % win # fans\n",
    "ih_wgt = [ [0.1, 0.2, -0.1], # hid[0]\n",
    "[-0.1,0.1, 0.9], # hid[1]\n",
    "[0.1, 0.4, 0.1] ] # hid[2]\n",
    "#hid[0] hid[1] hid[2]\n",
    "hp_wgt = [ [0.3, 1.1, -0.3], # hurt?\n",
    "[0.1, 0.2, 0.0], # win?\n",
    "[0.0, 1.3, 0.1] ] # sad?\n",
    "weights = [ih_wgt, hp_wgt]\n",
    "def neural_network(input, weights):\n",
    "    hid1 = vect_mat_mul(input,weights[0])\n",
    "    pred = vect_mat_mul(hid1,weights[1])\n",
    "\n",
    "    return pred\n",
    "toes = [8.5, 9.5, 9.9, 9.0]\n",
    "wlrec = [0.65,0.8, 0.8, 0.9]\n",
    "nfans = [1.2, 1.3, 0.5, 1.0]\n",
    "input = [toes[0],wlrec[0],nfans[0]]\n",
    "pred = neural_network(input,weights)\n",
    "print(pred)\n"
   ]
  },
  {
   "cell_type": "markdown",
   "metadata": {},
   "source": [
    "### Numpy way"
   ]
  },
  {
   "cell_type": "code",
   "execution_count": 32,
   "metadata": {},
   "outputs": [
    {
     "data": {
      "text/plain": [
       "array([ 0.496,  1.256, -0.286])"
      ]
     },
     "execution_count": 32,
     "metadata": {},
     "output_type": "execute_result"
    }
   ],
   "source": [
    "import numpy as np\n",
    "# toes % win # fans\n",
    "ih_wgt = np.array([ [0.1, 0.2, -0.1], # hid[0]\n",
    "[-0.1,0.1, 0.9], # hid[1]\n",
    "[0.1, 0.4, 0.1] ]) # hid[2]\n",
    "#hid[0] hid[1] hid[2]\n",
    "hp_wgt = np.array([ [0.3, 1.1, -0.3], # hurt?\n",
    "[0.1, 0.2, 0.0], # win?\n",
    "[0.0, 1.3, 0.1] ]) # sad?\n",
    "weights = np.array([ih_wgt, hp_wgt])\n",
    "def neural_network(input, weights):\n",
    "    hid = input.dot(weights[0])\n",
    "    pred = hid.dot(weights[1])\n",
    "    return pred\n",
    "toes = np.array([8.5, 9.5, 9.9, 9.0])\n",
    "wlrec = np.array([0.65,0.8, 0.8, 0.9])\n",
    "nfans = np.array([1.2, 1.3, 0.5, 1.0])\n",
    "input = np.array([toes[0],wlrec[0],nfans[0]])\n",
    "input = np.array([toes[0],wlrec[0],nfans[0]])\n",
    "neural_network(input, weights)"
   ]
  },
  {
   "cell_type": "code",
   "execution_count": 41,
   "metadata": {},
   "outputs": [
    {
     "data": {
      "text/plain": [
       "0.30250000000000005"
      ]
     },
     "execution_count": 41,
     "metadata": {},
     "output_type": "execute_result"
    }
   ],
   "source": [
    "knob_weight = 0.5\n",
    "input = 0.5\n",
    "goal_pred = 0.8\n",
    "pred = input * knob_weight\n",
    "error = (pred - goal_pred)**2\n",
    "error"
   ]
  },
  {
   "cell_type": "markdown",
   "metadata": {},
   "source": [
    "### Hot and cold learning"
   ]
  },
  {
   "cell_type": "code",
   "execution_count": 69,
   "metadata": {},
   "outputs": [
    {
     "name": "stdout",
     "output_type": "stream",
     "text": [
      "0.7999999999999672\n"
     ]
    }
   ],
   "source": [
    "weight = 0.5\n",
    "input = .5\n",
    "goal_pred = .8\n",
    "steps = .001\n",
    "for _ in range(2111):\n",
    "    pred = input * weight\n",
    "    error = (pred - goal_pred) **2\n",
    "    # print(f'Our error {error} with pred of {pred}')\n",
    "    up_pred = input * (weight + steps)\n",
    "    up_error = (up_pred - goal_pred)**2\n",
    "    down_pred = input * (weight - steps)\n",
    "    down_error = (down_pred - goal_pred) **2\n",
    "    if down_error < up_error:\n",
    "        weight = weight - steps\n",
    "    if down_error > up_error:\n",
    "        weight = weight + steps\n",
    "print(pred)\n"
   ]
  },
  {
   "cell_type": "markdown",
   "metadata": {},
   "source": [
    "### gradient descent"
   ]
  },
  {
   "cell_type": "code",
   "execution_count": 1,
   "metadata": {},
   "outputs": [],
   "source": [
    "weight = 0.5\n",
    "input = .5\n",
    "goal_pred = .8\n",
    "for _ in range(20):\n",
    "    pred = input * weight\n",
    "    error = (pred - goal_pred) **2\n",
    "    direction_and_amount = (pred - goal_pred) * input\n",
    "    weight = weight - direction_and_amount\n",
    "    # print(f'Error is {error} with prediction of {pred}')\n"
   ]
  },
  {
   "cell_type": "code",
   "execution_count": 2,
   "metadata": {},
   "outputs": [],
   "source": [
    "weight = 0.5\n",
    "goal_pred = .8\n",
    "input = 2\n",
    "alpha = .1"
   ]
  },
  {
   "cell_type": "code",
   "execution_count": 3,
   "metadata": {},
   "outputs": [],
   "source": [
    "for _ in range(20):\n",
    "    pred = input * weight\n",
    "    error = (pred - goal_pred)**2\n",
    "    derivative = (pred - goal_pred) * input\n",
    "    weight = weight - (alpha * derivative)\n",
    "    # print(f\"Error: + {error} Prediction: + {pred}\")"
   ]
  },
  {
   "cell_type": "code",
   "execution_count": 21,
   "metadata": {},
   "outputs": [
    {
     "name": "stdout",
     "output_type": "stream",
     "text": [
      "Iteration:1\n",
      "Pred:0.8600000000000001\n",
      "Error:0.01959999999999997\n",
      "Delta:-0.1399999999999999\n",
      "Weights:[0.1, 0.2, -0.1]\n",
      "Weight_Deltas:\n",
      "[0, -0.09099999999999994, -0.16799999999999987]\n",
      "\n",
      "Iteration:2\n",
      "Pred:0.9382250000000001\n",
      "Error:0.003816150624999989\n",
      "Delta:-0.06177499999999991\n",
      "Weights:[0.1, 0.2273, -0.04960000000000005]\n",
      "Weight_Deltas:\n",
      "[0, -0.040153749999999946, -0.07412999999999989]\n",
      "\n",
      "Iteration:3\n",
      "Pred:0.97274178125\n",
      "Error:0.000743010489422852\n",
      "Delta:-0.027258218750000007\n",
      "Weights:[0.1, 0.239346125, -0.02736100000000008]\n",
      "Weight_Deltas:\n",
      "[0, -0.017717842187500006, -0.032709862500000006]\n",
      "\n",
      "Iteration:4\n",
      "Pred:0.9879723109765626\n",
      "Error:0.00014466530324451716\n",
      "Delta:-0.012027689023437427\n",
      "Weights:[0.1, 0.24466147765625, -0.017548041250000077]\n",
      "Weight_Deltas:\n",
      "[0, -0.007817997865234327, -0.014433226828124911]\n",
      "\n",
      "Iteration:5\n",
      "Pred:0.9946927822184082\n",
      "Error:2.816656058124442e-05\n",
      "Delta:-0.005307217781591822\n",
      "Weights:[0.1, 0.24700687701582028, -0.013218073201562604]\n",
      "Weight_Deltas:\n",
      "[0, -0.0034496915580346844, -0.006368661337910186]\n",
      "\n",
      "Iteration:6\n",
      "Pred:0.9976581901538726\n",
      "Error:5.4840733554193225e-06\n",
      "Delta:-0.0023418098461274184\n",
      "Weights:[0.1, 0.2480417844832307, -0.011307474800189548]\n",
      "Weight_Deltas:\n",
      "[0, -0.001522176399982822, -0.002810171815352902]\n",
      "\n",
      "Iteration:7\n",
      "Pred:0.9989666764053963\n",
      "Error:1.0677576511647737e-06\n",
      "Delta:-0.00103332359460373\n",
      "Weights:[0.1, 0.24849843740322555, -0.010464423255583678]\n",
      "Weight_Deltas:\n",
      "[0, -0.0006716603364924246, -0.001239988313524476]\n",
      "\n",
      "Iteration:8\n",
      "Pred:0.9995440459638811\n",
      "Error:2.0789408305308443e-07\n",
      "Delta:-0.0004559540361188663\n",
      "Weights:[0.1, 0.24869993550417327, -0.010092426761526335]\n",
      "Weight_Deltas:\n",
      "[0, -0.0002963701234772631, -0.0005471448433426396]\n",
      "\n",
      "Iteration:9\n",
      "Pred:0.9997988102815626\n",
      "Error:4.047730280492479e-08\n",
      "Delta:-0.00020118971843741118\n",
      "Weights:[0.1, 0.24878884654121644, -0.009928283308523543]\n",
      "Weight_Deltas:\n",
      "[0, -0.00013077331698431728, -0.0002414276621248934]\n",
      "\n",
      "Iteration:10\n",
      "Pred:0.9999112250367393\n",
      "Error:7.88099410193004e-09\n",
      "Delta:-8.87749632606516e-05\n",
      "Weights:[0.1, 0.24882807853631173, -0.009855855009886075]\n",
      "Weight_Deltas:\n",
      "[0, -5.770372611942354e-05, -0.00010652995591278191]\n",
      "\n",
      "Iteration:11\n",
      "Pred:0.9999608280474613\n",
      "Error:1.534441865691311e-09\n",
      "Delta:-3.917195253866357e-05\n",
      "Weights:[0.1, 0.24884538965414754, -0.00982389602311224]\n",
      "Weight_Deltas:\n",
      "[0, -2.546176915013132e-05, -4.700634304639628e-05]\n",
      "\n",
      "Iteration:12\n",
      "Pred:0.9999827153759423\n",
      "Error:2.9875822881604593e-10\n",
      "Delta:-1.7284624057700704e-05\n",
      "Weights:[0.1, 0.24885302818489258, -0.00980979412019832]\n",
      "Weight_Deltas:\n",
      "[0, -1.1235005637505458e-05, -2.0741548869240842e-05]\n",
      "\n",
      "Iteration:13\n",
      "Pred:0.9999923731596346\n",
      "Error:5.816869395885552e-11\n",
      "Delta:-7.626840365371201e-06\n",
      "Weights:[0.1, 0.24885639868658382, -0.009803571655537548]\n",
      "Weight_Deltas:\n",
      "[0, -4.957446237491281e-06, -9.152208438445442e-06]\n",
      "\n",
      "Iteration:14\n",
      "Pred:0.9999966346566886\n",
      "Error:1.132553560329354e-11\n",
      "Delta:-3.365343311356739e-06\n",
      "Weights:[0.1, 0.24885788592045507, -0.009800825993006015]\n",
      "Weight_Deltas:\n",
      "[0, -2.1874731523818804e-06, -4.038411973628086e-06]\n",
      "\n",
      "Iteration:15\n",
      "Pred:0.999998515042264\n",
      "Error:2.205099477699298e-12\n",
      "Delta:-1.4849577359976607e-06\n",
      "Weights:[0.1, 0.24885854216240078, -0.009799614469413926]\n",
      "Weight_Deltas:\n",
      "[0, -9.652225283984795e-07, -1.7819492831971926e-06]\n",
      "\n",
      "Iteration:16\n",
      "Pred:0.9999993447623988\n",
      "Error:4.2933631399622575e-13\n",
      "Delta:-6.552376011770278e-07\n",
      "Weights:[0.1, 0.2488588317291593, -0.009799079884628966]\n",
      "Weight_Deltas:\n",
      "[0, -4.259044407650681e-07, -7.862851214124333e-07]\n",
      "\n",
      "Iteration:17\n",
      "Pred:0.9999997108764085\n",
      "Error:8.359245116912362e-14\n",
      "Delta:-2.891235915125634e-07\n",
      "Weights:[0.1, 0.24885895950049153, -0.009798843999092543]\n",
      "Weight_Deltas:\n",
      "[0, -1.879303344831662e-07, -3.4694830981507606e-07]\n",
      "\n",
      "Iteration:18\n",
      "Pred:0.9999998724242153\n",
      "Error:1.627558084542296e-14\n",
      "Delta:-1.275757847141179e-07\n",
      "Weights:[0.1, 0.24885901587959186, -0.009798739914599598]\n",
      "Weight_Deltas:\n",
      "[0, -8.292426006417664e-08, -1.5309094165694147e-07]\n",
      "\n",
      "Iteration:19\n",
      "Pred:0.999999943707185\n",
      "Error:3.168881016683471e-15\n",
      "Delta:-5.629281496499772e-08\n",
      "Weights:[0.1, 0.24885904075686988, -0.0097986939873171]\n",
      "Weight_Deltas:\n",
      "[0, -3.659032972724852e-08, -6.755137795799725e-08]\n",
      "\n",
      "Iteration:20\n",
      "Pred:0.9999999751607953\n",
      "Error:6.169860897854493e-16\n",
      "Delta:-2.483920469309453e-08\n",
      "Weights:[0.1, 0.2488590517339688, -0.009798673721903713]\n",
      "Weight_Deltas:\n",
      "[0, -1.6145483050511445e-08, -2.9807045631713434e-08]\n",
      "\n"
     ]
    }
   ],
   "source": [
    "def neural_network(input, weights):\n",
    "    output = 0\n",
    "    for i in range(len(input)):\n",
    "        output += input[i] * weights[i]\n",
    "    return output\n",
    "def elect_mul(scalar, vector):\n",
    "    output = [0, 0, 0]\n",
    "    for i in range(len(output)):\n",
    "        output[i] = scalar * vector[i]\n",
    "    return output\n",
    "toes = [8.5, 9.5, 9.9, 9.0]\n",
    "wlrec = [0.65, 0.8, 0.8, 0.9]\n",
    "nfans = [1.2, 1.3, 0.5, 1.0]\n",
    "win_or_lose_binary = [1, 1, 0, 1]\n",
    "true = win_or_lose_binary[0]\n",
    "alpha = 0.3\n",
    "weights = [0.1, 0.2, -.1]\n",
    "input = [toes[0],wlrec[0],nfans[0]]\n",
    "for iter in range(20):\n",
    "    pred = neural_network(input, weights)\n",
    "    error = (pred - true) ** 2\n",
    "    delta = pred - true\n",
    "    weight_deltas = elect_mul(delta, input)\n",
    "    weight_deltas[0] = 0\n",
    "    print(\"Iteration:\" + str(iter+1))\n",
    "    print(\"Pred:\" + str(pred))\n",
    "    print(\"Error:\" + str(error))\n",
    "    print(\"Delta:\" + str(delta))\n",
    "    print(\"Weights:\" + str(weights))\n",
    "    print(\"Weight_Deltas:\")\n",
    "    print(str(weight_deltas))\n",
    "    print()\n",
    "    for i in range(len(weights)):\n",
    "        weights[i] -= alpha * weight_deltas[i]\n"
   ]
  },
  {
   "cell_type": "code",
   "execution_count": null,
   "metadata": {},
   "outputs": [],
   "source": []
  }
 ],
 "metadata": {
  "kernelspec": {
   "display_name": "Python 3",
   "language": "python",
   "name": "python3"
  },
  "language_info": {
   "codemirror_mode": {
    "name": "ipython",
    "version": 3
   },
   "file_extension": ".py",
   "mimetype": "text/x-python",
   "name": "python",
   "nbconvert_exporter": "python",
   "pygments_lexer": "ipython3",
   "version": "3.10.9"
  }
 },
 "nbformat": 4,
 "nbformat_minor": 2
}
