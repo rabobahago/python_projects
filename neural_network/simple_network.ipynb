{
 "cells": [
  {
   "cell_type": "code",
   "execution_count": 1,
   "metadata": {},
   "outputs": [
    {
     "data": {
      "text/plain": [
       "0.8500000000000001"
      ]
     },
     "execution_count": 1,
     "metadata": {},
     "output_type": "execute_result"
    }
   ],
   "source": [
    "weight = 0.1\n",
    "number_of_toes = [8.5, 9.5, 10, 9]\n",
    "def neural_network(input, weight):\n",
    "    prediction = input * weight # information multiply by knowledge\n",
    "    return prediction\n",
    "input_data = number_of_toes[0]\n",
    "neural_network(input_data, weight)"
   ]
  },
  {
   "cell_type": "code",
   "execution_count": 7,
   "metadata": {},
   "outputs": [
    {
     "data": {
      "text/plain": [
       "0.9800000000000001"
      ]
     },
     "execution_count": 7,
     "metadata": {},
     "output_type": "execute_result"
    }
   ],
   "source": [
    "toes = [8.5, 9.5, 9.9, 9.0]\n",
    "wlrec = [0.65, 0.8, 0.8, 0.9]\n",
    "nfans = [1.2, 1.3, 0.5, 1.0]\n",
    "input = [toes[0], wlrec[0], nfans[0]]\n",
    "weights = [0.1, .2, .0]\n",
    "def w_sum(a, b):\n",
    "    assert(len(a) == len(b))\n",
    "    output = 0\n",
    "    for i in range(len(a)):\n",
    "        output += a[i] * b[i]\n",
    "    return output\n",
    "def neural_network(input, weights):\n",
    "    pred = w_sum(input, weights)\n",
    "    return pred\n",
    "neural_network(input, weights)"
   ]
  },
  {
   "cell_type": "markdown",
   "metadata": {},
   "source": [
    "### Elementwise Multiplication"
   ]
  },
  {
   "cell_type": "code",
   "execution_count": 24,
   "metadata": {},
   "outputs": [
    {
     "name": "stdout",
     "output_type": "stream",
     "text": [
      "[18, 0]\n",
      "[12, -12]\n"
     ]
    }
   ],
   "source": [
    "def element_wise_mu(a, b):\n",
    "    assert(len(a) == len(b))\n",
    "    output = []\n",
    "    for i in range(len(a)):\n",
    "        output.append(a[i] * b[i])\n",
    "\n",
    "    return output\n",
    "print(element_wise_mu([2, 4], [9, 0]))\n",
    "print(element_wise_mu([2, 4],[6,-3]))"
   ]
  },
  {
   "cell_type": "code",
   "execution_count": 22,
   "metadata": {},
   "outputs": [
    {
     "name": "stdout",
     "output_type": "stream",
     "text": [
      "[11, 4]\n",
      "[8, 1]\n"
     ]
    }
   ],
   "source": [
    "def element_wise_add(a, b):\n",
    "    assert(len(a) == len(b))\n",
    "    output = []\n",
    "    for i in range(len(a)):\n",
    "        output.append(a[i] + b[i])\n",
    "\n",
    "    return output\n",
    "print(element_wise_add([2, 4], [9, 0]))\n",
    "print(element_wise_add([2, 4],[6,-3]))"
   ]
  },
  {
   "cell_type": "code",
   "execution_count": 19,
   "metadata": {},
   "outputs": [
    {
     "data": {
      "text/plain": [
       "17"
      ]
     },
     "execution_count": 19,
     "metadata": {},
     "output_type": "execute_result"
    }
   ],
   "source": [
    "def vector_sum(vec_a):\n",
    "    output = 0\n",
    "    for num in vec_a:\n",
    "        output += num\n",
    "    return output\n",
    "vector_sum([8, 9])"
   ]
  },
  {
   "cell_type": "code",
   "execution_count": 21,
   "metadata": {},
   "outputs": [
    {
     "data": {
      "text/plain": [
       "5.25"
      ]
     },
     "execution_count": 21,
     "metadata": {},
     "output_type": "execute_result"
    }
   ],
   "source": [
    "def vector_average(vec_a):\n",
    "    output = 0\n",
    "    for num in vec_a:\n",
    "        output += num\n",
    "    return output / len(vec_a)\n",
    "vector_average([9, 2, 4, 6])"
   ]
  },
  {
   "cell_type": "code",
   "execution_count": 27,
   "metadata": {},
   "outputs": [
    {
     "data": {
      "text/plain": [
       "39"
      ]
     },
     "execution_count": 27,
     "metadata": {},
     "output_type": "execute_result"
    }
   ],
   "source": [
    "def dot_product(a, b):\n",
    "    return vector_sum(element_wise_mu(a, b))\n",
    "dot_product([4, 3], [9, 1])"
   ]
  },
  {
   "cell_type": "code",
   "execution_count": 31,
   "metadata": {},
   "outputs": [
    {
     "data": {
      "text/plain": [
       "array([0.85 , 0.065, 0.12 ])"
      ]
     },
     "execution_count": 31,
     "metadata": {},
     "output_type": "execute_result"
    }
   ],
   "source": [
    "import numpy as np\n",
    "weights = np.array([0.1, 0.2, 0])\n",
    "def neural_network(input, weights):\n",
    "    pred = input.dot(weight)\n",
    "    return pred\n",
    "\n",
    "toes = np.array([8.5, 9.5, 9.9, 9.0])\n",
    "wlrec = np.array([0.65, 0.8, 0.8, 0.9])\n",
    "nfans = np.array([1.2, 1.3, 0.5, 1.0])\n",
    "input = np.array([toes[0], wlrec[0], nfans[0]])\n",
    "neural_network(input, weights)"
   ]
  },
  {
   "cell_type": "markdown",
   "metadata": {},
   "source": [
    "### multiple predictions using only a single input"
   ]
  },
  {
   "cell_type": "code",
   "execution_count": 36,
   "metadata": {},
   "outputs": [
    {
     "data": {
      "text/plain": [
       "[0.42250000000000004, 0.52, 0.52, 0.5850000000000001]"
      ]
     },
     "execution_count": 36,
     "metadata": {},
     "output_type": "execute_result"
    }
   ],
   "source": [
    "wlrec = [0.65, 0.8, 0.8, 0.9]\n",
    "input = wlrec[0]\n",
    "def ele_mul(number, weights):\n",
    "    output = [0, 0, 0, 0]\n",
    "    assert(len(output) == len(weights))\n",
    "    for i in range(len(weights)):\n",
    "        output[i] = number * weights[i]\n",
    "    return output\n",
    "def neural_network(input, weights):\n",
    "    pred = ele_mul(input, weights)\n",
    "    return pred\n",
    "neural_network(input, wlrec)\n"
   ]
  },
  {
   "cell_type": "markdown",
   "metadata": {},
   "source": [
    "### Neural networks can predict multiple outputs"
   ]
  },
  {
   "cell_type": "code",
   "execution_count": 7,
   "metadata": {},
   "outputs": [
    {
     "data": {
      "text/plain": [
       "[0.555, 0.9800000000000001, 0.9650000000000001]"
      ]
     },
     "execution_count": 7,
     "metadata": {},
     "output_type": "execute_result"
    }
   ],
   "source": [
    "def vect_sum(input, weight):\n",
    "    assert(len(input) == len(weight))\n",
    "    output = 0\n",
    "    for i in range(len(input)):\n",
    "        output += input[i]*weight[i]\n",
    "    return output\n",
    "\n",
    "def vect_mat_mul(vect, matrix):\n",
    "    assert(len(vect) == len(matrix))\n",
    "    output = [0,0,0]\n",
    "    for i in range(len(vect)):\n",
    "        output[i] = vect_sum(vect, matrix[i])\n",
    "    return output\n",
    "def neural_network(input, weights):\n",
    "    pred = vect_mat_mul(input, weights)\n",
    "    return pred\n",
    "toes = [8.5, 9.5, 9.9, 9.0]\n",
    "wlrec = [0.65,0.8, 0.8, 0.9]\n",
    "nfans = [1.2, 1.3, 0.5, 1.0]\n",
    "input = [toes[0],wlrec[0],nfans[0]]\n",
    "weights = [ [0.1, 0.1, -0.3],# hurt?\n",
    "[0.1, 0.2, 0.0], # win?\n",
    "[0.0, 1.3, 0.1] ] # sad?\n",
    "neural_network(input, weights)"
   ]
  },
  {
   "cell_type": "markdown",
   "metadata": {},
   "source": [
    "### hidden layer"
   ]
  },
  {
   "cell_type": "code",
   "execution_count": 33,
   "metadata": {},
   "outputs": [
    {
     "name": "stdout",
     "output_type": "stream",
     "text": [
      "[0.21350000000000002, 0.14500000000000002, 0.5065]\n"
     ]
    }
   ],
   "source": [
    "# toes % win # fans\n",
    "ih_wgt = [ [0.1, 0.2, -0.1], # hid[0]\n",
    "[-0.1,0.1, 0.9], # hid[1]\n",
    "[0.1, 0.4, 0.1] ] # hid[2]\n",
    "#hid[0] hid[1] hid[2]\n",
    "hp_wgt = [ [0.3, 1.1, -0.3], # hurt?\n",
    "[0.1, 0.2, 0.0], # win?\n",
    "[0.0, 1.3, 0.1] ] # sad?\n",
    "weights = [ih_wgt, hp_wgt]\n",
    "def neural_network(input, weights):\n",
    "    hid1 = vect_mat_mul(input,weights[0])\n",
    "    pred = vect_mat_mul(hid1,weights[1])\n",
    "\n",
    "    return pred\n",
    "toes = [8.5, 9.5, 9.9, 9.0]\n",
    "wlrec = [0.65,0.8, 0.8, 0.9]\n",
    "nfans = [1.2, 1.3, 0.5, 1.0]\n",
    "input = [toes[0],wlrec[0],nfans[0]]\n",
    "pred = neural_network(input,weights)\n",
    "print(pred)\n"
   ]
  },
  {
   "cell_type": "markdown",
   "metadata": {},
   "source": [
    "### Numpy way"
   ]
  },
  {
   "cell_type": "code",
   "execution_count": 32,
   "metadata": {},
   "outputs": [
    {
     "data": {
      "text/plain": [
       "array([ 0.496,  1.256, -0.286])"
      ]
     },
     "execution_count": 32,
     "metadata": {},
     "output_type": "execute_result"
    }
   ],
   "source": [
    "import numpy as np\n",
    "# toes % win # fans\n",
    "ih_wgt = np.array([ [0.1, 0.2, -0.1], # hid[0]\n",
    "[-0.1,0.1, 0.9], # hid[1]\n",
    "[0.1, 0.4, 0.1] ]) # hid[2]\n",
    "#hid[0] hid[1] hid[2]\n",
    "hp_wgt = np.array([ [0.3, 1.1, -0.3], # hurt?\n",
    "[0.1, 0.2, 0.0], # win?\n",
    "[0.0, 1.3, 0.1] ]) # sad?\n",
    "weights = np.array([ih_wgt, hp_wgt])\n",
    "def neural_network(input, weights):\n",
    "    hid = input.dot(weights[0])\n",
    "    pred = hid.dot(weights[1])\n",
    "    return pred\n",
    "toes = np.array([8.5, 9.5, 9.9, 9.0])\n",
    "wlrec = np.array([0.65,0.8, 0.8, 0.9])\n",
    "nfans = np.array([1.2, 1.3, 0.5, 1.0])\n",
    "input = np.array([toes[0],wlrec[0],nfans[0]])\n",
    "input = np.array([toes[0],wlrec[0],nfans[0]])\n",
    "neural_network(input, weights)"
   ]
  },
  {
   "cell_type": "code",
   "execution_count": 41,
   "metadata": {},
   "outputs": [
    {
     "data": {
      "text/plain": [
       "0.30250000000000005"
      ]
     },
     "execution_count": 41,
     "metadata": {},
     "output_type": "execute_result"
    }
   ],
   "source": [
    "knob_weight = 0.5\n",
    "input = 0.5\n",
    "goal_pred = 0.8\n",
    "pred = input * knob_weight\n",
    "error = (pred - goal_pred)**2\n",
    "error"
   ]
  },
  {
   "cell_type": "markdown",
   "metadata": {},
   "source": [
    "### Hot and cold learning"
   ]
  },
  {
   "cell_type": "code",
   "execution_count": 69,
   "metadata": {},
   "outputs": [
    {
     "name": "stdout",
     "output_type": "stream",
     "text": [
      "0.7999999999999672\n"
     ]
    }
   ],
   "source": [
    "weight = 0.5\n",
    "input = .5\n",
    "goal_pred = .8\n",
    "steps = .001\n",
    "for _ in range(2111):\n",
    "    pred = input * weight\n",
    "    error = (pred - goal_pred) **2\n",
    "    # print(f'Our error {error} with pred of {pred}')\n",
    "    up_pred = input * (weight + steps)\n",
    "    up_error = (up_pred - goal_pred)**2\n",
    "    down_pred = input * (weight - steps)\n",
    "    down_error = (down_pred - goal_pred) **2\n",
    "    if down_error < up_error:\n",
    "        weight = weight - steps\n",
    "    if down_error > up_error:\n",
    "        weight = weight + steps\n",
    "print(pred)\n"
   ]
  },
  {
   "cell_type": "markdown",
   "metadata": {},
   "source": [
    "### gradient descent"
   ]
  },
  {
   "cell_type": "code",
   "execution_count": 1,
   "metadata": {},
   "outputs": [],
   "source": [
    "weight = 0.5\n",
    "input = .5\n",
    "goal_pred = .8\n",
    "for _ in range(20):\n",
    "    pred = input * weight\n",
    "    error = (pred - goal_pred) **2\n",
    "    direction_and_amount = (pred - goal_pred) * input\n",
    "    weight = weight - direction_and_amount\n",
    "    # print(f'Error is {error} with prediction of {pred}')\n"
   ]
  },
  {
   "cell_type": "code",
   "execution_count": 2,
   "metadata": {},
   "outputs": [],
   "source": [
    "weight = 0.5\n",
    "goal_pred = .8\n",
    "input = 2\n",
    "alpha = .1"
   ]
  },
  {
   "cell_type": "code",
   "execution_count": 4,
   "metadata": {},
   "outputs": [
    {
     "name": "stdout",
     "output_type": "stream",
     "text": [
      "Error: + 0.03999999999999998 Prediction: + 1.0\n",
      "Error: + 0.0144 Prediction: + 0.92\n",
      "Error: + 0.005183999999999993 Prediction: + 0.872\n",
      "Error: + 0.0018662400000000014 Prediction: + 0.8432000000000001\n",
      "Error: + 0.0006718464000000028 Prediction: + 0.8259200000000001\n",
      "Error: + 0.00024186470400000033 Prediction: + 0.815552\n",
      "Error: + 8.70712934399997e-05 Prediction: + 0.8093312\n",
      "Error: + 3.134566563839939e-05 Prediction: + 0.80559872\n",
      "Error: + 1.1284439629823931e-05 Prediction: + 0.803359232\n",
      "Error: + 4.062398266736526e-06 Prediction: + 0.8020155392\n",
      "Error: + 1.4624633760252567e-06 Prediction: + 0.8012093235200001\n",
      "Error: + 5.264868153690924e-07 Prediction: + 0.8007255941120001\n",
      "Error: + 1.8953525353291194e-07 Prediction: + 0.8004353564672001\n",
      "Error: + 6.82326912718715e-08 Prediction: + 0.8002612138803201\n",
      "Error: + 2.456376885786678e-08 Prediction: + 0.8001567283281921\n",
      "Error: + 8.842956788836216e-09 Prediction: + 0.8000940369969153\n",
      "Error: + 3.1834644439835434e-09 Prediction: + 0.8000564221981492\n",
      "Error: + 1.1460471998340758e-09 Prediction: + 0.8000338533188895\n",
      "Error: + 4.125769919393652e-10 Prediction: + 0.8000203119913337\n",
      "Error: + 1.485277170987127e-10 Prediction: + 0.8000121871948003\n"
     ]
    }
   ],
   "source": [
    "for _ in range(20):\n",
    "    pred = input * weight\n",
    "    error = (pred - goal_pred)**2\n",
    "    derivative = (pred - goal_pred) * input\n",
    "    weight = weight - (alpha * derivative)\n",
    "    print(f\"Error: + {error} Prediction: + {pred}\")"
   ]
  },
  {
   "cell_type": "code",
   "execution_count": 5,
   "metadata": {},
   "outputs": [],
   "source": [
    "def w_sum(a,b):\n",
    "    assert(len(a) == len(b))\n",
    "    output = 0\n",
    "    for i in range(len(a)):\n",
    "        output += (a[i] * b[i])\n",
    "    return output\n",
    "weights = [0.1, 0.2, -.1]\n",
    "def neural_network(input, weights):\n",
    "    pred = w_sum(input,weights)\n",
    "    return pred\n",
    "\n",
    "toes = [8.5 , 9.5, 9.9, 9.0]\n",
    "wlrec = [0.65, 0.8, 0.8, 0.9]\n",
    "nfans = [1.2 , 1.3, 0.5, 1.0]\n",
    "win_or_lose_binary = [1, 1, 0, 1]\n",
    "true = win_or_lose_binary[0]\n",
    "input = [toes[0],wlrec[0],nfans[0]]\n",
    "pred = neural_network(input,weights)\n",
    "error = (pred - true) ** 2\n",
    "delta = pred - true"
   ]
  },
  {
   "cell_type": "code",
   "execution_count": null,
   "metadata": {},
   "outputs": [],
   "source": [
    "def ele_mul(number,vector):\n",
    "    output = [0,0,0]\n",
    "    assert(len(output) == len(vector))\n",
    "    for i in range(len(vector)):\n",
    "        output[i] = number * vector[i]\n",
    "    return output\n",
    "input = [toes[0],wlrec[0],nfans[0]]\n",
    "pred = neural_network(input,weight)\n",
    "error = (pred - true) ** 2\n",
    "delta = pred - true\n",
    "weight_deltas = ele_mul(delta,input)"
   ]
  }
 ],
 "metadata": {
  "kernelspec": {
   "display_name": "Python 3",
   "language": "python",
   "name": "python3"
  },
  "language_info": {
   "codemirror_mode": {
    "name": "ipython",
    "version": 3
   },
   "file_extension": ".py",
   "mimetype": "text/x-python",
   "name": "python",
   "nbconvert_exporter": "python",
   "pygments_lexer": "ipython3",
   "version": "3.10.9"
  }
 },
 "nbformat": 4,
 "nbformat_minor": 2
}
