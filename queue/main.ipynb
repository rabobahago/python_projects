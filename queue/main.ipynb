{
 "cells": [
  {
   "cell_type": "markdown",
   "metadata": {},
   "source": [
    "# Queue"
   ]
  },
  {
   "cell_type": "code",
   "execution_count": 1,
   "metadata": {},
   "outputs": [
    {
     "data": {
      "text/plain": [
       "'Ooh, The queue item is empty'"
      ]
     },
     "execution_count": 1,
     "metadata": {},
     "output_type": "execute_result"
    }
   ],
   "source": [
    "class Queue:\n",
    "    def __init__(self) -> None:\n",
    "        self.front = -1\n",
    "        self.rear =-1\n",
    "        self.queue_items = []\n",
    "    def push(self, item)-> None:\n",
    "        if not self.queue_items:\n",
    "            self.rear += 1\n",
    "            self.front += 1\n",
    "            self.queue_items += [item]\n",
    "            return len(self.queue_items)\n",
    "        else:\n",
    "            self.front += 1\n",
    "            self.queue_items += [item]\n",
    "            return len(self.queue_items)\n",
    "    def return_str(self):\n",
    "        return f'Ooh, The queue item is empty'\n",
    "    def pop(self):\n",
    "        if self.is_empty():\n",
    "            return self.return_str()\n",
    "        if len(self.queue_items) == 1:\n",
    "            self.front = -1\n",
    "            self.rear = -1\n",
    "            remove_item = self.queue_items[self.rear]\n",
    "            del self.queue_items[self.rear]\n",
    "            return remove_item\n",
    "        remove_item = self.queue_items[self.rear]\n",
    "        del self.queue_items[self.rear]\n",
    "        self.rear -= 1\n",
    "        self.front -= 1\n",
    "        return remove_item\n",
    "    def is_empty(self):\n",
    "        return len(self.queue_items) == 0\n",
    "    def peek_front(self):\n",
    "        if self.is_empty():\n",
    "            return self.return_str()\n",
    "        return self.queue_items[self.front]\n",
    "    def peek_rear(self):\n",
    "        if self.is_empty():\n",
    "            return self.return_str()\n",
    "        return self.queue_items[self.rear]\n",
    "queue = Queue()\n",
    "queue.push(23)\n",
    "queue.queue_items\n",
    "queue.push(67)\n",
    "queue.push(100)\n",
    "queue.queue_items\n",
    "queue.peek_rear()\n",
    "queue.peek_front()\n",
    "queue.pop()\n",
    "queue.queue_items\n",
    "queue.pop()\n",
    "queue.pop()\n",
    "queue.queue_items\n",
    "queue.pop()\n"
   ]
  },
  {
   "cell_type": "code",
   "execution_count": null,
   "metadata": {},
   "outputs": [],
   "source": []
  }
 ],
 "metadata": {
  "kernelspec": {
   "display_name": "base",
   "language": "python",
   "name": "python3"
  },
  "language_info": {
   "codemirror_mode": {
    "name": "ipython",
    "version": 3
   },
   "file_extension": ".py",
   "mimetype": "text/x-python",
   "name": "python",
   "nbconvert_exporter": "python",
   "pygments_lexer": "ipython3",
   "version": "3.10.9"
  }
 },
 "nbformat": 4,
 "nbformat_minor": 2
}
