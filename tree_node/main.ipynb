{
 "cells": [
  {
   "cell_type": "markdown",
   "metadata": {},
   "source": [
    "# Tree Node"
   ]
  },
  {
   "cell_type": "code",
   "execution_count": 1,
   "metadata": {},
   "outputs": [
    {
     "name": "stdout",
     "output_type": "stream",
     "text": [
      "Root Node\n",
      "Left Child\n",
      "left grandchild\n"
     ]
    }
   ],
   "source": [
    "class Node:\n",
    "    def __init__(self, data) -> None:\n",
    "        self.data =data\n",
    "        self.left_child = None\n",
    "        self.right_child = None\n",
    "n1 = Node('Root Node')\n",
    "n2 = Node('Right Child')\n",
    "n3 = Node('Left Child')\n",
    "n4 = Node('left grandchild')\n",
    "\n",
    "n1.left_child = n3\n",
    "n1.right_child = n2\n",
    "n3.left_child = n4\n",
    "current = n1\n",
    "while current:\n",
    "    print(current.data)\n",
    "    current = current.left_child"
   ]
  },
  {
   "cell_type": "code",
   "execution_count": 12,
   "metadata": {},
   "outputs": [
    {
     "name": "stdout",
     "output_type": "stream",
     "text": [
      "4\n",
      "1\n",
      "2\n"
     ]
    }
   ],
   "source": [
    "class Node:\n",
    "    def __init__(self, key) -> None:\n",
    "        self.left =None\n",
    "        self.right = None\n",
    "        self.data = key\n",
    "root = Node(4)\n",
    "root.left =Node(1)\n",
    "root.right = Node(6)\n",
    "root.left.left = Node(2)\n",
    "current = root\n",
    "while current:\n",
    "    print(current.data)\n",
    "    current = current.left"
   ]
  },
  {
   "cell_type": "markdown",
   "metadata": {},
   "source": [
    "### Preorder"
   ]
  },
  {
   "cell_type": "code",
   "execution_count": 3,
   "metadata": {},
   "outputs": [
    {
     "name": "stdout",
     "output_type": "stream",
     "text": [
      "4\n",
      "1\n",
      "2\n",
      "6\n"
     ]
    }
   ],
   "source": [
    "def preorder(root):\n",
    "    if root:\n",
    "        print(root.data)\n",
    "        preorder(root.left)\n",
    "        preorder(root.right)\n",
    "preorder(root)"
   ]
  },
  {
   "cell_type": "markdown",
   "metadata": {},
   "source": [
    "### Inorder"
   ]
  },
  {
   "cell_type": "code",
   "execution_count": 4,
   "metadata": {},
   "outputs": [
    {
     "name": "stdout",
     "output_type": "stream",
     "text": [
      "2\n",
      "1\n",
      "4\n",
      "6\n"
     ]
    }
   ],
   "source": [
    "def inorder(root):\n",
    "    if root:\n",
    "        inorder(root.left)\n",
    "        print(root.data)\n",
    "        inorder(root.right)\n",
    "inorder(root)"
   ]
  },
  {
   "cell_type": "markdown",
   "metadata": {},
   "source": [
    "### Postorder"
   ]
  },
  {
   "cell_type": "code",
   "execution_count": 5,
   "metadata": {},
   "outputs": [
    {
     "name": "stdout",
     "output_type": "stream",
     "text": [
      "6\n",
      "2\n",
      "1\n",
      "4\n"
     ]
    }
   ],
   "source": [
    "def postorder(root):\n",
    "    if root:\n",
    "        postorder(root.right)\n",
    "        postorder(root.left)\n",
    "        print(root.data)\n",
    "postorder(root)"
   ]
  },
  {
   "cell_type": "markdown",
   "metadata": {},
   "source": [
    "### Breadth-First or Level Order Traversal"
   ]
  },
  {
   "cell_type": "code",
   "execution_count": 12,
   "metadata": {},
   "outputs": [
    {
     "name": "stdout",
     "output_type": "stream",
     "text": [
      "4\n",
      "1\n",
      "6\n",
      "2\n"
     ]
    }
   ],
   "source": [
    "def breadth_first(root):\n",
    "    if root is None:\n",
    "        return\n",
    "    queue = []\n",
    "    queue.append(root)\n",
    "    while queue:\n",
    "        print(queue[0].data)\n",
    "        current = queue.pop(0)\n",
    "        if current.left is not None:\n",
    "            queue.append(current.left)\n",
    "        if current.right is not None:\n",
    "            queue.append(current.right)\n",
    "\n",
    "breadth_first(root)\n"
   ]
  },
  {
   "cell_type": "markdown",
   "metadata": {},
   "source": [
    "### Depth First "
   ]
  },
  {
   "cell_type": "code",
   "execution_count": 6,
   "metadata": {},
   "outputs": [
    {
     "name": "stdout",
     "output_type": "stream",
     "text": [
      "4\n",
      "1\n",
      "6\n",
      "2\n"
     ]
    }
   ],
   "source": [
    "def depth_first(root):\n",
    "    if root is None:\n",
    "        return\n",
    "    stack = []\n",
    "    stack.append(root)\n",
    "    while stack:\n",
    "        print(stack[0].data)\n",
    "        current = stack.pop(0)\n",
    "        if current.left is not None:\n",
    "            stack.append(current.left)\n",
    "        if current.right is not None:\n",
    "            stack.append(current.right)\n",
    "depth_first(root)"
   ]
  },
  {
   "cell_type": "markdown",
   "metadata": {},
   "source": [
    "### Binary Search Tree"
   ]
  },
  {
   "cell_type": "code",
   "execution_count": 38,
   "metadata": {},
   "outputs": [
    {
     "name": "stdout",
     "output_type": "stream",
     "text": [
      "4\n",
      "1\n",
      "6\n",
      "None\n",
      "None\n"
     ]
    }
   ],
   "source": [
    "def binary_tree(root,key):\n",
    "    if root is None or root.data == key:\n",
    "        if root is None:\n",
    "            return None\n",
    "        else:\n",
    "            return root.data\n",
    "    if key > root.data:\n",
    "        return binary_tree(root.right, key)\n",
    "    return binary_tree(root.left, key)\n",
    "\n",
    "print(binary_tree(root, 4))\n",
    "print(binary_tree(root, 1))\n",
    "print(binary_tree(root, 6))\n",
    "print(binary_tree(root, 78))\n",
    "print(binary_tree(root, 56))"
   ]
  },
  {
   "cell_type": "code",
   "execution_count": 73,
   "metadata": {},
   "outputs": [
    {
     "name": "stdout",
     "output_type": "stream",
     "text": [
      "20\n",
      "30\n",
      "50\n",
      "78\n",
      "None\n"
     ]
    }
   ],
   "source": [
    "class Node:\n",
    "    def __init__(self,val):\n",
    "\n",
    "        self.left = None\n",
    "        self.right = None\n",
    "        self.val = val\n",
    "def insert(root, key):\n",
    "    if root is None:\n",
    "        return Node(key)\n",
    "    elif(key > root.val):\n",
    "        root.right = insert(root.right, key)\n",
    "    else:\n",
    "        root.left = insert(root.left,key)\n",
    "    return root\n",
    "\n",
    "def inorder(root):\n",
    "    if root is not None:\n",
    "        inorder(root.left)\n",
    "        print(root.val)\n",
    "        inorder(root.right)\n",
    "r = Node(50)\n",
    "r = insert(r, 30)\n",
    "r = insert(r, 20)\n",
    "r = insert(r , 78)\n",
    "\n",
    "print(inorder(r))\n",
    "\n",
    "# deletes the key and returns the new root\n",
    "def deleteNode(root, k):\n",
    "    # Base case\n",
    "    if root is None:\n",
    "        return root\n",
    "\n",
    "    # Recursive calls for ancestors of\n",
    "    # node to be deleted\n",
    "    if root.key > k:\n",
    "        root.left = deleteNode(root.left, k)\n",
    "        return root\n",
    "    elif root.key < k:\n",
    "        root.right = deleteNode(root.right, k)\n",
    "        return root\n",
    "\n",
    "    # We reach here when root is the node\n",
    "    # to be deleted.\n",
    "\n",
    "    # If one of the children is empty\n",
    "    if root.left is None:\n",
    "        temp = root.right\n",
    "        del root\n",
    "        return temp\n",
    "    elif root.right is None:\n",
    "        temp = root.left\n",
    "        del root\n",
    "        return temp\n",
    "\n",
    "    # If both children exist\n",
    "    else:\n",
    "\n",
    "        succParent = root\n",
    "\n",
    "        # Find successor\n",
    "        succ = root.right\n",
    "        while succ.left is not None:\n",
    "            succParent = succ\n",
    "            succ = succ.left\n",
    "\n",
    "        # Delete successor.  Since successor\n",
    "        # is always left child of its parent\n",
    "        # we can safely make successor's right\n",
    "        # right child as left of its parent.\n",
    "        # If there is no succ, then assign\n",
    "        # succ.right to succParent.right\n",
    "        if succParent != root:\n",
    "            succParent.left = succ.right\n",
    "        else:\n",
    "            succParent.right = succ.right\n",
    "\n",
    "        # Copy Successor Data to root\n",
    "        root.key = succ.key\n",
    "\n",
    "        # Delete Successor and return root\n",
    "        del succ\n",
    "        return root"
   ]
  },
  {
   "cell_type": "code",
   "execution_count": null,
   "metadata": {},
   "outputs": [],
   "source": []
  }
 ],
 "metadata": {
  "kernelspec": {
   "display_name": "base",
   "language": "python",
   "name": "python3"
  },
  "language_info": {
   "codemirror_mode": {
    "name": "ipython",
    "version": 3
   },
   "file_extension": ".py",
   "mimetype": "text/x-python",
   "name": "python",
   "nbconvert_exporter": "python",
   "pygments_lexer": "ipython3",
   "version": "3.10.9"
  }
 },
 "nbformat": 4,
 "nbformat_minor": 2
}
