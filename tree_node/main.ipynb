{
 "cells": [
  {
   "cell_type": "markdown",
   "metadata": {},
   "source": [
    "# Tree Node"
   ]
  },
  {
   "cell_type": "code",
   "execution_count": 15,
   "metadata": {},
   "outputs": [
    {
     "name": "stdout",
     "output_type": "stream",
     "text": [
      "Root Node\n",
      "Left Child\n",
      "left grandchild\n"
     ]
    }
   ],
   "source": [
    "class Node:\n",
    "    def __init__(self, data) -> None:\n",
    "        self.data =data\n",
    "        self.left_child = None\n",
    "        self.right_child = None\n",
    "n1 = Node('Root Node')\n",
    "n2 = Node('Right Child')\n",
    "n3 = Node('Left Child')\n",
    "n4 = Node('left grandchild')\n",
    "\n",
    "n1.left_child = n3\n",
    "n1.right_child = n2\n",
    "n3.left_child = n4\n",
    "current = n1\n",
    "while current:\n",
    "    print(current.data)\n",
    "    current = current.left_child"
   ]
  },
  {
   "cell_type": "code",
   "execution_count": 7,
   "metadata": {},
   "outputs": [
    {
     "name": "stdout",
     "output_type": "stream",
     "text": [
      "4\n",
      "1\n",
      "2\n"
     ]
    }
   ],
   "source": [
    "class Node:\n",
    "    def __init__(self, key) -> None:\n",
    "        self.left =None\n",
    "        self.right = None\n",
    "        self.data = key\n",
    "root = Node(4)\n",
    "root.left =Node(1)\n",
    "root.right = Node(6)\n",
    "root.left.left = Node(2)\n",
    "current =root\n",
    "while current:\n",
    "    print(current.data)\n",
    "    current = current.left"
   ]
  },
  {
   "cell_type": "code",
   "execution_count": null,
   "metadata": {},
   "outputs": [],
   "source": []
  }
 ],
 "metadata": {
  "kernelspec": {
   "display_name": "base",
   "language": "python",
   "name": "python3"
  },
  "language_info": {
   "codemirror_mode": {
    "name": "ipython",
    "version": 3
   },
   "file_extension": ".py",
   "mimetype": "text/x-python",
   "name": "python",
   "nbconvert_exporter": "python",
   "pygments_lexer": "ipython3",
   "version": "3.10.9"
  }
 },
 "nbformat": 4,
 "nbformat_minor": 2
}
