{
 "cells": [
  {
   "cell_type": "code",
   "execution_count": 23,
   "metadata": {},
   "outputs": [
    {
     "name": "stdout",
     "output_type": "stream",
     "text": [
      "{'A': [3, 2, 1], 'B': [], 'C': []}\n",
      "Move 1 allowed between A and C\n",
      "Moving disk 1 from A to C\n",
      "{'A': [3, 2], 'B': [], 'C': [1]}\n",
      "Move 2 allowed between A and B\n",
      "Moving disk 2 from A to B\n",
      "{'A': [3], 'B': [2], 'C': [1]}\n",
      "Move 3 allowed between B and C\n",
      "Moving disk 1 from C to B\n",
      "{'A': [3], 'B': [2, 1], 'C': []}\n",
      "Move 4 allowed between A and C\n",
      "Moving disk 3 from A to C\n",
      "{'A': [], 'B': [2, 1], 'C': [3]}\n",
      "Move 5 allowed between A and B\n",
      "Moving disk 1 from B to A\n",
      "{'A': [1], 'B': [2], 'C': [3]}\n",
      "Move 6 allowed between B and C\n",
      "Moving disk 2 from B to C\n",
      "{'A': [1], 'B': [], 'C': [3, 2]}\n",
      "Move 7 allowed between A and C\n",
      "Moving disk 1 from A to C\n",
      "{'A': [], 'B': [], 'C': [3, 2, 1]}\n"
     ]
    }
   ],
   "source": [
    "NUMBER_OF_DISKS = 3\n",
    "number_of_moves = 2**NUMBER_OF_DISKS - 1\n",
    "rods = {\n",
    "    'A': list(range(NUMBER_OF_DISKS, 0, -1)),\n",
    "    'B': [],\n",
    "    'C': []\n",
    "}\n",
    "\n",
    "def make_allowed_move(rod1, rod2):\n",
    "    forward = False\n",
    "    if not rods[rod2]:\n",
    "        forward = True\n",
    "    elif rods[rod1] and rods[rod1][-1] < rods[rod2][-1]:\n",
    "        forward = True\n",
    "\n",
    "    if forward:\n",
    "        print(f'Moving disk {rods[rod1][-1]} from {rod1} to {rod2}')\n",
    "        rods[rod2].append(rods[rod1].pop())\n",
    "    else:\n",
    "        print(f'Moving disk {rods[rod2][-1]} from {rod2} to {rod1}')\n",
    "        rods[rod1].append(rods[rod2].pop())\n",
    "    # display our progress\n",
    "    print(rods)\n",
    "\n",
    "def move(n, source, auxiliary, target):\n",
    "    # display starting configuration\n",
    "    print(rods)\n",
    "    for i in range(number_of_moves):\n",
    "        remainder = (i + 1) % 3\n",
    "        if remainder == 1:\n",
    "            print(f'Move {i + 1} allowed between {source} and {target}')\n",
    "            make_allowed_move(source, target)\n",
    "        elif remainder == 2:\n",
    "            print(f'Move {i + 1} allowed between {source} and {auxiliary}')\n",
    "            make_allowed_move(source, auxiliary)\n",
    "        elif remainder == 0:\n",
    "            print(f'Move {i + 1} allowed between {auxiliary} and {target}')\n",
    "            make_allowed_move(auxiliary, target)\n",
    "\n",
    "# initiate call from source A to target C with auxiliary B\n",
    "move(NUMBER_OF_DISKS, 'A', 'B', 'C')"
   ]
  },
  {
   "cell_type": "code",
   "execution_count": null,
   "metadata": {},
   "outputs": [],
   "source": []
  }
 ],
 "metadata": {
  "kernelspec": {
   "display_name": "base",
   "language": "python",
   "name": "python3"
  },
  "language_info": {
   "codemirror_mode": {
    "name": "ipython",
    "version": 3
   },
   "file_extension": ".py",
   "mimetype": "text/x-python",
   "name": "python",
   "nbconvert_exporter": "python",
   "pygments_lexer": "ipython3",
   "version": "3.10.9"
  }
 },
 "nbformat": 4,
 "nbformat_minor": 2
}
