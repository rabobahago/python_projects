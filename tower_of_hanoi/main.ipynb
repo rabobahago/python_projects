{
 "cells": [
  {
   "cell_type": "code",
   "execution_count": null,
   "metadata": {},
   "outputs": [],
   "source": [
    "rods = {\n",
    "    'A':[],\n",
    "    'B':[],\n",
    "    'C':[]\n",
    "}"
   ]
  }
 ],
 "metadata": {
  "language_info": {
   "name": "python"
  }
 },
 "nbformat": 4,
 "nbformat_minor": 2
}
