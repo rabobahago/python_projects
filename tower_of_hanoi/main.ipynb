{
 "cells": [
  {
   "cell_type": "code",
   "execution_count": 19,
   "metadata": {},
   "outputs": [
    {
     "name": "stdout",
     "output_type": "stream",
     "text": [
      "Move 1 allowed between A and C\n",
      "Moving disk 1 from A to C\n",
      "{'A': [3, 2], 'B': [], 'C': [1]}\n",
      "Move 2 allowed between A and B\n",
      "Move 3 allowed between B and C\n",
      "Move 4 allowed between A and C\n",
      "Moving disk 1 from C to A\n",
      "{'A': [3, 2, 1], 'B': [], 'C': []}\n",
      "Move 5 allowed between A and B\n",
      "Move 6 allowed between B and C\n",
      "Move 7 allowed between A and C\n",
      "Moving disk 1 from A to C\n",
      "{'A': [3, 2], 'B': [], 'C': [1]}\n"
     ]
    }
   ],
   "source": [
    "NUMBER_OF_DISKS = 3\n",
    "number_of_moves = 2 ** NUMBER_OF_DISKS - 1\n",
    "rods = {\n",
    "    'A':list(range(NUMBER_OF_DISKS, 0, -1)),\n",
    "    'B':[],\n",
    "    'C':[]\n",
    "}\n",
    "def move(n, source, auxiliary, target):\n",
    "    #display starting configuration\n",
    "    for i in range(number_of_moves):\n",
    "        remainder = (i + 1) % 3\n",
    "        if remainder == 1:\n",
    "            print(f'Move {i + 1} allowed between {source} and {target}')\n",
    "            forward = False\n",
    "            if not rods[target]:\n",
    "                forward = True\n",
    "            elif rods[source] and rods[source][-1] < rods[target][-1]:\n",
    "                forward = True\n",
    "            if forward:\n",
    "                print(f'Moving disk {rods[source][-1]} from {source} to {target}')\n",
    "                rods[target].append(rods[source].pop())\n",
    "            else:\n",
    "                print(f'Moving disk {rods[target][-1]} from {target} to {source}')\n",
    "                rods[source].append(rods[target].pop())\n",
    "            #display our progress\n",
    "            print(rods)\n",
    "\n",
    "        elif remainder == 2:\n",
    "            print(f'Move {i + 1} allowed between {source} and {auxiliary}')\n",
    "        elif remainder == 0:\n",
    "            print(f'Move {i + 1} allowed between {auxiliary} and {target}')\n",
    "#initiate call from source A to target C with auxiliary B\n",
    "def make_allowed_move():\n",
    "    pass\n",
    "move(NUMBER_OF_DISKS, 'A', 'B', 'C')\n"
   ]
  },
  {
   "cell_type": "code",
   "execution_count": null,
   "metadata": {},
   "outputs": [],
   "source": []
  }
 ],
 "metadata": {
  "kernelspec": {
   "display_name": "base",
   "language": "python",
   "name": "python3"
  },
  "language_info": {
   "codemirror_mode": {
    "name": "ipython",
    "version": 3
   },
   "file_extension": ".py",
   "mimetype": "text/x-python",
   "name": "python",
   "nbconvert_exporter": "python",
   "pygments_lexer": "ipython3",
   "version": "3.10.9"
  }
 },
 "nbformat": 4,
 "nbformat_minor": 2
}
