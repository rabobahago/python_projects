{
 "cells": [
  {
   "cell_type": "code",
   "execution_count": 2,
   "metadata": {},
   "outputs": [
    {
     "name": "stdout",
     "output_type": "stream",
     "text": [
      "{'A': [4, 3, 2], 'B': [], 'C': [1]} \n",
      "\n",
      "{'A': [4, 3], 'B': [], 'C': [1, 2]} \n",
      "\n",
      "{'A': [4], 'B': [], 'C': [1, 2, 3]} \n",
      "\n",
      "{'A': [], 'B': [], 'C': [1, 2, 3, 4]} \n",
      "\n"
     ]
    }
   ],
   "source": [
    "NUMBER_OF_DISKS = 3\n",
    "rods = {\n",
    "    'A': list(range(NUMBER_OF_DISKS, 0, -1)),\n",
    "    'B': [],\n",
    "    'C': []\n",
    "}\n",
    "def move(n, source, auxiliary, target):\n",
    "    if n > 0:\n",
    "        #move n - 1 disks from source to auxiliary, so they are out of the way\n",
    "        move(n - 1, source, auxiliary, target)\n",
    "        rods[target].append(rods[source].pop())\n",
    "        # display starting configuration\n",
    "        print(rods, '\\n')\n",
    "# initiate call from source A to target C with auxiliary B\n",
    "move(NUMBER_OF_DISKS, 'A', 'B', 'C')"
   ]
  },
  {
   "cell_type": "code",
   "execution_count": null,
   "metadata": {},
   "outputs": [],
   "source": []
  }
 ],
 "metadata": {
  "kernelspec": {
   "display_name": "base",
   "language": "python",
   "name": "python3"
  },
  "language_info": {
   "codemirror_mode": {
    "name": "ipython",
    "version": 3
   },
   "file_extension": ".py",
   "mimetype": "text/x-python",
   "name": "python",
   "nbconvert_exporter": "python",
   "pygments_lexer": "ipython3",
   "version": "3.10.9"
  }
 },
 "nbformat": 4,
 "nbformat_minor": 2
}
