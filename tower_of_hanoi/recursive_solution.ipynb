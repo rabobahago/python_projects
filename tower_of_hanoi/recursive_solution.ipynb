{
 "cells": [
  {
   "cell_type": "code",
   "execution_count": 2,
   "metadata": {},
   "outputs": [
    {
     "name": "stdout",
     "output_type": "stream",
     "text": [
      "{'A': [3, 2], 'B': [], 'C': [1]} \n",
      "\n",
      "{'A': [3], 'B': [2], 'C': [1]} \n",
      "\n",
      "{'A': [3], 'B': [2, 1], 'C': []} \n",
      "\n",
      "{'A': [], 'B': [2, 1], 'C': [3]} \n",
      "\n",
      "{'A': [1], 'B': [2], 'C': [3]} \n",
      "\n",
      "{'A': [1], 'B': [], 'C': [3, 2]} \n",
      "\n",
      "{'A': [], 'B': [], 'C': [3, 2, 1]} \n",
      "\n"
     ]
    }
   ],
   "source": [
    "NUMBER_OF_DISKS = 4\n",
    "A = list(range(NUMBER_OF_DISKS, 0, -1))\n",
    "B = []\n",
    "C = []\n",
    "\n",
    "def move(n, source, auxiliary, target):\n",
    "    if n <= 0:\n",
    "        return\n",
    "    # move n - 1 disks from source to auxiliary, so they are out of the way\n",
    "    move(n - 1, source, target, auxiliary)\n",
    "\n",
    "    # move the nth disk from source to target\n",
    "    target.append(source.pop())\n",
    "\n",
    "    # display our progress\n",
    "    print(A, B, C, '\\n')\n",
    "\n",
    "    # move the n - 1 disks that we left on auxiliary onto target\n",
    "    move(n - 1,  auxiliary, source, target)\n",
    "\n",
    "# initiate call from source A to target C with auxiliary B\n",
    "move(NUMBER_OF_DISKS, A, B, C)\n"
   ]
  },
  {
   "cell_type": "markdown",
   "metadata": {},
   "source": [
    "## Another Solution"
   ]
  },
  {
   "cell_type": "code",
   "execution_count": 2,
   "metadata": {},
   "outputs": [
    {
     "name": "stdout",
     "output_type": "stream",
     "text": [
      "Move disk 1 from peg 1 to peg 2\n",
      "Move disk 2 from peg 1 to peg 3\n",
      "Move disk 1 from peg 2 to peg 3\n",
      "Move disk 3 from peg 1 to peg 2\n",
      "Move disk 1 from peg 3 to peg 1\n",
      "Move disk 2 from peg 3 to peg 2\n",
      "Move disk 1 from peg 1 to peg 2\n",
      "Move disk 4 from peg 1 to peg 3\n",
      "Move disk 1 from peg 2 to peg 3\n",
      "Move disk 2 from peg 2 to peg 1\n",
      "Move disk 1 from peg 3 to peg 1\n",
      "Move disk 3 from peg 2 to peg 3\n",
      "Move disk 1 from peg 1 to peg 2\n",
      "Move disk 2 from peg 1 to peg 3\n",
      "Move disk 1 from peg 2 to peg 3\n"
     ]
    }
   ],
   "source": [
    "def towers_of_hanoi(number_of_disks, start_peg = 1, end_peg = 3):\n",
    "    if number_of_disks:\n",
    "        towers_of_hanoi(number_of_disks-1, start_peg, 6-start_peg-end_peg)\n",
    "        print('Move disk %d from peg %d to peg %d' %(number_of_disks, start_peg, end_peg))\n",
    "        towers_of_hanoi(number_of_disks-1, 6-start_peg-end_peg, end_peg)\n",
    "towers_of_hanoi(number_of_disks=4)\n"
   ]
  },
  {
   "cell_type": "code",
   "execution_count": null,
   "metadata": {},
   "outputs": [],
   "source": []
  }
 ],
 "metadata": {
  "kernelspec": {
   "display_name": "base",
   "language": "python",
   "name": "python3"
  },
  "language_info": {
   "codemirror_mode": {
    "name": "ipython",
    "version": 3
   },
   "file_extension": ".py",
   "mimetype": "text/x-python",
   "name": "python",
   "nbconvert_exporter": "python",
   "pygments_lexer": "ipython3",
   "version": "3.10.9"
  }
 },
 "nbformat": 4,
 "nbformat_minor": 2
}
