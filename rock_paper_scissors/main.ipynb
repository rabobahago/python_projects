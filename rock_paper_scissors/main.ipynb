{
 "cells": [
  {
   "cell_type": "markdown",
   "metadata": {},
   "source": [
    "# Rock Paper Scissors"
   ]
  },
  {
   "cell_type": "code",
   "execution_count": 3,
   "metadata": {},
   "outputs": [
    {
     "name": "stdout",
     "output_type": "stream",
     "text": [
      "Please, Type Rock/Paper/Scissors or Q to quit:\n",
      "Please, Type Rock/Paper/Scissors or Q to quit:\n",
      "Please, Type Rock/Paper/Scissors or Q to quit:\n",
      "Please, Type Rock/Paper/Scissors or Q to quit:\n",
      "Please, Type Rock/Paper/Scissors or Q to quit:\n",
      "Please, Type Rock/Paper/Scissors or Q to quit:\n",
      "Please, Type Rock/Paper/Scissors or Q to quit:\n",
      "Please, Type Rock/Paper/Scissors or Q to quit:\n",
      "Goodbye!\n",
      "You won  0 times\n",
      "You computer  0 times\n"
     ]
    }
   ],
   "source": [
    "import random\n",
    "options = ['rock', 'paper', 'scissors']\n",
    "user_wins = 0\n",
    "computer_wins = 0\n",
    "while True:\n",
    "    user_pick = input('Type Rock/Paper/Scissors or Q to quit: ').lower()\n",
    "    if user_pick =='q':\n",
    "        break\n",
    "    if user_pick not in options:\n",
    "        print('Please, Type Rock/Paper/Scissors or Q to quit:')\n",
    "        continue\n",
    "    pick_index = random.randint(0, 2)\n",
    "    computer_pick = options[pick_index]\n",
    "    print('Computer Pick ', computer_pick)\n",
    "\n",
    "    if user_pick =='rock' and computer_pick == 'paper':\n",
    "        print('You have won!')\n",
    "        user_wins += 1\n",
    "    elif user_pick == 'paper' and computer_pick == 'scissors':\n",
    "        print('You have won!')\n",
    "        user_wins += 1\n",
    "    elif user_pick == 'scissors' and computer_pick == 'rock':\n",
    "        print('You have won!')\n",
    "        user_wins += 1\n",
    "    else:\n",
    "        print('Computer won!')\n",
    "        computer_wins += 1\n",
    "print('Goodbye!')\n",
    "print('You won ', user_wins, 'times')\n",
    "print('You computer ', computer_wins, 'times')"
   ]
  },
  {
   "cell_type": "code",
   "execution_count": null,
   "metadata": {},
   "outputs": [],
   "source": []
  }
 ],
 "metadata": {
  "kernelspec": {
   "display_name": "base",
   "language": "python",
   "name": "python3"
  },
  "language_info": {
   "codemirror_mode": {
    "name": "ipython",
    "version": 3
   },
   "file_extension": ".py",
   "mimetype": "text/x-python",
   "name": "python",
   "nbconvert_exporter": "python",
   "pygments_lexer": "ipython3",
   "version": "3.10.9"
  }
 },
 "nbformat": 4,
 "nbformat_minor": 2
}
