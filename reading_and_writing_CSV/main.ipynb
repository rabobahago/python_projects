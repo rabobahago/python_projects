{
 "cells": [
  {
   "cell_type": "markdown",
   "metadata": {},
   "source": [
    "# Reading and writing CSV"
   ]
  },
  {
   "cell_type": "code",
   "execution_count": null,
   "metadata": {},
   "outputs": [],
   "source": [
    "import csv\n",
    "def passwd_to_csv(passwd_filename, csv_filename):\n",
    "    with open(passwd_filename) as passwd, open(csv_filename, 'w') as output:\n",
    "        infile = csv.reader(passwd, delimiter=':')\n",
    "    outfile = csv.writer(output, delimiter='\\t')\n",
    "    for record in infile:\n",
    "        if len(record) > 1:\n",
    "            outfile.writerow((record[0], record[2]))"
   ]
  },
  {
   "cell_type": "code",
   "execution_count": null,
   "metadata": {},
   "outputs": [],
   "source": []
  }
 ],
 "metadata": {
  "language_info": {
   "name": "python"
  }
 },
 "nbformat": 4,
 "nbformat_minor": 2
}
