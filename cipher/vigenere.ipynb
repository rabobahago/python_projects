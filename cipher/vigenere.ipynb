{
 "cells": [
  {
   "cell_type": "code",
   "execution_count": 1,
   "metadata": {},
   "outputs": [
    {
     "name": "stdout",
     "output_type": "stream",
     "text": [
      "Encrypted text: mrttaqrhknsw ih puggrur\n",
      "Key: python\n",
      "Decrypted text: xtammdcjrgej tj wnstcwy\n"
     ]
    }
   ],
   "source": [
    "text = 'mrttaqrhknsw ih puggrur'\n",
    "custom_key = 'happycoding'\n",
    "def vigenere(message, key, direction = 1):\n",
    "    key_index = 0\n",
    "    alphabet = 'abcdefghijklmnopqrstuvwxyz'\n",
    "    final_message = '' #encrypted word\n",
    "    for char in message.lower(): #loop through the lower cases of text\n",
    "        if not char.isalpha(): #Append any non-letter character to the message.\n",
    "            final_message += char\n",
    "        else:\n",
    "            # Find the right key character to encode/decode\n",
    "            key_char = key[key_index % len(key)]\n",
    "            # Define the offset and the encrypted/decrypted letter\n",
    "            offset = alphabet.index(key_char)\n",
    "            key_index += 1\n",
    "            index = alphabet.find(char)\n",
    "            # modulo of sum of index and shift in order to handle the of letter 'z'\n",
    "            # so it will not go out of bord\n",
    "            new_index = (index + offset * direction) % len(alphabet)\n",
    "            final_message += alphabet[new_index]\n",
    "\n",
    "    return final_message\n",
    "def encrypt(message, key):\n",
    "    return vigenere(message, key)\n",
    "def decrypt(message, key):\n",
    "    return vigenere(message, key, -1)\n",
    "print(f'\\nEncrypted text: {text}')\n",
    "print(f'Key: {custom_key}')\n",
    "decryption = decrypt(text, custom_key)\n",
    "print(f'\\nDecrypted text: {decryption}\\n')"
   ]
  },
  {
   "cell_type": "code",
   "execution_count": null,
   "metadata": {},
   "outputs": [],
   "source": []
  }
 ],
 "metadata": {
  "kernelspec": {
   "display_name": "base",
   "language": "python",
   "name": "python3"
  },
  "language_info": {
   "codemirror_mode": {
    "name": "ipython",
    "version": 3
   },
   "file_extension": ".py",
   "mimetype": "text/x-python",
   "name": "python",
   "nbconvert_exporter": "python",
   "pygments_lexer": "ipython3",
   "version": "3.10.9"
  }
 },
 "nbformat": 4,
 "nbformat_minor": 2
}
