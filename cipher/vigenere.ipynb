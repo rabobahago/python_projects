{
 "cells": [
  {
   "cell_type": "code",
   "execution_count": null,
   "metadata": {},
   "outputs": [],
   "source": [
    "text = 'Hello Zaira'\n",
    "custom_key = 'python'\n",
    "def vigenere(message, key):\n",
    "    key_index = 0\n",
    "    alphabet = 'abcdefghijklmnopqrstuvwxyz'\n",
    "    encrypted_text = '' #encrypted word\n",
    "    for char in message.lower(): #loop through the lower cases of text\n",
    "        if char == ' ': # if char is and empty space then add empty space to encrypted_text\n",
    "            encrypted_text += char\n",
    "        else:\n",
    "            #Find the right key character to encode\n",
    "            key_char = key[key_index % len(key)]\n",
    "            key_index += 1\n"
   ]
  }
 ],
 "metadata": {
  "language_info": {
   "name": "python"
  }
 },
 "nbformat": 4,
 "nbformat_minor": 2
}
