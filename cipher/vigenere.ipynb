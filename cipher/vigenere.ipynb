{
 "cells": [
  {
   "cell_type": "code",
   "execution_count": 5,
   "metadata": {},
   "outputs": [
    {
     "name": "stdout",
     "output_type": "stream",
     "text": [
      "0\n",
      "1\n",
      "2\n",
      "3\n",
      "4\n",
      "5\n",
      "6\n",
      "7\n",
      "8\n",
      "9\n",
      "plain text: Hello Zaira\n",
      "encrypted text: wcesc mpgkh\n"
     ]
    }
   ],
   "source": [
    "text = 'Hello Zaira'\n",
    "custom_key = 'python'\n",
    "def vigenere(message, key):\n",
    "    key_index = 0\n",
    "    alphabet = 'abcdefghijklmnopqrstuvwxyz'\n",
    "    encrypted_text = '' #encrypted word\n",
    "    for char in message.lower(): #loop through the lower cases of text\n",
    "        if char == ' ': #if char is and empty space then add empty space to encrypted_text\n",
    "            encrypted_text += char\n",
    "        else:\n",
    "            #Find the right key character to encode\n",
    "            key_char = key[key_index % len(key)]\n",
    "            print(key_index)\n",
    "            #Define the offset and the encrypted letter\n",
    "            offset = alphabet.index(key_char)\n",
    "            key_index += 1\n",
    "            index = alphabet.find(char)\n",
    "            # modulo of sum of index and shift in order to handle the of letter 'z'\n",
    "            # so it will not go out of bord\n",
    "            new_index = (index + offset) % len(alphabet)\n",
    "            encrypted_text += alphabet[new_index]\n",
    "\n",
    "    return encrypted_text\n",
    "vigenere(text, custom_key)\n"
   ]
  },
  {
   "cell_type": "code",
   "execution_count": null,
   "metadata": {},
   "outputs": [],
   "source": []
  }
 ],
 "metadata": {
  "kernelspec": {
   "display_name": "base",
   "language": "python",
   "name": "python3"
  },
  "language_info": {
   "codemirror_mode": {
    "name": "ipython",
    "version": 3
   },
   "file_extension": ".py",
   "mimetype": "text/x-python",
   "name": "python",
   "nbconvert_exporter": "python",
   "pygments_lexer": "ipython3",
   "version": "3.10.9"
  }
 },
 "nbformat": 4,
 "nbformat_minor": 2
}
