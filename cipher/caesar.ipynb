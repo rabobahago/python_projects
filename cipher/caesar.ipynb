{
 "cells": [
  {
   "cell_type": "code",
   "execution_count": 1,
   "metadata": {},
   "outputs": [
    {
     "name": "stdout",
     "output_type": "stream",
     "text": [
      "plain text: Hello Zaira\n",
      "new char: khoor cdlud\n",
      "plain text: Hello Zaira\n",
      "new char: uryyb mnven\n"
     ]
    }
   ],
   "source": [
    "text = 'Hello Zaira'\n",
    "shift = 3\n",
    "def caesar(message, offset):\n",
    "    alphabet = 'abcdefghijklmnopqrstuvwxyz'\n",
    "    encrypted_text = '' #encrypted word\n",
    "    for char in message.lower(): #loop through the lower cases of text\n",
    "        if char == ' ': # if char is and empty space then add empty space to encrypted_text\n",
    "            encrypted_text += char\n",
    "        else:\n",
    "            index = alphabet.find(char) #find index of char\n",
    "            # modulo of sum of index and shift in order to handle the of letter 'z'\n",
    "            # so it will not go out of bord\n",
    "            new_index = (index + offset) % len(alphabet) # len(alphabet) can be 26 or more due to special characters\n",
    "            encrypted_text += alphabet[new_index] #get the letter and add it to encrypted_text\n",
    "    print('plain text:', message)\n",
    "    print('new char:', encrypted_text)\n",
    "caesar(text, shift)\n",
    "caesar(text, 13)"
   ]
  },
  {
   "cell_type": "code",
   "execution_count": null,
   "metadata": {},
   "outputs": [],
   "source": []
  }
 ],
 "metadata": {
  "kernelspec": {
   "display_name": "base",
   "language": "python",
   "name": "python3"
  },
  "language_info": {
   "codemirror_mode": {
    "name": "ipython",
    "version": 3
   },
   "file_extension": ".py",
   "mimetype": "text/x-python",
   "name": "python",
   "nbconvert_exporter": "python",
   "pygments_lexer": "ipython3",
   "version": "3.10.9"
  }
 },
 "nbformat": 4,
 "nbformat_minor": 2
}
