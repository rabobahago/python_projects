{
 "cells": [
  {
   "cell_type": "code",
   "execution_count": 2,
   "metadata": {},
   "outputs": [
    {
     "name": "stdout",
     "output_type": "stream",
     "text": [
      "char: h new char: k\n",
      "char: e new char: kh\n",
      "char: l new char: kho\n",
      "char: l new char: khoo\n",
      "char: o new char: khoor\n",
      "char: w new char: khoor z\n",
      "char: o new char: khoor zr\n",
      "char: r new char: khoor zru\n",
      "char: l new char: khoor zruo\n",
      "char: d new char: khoor zruog\n"
     ]
    }
   ],
   "source": [
    "text = 'Hello World'\n",
    "shift = 3\n",
    "alphabet = 'abcdefghijklmnopqrstuvwxyz'\n",
    "encrypted_text = '' #encrypted word\n",
    "for char in text.lower(): #loop through the lower cases of text\n",
    "    if char == ' ': # if char is and empty space then add empty space to encrypted_text\n",
    "        encrypted_text += char\n",
    "    else:\n",
    "        index = alphabet.find(char) #find index of char\n",
    "        # modulo of sum of index and shift in order to handle the of letter 'z'\n",
    "        # so it will not go out of bord\n",
    "        new_index = (index + shift) % 26\n",
    "        encrypted_text += alphabet[new_index] #get the letter and add it to encrypted_text\n",
    "        print('char:', char, 'new char:', encrypted_text)\n"
   ]
  },
  {
   "cell_type": "code",
   "execution_count": null,
   "metadata": {},
   "outputs": [],
   "source": []
  }
 ],
 "metadata": {
  "kernelspec": {
   "display_name": "base",
   "language": "python",
   "name": "python3"
  },
  "language_info": {
   "codemirror_mode": {
    "name": "ipython",
    "version": 3
   },
   "file_extension": ".py",
   "mimetype": "text/x-python",
   "name": "python",
   "nbconvert_exporter": "python",
   "pygments_lexer": "ipython3",
   "version": "3.10.9"
  }
 },
 "nbformat": 4,
 "nbformat_minor": 2
}
