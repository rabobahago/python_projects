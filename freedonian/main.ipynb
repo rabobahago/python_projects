{
 "cells": [
  {
   "cell_type": "markdown",
   "metadata": {},
   "source": [
    "# Freedonian"
   ]
  },
  {
   "cell_type": "code",
   "execution_count": 3,
   "metadata": {},
   "outputs": [
    {
     "data": {
      "text/plain": [
       "1000.0"
      ]
     },
     "execution_count": 3,
     "metadata": {},
     "output_type": "execute_result"
    }
   ],
   "source": [
    "from decimal import Decimal\n",
    "rates = {\n",
    "'Chico': Decimal('0.5'),\n",
    "'Groucho': Decimal('0.7'),\n",
    "'Harpo': Decimal('0.5'),\n",
    "'Zeppo': Decimal('0.4')\n",
    "}\n",
    "def time_percentage(hour):\n",
    "    return hour / Decimal('24')\n",
    "def calculate_tax(amount, state, hour):\n",
    "    return float(amount *(rates[state] * time_percentage(hour)))\n",
    "calculate_tax(4000, 'Harpo', 12)"
   ]
  },
  {
   "cell_type": "code",
   "execution_count": null,
   "metadata": {},
   "outputs": [],
   "source": []
  }
 ],
 "metadata": {
  "kernelspec": {
   "display_name": "base",
   "language": "python",
   "name": "python3"
  },
  "language_info": {
   "codemirror_mode": {
    "name": "ipython",
    "version": 3
   },
   "file_extension": ".py",
   "mimetype": "text/x-python",
   "name": "python",
   "nbconvert_exporter": "python",
   "pygments_lexer": "ipython3",
   "version": "3.10.9"
  }
 },
 "nbformat": 4,
 "nbformat_minor": 2
}
