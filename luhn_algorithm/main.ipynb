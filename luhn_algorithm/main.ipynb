{
 "cells": [
  {
   "cell_type": "code",
   "execution_count": 7,
   "metadata": {},
   "outputs": [
    {
     "data": {
      "text/plain": [
       "'2411555411111114'"
      ]
     },
     "execution_count": 7,
     "metadata": {},
     "output_type": "execute_result"
    }
   ],
   "source": [
    "def verify_card_number(card_number):\n",
    "    sum_of_odd_digits = 0\n",
    "    card_number_reversed = card_number[::-1]\n",
    "    odd_digits = card_number_reversed[::2]\n",
    "    return card_number_reversed\n",
    "def main():\n",
    "    card_number = '4111-1111-4555-1142'\n",
    "    card_translation = str.maketrans({'-': '', ' ': ''})\n",
    "    translated_card_number = card_number.translate(card_translation)\n",
    "    return verify_card_number(translated_card_number)\n",
    "main()\n"
   ]
  },
  {
   "cell_type": "code",
   "execution_count": null,
   "metadata": {},
   "outputs": [],
   "source": []
  }
 ],
 "metadata": {
  "kernelspec": {
   "display_name": "base",
   "language": "python",
   "name": "python3"
  },
  "language_info": {
   "codemirror_mode": {
    "name": "ipython",
    "version": 3
   },
   "file_extension": ".py",
   "mimetype": "text/x-python",
   "name": "python",
   "nbconvert_exporter": "python",
   "pygments_lexer": "ipython3",
   "version": "3.10.9"
  }
 },
 "nbformat": 4,
 "nbformat_minor": 2
}
