{
 "cells": [
  {
   "cell_type": "code",
   "execution_count": 8,
   "metadata": {},
   "outputs": [
    {
     "name": "stdout",
     "output_type": "stream",
     "text": [
      "50\n",
      "VALID!\n"
     ]
    }
   ],
   "source": [
    "def verify_card_number(card_number):\n",
    "\n",
    "    sum_of_odd_digits = 0\n",
    "    #copy the card number in reversed order\n",
    "    card_number_reversed = card_number[::-1]\n",
    "    #copy odd number from card_number_reversed in two steps\n",
    "    odd_digits = card_number_reversed[::2]\n",
    "    #get the digit from odd digits by looping\n",
    "    for digit in odd_digits:\n",
    "        sum_of_odd_digits += int(digit)\n",
    "    sum_of_odd_digits\n",
    "    #initial sum of even digits\n",
    "    sum_of_even_digits = 0\n",
    "    #copy even number from card_number_reversed in two steps\n",
    "    even_digits = card_number_reversed[1::2]\n",
    "    #get the digit from even digits by looping\n",
    "    for digit in even_digits:\n",
    "        # number is the multiple of 2 by digit\n",
    "        number = int(digit) * 2\n",
    "        if number >= 10:\n",
    "            # this output sum of number greater than or equal to 10: for example 12:: 12 // 10 = 1, 12 % 10 = 2, number = 1 + 2 = 3\n",
    "            number = number // 10 + number % 10\n",
    "        #sum all numbers\n",
    "        sum_of_even_digits += number\n",
    "    total = sum_of_odd_digits + sum_of_even_digits\n",
    "    print(total)\n",
    "    #Return the result of comparing 0 to total modulo 10.\n",
    "    return total % 10 == 0\n",
    "def main():\n",
    "    #the initial card number\n",
    "    card_number = '4111-1111-4555-1142'\n",
    "    # make translate function\n",
    "    card_translation = str.maketrans({'-': '', ' ': ''})\n",
    "    # perform the translation\n",
    "    translated_card_number = card_number.translate(card_translation)\n",
    "    if verify_card_number(translated_card_number):\n",
    "        print('VALID!')\n",
    "    else:\n",
    "        print('INVALID!')\n",
    "main()\n"
   ]
  },
  {
   "cell_type": "code",
   "execution_count": null,
   "metadata": {},
   "outputs": [],
   "source": []
  }
 ],
 "metadata": {
  "kernelspec": {
   "display_name": "base",
   "language": "python",
   "name": "python3"
  },
  "language_info": {
   "codemirror_mode": {
    "name": "ipython",
    "version": 3
   },
   "file_extension": ".py",
   "mimetype": "text/x-python",
   "name": "python",
   "nbconvert_exporter": "python",
   "pygments_lexer": "ipython3",
   "version": "3.10.9"
  }
 },
 "nbformat": 4,
 "nbformat_minor": 2
}
