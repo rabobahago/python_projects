{
 "cells": [
  {
   "cell_type": "code",
   "execution_count": null,
   "metadata": {},
   "outputs": [],
   "source": [
    "# Python program to demonstrate working of HashTable\n",
    "\n",
    "hashTable = [[],] * 10\n",
    "\n",
    "def checkPrime(n):\n",
    "    if n == 1 or n == 0:\n",
    "        return 0\n",
    "\n",
    "    for i in range(2, n//2):\n",
    "        if n % i == 0:\n",
    "            return 0\n",
    "\n",
    "    return 1\n",
    "\n",
    "\n",
    "def getPrime(n):\n",
    "    if n % 2 == 0:\n",
    "        n = n + 1\n",
    "\n",
    "    while not checkPrime(n):\n",
    "        n += 2\n",
    "\n",
    "    return n\n",
    "\n",
    "\n",
    "def hashFunction(key):\n",
    "    capacity = getPrime(10)\n",
    "    return key % capacity\n",
    "\n",
    "\n",
    "def insertData(key, data):\n",
    "    index = hashFunction(key)\n",
    "    hashTable[index] = [key, data]\n",
    "\n",
    "def removeData(key):\n",
    "    index = hashFunction(key)\n",
    "    hashTable[index] = 0\n",
    "\n",
    "insertData(123, \"apple\")\n",
    "insertData(432, \"mango\")\n",
    "insertData(213, \"banana\")\n",
    "insertData(654, \"guava\")\n",
    "\n",
    "print(hashTable)\n",
    "\n",
    "removeData(123)\n",
    "\n",
    "print(hashTable)"
   ]
  }
 ],
 "metadata": {
  "language_info": {
   "name": "python"
  }
 },
 "nbformat": 4,
 "nbformat_minor": 2
}
