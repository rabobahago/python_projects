{
 "cells": [
  {
   "cell_type": "markdown",
   "metadata": {},
   "source": [
    "# Pig Latin"
   ]
  },
  {
   "cell_type": "markdown",
   "metadata": {},
   "source": [
    "### First word is vowel pig latin"
   ]
  },
  {
   "cell_type": "code",
   "execution_count": 10,
   "metadata": {},
   "outputs": [
    {
     "data": {
      "text/plain": [
       "'red!ay'"
      ]
     },
     "execution_count": 10,
     "metadata": {},
     "output_type": "execute_result"
    }
   ],
   "source": [
    "def pig_latin(word):\n",
    "    vowel = 'aeiou'\n",
    "    if word[0].lower() in vowel:\n",
    "        return word +'way'\n",
    "    else:\n",
    "        return word[1:] + word[0] + 'ay'\n",
    "pig_latin('Ate')\n",
    "pig_latin('!red')\n"
   ]
  },
  {
   "cell_type": "markdown",
   "metadata": {},
   "source": [
    "### Consider an alternative version of Pig Latin"
   ]
  },
  {
   "cell_type": "markdown",
   "metadata": {},
   "source": [
    "we check to see if the word contains two different vowels.\n",
    "If it does, we don’t move the first letter to the end. Because the word “wine”\n",
    "contains two different vowels (“i” and “e”), we’ll add “way” to the end of it, giving us “wineway.” By contrast, the word “wind” contains only one vowel, so we\n",
    "would move the first letter to the end and add “ay,” rendering it “indway.” "
   ]
  },
  {
   "cell_type": "code",
   "execution_count": 17,
   "metadata": {},
   "outputs": [
    {
     "data": {
      "text/plain": [
       "'airway'"
      ]
     },
     "execution_count": 17,
     "metadata": {},
     "output_type": "execute_result"
    }
   ],
   "source": [
    "def has_different_vowel(word):\n",
    "    vowel = {'a', 'e', 'i', 'o', 'u'}\n",
    "    encountered_vowel = set()\n",
    "    for letter in word:\n",
    "        if letter.lower() in vowel:\n",
    "            encountered_vowel.add(letter.lower())\n",
    "    if len(encountered_vowel) >= 2:\n",
    "        return True\n",
    "    return False\n",
    "def pig_latin(word):\n",
    "    if has_different_vowel(word):\n",
    "        return word + 'way'\n",
    "    return word[1:] + word[0] + 'ay'\n",
    "pig_latin('air')"
   ]
  },
  {
   "cell_type": "code",
   "execution_count": null,
   "metadata": {},
   "outputs": [],
   "source": []
  }
 ],
 "metadata": {
  "kernelspec": {
   "display_name": "base",
   "language": "python",
   "name": "python3"
  },
  "language_info": {
   "codemirror_mode": {
    "name": "ipython",
    "version": 3
   },
   "file_extension": ".py",
   "mimetype": "text/x-python",
   "name": "python",
   "nbconvert_exporter": "python",
   "pygments_lexer": "ipython3",
   "version": "3.10.9"
  }
 },
 "nbformat": 4,
 "nbformat_minor": 2
}
