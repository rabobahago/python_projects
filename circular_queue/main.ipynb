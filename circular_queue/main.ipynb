{
 "cells": [
  {
   "cell_type": "markdown",
   "metadata": {},
   "source": [
    "# Circular Queue"
   ]
  },
  {
   "cell_type": "code",
   "execution_count": 7,
   "metadata": {},
   "outputs": [
    {
     "name": "stdout",
     "output_type": "stream",
     "text": [
      "Queue is full. Cannot enqueue more items.\n",
      "Queue elements: 1 2 3 4 5 \n"
     ]
    }
   ],
   "source": [
    "class CircularQueue:\n",
    "    def __init__(self, k):\n",
    "        self.capacity = k\n",
    "        self.queue = [None]* self.capacity\n",
    "        self.front = -1\n",
    "        self.rear = -1\n",
    "    def is_empty(self):\n",
    "        return self.front == -1\n",
    "    def full_empty(self):\n",
    "        return self.front == (self.rear + 1) % self.capacity\n",
    "    def enqueue(self, item):\n",
    "        if self.full_empty():\n",
    "            print(\"Queue is full. Cannot enqueue more items.\")\n",
    "        else:\n",
    "            if self.is_empty():\n",
    "                self.front = 0\n",
    "            self.rear = (self.rear + 1) % self.capacity\n",
    "            self.queue[self.rear] = item\n",
    "    def dequeue(self):\n",
    "        if self.is_empty():\n",
    "            print(\"Queue is empty. Cannot dequeue.\")\n",
    "            return None\n",
    "        else:\n",
    "            item = self.queue[self.front]\n",
    "            if self.front == self.rear:\n",
    "                self.front = self.rear = -1\n",
    "            else:\n",
    "                self.front = (self.front + 1) % self.capacity\n",
    "            print(f\"Dequeued {item} from the queue.\")\n",
    "            return item\n",
    "    def display(self):\n",
    "        if self.is_empty():\n",
    "            print(\"Queue is empty.\")\n",
    "        else:\n",
    "            print(\"Queue elements:\", end=\" \")\n",
    "            i = self.front\n",
    "            while True:\n",
    "                print(self.queue[i], end=\" \")\n",
    "                if i == self.rear:\n",
    "                    break\n",
    "                i = (i + 1) % self.capacity\n",
    "            print()\n",
    "\n",
    "\n",
    "# Example usage:\n",
    "cq = CircularQueue(5)\n",
    "cq.enqueue(1)\n",
    "cq.enqueue(2)\n",
    "cq.enqueue(3)\n",
    "cq.enqueue(4)\n",
    "cq.enqueue(5)\n",
    "cq.enqueue(6)  # Queue is full\n",
    "cq.display()\n"
   ]
  },
  {
   "cell_type": "code",
   "execution_count": null,
   "metadata": {},
   "outputs": [],
   "source": []
  }
 ],
 "metadata": {
  "kernelspec": {
   "display_name": "base",
   "language": "python",
   "name": "python3"
  },
  "language_info": {
   "codemirror_mode": {
    "name": "ipython",
    "version": 3
   },
   "file_extension": ".py",
   "mimetype": "text/x-python",
   "name": "python",
   "nbconvert_exporter": "python",
   "pygments_lexer": "ipython3",
   "version": "3.10.9"
  }
 },
 "nbformat": 4,
 "nbformat_minor": 2
}
