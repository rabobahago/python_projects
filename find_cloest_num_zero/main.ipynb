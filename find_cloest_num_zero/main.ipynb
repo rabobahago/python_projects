{
 "cells": [
  {
   "cell_type": "code",
   "execution_count": null,
   "metadata": {},
   "outputs": [],
   "source": [
    "def findClosestNumber(nums):\n",
    "\n",
    "        closest = nums[0]\n",
    "        for num in nums:\n",
    "            if abs(num) < abs(closest):\n",
    "                closest = num\n",
    "        final_closest = abs(closest) if closest < 0 and abs(closest) in nums else closest"
   ]
  }
 ],
 "metadata": {
  "language_info": {
   "name": "python"
  }
 },
 "nbformat": 4,
 "nbformat_minor": 2
}
